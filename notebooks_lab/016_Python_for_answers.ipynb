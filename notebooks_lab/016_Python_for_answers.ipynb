{
 "cells": [
  {
   "cell_type": "markdown",
   "metadata": {},
   "source": [
    "# 016 More control in Python: `for` : Answers to exercises"
   ]
  },
  {
   "cell_type": "markdown",
   "metadata": {},
   "source": [
    "#### Exercise 1\n",
    "\n",
    "* generate a list of strings called `group` with the names of (some of) the items in your pocket or bag (or make some up!)\n",
    "* set up a `for` loop with `group`, setting the variable `item`\n",
    "* within the loop, print each value of item in turn\n",
    "* at the end of the loop, print `I'm done`"
   ]
  },
  {
   "cell_type": "code",
   "execution_count": 3,
   "metadata": {},
   "outputs": [
    {
     "name": "stdout",
     "output_type": "stream",
     "text": [
      "keys\n",
      "hat\n",
      "💄\n",
      "🌴\n",
      "I'm done\n"
     ]
    }
   ],
   "source": [
    "'''\n",
    "# ANSWER \n",
    "\n",
    "for loop\n",
    "'''\n",
    "# generate a list of strings called `group` with the names \n",
    "# of (some of) the items in your pocket or bag (or make some up!)\n",
    "group = ['keys','hat','💄','🌴']\n",
    "\n",
    "# set up a `for` loop with `group`, \n",
    "# setting the variable `item`\n",
    "for item in group:\n",
    "    # within the loop, print \n",
    "    # each value of item in turn\n",
    "    print(item)\n",
    "    \n",
    "# at the end of the loop, print done\n",
    "# note the quote types\n",
    "print(\"I'm done\")"
   ]
  },
  {
   "cell_type": "markdown",
   "metadata": {},
   "source": [
    "#### Exercise 2\n",
    "\n",
    "* copy the code above\n",
    "* check to see if the value of `count` at the end of the loop is the same as the length of the list. \n",
    "* Why should this be so?"
   ]
  },
  {
   "cell_type": "code",
   "execution_count": 5,
   "metadata": {},
   "outputs": [
    {
     "name": "stdout",
     "output_type": "stream",
     "text": [
      "count: 0 : cat\n",
      "count: 1 : fish\n",
      "count: 2 : 🦄\n",
      "count: 3 : house\n",
      "----------\n",
      "count is now 4\n",
      "the length of the list group is 4\n",
      "\n",
      "    Why should this be so?\n",
      "\n",
      "    There are 4 items in the list group.\n",
      "    We initially set count to be 0, then add 1 to it\n",
      "    after we print each item in the for loop. So, after the \n",
      "    first item, it is 1, then 2 etc.\n",
      "\n",
      "    At the end of all 4 items, count will then be 4, the length\n",
      "    of the list we looped over\n",
      "\n"
     ]
    }
   ],
   "source": [
    "'''\n",
    "# ANSWER\n",
    "\n",
    "for loop with enumeration\n",
    "'''\n",
    "\n",
    "# copy the code above\n",
    "group = ['cat', 'fish', '🦄', 'house']\n",
    "\n",
    "# Before we enter the loop, we initialise the `count` to zero.\n",
    "count = 0\n",
    "\n",
    "for item in group:\n",
    "    # print the count value and item\n",
    "    print(f'count: {count} : {item}')\n",
    "    # increment count by 1\n",
    "    count += 1\n",
    "\n",
    "# check to see if the value of `count` at the end \n",
    "# of the loop is the same as the length of the list. \n",
    "print('-'*10)\n",
    "print(f'count is now {count}')\n",
    "print(f'the length of the list group is {len(group)}')\n",
    "\n",
    "msg = '''\n",
    "    Why should this be so?\n",
    "\n",
    "    There are 4 items in the list group.\n",
    "    We initially set count to be 0, then add 1 to it\n",
    "    after we print each item in the for loop. So, after the \n",
    "    first item, it is 1, then 2 etc.\n",
    "\n",
    "    At the end of all 4 items, count will then be 4, the length\n",
    "    of the list we looped over\n",
    "'''\n",
    "print(msg)"
   ]
  },
  {
   "cell_type": "markdown",
   "metadata": {},
   "source": [
    "#### Exercise 3\n",
    "\n",
    "* use `range()` to print numbers counting down from 10 to 1 (**inclusive**)\n",
    "* include comments to explain your answer"
   ]
  },
  {
   "cell_type": "code",
   "execution_count": 8,
   "metadata": {},
   "outputs": [
    {
     "name": "stdout",
     "output_type": "stream",
     "text": [
      "10\n",
      "9\n",
      "8\n",
      "7\n",
      "6\n",
      "5\n",
      "4\n",
      "3\n",
      "2\n",
      "1\n",
      "\n",
      "from the instructions, it is clear that start is 10\n",
      "end should be 0, since the count is only up to (but not including) \n",
      "this value.\n",
      "\n",
      "To count down, we use a step of -1\n",
      "\n"
     ]
    }
   ],
   "source": [
    "# ANSWER\n",
    "# use range() to print numbers counting down from 10 to 1 (inclusive)\n",
    "for i in range(10,0,-1):\n",
    "    print(i)\n",
    "# include comments to explain your answer\n",
    "msg = '''\n",
    "from the instructions, it is clear that start is 10\n",
    "end should be 0, since the count is only up to (but not including) \n",
    "this value.\n",
    "\n",
    "To count down, we use a step of -1\n",
    "'''\n",
    "print(msg)"
   ]
  },
  {
   "cell_type": "markdown",
   "metadata": {},
   "source": [
    "#### Exercise 4\n",
    "\n",
    "* copy the code above\n",
    "* as in the previous exercise, check to see if the value of `count` at the end of the loop is the same as the length of the list. \n",
    "* Explain why you get the result you do"
   ]
  },
  {
   "cell_type": "code",
   "execution_count": 10,
   "metadata": {},
   "outputs": [
    {
     "name": "stdout",
     "output_type": "stream",
     "text": [
      "item 0 is hat\n",
      "item 1 is dog\n",
      "item 2 is keys\n",
      "----------\n",
      "count is now 2\n",
      "the length of the list group is 3\n",
      "\n",
      "    Explain why you get the result you do\n",
      "\n",
      "    There are 4 items in the list group. \n",
      "    when we use enumerate to loop over the list\n",
      "    count is incremented by 1 each time we enter the loop.\n",
      "    In the previous example, in was incremented after\n",
      "    the print statement.\n",
      "    \n",
      "    So now, at the end of all 4 items, count will only be 3, the length\n",
      "    of the list we looped over, minus 1\n",
      "\n"
     ]
    }
   ],
   "source": [
    "'''\n",
    "# ANSWER\n",
    "\n",
    "for loop with enumerate()\n",
    "'''\n",
    "\n",
    "# copy the code above\n",
    "group = ['hat','dog','keys']\n",
    "\n",
    "\n",
    "for count,item in enumerate(group):\n",
    "    # print counter in loop\n",
    "    print(f'item {count} is {item}')\n",
    "    \n",
    "# as in the previous exercise, \n",
    "# check to see if the value of `count` \n",
    "# at the end of the loop is the same as the length of the list. \n",
    "print('-'*10)\n",
    "print(f'count is now {count}')\n",
    "print(f'the length of the list group is {len(group)}')\n",
    "\n",
    "msg = '''\n",
    "    Explain why you get the result you do\n",
    "\n",
    "    There are 4 items in the list group. \n",
    "    when we use enumerate to loop over the list\n",
    "    count is incremented by 1 each time we enter the loop.\n",
    "    In the previous example, in was incremented after\n",
    "    the print statement.\n",
    "    \n",
    "    So now, at the end of all 4 items, count will only be 3, the length\n",
    "    of the list we looped over, minus 1\n",
    "'''\n",
    "print(msg)"
   ]
  },
  {
   "cell_type": "markdown",
   "metadata": {},
   "source": [
    "#### Exercise 5\n",
    "\n",
    "* set up  list of numbers (years) from 2008 to 2019 **inclusive**,\n",
    "* set up a list of corresponding chinese zodiac names as the items (look [online](https://www.chinahighlights.com/travelguide/chinese-zodiac/#:~:text=In%20order%2C%20the%2012%20Chinese,a%20year%20of%20the%20Rat.) for this information). \n",
    "* check that the lists have the same length\n",
    "* form a dictionary from the two lists, using `dict(zip())` as in the examples above\n",
    "* use `.items()` as above to loop over each year, and print the year name and the zodiac name with an f-string of the form: `f'{y} is the year of the {z}'`, assuming `y` is the key and `z` the item.\n",
    "* Describe what you are doing at each step"
   ]
  },
  {
   "cell_type": "code",
   "execution_count": 15,
   "metadata": {},
   "outputs": [
    {
     "name": "stdout",
     "output_type": "stream",
     "text": [
      "2008 is the year of the rat\n",
      "2009 is the year of the ox\n",
      "2010 is the year of the tiger\n",
      "2011 is the year of the rabbit\n",
      "2012 is the year of the dragon\n",
      "2013 is the year of the snake\n",
      "2014 is the year of the horse\n",
      "2015 is the year of the goat\n",
      "2016 is the year of the monkey\n",
      "2017 is the year of the rooster\n",
      "2018 is the year of the dog\n",
      "2019 is the year of the pig\n"
     ]
    }
   ],
   "source": [
    "# ANSWER\n",
    "\n",
    "# Set up list of numbers (years) from 2008 to 2019 inclusive,\n",
    "years = [2008,2009,2010,2011,2012,2013,2014,2015,2016,2017,2018,2019]\n",
    "# set up a list of corresponding chinese zodiac names as the items \n",
    "# (look online for this information).\n",
    "zodiac = ['rat', 'ox', 'tiger', 'rabbit', \\\n",
    "          'dragon', 'snake', 'horse', 'goat',\\\n",
    "          'monkey','rooster','dog','pig']\n",
    "\n",
    "# check that the lists have the same length\n",
    "assert len(years) == len(zodiac)\n",
    "\n",
    "# form a dictionary from the two lists, using dict(zip()) as in the examples above\n",
    "# we want years as the key and zodiac as the items, so we use zip(years,zodiac)\n",
    "# then convert (cast) it to a dictionary called zodiacYear\n",
    "zodiacYear = dict(zip(years,zodiac))\n",
    "\n",
    "# use .items() as above to loop over each year, and \n",
    "# print the year name and the zodiac name\n",
    "# with an f-string of the form: `f'{y} is the year of the {z}'`\n",
    "# assuming y is the key and z the item.\n",
    "\n",
    "# do the loop so that y is the key and z the item\n",
    "for y,z in zodiacYear.items():\n",
    "    print(f'{y} is the year of the {z}')\n",
    "    \n",
    "# it prints the results fine"
   ]
  },
  {
   "cell_type": "markdown",
   "metadata": {},
   "source": [
    "#### Exercise 6\n",
    "\n",
    "* Use a list comprehension to generate a list of squared numbers from $0^2$ to $10^2$"
   ]
  },
  {
   "cell_type": "code",
   "execution_count": 33,
   "metadata": {},
   "outputs": [
    {
     "data": {
      "text/plain": [
       "[0, 1, 4, 9, 16, 25, 36, 49, 64, 81, 100]"
      ]
     },
     "execution_count": 33,
     "metadata": {},
     "output_type": "execute_result"
    }
   ],
   "source": [
    "# ANSWER\n",
    "# Use a list comprehension to generate a list of squared numbers from 0^2 to 10^2\n",
    "[i*i for i in range(11)]"
   ]
  }
 ],
 "metadata": {
  "kernelspec": {
   "display_name": "Python [conda env:geog0111-geog0111]",
   "language": "python",
   "name": "conda-env-geog0111-geog0111-py"
  },
  "language_info": {
   "codemirror_mode": {
    "name": "ipython",
    "version": 3
   },
   "file_extension": ".py",
   "mimetype": "text/x-python",
   "name": "python",
   "nbconvert_exporter": "python",
   "pygments_lexer": "ipython3",
   "version": "3.7.8"
  },
  "latex_envs": {
   "LaTeX_envs_menu_present": true,
   "autocomplete": true,
   "bibliofile": "biblio.bib",
   "cite_by": "apalike",
   "current_citInitial": 1,
   "eqLabelWithNumbers": true,
   "eqNumInitial": 1,
   "hotkeys": {
    "equation": "Ctrl-E",
    "itemize": "Ctrl-I"
   },
   "labels_anchors": false,
   "latex_user_defs": false,
   "report_style_numbering": false,
   "user_envs_cfg": false
  },
  "toc": {
   "base_numbering": 1,
   "nav_menu": {},
   "number_sections": false,
   "sideBar": false,
   "skip_h1_title": false,
   "title_cell": "Table of Contents",
   "title_sidebar": "Contents",
   "toc_cell": false,
   "toc_position": {
    "height": "calc(100% - 180px)",
    "left": "10px",
    "top": "150px",
    "width": "207px"
   },
   "toc_section_display": false,
   "toc_window_display": false
  },
  "varInspector": {
   "cols": {
    "lenName": 16,
    "lenType": 16,
    "lenVar": 40
   },
   "kernels_config": {
    "python": {
     "delete_cmd_postfix": "",
     "delete_cmd_prefix": "del ",
     "library": "var_list.py",
     "varRefreshCmd": "print(var_dic_list())"
    },
    "r": {
     "delete_cmd_postfix": ") ",
     "delete_cmd_prefix": "rm(",
     "library": "var_list.r",
     "varRefreshCmd": "cat(var_dic_list()) "
    }
   },
   "types_to_exclude": [
    "module",
    "function",
    "builtin_function_or_method",
    "instance",
    "_Feature"
   ],
   "window_display": false
  }
 },
 "nbformat": 4,
 "nbformat_minor": 4
}
