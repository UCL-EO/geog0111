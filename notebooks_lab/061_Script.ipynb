{
 "cells": [
  {
   "cell_type": "markdown",
   "metadata": {},
   "source": [
    "# Formative Assessment: Scripts"
   ]
  },
  {
   "cell_type": "markdown",
   "metadata": {},
   "source": [
    "\n",
    "*Although we provide access to answers for this exercise, we want you to submit the codes you generate via Moodle, so that we can provide feedback. You should avoid looking at the answers before you submit your work. This submitted work does not count towards your course assessment, it is purely to allow us to provide some rapid feedback to you on how you are doing. You will need to put together a few elements from the notes so far to do all parts of this practical, but you should all be capable of doing it well. Pay attention to writing tidy code, with useful, clear comments and document strings.*"
   ]
  },
  {
   "cell_type": "markdown",
   "metadata": {},
   "source": [
    "#### Exercise 1\n",
    "\n",
    "* Create a Python code in a file called `work/count.py` that does the following:\n",
    "\n",
    "    - define a function `count(istop)` that prints out numbers from 0 to `istop` **(inclusive)** on the same line. Your function should test that the variable `istop` is an integer, and if not, try to convert it to one (hint: it might well be a string when you pass it from `sys.argv` below).\n",
    "    - define a function `main(vlist)` that loops over each item in the list `vlist` and sends it to `count(...)`\n",
    "    - calls `main(vlist)` if the file is run as a Python script with `vlist` being **all arguments** after `sys.argv[0]` on the  script command line\n",
    "    - show a test of the script working\n",
    "    - has plentiful commenting and document strings\n",
    "   \n",
    "    - As a test, when you run the script:\n",
    "\n",
    "            %run work/count.py 4 5 \n",
    "\n",
    "    you would expect to get a response of the form:\n",
    "\n",
    "            0 1 2 3 4\n",
    "            0 1 2 3 4 5\n",
    "\n",
    " "
   ]
  }
 ],
 "metadata": {
  "kernelspec": {
   "display_name": "Python [conda env:geog0111-geog0111]",
   "language": "python",
   "name": "conda-env-geog0111-geog0111-py"
  },
  "language_info": {
   "codemirror_mode": {
    "name": "ipython",
    "version": 3
   },
   "file_extension": ".py",
   "mimetype": "text/x-python",
   "name": "python",
   "nbconvert_exporter": "python",
   "pygments_lexer": "ipython3",
   "version": "3.7.8"
  }
 },
 "nbformat": 4,
 "nbformat_minor": 4
}
