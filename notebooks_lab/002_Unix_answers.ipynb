{
 "cells": [
  {
   "cell_type": "markdown",
   "id": "007d3f7b",
   "metadata": {},
   "source": [
    "# 002 Some basic UNIX : Answers to exercises"
   ]
  },
  {
   "cell_type": "markdown",
   "metadata": {},
   "source": [
    "#### Exercise 1\n",
    "\n",
    "* Use `cd` and `..` to move one directory at a time to your home directory. Check where you are at each stage using `pwd`.\n",
    "* Use `cd` and `~` to go straight to your home directory. Then go from there back to the notebook directory. Check where you are at each stage using `pwd`."
   ]
  },
  {
   "cell_type": "code",
   "execution_count": 5,
   "metadata": {},
   "outputs": [
    {
     "name": "stdout",
     "output_type": "stream",
     "text": [
      "/Users/plewis/geog0111/notebooks\n",
      "/Users/plewis/geog0111\n",
      "/Users/plewis\n",
      "/\n"
     ]
    }
   ],
   "source": [
    "%%bash\n",
    "# ANSWER\n",
    "\n",
    "# Use cd and .. to move one directory at a time to your home directory. \n",
    "# Check where you are at each stage using pwd.\n",
    "\n",
    "# we start e.g. in /Users/plewis/Documents/GitHub/geog0111/notebooks\n",
    "pwd\n",
    "\n",
    "# go to /Users/plewis/Documents/GitHub/geog0111\n",
    "cd ..\n",
    "pwd\n",
    "\n",
    "# go to /Users/plewis/Documents/GitHub\n",
    "cd ..\n",
    "pwd\n",
    "\n",
    "# go to /Users/plewis\n",
    "cd ../..\n",
    "pwd"
   ]
  },
  {
   "cell_type": "code",
   "execution_count": 6,
   "metadata": {},
   "outputs": [
    {
     "name": "stdout",
     "output_type": "stream",
     "text": [
      "/Users/plewis/geog0111/notebooks\n",
      "/Users/plewis\n",
      "/Users/plewis/geog0111/notebooks\n"
     ]
    }
   ],
   "source": [
    "%%bash\n",
    "# ANSWER\n",
    "\n",
    "# Use cd and ~ to go straight to your home directory. \n",
    "# Check where you are at each stage using pwd.\n",
    "pwd\n",
    "cd ~\n",
    "pwd\n",
    "\n",
    "# Then go from there back to the notebook directory. \n",
    "# This is e.g. in Documents/GitHub/geog0111/notebooks\n",
    "# relative to where we are\n",
    "cd geog0111/notebooks\n",
    "pwd"
   ]
  },
  {
   "cell_type": "markdown",
   "metadata": {},
   "source": [
    "#### Exercise 2\n",
    "\n",
    "* examine the file permissions for files `~/geog0111/notebooks/bin/*` (in the directory `~/geog0111/notebooks/bin`)\n",
    "* what do you notice about these? \n",
    "* why do you think this is so?"
   ]
  },
  {
   "cell_type": "code",
   "execution_count": 9,
   "metadata": {
    "scrolled": true
   },
   "outputs": [
    {
     "name": "stdout",
     "output_type": "stream",
     "text": [
      "/Users/plewis/geog0111/notebooks\n",
      "-rw-r--r--  1 plewis  staff   245B  3 Oct 01:14 /Users/plewis/geog0111/notebooks/bin/NASAaccount0111.py\n",
      "-rw-r--r--  1 plewis  staff    16B  3 Oct 01:14 /Users/plewis/geog0111/notebooks/bin/README\n",
      "-rwxr-xr-x  1 plewis  staff   1.1K  3 Oct 01:14 /Users/plewis/geog0111/notebooks/bin/build-conda-package\n",
      "-rwxr-xr-x  1 plewis  staff   220B  3 Oct 01:14 /Users/plewis/geog0111/notebooks/bin/build-pypi-package\n",
      "-rwxr-xr-x  1 plewis  staff   1.3K  3 Oct 01:14 /Users/plewis/geog0111/notebooks/bin/clean0111.sh\n",
      "lrwxr-xr-x  1 plewis  staff     7B  3 Oct 01:14 /Users/plewis/geog0111/notebooks/bin/copy -> ../copy\n",
      "-rwxr-xr-x  1 plewis  staff    43B  3 Oct 01:14 /Users/plewis/geog0111/notebooks/bin/database.sh\n",
      "-rwxr-xr-x  1 plewis  staff   217B  3 Oct 01:14 /Users/plewis/geog0111/notebooks/bin/docker-build\n",
      "-rwxr-xr-x  1 plewis  staff   428B  3 Oct 01:14 /Users/plewis/geog0111/notebooks/bin/docker-killall\n",
      "-rwxr-xr-x  1 plewis  staff   1.0K  3 Oct 01:14 /Users/plewis/geog0111/notebooks/bin/docker-run\n",
      "-rwxr-xr-x  1 plewis  staff   534B  3 Oct 01:14 /Users/plewis/geog0111/notebooks/bin/fixA.sh\n",
      "-rwxr-xr-x  1 plewis  staff   2.0K  3 Oct 01:14 /Users/plewis/geog0111/notebooks/bin/get-datasets.sh\n",
      "-rwxr-xr-x  1 plewis  staff   569B  3 Oct 01:14 /Users/plewis/geog0111/notebooks/bin/git-remove-all.sh\n",
      "-rw-r--r--  1 plewis  staff   257B  3 Oct 01:14 /Users/plewis/geog0111/notebooks/bin/howmany.sh\n",
      "-rwxr-xr-x  1 plewis  staff   2.2K  3 Oct 01:14 /Users/plewis/geog0111/notebooks/bin/init.sh\n",
      "-rwxr-xr-x  1 plewis  staff   2.7K  3 Oct 01:14 /Users/plewis/geog0111/notebooks/bin/init0111.sh\n",
      "-rwxr-xr-x  1 plewis  staff   3.2K  3 Oct 01:14 /Users/plewis/geog0111/notebooks/bin/link-set.sh\n",
      "-rwxr-xr-x  1 plewis  staff   8.0K  3 Oct 01:14 /Users/plewis/geog0111/notebooks/bin/notebook-mkdocs.sh\n",
      "-rwxr-xr-x  1 plewis  staff   2.0K  3 Oct 01:14 /Users/plewis/geog0111/notebooks/bin/notebook-run.sh\n",
      "-rwxr-xr-x  1 plewis  staff   1.5K  3 Oct 01:14 /Users/plewis/geog0111/notebooks/bin/postBuild\n",
      "-rwxr-xr-x  1 plewis  staff    44B  3 Oct 01:14 /Users/plewis/geog0111/notebooks/bin/pullYou\n",
      "-rwxr-xr-x  1 plewis  staff   100B  3 Oct 01:14 /Users/plewis/geog0111/notebooks/bin/pushMe\n",
      "-rwxr-xr-x  1 plewis  staff   526B  3 Oct 01:14 /Users/plewis/geog0111/notebooks/bin/set-course.sh\n",
      "-rwxr-xr-x  1 plewis  staff   3.4K  3 Oct 01:14 /Users/plewis/geog0111/notebooks/bin/setup.sh\n",
      "-rwxr-xr-x  1 plewis  staff   754B  3 Oct 01:14 /Users/plewis/geog0111/notebooks/bin/shellMe.sh\n",
      "-rwxr-xr-x  1 plewis  staff   2.6K  3 Oct 01:14 /Users/plewis/geog0111/notebooks/bin/sort-db.sh\n",
      "-rwxr-xr-x  1 plewis  staff   742B  3 Oct 01:14 /Users/plewis/geog0111/notebooks/bin/tidy.sh\n",
      "===============================\n",
      "* what do you notice about these?\n",
      "===============================\n",
      "Most of them are -rwxr-xr-x, which is 755 so they have read write \n",
      "and execute for the user (7) but only read and execute for others.\n",
      "The file bin/README has 644: read and write for the user (6) but\n",
      "just read for others.\n",
      "===============================\n",
      "* why do you think this is so?\n",
      "===============================\n",
      "Most of these are executable commands (scripts to run).\n",
      "The ones that end with .sh will be sh or bash scripts\n",
      "\n",
      "The README file is not executable: its just a text file.\n"
     ]
    }
   ],
   "source": [
    "%%bash\n",
    "\n",
    "# pwd\n",
    "pwd\n",
    "\n",
    "# * examine the file permissions in the directory bin\n",
    "ls -lh ~/geog0111/notebooks/bin/*\n",
    "\n",
    "# * what do you notice about these?\n",
    "cat << EOF\n",
    "===============================\n",
    "* what do you notice about these?\n",
    "===============================\n",
    "Most of them are -rwxr-xr-x, which is 755 so they have read write \n",
    "and execute for the user (7) but only read and execute for others.\n",
    "The file bin/README has 644: read and write for the user (6) but\n",
    "just read for others.\n",
    "EOF\n",
    "\n",
    "cat << EOF\n",
    "===============================\n",
    "* why do you think this is so?\n",
    "===============================\n",
    "Most of these are executable commands (scripts to run).\n",
    "The ones that end with .sh will be sh or bash scripts\n",
    "\n",
    "The README file is not executable: its just a text file.\n",
    "EOF"
   ]
  },
  {
   "cell_type": "markdown",
   "metadata": {},
   "source": [
    "#### Exercise 3\n",
    "\n",
    "* Create a file `work/newfile.dat` using cat and check the new file size.\n",
    "* Use the menu item `File -> Open` to edit the file you have created and print the new file size\n",
    "* Use `cat` to show the new file content\n",
    "* delete the file"
   ]
  },
  {
   "cell_type": "code",
   "execution_count": 17,
   "metadata": {},
   "outputs": [
    {
     "name": "stdout",
     "output_type": "stream",
     "text": [
      "-rw-r--r--  1 plewis  staff  73  4 Oct 08:57 work/newfile.dat\n"
     ]
    }
   ],
   "source": [
    "%%bash\n",
    "cd ~/geog0111/notebooks\n",
    "\n",
    "# ANSWER\n",
    "# Create a file `work/newfile.dat` using cat and check the new file size.\n",
    "cat << EOF > work/newfile.dat\n",
    "\n",
    "# this will go into the file\n",
    "hello world - this is some text in a file\n",
    "\n",
    "EOF\n",
    "ls -l work/newfile.dat"
   ]
  },
  {
   "cell_type": "code",
   "execution_count": 18,
   "metadata": {},
   "outputs": [
    {
     "name": "stdout",
     "output_type": "stream",
     "text": [
      "-rw-r--r--  1 plewis  staff  73  4 Oct 08:57 work/newfile.dat\n",
      "\n",
      "# this will go into the file\n",
      "hello world - this is some text in a file\n",
      "\n"
     ]
    }
   ],
   "source": [
    "%%bash\n",
    "cd ~/geog0111/notebooks\n",
    "\n",
    "# ANSWER\n",
    "# Use the menu item File -> Open to edit the \n",
    "# file you have created and print the new file size\n",
    "# --> do interactively <--\n",
    "ls -l work/newfile.dat\n",
    "\n",
    "# Use cat to show the new file content\n",
    "cat work/newfile.dat"
   ]
  },
  {
   "cell_type": "code",
   "execution_count": 19,
   "metadata": {},
   "outputs": [],
   "source": [
    "%%bash\n",
    "# ANSWER\n",
    "# delete the file\n",
    "rm work/newfile.dat"
   ]
  },
  {
   "cell_type": "markdown",
   "metadata": {},
   "source": [
    "#### Exercise 4\n",
    "\n",
    "Using the `unix` commands and ideas from above:\n",
    "\n",
    "* show a listing of the files in the relative directory `geog0111` that start with the letter `f`\n",
    "* interpret the file permissions and sizes of the files in there"
   ]
  },
  {
   "cell_type": "code",
   "execution_count": 20,
   "metadata": {},
   "outputs": [
    {
     "name": "stdout",
     "output_type": "stream",
     "text": [
      "-rw-r--r--  1 plewis  wheel   362B  3 Oct 21:28 geog0111/fdict.py\n",
      "-rw-r--r--  1 plewis  wheel   1.7K  3 Oct 21:28 geog0111/filter_movies.py\n",
      "-rw-r--r--  1 plewis  wheel   2.2K  3 Oct 21:28 geog0111/fire_practical_model.py\n",
      "-rw-r--r--  1 plewis  wheel   4.3K  3 Oct 21:28 geog0111/fire_practical_satellite.py\n",
      "-rw-r--r--  1 plewis  wheel   1.9K  3 Oct 21:28 geog0111/fire_practical_telecon.py\n",
      "-rw-r--r--  1 plewis  wheel    66B  3 Oct 21:28 geog0111/flatten.py\n"
     ]
    }
   ],
   "source": [
    "%%bash\n",
    "# ANSWER\n",
    "# show a listing of the files in the relative \n",
    "# directory geog0111 that start with the letter f\n",
    "# so\n",
    "#     geog0111/f*\n",
    "cd ~/geog0111/notebooks\n",
    "\n",
    "ls -lh geog0111/f*\n",
    "\n",
    "# interpret the file permissions and sizes of the files in there\n",
    "# the file sizes are 2.2KB, 4.3KB and 1.9KB respectively\n",
    "# the file permissions are all 644, so, read and write for the user, \n",
    "# and only read for others"
   ]
  }
 ],
 "metadata": {
  "kernelspec": {
   "display_name": "Python [conda env:geog0111-geog0111]",
   "language": "python",
   "name": "conda-env-geog0111-geog0111-py"
  },
  "language_info": {
   "codemirror_mode": {
    "name": "ipython",
    "version": 3
   },
   "file_extension": ".py",
   "mimetype": "text/x-python",
   "name": "python",
   "nbconvert_exporter": "python",
   "pygments_lexer": "ipython3",
   "version": "3.7.8"
  },
  "latex_envs": {
   "LaTeX_envs_menu_present": true,
   "autocomplete": true,
   "bibliofile": "biblio.bib",
   "cite_by": "apalike",
   "current_citInitial": 1,
   "eqLabelWithNumbers": true,
   "eqNumInitial": 1,
   "hotkeys": {
    "equation": "Ctrl-E",
    "itemize": "Ctrl-I"
   },
   "labels_anchors": false,
   "latex_user_defs": false,
   "report_style_numbering": false,
   "user_envs_cfg": false
  },
  "toc": {
   "base_numbering": 1,
   "nav_menu": {},
   "number_sections": false,
   "sideBar": false,
   "skip_h1_title": false,
   "title_cell": "Table of Contents",
   "title_sidebar": "Contents",
   "toc_cell": false,
   "toc_position": {
    "height": "calc(100% - 180px)",
    "left": "10px",
    "top": "150px",
    "width": "207px"
   },
   "toc_section_display": false,
   "toc_window_display": false
  },
  "varInspector": {
   "cols": {
    "lenName": 16,
    "lenType": 16,
    "lenVar": 40
   },
   "kernels_config": {
    "python": {
     "delete_cmd_postfix": "",
     "delete_cmd_prefix": "del ",
     "library": "var_list.py",
     "varRefreshCmd": "print(var_dic_list())"
    },
    "r": {
     "delete_cmd_postfix": ") ",
     "delete_cmd_prefix": "rm(",
     "library": "var_list.r",
     "varRefreshCmd": "cat(var_dic_list()) "
    }
   },
   "types_to_exclude": [
    "module",
    "function",
    "builtin_function_or_method",
    "instance",
    "_Feature"
   ],
   "window_display": false
  }
 },
 "nbformat": 4,
 "nbformat_minor": 4
}
