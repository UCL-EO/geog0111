{
 "cells": [
  {
   "cell_type": "markdown",
   "metadata": {},
   "source": [
    "# 002 Some basic UNIX : Answers to exercises"
   ]
  },
  {
   "cell_type": "markdown",
   "metadata": {},
   "source": [
    "#### Exercise 1\n",
    "\n",
    "* Use `cd` and `..` to move one directory at a time to your home directory. Check where you are at each stage using `pwd`.\n",
    "* Use `cd` and `~` to go straight to your home directory. Then go from there back to the notebook directory. Check where you are at each stage using `pwd`."
   ]
  },
  {
   "cell_type": "code",
   "execution_count": 5,
   "metadata": {},
   "outputs": [
    {
     "name": "stdout",
     "output_type": "stream",
     "text": [
      "/nfs/cfs/home3/Uucfa6/ucfalew/geog0111/notebooks\n",
      "/nfs/cfs/home3/Uucfa6/ucfalew/geog0111\n",
      "/nfs/cfs/home3/Uucfa6/ucfalew\n",
      "/nfs/cfs/home3\n"
     ]
    }
   ],
   "source": [
    "%%bash\n",
    "# ANSWER\n",
    "\n",
    "# Use cd and .. to move one directory at a time to your home directory. \n",
    "# Check where you are at each stage using pwd.\n",
    "\n",
    "# we start e.g. in /Users/plewis/Documents/GitHub/geog0111/notebooks\n",
    "pwd\n",
    "\n",
    "# go to /Users/plewis/Documents/GitHub/geog0111\n",
    "cd ..\n",
    "pwd\n",
    "\n",
    "# go to /Users/plewis/Documents/GitHub\n",
    "cd ..\n",
    "pwd\n",
    "\n",
    "# go to /Users/plewis\n",
    "cd ../..\n",
    "pwd"
   ]
  },
  {
   "cell_type": "code",
   "execution_count": 6,
   "metadata": {},
   "outputs": [
    {
     "name": "stdout",
     "output_type": "stream",
     "text": [
      "/nfs/cfs/home3/Uucfa6/ucfalew/geog0111/notebooks\n",
      "/home/ucfalew\n",
      "/home/ucfalew/geog0111/notebooks\n"
     ]
    }
   ],
   "source": [
    "%%bash\n",
    "# ANSWER\n",
    "\n",
    "# Use cd and ~ to go straight to your home directory. \n",
    "# Check where you are at each stage using pwd.\n",
    "pwd\n",
    "cd ~\n",
    "pwd\n",
    "\n",
    "# Then go from there back to the notebook directory. \n",
    "# This is e.g. in Documents/GitHub/geog0111/notebooks\n",
    "# relative to where we are\n",
    "cd geog0111/notebooks\n",
    "pwd"
   ]
  },
  {
   "cell_type": "markdown",
   "metadata": {},
   "source": [
    "#### Exercise 2\n",
    "\n",
    "* examine the file permissions for files `bin/*` (in the directory `bin`)\n",
    "* what do you notice about these? \n",
    "* why do you think this is so?"
   ]
  },
  {
   "cell_type": "code",
   "execution_count": 9,
   "metadata": {
    "scrolled": true
   },
   "outputs": [
    {
     "name": "stdout",
     "output_type": "stream",
     "text": [
      "/nfs/cfs/home3/Uucfa6/ucfalew/geog0111/notebooks\n",
      "-rwxr-xr-x 1 ucfalew ucfa 1.2K Sep 28 21:37 bin/build-conda-package\n",
      "-rwxr-xr-x 1 ucfalew ucfa  220 Sep 28 21:37 bin/build-pypi-package\n",
      "-rwxr-xr-x 1 ucfalew ucfa 1.4K Sep 28 21:37 bin/clean0111.sh\n",
      "lrwxrwxrwx 1 ucfalew ucfa    7 Sep 28 22:17 bin/copy -> ../copy\n",
      "-rwxr-xr-x 1 ucfalew ucfa   43 Sep 28 21:37 bin/database.sh\n",
      "-rwxr-xr-x 1 ucfalew ucfa  217 Sep 28 21:37 bin/docker-build\n",
      "-rwxr-xr-x 1 ucfalew ucfa  428 Sep 28 21:37 bin/docker-killall\n",
      "-rwxr-xr-x 1 ucfalew ucfa 1022 Sep 28 21:37 bin/docker-run\n",
      "-rwxr-xr-x 1 ucfalew ucfa  534 Sep 28 21:37 bin/fixA.sh\n",
      "-rwxr-xr-x 1 ucfalew ucfa 2.0K Sep 28 22:16 bin/get-datasets.sh\n",
      "-rwxr-xr-x 1 ucfalew ucfa  569 Sep 28 21:37 bin/git-remove-all.sh\n",
      "-rw-r--r-- 1 ucfalew ucfa  257 Sep 28 21:37 bin/howmany.sh\n",
      "-rwxr-xr-x 1 ucfalew ucfa 2.8K Sep 28 21:37 bin/init0111.sh\n",
      "-rwxr-xr-x 1 ucfalew ucfa 2.2K Sep 28 21:37 bin/init.sh\n",
      "-rwxr-xr-x 1 ucfalew ucfa 3.3K Sep 28 21:37 bin/link-set.sh\n",
      "-rw-r--r-- 1 ucfalew ucfa  245 Sep 28 21:37 bin/NASAaccount0111.py\n",
      "-rwxr-xr-x 1 ucfalew ucfa 8.0K Sep 28 21:37 bin/notebook-mkdocs.sh\n",
      "-rwxr-xr-x 1 ucfalew ucfa 2.0K Sep 28 21:37 bin/notebook-run.sh\n",
      "-rwxr-xr-x 1 ucfalew ucfa 1.5K Sep 28 21:37 bin/postBuild\n",
      "-rwxr-xr-x 1 ucfalew ucfa   44 Sep 28 21:37 bin/pullYou\n",
      "-rwxr-xr-x 1 ucfalew ucfa  100 Sep 28 21:37 bin/pushMe\n",
      "-rw-r--r-- 1 ucfalew ucfa   16 Sep 28 21:37 bin/README\n",
      "-rwxr-xr-x 1 ucfalew ucfa  526 Sep 28 21:37 bin/set-course.sh\n",
      "-rwxr-xr-x 1 ucfalew ucfa 3.4K Sep 28 21:37 bin/setup.sh\n",
      "-rwxr-xr-x 1 ucfalew ucfa  754 Sep 28 21:37 bin/shellMe.sh\n",
      "-rwxr-xr-x 1 ucfalew ucfa 2.7K Sep 28 21:37 bin/sort-db.sh\n",
      "-rwxr-xr-x 1 ucfalew ucfa  742 Sep 28 21:37 bin/tidy.sh\n",
      "===============================\n",
      "* what do you notice about these?\n",
      "===============================\n",
      "Most of them are -rwxr-xr-x, which is 755 so they have read write \n",
      "and execute for the user (7) but only read and execute for others.\n",
      "The file bin/README has 644: read and write for the user (6) but\n",
      "just read for others.\n",
      "===============================\n",
      "* why do you think this is so?\n",
      "===============================\n",
      "Most of these are executable commands (scripts to run).\n",
      "The ones that end with .sh will be sh or bash scripts\n",
      "\n",
      "The README file is not executable: its just a text file.\n"
     ]
    }
   ],
   "source": [
    "%%bash\n",
    "\n",
    "# pwd\n",
    "pwd\n",
    "\n",
    "# * examine the file permissions in the directory bin\n",
    "ls -lh bin/*\n",
    "\n",
    "# * what do you notice about these?\n",
    "cat << EOF\n",
    "===============================\n",
    "* what do you notice about these?\n",
    "===============================\n",
    "Most of them are -rwxr-xr-x, which is 755 so they have read write \n",
    "and execute for the user (7) but only read and execute for others.\n",
    "The file bin/README has 644: read and write for the user (6) but\n",
    "just read for others.\n",
    "EOF\n",
    "\n",
    "cat << EOF\n",
    "===============================\n",
    "* why do you think this is so?\n",
    "===============================\n",
    "Most of these are executable commands (scripts to run).\n",
    "The ones that end with .sh will be sh or bash scripts\n",
    "\n",
    "The README file is not executable: its just a text file.\n",
    "EOF"
   ]
  },
  {
   "cell_type": "markdown",
   "metadata": {},
   "source": [
    "#### Exercise 3\n",
    "\n",
    "* Create a file `work/newfile.dat` using cat and check the new file size.\n",
    "* Use the menu item `File -> Open` to edit the file you have created and print the new file size\n",
    "* Use `cat` to show the new file content\n",
    "* delete the file"
   ]
  },
  {
   "cell_type": "code",
   "execution_count": 17,
   "metadata": {},
   "outputs": [
    {
     "name": "stdout",
     "output_type": "stream",
     "text": [
      "-rw-r--r-- 1 ucfalew ucfa 73 Sep 29 08:11 work/newfile.dat\n"
     ]
    }
   ],
   "source": [
    "%%bash\n",
    "# ANSWER\n",
    "# Create a file `work/newfile.dat` using cat and check the new file size.\n",
    "cat << EOF > work/newfile.dat\n",
    "\n",
    "# this will go into the file\n",
    "hello world - this is some text in a file\n",
    "\n",
    "EOF\n",
    "ls -l work/newfile.dat"
   ]
  },
  {
   "cell_type": "code",
   "execution_count": 18,
   "metadata": {},
   "outputs": [
    {
     "name": "stdout",
     "output_type": "stream",
     "text": [
      "-rw-r--r-- 1 ucfalew ucfa 73 Sep 29 08:11 work/newfile.dat\n",
      "\n",
      "# this will go into the file\n",
      "hello world - this is some text in a file\n",
      "\n"
     ]
    }
   ],
   "source": [
    "%%bash\n",
    "# ANSWER\n",
    "# Use the menu item File -> Open to edit the \n",
    "# file you have created and print the new file size\n",
    "# --> do interactively <--\n",
    "ls -l work/newfile.dat\n",
    "\n",
    "# Use cat to show the new file content\n",
    "cat work/newfile.dat"
   ]
  },
  {
   "cell_type": "code",
   "execution_count": 19,
   "metadata": {},
   "outputs": [],
   "source": [
    "%%bash\n",
    "# ANSWER\n",
    "# delete the file\n",
    "rm work/newfile.dat"
   ]
  },
  {
   "cell_type": "markdown",
   "metadata": {},
   "source": [
    "#### Exercise 4\n",
    "\n",
    "Using the `unix` commands and ideas from above:\n",
    "\n",
    "* show a listing of the files in the relative directory `geog0111` that start with the letter `f`\n",
    "* interpret the file permissions and sizes of the files in there"
   ]
  },
  {
   "cell_type": "code",
   "execution_count": 20,
   "metadata": {},
   "outputs": [
    {
     "name": "stdout",
     "output_type": "stream",
     "text": [
      "-rw-r--r-- 1 ucfalew ucfa  362 Sep 28 21:37 geog0111/fdict.py\n",
      "-rwxr-xr-x 1 ucfalew ucfa 1.8K Sep 28 21:37 geog0111/filter_movies.py\n",
      "-rw-r--r-- 1 ucfalew ucfa 2.2K Sep 28 21:37 geog0111/fire_practical_model.py\n",
      "-rw-r--r-- 1 ucfalew ucfa 4.3K Sep 28 21:37 geog0111/fire_practical_satellite.py\n",
      "-rw-r--r-- 1 ucfalew ucfa 1.9K Sep 28 21:37 geog0111/fire_practical_telecon.py\n",
      "-rw-r--r-- 1 ucfalew ucfa   66 Sep 28 21:37 geog0111/flatten.py\n"
     ]
    }
   ],
   "source": [
    "%%bash\n",
    "# ANSWER\n",
    "# show a listing of the files in the relative \n",
    "# directory geog0111 that start with the letter f\n",
    "# so\n",
    "#     geog0111/f*\n",
    "ls -lh geog0111/f*\n",
    "\n",
    "# interpret the file permissions and sizes of the files in there\n",
    "# the file sizes are 2.2KB, 4.3KB and 1.9KB respectively\n",
    "# the file permissions are all 644, so, read and write for the user, \n",
    "# and only read for others"
   ]
  }
 ],
 "metadata": {
  "kernelspec": {
   "display_name": "conda env:geog0111-geog0111",
   "language": "python",
   "name": "conda-env-geog0111-geog0111-py"
  },
  "language_info": {
   "codemirror_mode": {
    "name": "ipython",
    "version": 3
   },
   "file_extension": ".py",
   "mimetype": "text/x-python",
   "name": "python",
   "nbconvert_exporter": "python",
   "pygments_lexer": "ipython3",
   "version": "3.7.10"
  },
  "latex_envs": {
   "LaTeX_envs_menu_present": true,
   "autocomplete": true,
   "bibliofile": "biblio.bib",
   "cite_by": "apalike",
   "current_citInitial": 1,
   "eqLabelWithNumbers": true,
   "eqNumInitial": 1,
   "hotkeys": {
    "equation": "Ctrl-E",
    "itemize": "Ctrl-I"
   },
   "labels_anchors": false,
   "latex_user_defs": false,
   "report_style_numbering": false,
   "user_envs_cfg": false
  },
  "toc": {
   "base_numbering": 1,
   "nav_menu": {},
   "number_sections": false,
   "sideBar": false,
   "skip_h1_title": false,
   "title_cell": "Table of Contents",
   "title_sidebar": "Contents",
   "toc_cell": false,
   "toc_position": {
    "height": "calc(100% - 180px)",
    "left": "10px",
    "top": "150px",
    "width": "207px"
   },
   "toc_section_display": false,
   "toc_window_display": false
  },
  "varInspector": {
   "cols": {
    "lenName": 16,
    "lenType": 16,
    "lenVar": 40
   },
   "kernels_config": {
    "python": {
     "delete_cmd_postfix": "",
     "delete_cmd_prefix": "del ",
     "library": "var_list.py",
     "varRefreshCmd": "print(var_dic_list())"
    },
    "r": {
     "delete_cmd_postfix": ") ",
     "delete_cmd_prefix": "rm(",
     "library": "var_list.r",
     "varRefreshCmd": "cat(var_dic_list()) "
    }
   },
   "types_to_exclude": [
    "module",
    "function",
    "builtin_function_or_method",
    "instance",
    "_Feature"
   ],
   "window_display": false
  }
 },
 "nbformat": 4,
 "nbformat_minor": 4
}
