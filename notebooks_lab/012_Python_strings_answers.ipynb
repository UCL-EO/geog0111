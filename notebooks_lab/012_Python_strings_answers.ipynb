{
 "cells": [
  {
   "cell_type": "markdown",
   "id": "ef5270e2",
   "metadata": {},
   "source": [
    "# 012 String formatting : Answers to exercises"
   ]
  },
  {
   "cell_type": "markdown",
   "metadata": {},
   "source": [
    "#### Exercise 1\n",
    "\n",
    "* insert a new cell below here\n",
    "* Use what we have learned above to print the phrase `\"beware of \\n and \\t\"`, including quotes."
   ]
  },
  {
   "cell_type": "code",
   "execution_count": 4,
   "metadata": {},
   "outputs": [
    {
     "name": "stdout",
     "output_type": "stream",
     "text": [
      "wrong:\t\t beware of \n",
      " and \t\n",
      "good:\t\t beware of \\n and \\t \t\tbut no quotes\n",
      "great:\t\t \"beware of \\n and \\t\"\n",
      "great:\t\t \"beware of \\n and \\t\"\n"
     ]
    }
   ],
   "source": [
    "# ANSWER\n",
    "# Use what we have learned above to print the phrase\n",
    "# \"beware of \\n and \\t\", including quotes.\n",
    "\n",
    "# try this first\n",
    "string = \"beware of \\n and \\t\"\n",
    "print('wrong:\\t\\t',string)\n",
    "\n",
    "# now escape the \\ characters\n",
    "string = \"beware of \\\\n and \\\\t\"\n",
    "print('good:\\t\\t',string,'\\t\\tbut no quotes')\n",
    "\n",
    "# now escape the \\ characters\n",
    "# and add quotes\n",
    "string = '\"beware of \\\\n and \\\\t\"'\n",
    "print('great:\\t\\t',string)\n",
    "\n",
    "# now escape the \\ characters\n",
    "# and add quotes by escaping\n",
    "string = \"\\\"beware of \\\\n and \\\\t\\\"\"\n",
    "print('great:\\t\\t',string)"
   ]
  },
  {
   "cell_type": "markdown",
   "metadata": {},
   "source": [
    "#### Exercise 2\n",
    "\n",
    "* Insert a new cell below here\n",
    "* Write Python code that prints a string containing the following text, spaced over four lines as intended. There should be no space at the start of the line.\n",
    "\n",
    "        The Owl and the Pussy-cat went to sea \n",
    "        In a beautiful pea-green boat, \n",
    "        They took some honey, and plenty of money, \n",
    "        Wrapped up in a five-pound note.\n",
    "\n",
    "* Write Python code that prints a string containing the above text, all on a single line."
   ]
  },
  {
   "cell_type": "code",
   "execution_count": 7,
   "metadata": {},
   "outputs": [
    {
     "name": "stdout",
     "output_type": "stream",
     "text": [
      "\n",
      "The Owl and the Pussy-cat went to sea\n",
      "In a beautiful pea-green boat,\n",
      "They took some honey, and plenty of money,\n",
      "Wrapped up in a five-pound note.\n",
      "  \n"
     ]
    }
   ],
   "source": [
    "# ANSWER\n",
    "\n",
    "# Write Python code that prints a string containing \n",
    "# the following text, spaced over four lines as intended.\n",
    "\n",
    "lear = '''\n",
    "The Owl and the Pussy-cat went to sea\n",
    "In a beautiful pea-green boat,\n",
    "They took some honey, and plenty of money,\n",
    "Wrapped up in a five-pound note.\n",
    "  '''\n",
    "print(lear)"
   ]
  },
  {
   "cell_type": "code",
   "execution_count": 8,
   "metadata": {},
   "outputs": [
    {
     "name": "stdout",
     "output_type": "stream",
     "text": [
      "The Owl and the Pussy-cat went to sea In a beautiful pea-green boat, They took some honey, and plenty of money, Wrapped up in a five-pound note.\n"
     ]
    }
   ],
   "source": [
    "# ANSWER\n",
    "\n",
    "# Write Python code that prints a string \n",
    "# containing the above text, all on a single line.\n",
    "\n",
    "\n",
    "# we can still space it out clearly, but \n",
    "# now escape the new lines\n",
    "lear = \\\n",
    "\"The Owl and the Pussy-cat went to sea \\\n",
    "In a beautiful pea-green boat, \\\n",
    "They took some honey, and plenty of money, \\\n",
    "Wrapped up in a five-pound note.\"\n",
    "print(lear)"
   ]
  },
  {
   "cell_type": "markdown",
   "metadata": {},
   "source": [
    "#### Exercise 3\n",
    "\n",
    "* In a new cell below, generate a string called `base` and set this to the string `Hello` \n",
    "* print base and its length\n",
    "* set a new variable `mult` to `base * 10`\n",
    "* print `mult` and its length\n",
    "* comment on why the lengths are the values reported"
   ]
  },
  {
   "cell_type": "code",
   "execution_count": 10,
   "metadata": {},
   "outputs": [
    {
     "name": "stdout",
     "output_type": "stream",
     "text": [
      "Hello 5\n",
      "HelloHelloHelloHelloHelloHelloHelloHelloHelloHello 50\n",
      "\n",
      "The string 'Hello' has 5 characters. We set the evariable base\n",
      "to be this, so the length of the string base is 5.\n",
      "\n",
      "We set mult to be base * 10. For a string, * repeats the string,\n",
      "so we end up with a string the same as base but repeated 10 times.\n",
      "Since th length of base was 5, the length of mult will be 5 * 10 = 50\n",
      "\n"
     ]
    }
   ],
   "source": [
    "# ANSWER\n",
    "# In a new cell below, generate a string called base and set this to the string Hello\n",
    "base = 'Hello'\n",
    "\n",
    "#print base and its length\n",
    "print(base,len(base))\n",
    "\n",
    "#set a new variable mult to base * 10\n",
    "mult = base * 10\n",
    "\n",
    "#print mult and its length\n",
    "print (mult,len(mult))\n",
    "\n",
    "#comment on why the lengths are the values reported\n",
    "msg = '''\n",
    "The string 'Hello' has 5 characters. We set the evariable base\n",
    "to be this, so the length of the string base is 5.\n",
    "\n",
    "We set mult to be base * 10. For a string, * repeats the string,\n",
    "so we end up with a string the same as base but repeated 10 times.\n",
    "Since th length of base was 5, the length of mult will be 5 * 10 = 50\n",
    "'''\n",
    "print(msg)"
   ]
  },
  {
   "cell_type": "markdown",
   "metadata": {},
   "source": [
    "#### Exercise 4\n",
    "\n",
    "You may have noticed that when we use `+` to join `hello + world` above, there is no space between the words. This is because we have not told the computer to put any such space in.\n",
    "\n",
    "* Copy the code from the hello world example above\n",
    "* create a new string called `gap` containing whitespace: `gap = ' '`\n",
    "* using `gap`, edit the code so that `cstring` has a gap between the words"
   ]
  },
  {
   "cell_type": "code",
   "execution_count": 12,
   "metadata": {},
   "outputs": [
    {
     "name": "stdout",
     "output_type": "stream",
     "text": [
      "I joined hello to   to world with + and got hello world\n"
     ]
    }
   ],
   "source": [
    "# ANSWER\n",
    "\n",
    "# Copy the code from the hello world example above\n",
    "astring = 'hello'\n",
    "bstring = 'world'\n",
    "\n",
    "# create a new string called `gap` containing whitespace: `gap = ' '`\n",
    "gap = ' '\n",
    "\n",
    "# using `gap`, edit the code so that `cstring` has a gap between the words\n",
    "cstring = astring + gap + bstring\n",
    "print('I joined',astring,'to',gap,'to',bstring,'with + and got',cstring)"
   ]
  },
  {
   "cell_type": "code",
   "execution_count": 13,
   "metadata": {},
   "outputs": [
    {
     "name": "stdout",
     "output_type": "stream",
     "text": [
      "Hello 5\n",
      "HelloHelloHelloHelloHelloHelloHelloHelloHelloHello 50\n",
      "\n",
      "    comment on why the lengths are the values reported\n",
      " \n",
      "    The string called base had length 5\n",
      "    The new string called mult was a repeat of the string\n",
      "    base, 10 times, using the multiplication operator *\n",
      "\n",
      "    As we would expect, the new string had length 10 * 5 = 50\n",
      "\n"
     ]
    }
   ],
   "source": [
    "# ANSWER\n",
    "\n",
    "# in a new cell below, generate a string called base and set this to the string Hello\n",
    "base = 'Hello'\n",
    "\n",
    "# print base and its length\n",
    "print(base,len(base))\n",
    "\n",
    "# set a new variable mult to base * 10\n",
    "mult = base * 10\n",
    "\n",
    "# print mult and its length\n",
    "print(mult,len(mult))\n",
    "\n",
    "# comment on why the lengths are the values reported\n",
    "msg = '''\n",
    "    comment on why the lengths are the values reported\n",
    " \n",
    "    The string called base had length 5\n",
    "    The new string called mult was a repeat of the string\n",
    "    base, 10 times, using the multiplication operator *\n",
    "\n",
    "    As we would expect, the new string had length 10 * 5 = 50\n",
    "'''\n",
    "print(msg)"
   ]
  },
  {
   "cell_type": "markdown",
   "metadata": {},
   "source": [
    "#### Exercise 5\n",
    "\n",
    "* set a variable `index` to be an integer between `0` and `99999999`.\n",
    "* use this to generate a zero-padded filename of the form `00000010.dat`\n",
    "* print out the filename\n",
    "\n"
   ]
  },
  {
   "cell_type": "code",
   "execution_count": 19,
   "metadata": {},
   "outputs": [
    {
     "name": "stdout",
     "output_type": "stream",
     "text": [
      "00001265.dat\n"
     ]
    }
   ],
   "source": [
    "# ANSWER\n",
    "\n",
    "# set a variable index to be an integer between 0 and 99999999.\n",
    "index = 1265\n",
    "\n",
    "# use this to generate a zero-padded filename of the form 00000010.dat\n",
    "# Note that we use 8d here as we want at the string part with\n",
    "# the number to be of length 8\n",
    "filename = \"{:0>8d}.dat\".format(index)\n",
    "\n",
    "# print out the filename\n",
    "print(filename)"
   ]
  },
  {
   "cell_type": "markdown",
   "metadata": {},
   "source": [
    "#### Exercise 6\n",
    "\n",
    "* Insert a new cell below here\n",
    "* create a template string of the form:\n",
    "\n",
    "        \"what have the {people} ever done for us?\"\n",
    "        \n",
    "* assign the word `Romans` to the variable `people` and print the formatted template: hint: use the `str.format()` method to insert this into the template.\n",
    "* repeat this using an f-string directly."
   ]
  },
  {
   "cell_type": "code",
   "execution_count": 21,
   "metadata": {},
   "outputs": [
    {
     "name": "stdout",
     "output_type": "stream",
     "text": [
      "what have the Romans ever done for us?\n",
      "what have the Romans ever done for us?\n"
     ]
    }
   ],
   "source": [
    "# ANSWER\n",
    "# Insert a new cell below here\n",
    "# create a template string of the form:\n",
    "\n",
    "template=\"what have the {people} ever done for us?\"\n",
    "        \n",
    "# assign the word Romans to the variable people and print \n",
    "# the formatted template: hint: use the str.format() \n",
    "# method to insert this into the template.\n",
    "\n",
    "print(template.format(people='Romans'))\n",
    "\n",
    "# repeat this using an f-string directly.\n",
    "people='Romans'\n",
    "print(f\"what have the {people} ever done for us?\")"
   ]
  }
 ],
 "metadata": {
  "kernelspec": {
   "display_name": "conda env:geog0111-geog0111",
   "language": "python",
   "name": "conda-env-geog0111-geog0111-py"
  },
  "language_info": {
   "codemirror_mode": {
    "name": "ipython",
    "version": 3
   },
   "file_extension": ".py",
   "mimetype": "text/x-python",
   "name": "python",
   "nbconvert_exporter": "python",
   "pygments_lexer": "ipython3",
   "version": "3.7.13"
  },
  "latex_envs": {
   "LaTeX_envs_menu_present": true,
   "autocomplete": true,
   "bibliofile": "biblio.bib",
   "cite_by": "apalike",
   "current_citInitial": 1,
   "eqLabelWithNumbers": true,
   "eqNumInitial": 1,
   "hotkeys": {
    "equation": "Ctrl-E",
    "itemize": "Ctrl-I"
   },
   "labels_anchors": false,
   "latex_user_defs": false,
   "report_style_numbering": false,
   "user_envs_cfg": false
  },
  "nbTranslate": {
   "displayLangs": [
    "*"
   ],
   "hotkey": "alt-t",
   "langInMainMenu": true,
   "sourceLang": "en",
   "targetLang": "fr",
   "useGoogleTranslate": true
  },
  "toc": {
   "base_numbering": 1,
   "nav_menu": {},
   "number_sections": false,
   "sideBar": false,
   "skip_h1_title": false,
   "title_cell": "Table of Contents",
   "title_sidebar": "Contents",
   "toc_cell": false,
   "toc_position": {
    "height": "calc(100% - 180px)",
    "left": "10px",
    "top": "150px",
    "width": "207px"
   },
   "toc_section_display": false,
   "toc_window_display": false
  },
  "varInspector": {
   "cols": {
    "lenName": 16,
    "lenType": 16,
    "lenVar": 40
   },
   "kernels_config": {
    "python": {
     "delete_cmd_postfix": "",
     "delete_cmd_prefix": "del ",
     "library": "var_list.py",
     "varRefreshCmd": "print(var_dic_list())"
    },
    "r": {
     "delete_cmd_postfix": ") ",
     "delete_cmd_prefix": "rm(",
     "library": "var_list.r",
     "varRefreshCmd": "cat(var_dic_list()) "
    }
   },
   "types_to_exclude": [
    "module",
    "function",
    "builtin_function_or_method",
    "instance",
    "_Feature"
   ],
   "window_display": false
  }
 },
 "nbformat": 4,
 "nbformat_minor": 4
}
