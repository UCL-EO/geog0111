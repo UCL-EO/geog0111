{
 "cells": [
  {
   "cell_type": "markdown",
   "id": "b351cb7c",
   "metadata": {},
   "source": [
    "# 032 More `numpy` : Answers to exercises"
   ]
  },
  {
   "cell_type": "markdown",
   "metadata": {},
   "source": [
    "#### Exercise 1\n",
    "\n",
    "* Print out the total number of launches per month, for each month.\n",
    "* Print out the total number of launches per year, for the years 2010 to 2020 inclusive"
   ]
  },
  {
   "cell_type": "code",
   "execution_count": 5,
   "metadata": {},
   "outputs": [
    {
     "name": "stdout",
     "output_type": "stream",
     "text": [
      "2173 launches in month 0\n",
      "3745 launches in month 1\n",
      "2895 launches in month 2\n",
      "3183 launches in month 3\n",
      "6606 launches in month 4\n",
      "5772 launches in month 5\n",
      "3279 launches in month 6\n",
      "2481 launches in month 7\n",
      "4402 launches in month 8\n",
      "4035 launches in month 9\n",
      "3273 launches in month 10\n",
      "3845 launches in month 11\n"
     ]
    }
   ],
   "source": [
    "# ANSWER\n",
    "import numpy as np\n",
    "\n",
    "filename = 'data/satellites-1957-2021.gz'\n",
    "data=np.loadtxt(filename).astype(np.int)\n",
    "\n",
    "# Print out the total number of launches \n",
    "# per month, for each month.\n",
    "# use sum() to sum over data[m] and loop over m\n",
    "# get length of m from data.shape[0]\n",
    "for m in range(data.shape[0]):\n",
    "    print(f'{data[m].sum()} launches in month {m}')"
   ]
  },
  {
   "cell_type": "code",
   "execution_count": 6,
   "metadata": {},
   "outputs": [
    {
     "name": "stdout",
     "output_type": "stream",
     "text": [
      "373 launches in year 2010\n",
      "315 launches in year 2011\n",
      "435 launches in year 2012\n",
      "352 launches in year 2013\n",
      "355 launches in year 2014\n",
      "335 launches in year 2015\n",
      "308 launches in year 2016\n",
      "512 launches in year 2017\n",
      "741 launches in year 2018\n",
      "735 launches in year 2019\n",
      "922 launches in year 2020\n"
     ]
    }
   ],
   "source": [
    "# ANSWER\n",
    "import numpy as np\n",
    "\n",
    "filename = 'data/satellites-1957-2021.gz'\n",
    "data=np.loadtxt(filename).astype(np.int)\n",
    "\n",
    "# Print out the total number of launches \n",
    "# per year, for the years 2010 to 2020\n",
    "# use sum() to sum over data[y] and loop over y\n",
    "# translate year to index by subtracting 1957\n",
    "\n",
    "# its best to be explicit about this\n",
    "# this answer more clearly relates to the qn\n",
    "years = np.arange(2010,2020+1) - 1957\n",
    "for y in years:\n",
    "    print(f'{data[:,y].sum()} launches in year {y+1957}')\n"
   ]
  },
  {
   "cell_type": "markdown",
   "metadata": {},
   "source": [
    "#### Exercise 2\n",
    "\n",
    "        import numpy as np\n",
    "        filename = 'data/satellites-1957-2021.gz'\n",
    "        data=np.loadtxt(filename).astype(np.int)\n",
    "\n",
    "* Use `slice` to produce a sub-set of the launch dataset `data` for the months January, March, and May for the years 1960-1966 inclusive. This is 3 months and 7 years, so the resultant array should have shape `(3,7)`"
   ]
  },
  {
   "cell_type": "code",
   "execution_count": 10,
   "metadata": {},
   "outputs": [
    {
     "name": "stdout",
     "output_type": "stream",
     "text": [
      "subset is of shape (3, 7)\n"
     ]
    }
   ],
   "source": [
    "# ANSWER\n",
    "import numpy as np\n",
    "filename = 'data/satellites-1957-2021.gz'\n",
    "data=np.loadtxt(filename).astype(np.int)\n",
    "\n",
    "msg = '''\n",
    " Use slice to produce a sub-set of the launch \n",
    " dataset data for the months January, March, and May\n",
    "\n",
    " January, March, and May -> months 0,2,4 so slice(0:6:2)\n",
    "\n",
    " for the years 1960-1966 inclusive\n",
    " -> slice(1960-1957:1966-1957+1:1) -> slice(3,10)\n",
    "'''\n",
    "axis0 = slice(0,6,2)\n",
    "axis1 = slice(3,10)\n",
    "subset = data[axis0,axis1]\n",
    "print(f'subset is of shape {subset.shape}')"
   ]
  },
  {
   "cell_type": "markdown",
   "metadata": {},
   "source": [
    "#### Exercise 3\n",
    "\n",
    "* Plot the total number of satellite launches per year, as a function of year\n",
    "\n",
    "You will need to remember how to [plot line graphs](023_Plotting.ipynb#Plotting-Graphs)"
   ]
  },
  {
   "cell_type": "code",
   "execution_count": 12,
   "metadata": {},
   "outputs": [
    {
     "data": {
      "text/plain": [
       "Text(0.5, 0, 'year')"
      ]
     },
     "execution_count": 12,
     "metadata": {},
     "output_type": "execute_result"
    },
    {
     "data": {
      "image/png": "[encoded data removed]",
      "text/plain": [
       "<Figure size 864x288 with 1 Axes>"
      ]
     },
     "metadata": {
      "needs_background": "light"
     },
     "output_type": "display_data"
    }
   ],
   "source": [
    "# ANSWER\n",
    "\n",
    "import numpy as np\n",
    "import matplotlib.pyplot as plt\n",
    "\n",
    "filename = 'data/satellites-1957-2021.gz'\n",
    "data=np.loadtxt(filename).astype(np.int)\n",
    "\n",
    "# total for all years, so sum over all months (axis 0)\n",
    "n = data.sum(axis=0)\n",
    "# clean way to do years\n",
    "years = np.arange(1957,1957+data.shape[1])\n",
    "\n",
    "name = f'Number of satellite launches per year {years[0]} to {years[-1]}'\n",
    "\n",
    "# plot size \n",
    "x_size,y_size = 12,4\n",
    "fig, axs = plt.subplots(1,1,figsize=(x_size,y_size))\n",
    "fig.suptitle(name)\n",
    "# plot y-data and set the label\n",
    "axs.plot(years,n)\n",
    "# set x-limits to get a neat graph\n",
    "axs.set_xlim(years[0],years[-1])\n",
    "\n",
    "axs.set_ylabel(f'Number of launches')\n",
    "# x-label\n",
    "axs.set_xlabel(f'year')"
   ]
  },
  {
   "cell_type": "code",
   "execution_count": 13,
   "metadata": {},
   "outputs": [
    {
     "name": "stdout",
     "output_type": "stream",
     "text": [
      "2173 launches in month index 0\n",
      "3745 launches in month index 1\n",
      "2895 launches in month index 2\n",
      "3183 launches in month index 3\n",
      "6606 launches in month index 4\n",
      "5772 launches in month index 5\n",
      "3279 launches in month index 6\n",
      "2481 launches in month index 7\n",
      "4402 launches in month index 8\n",
      "4035 launches in month index 9\n",
      "3273 launches in month index 10\n",
      "3845 launches in month index 11\n"
     ]
    }
   ],
   "source": [
    "# ANSWER\n",
    "# Print out the total number of \n",
    "# launches per month, for each month.\n",
    "\n",
    "# use sum for total\n",
    "# we can use data.shape[0] for the size of the 1st dimension\n",
    "for m in range(data.shape[0]):\n",
    "    print(f'{data[m].sum()} launches in month index {m}')\n",
    "    "
   ]
  },
  {
   "cell_type": "code",
   "execution_count": 14,
   "metadata": {},
   "outputs": [
    {
     "name": "stdout",
     "output_type": "stream",
     "text": [
      "373 launches in year 2010\n",
      "315 launches in year 2011\n",
      "435 launches in year 2012\n",
      "352 launches in year 2013\n",
      "355 launches in year 2014\n",
      "335 launches in year 2015\n",
      "308 launches in year 2016\n",
      "512 launches in year 2017\n",
      "741 launches in year 2018\n",
      "735 launches in year 2019\n",
      "922 launches in year 2020\n"
     ]
    }
   ],
   "source": [
    "# ANSWER\n",
    "# Print out the total number of \n",
    "# launches per year, for the years 2010 to 2020 inclusive\n",
    "\n",
    "# use sum for total\n",
    "for y in range(2010,2020+1):\n",
    "    # y is a year, but we need index\n",
    "    j = y - 1957\n",
    "    print(f'{data[:,j].sum()} launches in year {y}')"
   ]
  },
  {
   "cell_type": "markdown",
   "metadata": {},
   "source": [
    "#### Exercise 4\n",
    "\n",
    "* Write code to print the months with highest and lowest number of launches"
   ]
  },
  {
   "cell_type": "code",
   "execution_count": 16,
   "metadata": {},
   "outputs": [
    {
     "name": "stdout",
     "output_type": "stream",
     "text": [
      "the month with most   launches was 5 with 6606\n",
      "the month with fewest launches was 1 with 2173\n"
     ]
    }
   ],
   "source": [
    "import numpy as np\n",
    "# ANSWER\n",
    "# Write code to print the months with \n",
    "# highest and lowest number of launches\n",
    "\n",
    "# read data as before\n",
    "filename = 'data/satellites-1957-2021.gz'\n",
    "data=np.loadtxt(filename).astype(np.int)\n",
    "\n",
    "# sum the data over all years (axis 1)\n",
    "sum_per_month = data.sum(axis=1)\n",
    "# Construct an array of months\n",
    "month_array = 1 + np.arange(data.shape[0])\n",
    "\n",
    "# Find the location (month) with **most** launches\n",
    "# Find the index of sum_per_month with highest number (argmmax)\n",
    "imax = np.argmax(sum_per_month)\n",
    "\n",
    "# Find the location (month) with **least** launches\n",
    "# Find the index of sum_per_month with lowest number (argmmax)\n",
    "imin = np.argmin(sum_per_month)\n",
    "\n",
    "print(f'the month with most   launches was',\\\n",
    "      f'{month_array[imax]} with {sum_per_month[imax]}')\n",
    "print(f'the month with fewest launches was',\\\n",
    "      f'{month_array[imin]} with {sum_per_month[imin]}')"
   ]
  },
  {
   "cell_type": "markdown",
   "metadata": {},
   "source": [
    "#### Exercise 5\n",
    "\n",
    "    def linear_func(c,m,x):\n",
    "        return m * x + c\n",
    "        \n",
    "    x = np.arange(0,10.5,0.5)\n",
    "\n",
    "    c_min,c_max,c_step = 0.0,1.,0.5\n",
    "    m_min,m_max,m_step = 0.0,0.05,0.01\n",
    "\n",
    "    grid_c,grid_m = np.mgrid[c_min:c_max+c_step:c_step,\\\n",
    "                             m_min:m_max+m_step:m_step]\n",
    "\n",
    "\n",
    "* Use `np.newaxis` to reconcile the shapes of `grid_c`,`grid_m` and `x` \n",
    "* Make a single call to the function `linear_func`  using these reconciled variables\n",
    "* Show how the shape of the output relates to the shape of the inputs \n",
    "* Confirm your result by plotting the results for each (c,m) value pair"
   ]
  },
  {
   "cell_type": "code",
   "execution_count": 41,
   "metadata": {},
   "outputs": [
    {
     "name": "stdout",
     "output_type": "stream",
     "text": [
      "\n",
      "we are looking for output of shape \n",
      "\n",
      "    grid_c.shape + x.shape\n",
      "    \n",
      "so we add new axes to the final axis of grid_c,grid_m\n",
      "and 2 new axes to the front of x\n",
      "\n",
      "grid_c1 shape: (3, 6, 1)\n",
      "grid_m1 shape: (3, 6, 1)\n",
      "x1 shape:      (1, 1, 21)\n",
      "y shape:       (3, 6, 21)\n",
      "\n",
      "Show how the shape of the output relates to the shape of the inputs \n",
      "\n",
      "The array y is of diemnsion (7, 6, 21)\n",
      "values of c,m are on a grid (7, 6)\n",
      "and x is (21,) so the result here involves\n",
      "efficient element-wise multiplication\n",
      "and addition for each combination of (c,m)\n",
      "and each value of x\n",
      "\n"
     ]
    }
   ],
   "source": [
    "# ANSWER\n",
    "import numpy as np\n",
    "\n",
    "def linear_func(c,m,x):\n",
    "    return m * x + c\n",
    "\n",
    "x = np.arange(0,10.5,0.5)\n",
    "\n",
    "c_min,c_max,c_step = 0.0,1.,0.5\n",
    "m_min,m_max,m_step = 0.0,0.05,0.01\n",
    "\n",
    "grid_c,grid_m = np.mgrid[c_min:c_max+c_step:c_step,\\\n",
    "                         m_min:m_max+m_step:m_step]\n",
    "\n",
    "# Use np.newaxis to reconcile the shapes of grid_c,grid_m and x\n",
    "msg = '''\n",
    "we are looking for output of shape \n",
    "\n",
    "    grid_c.shape + x.shape\n",
    "    \n",
    "so we add new axes to the final axis of grid_c,grid_m\n",
    "and 2 new axes to the front of x\n",
    "'''\n",
    "print(msg)\n",
    "\n",
    "grid_c1 = grid_c[:,:,np.newaxis]\n",
    "grid_m1 = grid_m[:,:,np.newaxis]\n",
    "x1      = x[np.newaxis,np.newaxis,:]\n",
    "print(f'grid_c1 shape: {grid_c1.shape}')\n",
    "print(f'grid_m1 shape: {grid_m1.shape}')\n",
    "print(f'x1 shape:      {x1.shape}')\n",
    "\n",
    "# Make a single call to the function linear_func \n",
    "# using these reconciled variables\n",
    "y = linear_func(grid_c1,grid_m1,x1)\n",
    "\n",
    "print(f'y shape:       {y.shape}')\n",
    "msg = '''\n",
    "Show how the shape of the output relates to the shape of the inputs \n",
    "\n",
    "The array y is of diemnsion (7, 6, 21)\n",
    "values of c,m are on a grid (7, 6)\n",
    "and x is (21,) so the result here involves\n",
    "efficient element-wise multiplication\n",
    "and addition for each combination of (c,m)\n",
    "and each value of x\n",
    "'''\n",
    "print(msg)"
   ]
  },
  {
   "cell_type": "code",
   "execution_count": 42,
   "metadata": {},
   "outputs": [
    {
     "data": {
      "image/png": "[encoded data removed]",
      "text/plain": [
       "<Figure size 864x360 with 18 Axes>"
      ]
     },
     "metadata": {},
     "output_type": "display_data"
    }
   ],
   "source": [
    "# Confirm your result by plotting the results for each (c,m) value pair\n",
    "import matplotlib.pyplot as plt\n",
    "ymin,ymax = y.min(),y.max()\n",
    "xmin,xmax = x.min(),x.max()\n",
    "\n",
    "# plots:     \n",
    "fig, axs = plt.subplots(*(grid_c.shape),figsize=(12,5))\n",
    "plt.setp(axs, xticks=[], yticks=[])\n",
    "\n",
    "for i in range(y.shape[0]):\n",
    "    for j in range(y.shape[1]):\n",
    "        axs[i,j].plot(x,y[i,j],'k')\n",
    "        axs[i,j].set_title(f'c: {grid_c[i,j]:.2f} m: {grid_m[i,j]:.2f}')\n",
    "        axs[i,j].set_xlim(xmin,xmax)\n",
    "        axs[i,j].set_ylim(ymin,ymax)"
   ]
  }
 ],
 "metadata": {
  "kernelspec": {
   "display_name": "conda env:geog0111-geog0111",
   "language": "python",
   "name": "conda-env-geog0111-geog0111-py"
  },
  "language_info": {
   "codemirror_mode": {
    "name": "ipython",
    "version": 3
   },
   "file_extension": ".py",
   "mimetype": "text/x-python",
   "name": "python",
   "nbconvert_exporter": "python",
   "pygments_lexer": "ipython3",
   "version": "3.7.13"
  },
  "latex_envs": {
   "LaTeX_envs_menu_present": true,
   "autoclose": false,
   "autocomplete": true,
   "bibliofile": "biblio.bib",
   "cite_by": "apalike",
   "current_citInitial": 1,
   "eqLabelWithNumbers": true,
   "eqNumInitial": 1,
   "hotkeys": {
    "equation": "Ctrl-E",
    "itemize": "Ctrl-I"
   },
   "labels_anchors": false,
   "latex_user_defs": false,
   "report_style_numbering": false,
   "user_envs_cfg": false
  },
  "toc": {
   "base_numbering": 1,
   "nav_menu": {},
   "number_sections": false,
   "sideBar": true,
   "skip_h1_title": false,
   "title_cell": "Table of Contents",
   "title_sidebar": "Contents",
   "toc_cell": true,
   "toc_position": {
    "height": "438px",
    "left": "10px",
    "top": "150px",
    "width": "165px"
   },
   "toc_section_display": true,
   "toc_window_display": true
  },
  "varInspector": {
   "cols": {
    "lenName": 16,
    "lenType": 16,
    "lenVar": 40
   },
   "kernels_config": {
    "python": {
     "delete_cmd_postfix": "",
     "delete_cmd_prefix": "del ",
     "library": "var_list.py",
     "varRefreshCmd": "print(var_dic_list())"
    },
    "r": {
     "delete_cmd_postfix": ") ",
     "delete_cmd_prefix": "rm(",
     "library": "var_list.r",
     "varRefreshCmd": "cat(var_dic_list()) "
    }
   },
   "types_to_exclude": [
    "module",
    "function",
    "builtin_function_or_method",
    "instance",
    "_Feature"
   ],
   "window_display": false
  }
 },
 "nbformat": 4,
 "nbformat_minor": 4
}
