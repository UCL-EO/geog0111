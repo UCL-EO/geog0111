{
 "cells": [
  {
   "cell_type": "markdown",
   "id": "905592d7",
   "metadata": {},
   "source": [
    "# 010 Introduction to Python : Answers to exercises"
   ]
  },
  {
   "cell_type": "code",
   "execution_count": 1,
   "metadata": {},
   "outputs": [],
   "source": [
    "# a comment"
   ]
  },
  {
   "cell_type": "markdown",
   "metadata": {},
   "source": [
    "<mark>**ANSWER**\n",
    "    \n",
    "<mark>Nothing 'apparently' happened, but really, the code block was interpreted as a set of Python commands and executed. As there is only a comment, there was no output."
   ]
  },
  {
   "cell_type": "markdown",
   "metadata": {},
   "source": [
    "#### Exercise 2\n",
    "\n",
    "* Insert a new cell below here\n",
    "* Print out the string `Today I am learning Python`."
   ]
  },
  {
   "cell_type": "code",
   "execution_count": 4,
   "metadata": {},
   "outputs": [
    {
     "name": "stdout",
     "output_type": "stream",
     "text": [
      "Today I am learning Python\n"
     ]
    }
   ],
   "source": [
    "# ANSWER\n",
    "print('Today I am learning Python')"
   ]
  },
  {
   "cell_type": "markdown",
   "metadata": {},
   "source": [
    "#### Exercise 3\n",
    "\n",
    "* Insert a new cell below here\n",
    "* print a string `\"all the world's a stage and all the men and women merely players\"`\n",
    "* print this same string, but with each word on a new line\n",
    "* print this same string with two columns of words, for as many lines as needed"
   ]
  },
  {
   "cell_type": "code",
   "execution_count": 6,
   "metadata": {},
   "outputs": [
    {
     "name": "stdout",
     "output_type": "stream",
     "text": [
      "all the world's a stage and all the men and women merely players\n"
     ]
    }
   ],
   "source": [
    "#ANSWER\n",
    "\n",
    "# print a string \"all the world's a stage\"\n",
    "print(\"all the world's a stage and all the men and women merely players\")"
   ]
  },
  {
   "cell_type": "code",
   "execution_count": 7,
   "metadata": {},
   "outputs": [
    {
     "name": "stdout",
     "output_type": "stream",
     "text": [
      "all\n",
      "the\n",
      "world's\n",
      "a\n",
      "stage\n",
      "and\n",
      "all\n",
      "the\n",
      "men\n",
      "and\n",
      "women\n",
      "merely\n",
      "players\n"
     ]
    }
   ],
   "source": [
    "#ANSWER\n",
    "\n",
    "# print this same string, but with each word on a new line\n",
    "print(\"all\\nthe\\nworld's\\na\\nstage\\nand\\nall\\nthe\\nmen\\nand\\nwomen\\nmerely\\nplayers\")"
   ]
  },
  {
   "cell_type": "code",
   "execution_count": 8,
   "metadata": {},
   "outputs": [
    {
     "name": "stdout",
     "output_type": "stream",
     "text": [
      "all\tthe\n",
      "world's\ta\n",
      "stage\tand\n",
      "all\tthe\n",
      "men\tand\n",
      "women\tmerely\n",
      "players\n"
     ]
    }
   ],
   "source": [
    "# ANSWER\n",
    "# print this same string with two columns of words, for as many lines as needed\n",
    "# This needs alternating newline and tab\n",
    "print(\"all\\tthe\\nworld's\\ta\\nstage\\tand\\nall\\tthe\\nmen\\tand\\nwomen\\tmerely\\nplayers\")"
   ]
  },
  {
   "cell_type": "markdown",
   "metadata": {},
   "source": [
    "#### Exercise 4\n",
    "\n",
    "* Insert a new cell below here\n",
    "* set a variable called `message` to contain the string `hello world`\n",
    "* print the value of the variable `message`"
   ]
  },
  {
   "cell_type": "code",
   "execution_count": 10,
   "metadata": {
    "scrolled": true
   },
   "outputs": [
    {
     "name": "stdout",
     "output_type": "stream",
     "text": [
      "hello world\n"
     ]
    }
   ],
   "source": [
    "# ANSWER\n",
    "\n",
    "message = 'hello world'\n",
    "print(message)"
   ]
  },
  {
   "cell_type": "markdown",
   "metadata": {},
   "source": [
    "#### Exercise 5\n",
    "\n",
    "* Make a code cell below\n",
    "* declare the variable `dash='\\n----------'` and print it\n",
    "* declare your own variables to contain the following values, trying to use a range of allowed names\n",
    "\n",
    "            1, 2, 'one', 'hello world', '1\\n2\\n3\\t 4 5 6\\n😀, 我在这里'\n",
    "            \n",
    "* print the variables to see if they contain what you expect, followed in each instance by `dash` (to space the answers out)"
   ]
  },
  {
   "cell_type": "code",
   "execution_count": 11,
   "metadata": {},
   "outputs": [
    {
     "name": "stdout",
     "output_type": "stream",
     "text": [
      "\n",
      "----------\n",
      "1 \n",
      "----------\n",
      "2 \n",
      "----------\n",
      "one \n",
      "----------\n",
      "hello world \n",
      "----------\n",
      "1\n",
      "2\n",
      "3\t 4 5 6\n",
      "😀, 我在这里 \n",
      "----------\n"
     ]
    }
   ],
   "source": [
    "# ANSWER\n",
    "\n",
    "# Make a code cell below\n",
    "# declare the variable dash='\\n----------' and print it\n",
    "dash='\\n----------'\n",
    "print(dash)\n",
    "\n",
    "# declare your own variables to contain the following values, trying to use a range of allowed names\n",
    "#      1, 2, 'one', 'hello world', '1\\n2\\n3\\t 4 5 6\\n😀, 我在这里'\n",
    "\n",
    "avar = 1\n",
    "bvar = 2\n",
    "one = 'one'\n",
    "Hello = 'hello world'\n",
    "string_thing = '1\\n2\\n3\\t 4 5 6\\n😀, 我在这里'\n",
    "\n",
    "#print the variables to see if they contain what you expect, followed in each instance by dash (to space the answers out)\n",
    "print(avar,dash)\n",
    "print(bvar,dash)\n",
    "print(one,dash)\n",
    "print(Hello,dash)\n",
    "print(string_thing,dash)"
   ]
  }
 ],
 "metadata": {
  "kernelspec": {
   "display_name": "conda env:geog0111-geog0111",
   "language": "python",
   "name": "conda-env-geog0111-geog0111-py"
  },
  "language_info": {
   "codemirror_mode": {
    "name": "ipython",
    "version": 3
   },
   "file_extension": ".py",
   "mimetype": "text/x-python",
   "name": "python",
   "nbconvert_exporter": "python",
   "pygments_lexer": "ipython3",
   "version": "3.7.13"
  },
  "latex_envs": {
   "LaTeX_envs_menu_present": true,
   "autocomplete": true,
   "bibliofile": "biblio.bib",
   "cite_by": "apalike",
   "current_citInitial": 1,
   "eqLabelWithNumbers": true,
   "eqNumInitial": 1,
   "hotkeys": {
    "equation": "Ctrl-E",
    "itemize": "Ctrl-I"
   },
   "labels_anchors": false,
   "latex_user_defs": false,
   "report_style_numbering": false,
   "user_envs_cfg": false
  },
  "toc": {
   "base_numbering": 1,
   "nav_menu": {},
   "number_sections": false,
   "sideBar": false,
   "skip_h1_title": false,
   "title_cell": "Table of Contents",
   "title_sidebar": "Contents",
   "toc_cell": false,
   "toc_position": {
    "height": "calc(100% - 180px)",
    "left": "10px",
    "top": "150px",
    "width": "207px"
   },
   "toc_section_display": false,
   "toc_window_display": false
  },
  "varInspector": {
   "cols": {
    "lenName": 16,
    "lenType": 16,
    "lenVar": 40
   },
   "kernels_config": {
    "python": {
     "delete_cmd_postfix": "",
     "delete_cmd_prefix": "del ",
     "library": "var_list.py",
     "varRefreshCmd": "print(var_dic_list())"
    },
    "r": {
     "delete_cmd_postfix": ") ",
     "delete_cmd_prefix": "rm(",
     "library": "var_list.r",
     "varRefreshCmd": "cat(var_dic_list()) "
    }
   },
   "types_to_exclude": [
    "module",
    "function",
    "builtin_function_or_method",
    "instance",
    "_Feature"
   ],
   "window_display": false
  }
 },
 "nbformat": 4,
 "nbformat_minor": 4
}
