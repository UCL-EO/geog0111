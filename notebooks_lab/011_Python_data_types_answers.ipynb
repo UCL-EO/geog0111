{
 "cells": [
  {
   "cell_type": "markdown",
   "id": "eff1b48c",
   "metadata": {},
   "source": [
    "# 011 Python data types : Answers to exercises"
   ]
  },
  {
   "cell_type": "markdown",
   "metadata": {},
   "source": [
    "#### Exercise 1\n",
    "\n",
    "* If the ASCII code for `e` is `101` and the code for `n` is `110`, what is the code for `a`?"
   ]
  },
  {
   "cell_type": "code",
   "execution_count": 2,
   "metadata": {},
   "outputs": [
    {
     "name": "stdout",
     "output_type": "stream",
     "text": [
      "\n",
      "e -> 101\n",
      "n -> 110\n",
      "\n",
      "since e is the 5th letter of the alphabet and n is the 14th\n",
      "it follows that a is 101 - 4 == 110 - 13 = 97\n",
      "\n",
      "so\n",
      "\n",
      "a -> 97\n",
      "\n",
      "Confirm this e.g. on http://www.asciitable.com/\n",
      "\n"
     ]
    }
   ],
   "source": [
    "# ANSWER\n",
    "msg = '''\n",
    "e -> 101\n",
    "n -> 110\n",
    "\n",
    "since e is the 5th letter of the alphabet and n is the 14th\n",
    "it follows that a is 101 - 4 == 110 - 13 = 97\n",
    "\n",
    "so\n",
    "\n",
    "a -> 97\n",
    "\n",
    "Confirm this e.g. on http://www.asciitable.com/\n",
    "'''\n",
    "print(msg)"
   ]
  },
  {
   "cell_type": "markdown",
   "metadata": {},
   "source": [
    "#### Exercise 2\n",
    "\n",
    "* in a code cell below, create a variable called `name` and set it to your name\n",
    "* print the string name, and its length\n",
    "* comment on why the length is the value you find"
   ]
  },
  {
   "cell_type": "code",
   "execution_count": 4,
   "metadata": {},
   "outputs": [
    {
     "name": "stdout",
     "output_type": "stream",
     "text": [
      "Charlie Walker 14\n",
      "\n",
      "    The string 'Charlie' has 7 characters\n",
      "    the string 'Walker' has 6 characters\n",
      "    plus we have a space iun the middle\n",
      "    so, the length we would expect is 7 + 6 + 1 = 14\n",
      "\n",
      "    This is what is returned by len(name)\n",
      "\n"
     ]
    }
   ],
   "source": [
    "# ANSWER\n",
    "\n",
    "# in a code cell below, create a variable called `name` and set it to your name\n",
    "name = 'Charlie Walker'\n",
    "\n",
    "# print the string name, and its length\n",
    "print(name,len(name))\n",
    "\n",
    "# comment on why the length is the value you find\n",
    "msg = '''\n",
    "    The string 'Charlie' has 7 characters\n",
    "    the string 'Walker' has 6 characters\n",
    "    plus we have a space iun the middle\n",
    "    so, the length we would expect is 7 + 6 + 1 = 14\n",
    "\n",
    "    This is what is returned by len(name)\n",
    "'''\n",
    "print(msg)"
   ]
  },
  {
   "cell_type": "markdown",
   "metadata": {},
   "source": [
    "#### Answer\n",
    "\n",
    "We could find this by examining ASCII code [tables](http://www.asciitable.com) and see that `a` (lower case a) has the code 97.\n",
    "\n",
    "Alternatively, we could search for help on this topic, and find that the python function `ord()` converts from string to ASCII code: "
   ]
  },
  {
   "cell_type": "code",
   "execution_count": 5,
   "metadata": {},
   "outputs": [
    {
     "name": "stdout",
     "output_type": "stream",
     "text": [
      "the ASCII code for 'a' is 97\n"
     ]
    }
   ],
   "source": [
    "# ANSWER\n",
    "print(\"the ASCII code for 'a' is\",ord('a'))"
   ]
  },
  {
   "cell_type": "markdown",
   "metadata": {},
   "source": [
    "Alternatively, we might notice that `n` is the 14th letter of the alphabet, and `e`the 5th, so the code seems to be `97 + N` where `N` is the order the letter appears in the alphabet. We can confirm this with the 15th letter `o` which we see from above has the code `111`. "
   ]
  },
  {
   "cell_type": "markdown",
   "metadata": {},
   "source": [
    "#### Exercise 3\n",
    "\n",
    "* insert a new cell below here\n",
    "* set a variable called message to contain the string `hello world`\n",
    "* print the value and data type of the variable message"
   ]
  },
  {
   "cell_type": "code",
   "execution_count": 7,
   "metadata": {},
   "outputs": [
    {
     "name": "stdout",
     "output_type": "stream",
     "text": [
      "hello world <class 'str'>\n"
     ]
    }
   ],
   "source": [
    "# ANSWER\n",
    "\n",
    "# set a variable called message to contain the string hello world\n",
    "message = 'hello world'\n",
    "\n",
    "# print the value and data type of the variable message\n",
    "print(message,type(message))"
   ]
  },
  {
   "cell_type": "markdown",
   "metadata": {},
   "source": [
    "#### Exercise 4\n",
    "\n",
    "Since the energy level expressed in $J$ is quite small, we might more conveniently express it in units of eV. Given that:\n",
    "\n",
    "$$\n",
    "    1\\ Electron\\ volt\\ (eV) = 1.602176565 \\times 10^{-19} J\n",
    "$$\n",
    "\n",
    "* Insert a new cell below here\n",
    "* calculate the energy associated with a blue photon at 450 nm, in eV\n",
    "* confirm your answer using a [web calculator](http://www.calctool.org/CALC/other/converters/e_of_photon)"
   ]
  },
  {
   "cell_type": "code",
   "execution_count": 9,
   "metadata": {},
   "outputs": [
    {
     "name": "stdout",
     "output_type": "stream",
     "text": [
      "1.9864458571489286e-25\n",
      "Photon of wavelength 450.0 nm\n",
      "has an energy of 2.7552045282834468 eV\n"
     ]
    }
   ],
   "source": [
    "# Answer\n",
    "# Copy mostly from above:\n",
    "\n",
    "# values of c and h\n",
    "c = 2.99792458e8\n",
    "h = 6.62607015e-34\n",
    "\n",
    "print(h * c)\n",
    "# wavelength in nm: BLUE\n",
    "# calculate the energy associated with a blue photon at 450 nm, in eV\n",
    "l_nm = 450.0\n",
    "\n",
    "# wavelength in m\n",
    "l_m = l_nm * 1e-9\n",
    "\n",
    "# Planck-Einstein in J\n",
    "E_J = h * c / l_m\n",
    "\n",
    "# conversion formula given above\n",
    "E_eV = E_J / 1.602176565e-19\n",
    "print('Photon of wavelength', l_nm, 'nm')\n",
    "print('has an energy of', E_eV, 'eV')\n",
    "# which compares with 2.75520 eV given in the web calculator"
   ]
  },
  {
   "cell_type": "markdown",
   "metadata": {},
   "source": [
    "#### Exercise 5\n",
    "\n",
    "* insert a new cell below here\n",
    "* using integer arithmetic, print the result of:\n",
    "  - 2 to the power of 8\n",
    "  - 1024 divided by 2\n",
    "* set a variable called `x` to the result of 7 (floor) divided by 3.\n",
    "  - print the value of `x`, and confirm its data type is `int`"
   ]
  },
  {
   "cell_type": "code",
   "execution_count": 12,
   "metadata": {},
   "outputs": [
    {
     "name": "stdout",
     "output_type": "stream",
     "text": [
      "256\n",
      "512\n",
      "Integer: 7 divided by 3 is 2 <class 'int'>\n",
      "7 divided by 3 is 2.3333333333333335 <class 'float'>\n"
     ]
    }
   ],
   "source": [
    "#\n",
    "# answer\n",
    "# using integer arithmetic, print the result of:\n",
    "\n",
    "# 2 to the power of 8\n",
    "print(2**8)\n",
    "\n",
    "# 1024 divided by 2 integer division (floor)\n",
    "print(1024 // 2)\n",
    "\n",
    "# set a variable called x to the result of 7 divided by 3\n",
    "x = 7 // 3\n",
    "print('Integer: 7 divided by 3 is', x, type(x))\n",
    "\n",
    "# We contrast this with the use of /\n",
    "# which results in a variable of type float\n",
    "x = 7 / 3\n",
    "print('7 divided by 3 is', x, type(x))"
   ]
  },
  {
   "cell_type": "markdown",
   "metadata": {},
   "source": [
    "#### Exercise 6\n",
    "\n",
    "* Insert a new cell below here\n",
    "* Set a variable called `is_class_today` to the value `True`\n",
    "* print the variable name, its value, and its data type"
   ]
  },
  {
   "cell_type": "code",
   "execution_count": 14,
   "metadata": {},
   "outputs": [
    {
     "name": "stdout",
     "output_type": "stream",
     "text": [
      "is_class_today True <class 'bool'>\n"
     ]
    }
   ],
   "source": [
    "# ANSWER\n",
    "# Insert a new cell below here\n",
    "# Set a variable called `is_class_today` to the value `True`\n",
    "\n",
    "is_class_today = True\n",
    "\n",
    "# print the variable name, its value, and its data type\n",
    "\n",
    "print('is_class_today',is_class_today,type(is_class_today))"
   ]
  },
  {
   "cell_type": "markdown",
   "metadata": {},
   "source": [
    "#### Exercise 7\n",
    "   \n",
    "* Insert a new cell below here\n",
    "* write a statement to set a variable `x` to `True` and print the value of `x` and `not x` \n",
    "* what does `not not x` give? Make sure you understand why \n"
   ]
  },
  {
   "cell_type": "code",
   "execution_count": 17,
   "metadata": {},
   "outputs": [
    {
     "name": "stdout",
     "output_type": "stream",
     "text": [
      "x is True\n",
      "not x is False\n",
      "not not x is True\n",
      "\n",
      "answer\n",
      "------\n",
      "not not x is the same as just x\n",
      "\n",
      "A double negative cancels out, in effect\n",
      "\n"
     ]
    }
   ],
   "source": [
    "# ANSWER\n",
    "\n",
    "# write a statement to set a variable x to True \n",
    "x = True\n",
    "\n",
    "# and print the value of x and not x\n",
    "print('x is',x)\n",
    "print('not x is',not x)\n",
    "\n",
    "# what does not not x give? \n",
    "print('not not x is',not not x)\n",
    "msg = '''\n",
    "answer\n",
    "------\n",
    "not not x is the same as just x\n",
    "\n",
    "A double negative cancels out, in effect\n",
    "'''\n",
    "print(msg)"
   ]
  },
  {
   "cell_type": "code",
   "execution_count": 19,
   "metadata": {},
   "outputs": [
    {
     "name": "stdout",
     "output_type": "stream",
     "text": [
      "True\n"
     ]
    }
   ],
   "source": [
    "# ANSWER\n",
    "# do the testing here e.g.\n",
    "print (True or False)"
   ]
  },
  {
   "cell_type": "markdown",
   "metadata": {},
   "source": [
    "| blank  | A and B  | A or B  | \n",
    "|:---:|:---:|:---:|\n",
    "|  ![blank](images/tt1.png) |  ![blank](images/ttand.png) |  ![blank](images/ttor.png) | \n",
    "\n"
   ]
  },
  {
   "cell_type": "markdown",
   "metadata": {},
   "source": [
    "\n",
    "#### Exercise 9\n",
    "\n",
    "* Copy the 3 variable truth table from above onto paper \n",
    "* fill out a column with `A and B`\n",
    "* fill out a column with `((A and B) or C) `\n",
    "* Try some other compound statements\n",
    "\n",
    "If you are unsure, or to check your answers, test the response using code, below."
   ]
  },
  {
   "cell_type": "code",
   "execution_count": 20,
   "metadata": {
    "scrolled": true
   },
   "outputs": [
    {
     "name": "stdout",
     "output_type": "stream",
     "text": [
      "True\n"
     ]
    }
   ],
   "source": [
    "# ANSWER\n",
    "# do the testing here e.g.\n",
    "print ((True and False) or True)"
   ]
  },
  {
   "cell_type": "markdown",
   "metadata": {},
   "source": [
    "| blank  | A and B  | ((A and B) or C) | \n",
    "|:---:|:---:|:---:|\n",
    "|  ![blank](images/tt2.png) |  ![blank](images/tt2and.png) |  ![blank](images/tt2or.png) | \n",
    "\n"
   ]
  },
  {
   "cell_type": "code",
   "execution_count": 21,
   "metadata": {
    "scrolled": true
   },
   "outputs": [
    {
     "name": "stdout",
     "output_type": "stream",
     "text": [
      "x is True\n",
      "not x is False\n",
      "not not x is True\n"
     ]
    }
   ],
   "source": [
    "# ANSWER\n",
    "\n",
    "# write a statement to set a variable x to True a\n",
    "x = True\n",
    "\n",
    "# print the value of x \n",
    "print('x is',x)\n",
    "\n",
    "# print the value of not x \n",
    "print('not x is',not x)\n",
    "\n",
    "# what does not not x give?\n",
    "print('not not x is',not not x)\n",
    "# not not cancels out (double negative)"
   ]
  },
  {
   "cell_type": "code",
   "execution_count": 22,
   "metadata": {},
   "outputs": [
    {
     "name": "stdout",
     "output_type": "stream",
     "text": [
      "is_class_today True <class 'bool'>\n"
     ]
    }
   ],
   "source": [
    "# ANSWER\n",
    "\n",
    "# Set a variable called `is_class_today` to the value `True`\n",
    "is_class_today = True\n",
    "\n",
    "# print the variable name, its value, and its data type\n",
    "print('is_class_today',is_class_today,type(is_class_today))"
   ]
  },
  {
   "cell_type": "markdown",
   "metadata": {},
   "source": [
    "#### Exercise 10\n",
    "\n",
    "* insert a new cell below here\n",
    "* copy the code in the cell above, set `start_number` to `0`, and run\n",
    "    * What are the boolean representations of `0` and `1`?\n",
    "* What would happen if you set `start_number` to the string `'zero'`, and why?"
   ]
  },
  {
   "cell_type": "code",
   "execution_count": 24,
   "metadata": {},
   "outputs": [
    {
     "name": "stdout",
     "output_type": "stream",
     "text": [
      "starting with 0\n",
      "int_number 0 <class 'int'>\n",
      "float_number 0.0 <class 'float'>\n",
      "str_number 0 <class 'str'>\n",
      "bool_number False <class 'bool'>\n",
      "\n",
      "\n",
      "What would happen if you set start_number to the string 'zero', and why?\n",
      "\n",
      "Answer\n",
      "------\n",
      "  1 -> True\n",
      "  0 -> False\n",
      "\n",
      "  If we set start_number to 'zero' then int('zero') will fail\n",
      "  because it cannot convert a word representation of this sort to an integer\n",
      "  only a character representation such as '0' or '1'\n",
      "\n"
     ]
    }
   ],
   "source": [
    "# ANSWER\n",
    "\n",
    "# copy the code in the cell above, and set start_number to 0\n",
    "start_number = 0\n",
    "\n",
    "print(\"starting with\", start_number)\n",
    "int_number = int(start_number)\n",
    "print('int_number', int_number, type(int_number))\n",
    "# now convert to float\n",
    "float_number = float(int_number)\n",
    "print('float_number', float_number, type(float_number))\n",
    "# now convert to str\n",
    "str_number = str(int_number)\n",
    "print('str_number', str_number, type(str_number))\n",
    "# now convert to bool\n",
    "bool_number = bool(int_number)\n",
    "print('bool_number', bool_number, type(bool_number))\n",
    "\n",
    "# What is the boolean representation of 0?\n",
    "msg = '''\n",
    "\n",
    "What would happen if you set start_number to the string 'zero', and why?\n",
    "\n",
    "Answer\n",
    "------\n",
    "  1 -> True\n",
    "  0 -> False\n",
    "\n",
    "  If we set start_number to 'zero' then int('zero') will fail\n",
    "  because it cannot convert a word representation of this sort to an integer\n",
    "  only a character representation such as '0' or '1'\n",
    "'''\n",
    "print(msg)"
   ]
  }
 ],
 "metadata": {
  "kernelspec": {
   "display_name": "conda env:geog0111-geog0111",
   "language": "python",
   "name": "conda-env-geog0111-geog0111-py"
  },
  "language_info": {
   "codemirror_mode": {
    "name": "ipython",
    "version": 3
   },
   "file_extension": ".py",
   "mimetype": "text/x-python",
   "name": "python",
   "nbconvert_exporter": "python",
   "pygments_lexer": "ipython3",
   "version": "3.7.13"
  },
  "latex_envs": {
   "LaTeX_envs_menu_present": true,
   "autocomplete": true,
   "bibliofile": "biblio.bib",
   "cite_by": "apalike",
   "current_citInitial": 1,
   "eqLabelWithNumbers": true,
   "eqNumInitial": 1,
   "hotkeys": {
    "equation": "Ctrl-E",
    "itemize": "Ctrl-I"
   },
   "labels_anchors": false,
   "latex_user_defs": false,
   "report_style_numbering": false,
   "user_envs_cfg": false
  },
  "toc": {
   "base_numbering": 1,
   "nav_menu": {},
   "number_sections": false,
   "sideBar": false,
   "skip_h1_title": false,
   "title_cell": "Table of Contents",
   "title_sidebar": "Contents",
   "toc_cell": false,
   "toc_position": {
    "height": "calc(100% - 180px)",
    "left": "10px",
    "top": "150px",
    "width": "207px"
   },
   "toc_section_display": false,
   "toc_window_display": false
  },
  "varInspector": {
   "cols": {
    "lenName": 16,
    "lenType": 16,
    "lenVar": 40
   },
   "kernels_config": {
    "python": {
     "delete_cmd_postfix": "",
     "delete_cmd_prefix": "del ",
     "library": "var_list.py",
     "varRefreshCmd": "print(var_dic_list())"
    },
    "r": {
     "delete_cmd_postfix": ") ",
     "delete_cmd_prefix": "rm(",
     "library": "var_list.r",
     "varRefreshCmd": "cat(var_dic_list()) "
    }
   },
   "types_to_exclude": [
    "module",
    "function",
    "builtin_function_or_method",
    "instance",
    "_Feature"
   ],
   "window_display": false
  }
 },
 "nbformat": 4,
 "nbformat_minor": 4
}
