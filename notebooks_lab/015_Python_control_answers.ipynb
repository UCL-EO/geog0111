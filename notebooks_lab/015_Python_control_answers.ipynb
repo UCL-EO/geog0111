{
 "cells": [
  {
   "cell_type": "markdown",
   "id": "680d13d8",
   "metadata": {},
   "source": [
    "# 015 Control in Python: `if` : Answers to exercises"
   ]
  },
  {
   "cell_type": "markdown",
   "metadata": {},
   "source": [
    "#### Exercise 1\n",
    " \n",
    "* insert a new cell below here. Use f-strings in forming strings.\n",
    "* copy the code above \n",
    "* add a `print` statement to your code that tests for non equivalence of `a` and `b`\n",
    "* repeat this in a new cell, but now change the values (or type) of the variables `a` and `b` to `float` or `bool`\n"
   ]
  },
  {
   "cell_type": "code",
   "execution_count": 2,
   "metadata": {},
   "outputs": [
    {
     "name": "stdout",
     "output_type": "stream",
     "text": [
      "a is 100 and b is 10\n",
      "a is equivalent to b? False\n",
      "a is not equivalent to b? True\n"
     ]
    }
   ],
   "source": [
    "# ANSWER\n",
    "\n",
    "# copy the code above \n",
    "a = 100\n",
    "b = 10\n",
    "#\n",
    "# These are *not* the same, so we expect \n",
    "# a == b : False\n",
    "\n",
    "# Note the use of \\n and \\t in here\n",
    "# from 010 for formatting\n",
    "print (f'a is {a} and b is {b}')\n",
    "print (f'a is equivalent to b? {a == b}')\n",
    "\n",
    "# add a print statement to your code that tests \n",
    "# for non equivalence of a and b\n",
    "print (f'a is not equivalent to b? {a != b}')"
   ]
  },
  {
   "cell_type": "code",
   "execution_count": 3,
   "metadata": {},
   "outputs": [
    {
     "name": "stdout",
     "output_type": "stream",
     "text": [
      "a is 100.0 and b is 10.0\n",
      "a is equivalent to b? False\n",
      "a is not equivalent to b? True\n"
     ]
    }
   ],
   "source": [
    "# ANSWER\n",
    "\n",
    "# repeat this in a new cell, but now change the values \n",
    "# (or type) of the variables `a` and `b` to `float` or `bool`\n",
    "# FLOAT\n",
    "\n",
    "# copy the code above \n",
    "a = 100.0\n",
    "b = 10.0\n",
    "#\n",
    "# These are *not* the same, so we expect \n",
    "# a == b : False\n",
    "\n",
    "# Note the use of \\n and \\t in here\n",
    "# from 010 for formatting\n",
    "print (f'a is {a} and b is {b}')\n",
    "print (f'a is equivalent to b? {a == b}')\n",
    "\n",
    "# add a print statement to your code that tests \n",
    "# for non equivalence of a and b\n",
    "print (f'a is not equivalent to b? {a != b}')"
   ]
  },
  {
   "cell_type": "code",
   "execution_count": 4,
   "metadata": {},
   "outputs": [
    {
     "name": "stdout",
     "output_type": "stream",
     "text": [
      "a is True and b is True\n",
      "a is equivalent to b? True\n",
      "a is not equivalent to b? False\n"
     ]
    }
   ],
   "source": [
    "# ANSWER\n",
    "\n",
    "# repeat this in a new cell, but now change the values \n",
    "# (or type) of the variables `a` and `b` to `float` or `bool`\n",
    "# BOOL\n",
    "\n",
    "# copy the code above \n",
    "a = True\n",
    "b = True\n",
    "#\n",
    "# These are *not* the same, so we expect \n",
    "# a == b : False\n",
    "\n",
    "# Note the use of \\n and \\t in here\n",
    "# from 010 for formatting\n",
    "print (f'a is {a} and b is {b}')\n",
    "print (f'a is equivalent to b? {a == b}')\n",
    "\n",
    "# add a print statement to your code that tests \n",
    "# for non equivalence of a and b\n",
    "print (f'a is not equivalent to b? {a != b}')"
   ]
  },
  {
   "cell_type": "markdown",
   "metadata": {},
   "source": [
    "#### Exercise 2\n",
    "\n",
    "* insert a new cell below here\n",
    "* create variables `a` and `b` and set them to types and values of your choice\n",
    "* create a variable called `gt_test` and set it to the result of `a > b`\n",
    "* print a statement of what you have used, and the value of `gt_test`\n",
    "* explain why you get the result you do"
   ]
  },
  {
   "cell_type": "code",
   "execution_count": 6,
   "metadata": {},
   "outputs": [
    {
     "name": "stdout",
     "output_type": "stream",
     "text": [
      "a > b test for a = 2 and b = 4 :   False\n",
      "\n",
      "  explain why you get the result you do\n",
      "  \n",
      "  gt_test is False here, because the statement that a > b\n",
      "  is not True since a is 2 and b is 4 \n",
      "\n"
     ]
    }
   ],
   "source": [
    "# ANSWER\n",
    "\n",
    "# create variables a and b and set them to values of your choice\n",
    "# here, we choose int values 2 and 4 respectively\n",
    "a = 2\n",
    "b = 4\n",
    "\n",
    "# create a variable called `gt_test` and set it to the result of `a > b`\n",
    "gt_test = a > b\n",
    "\n",
    "# print the statement you have used, and the value of `gt_test`\n",
    "print(f'a > b test for a = {a} and b = {b} :   {gt_test}')\n",
    "\n",
    "# explain why you get the result you do\n",
    "msg = '''\n",
    "  explain why you get the result you do\n",
    "  \n",
    "  gt_test is False here, because the statement that a > b\n",
    "  is not True since a is 2 and b is 4 \n",
    "'''\n",
    "print(msg)"
   ]
  },
  {
   "cell_type": "markdown",
   "metadata": {},
   "source": [
    "#### Exercise 3\n",
    "\n",
    "* insert a new cell below here\n",
    "* set a variable `doy` to represent the day of year and initialise it to some integer between 1 and 365 inclusive\n",
    "* set a variable `month` to be `'January'`\n",
    "* set a variable `year` to be `'2020'`\n",
    "* Write a series of conditional statements that set the variable `month` to the correct month for the value of `doy`\n",
    "* Print the month for the given doy\n",
    "* Test that you get the right result for several `doy` values\n",
    "\n",
    "You should assume that `doy` value `1` represents January 1st.\n",
    "\n",
    "You might find a [DOY calendar](https://www.esrl.noaa.gov/gmd/grad/neubrew/Calendar.jsp) helpful here.\n",
    "\n",
    "![DOY calendar](images/doycal.png)"
   ]
  },
  {
   "cell_type": "code",
   "execution_count": 8,
   "metadata": {},
   "outputs": [
    {
     "name": "stdout",
     "output_type": "stream",
     "text": [
      "for doy 230 year 2020 the month is August\n"
     ]
    }
   ],
   "source": [
    "# ANSWER\n",
    "# set a variable doy to represent the day of year and \n",
    "# initialise it to some integer between 1 and 365 inclusive\n",
    "doy = 230\n",
    "\n",
    "# set a variable month to be 'January'\n",
    "month = 'January'\n",
    "\n",
    "# set a variable year to be '2020'\n",
    "year = '2020'\n",
    "\n",
    "# Write a series of conditional statements that set the \n",
    "# variable month to the correct month for the value of doy\n",
    "if ( doy < 1 ) or (doy > 366):\n",
    "    # good to catch errors\n",
    "    month = f'out of bounds error: doy={doy}'\n",
    "elif ( doy <= 31 ):\n",
    "    month = 'January'\n",
    "elif ( doy <= 60 ):\n",
    "    month = 'February'\n",
    "elif ( doy <= 91 ):\n",
    "    month = 'March'\n",
    "elif ( doy <= 121 ):\n",
    "    month = 'April'\n",
    "elif ( doy <= 152 ):\n",
    "    month = 'May'\n",
    "elif ( doy <= 182 ):\n",
    "    month = 'June'\n",
    "elif ( doy <= 213 ):\n",
    "    month = 'July'\n",
    "elif ( doy <= 244 ):\n",
    "    month = 'August'\n",
    "elif ( doy <= 274 ):\n",
    "    month = 'September'\n",
    "elif ( doy <= 305 ):\n",
    "    month = 'October'\n",
    "elif ( doy <= 335 ):\n",
    "    month = 'November'\n",
    "else:\n",
    "    # it must be December !\n",
    "    month = 'December'\n",
    "\n",
    "# Print the month for the given doy\n",
    "print(f'for doy {doy} year {year} the month is {month}')\n",
    "\n",
    "# Test that you get the right result for several doy values"
   ]
  }
 ],
 "metadata": {
  "kernelspec": {
   "display_name": "conda env:geog0111-geog0111",
   "language": "python",
   "name": "conda-env-geog0111-geog0111-py"
  },
  "language_info": {
   "codemirror_mode": {
    "name": "ipython",
    "version": 3
   },
   "file_extension": ".py",
   "mimetype": "text/x-python",
   "name": "python",
   "nbconvert_exporter": "python",
   "pygments_lexer": "ipython3",
   "version": "3.7.10"
  },
  "latex_envs": {
   "LaTeX_envs_menu_present": true,
   "autocomplete": true,
   "bibliofile": "biblio.bib",
   "cite_by": "apalike",
   "current_citInitial": 1,
   "eqLabelWithNumbers": true,
   "eqNumInitial": 1,
   "hotkeys": {
    "equation": "Ctrl-E",
    "itemize": "Ctrl-I"
   },
   "labels_anchors": false,
   "latex_user_defs": false,
   "report_style_numbering": false,
   "user_envs_cfg": false
  },
  "toc": {
   "base_numbering": 1,
   "nav_menu": {},
   "number_sections": false,
   "sideBar": false,
   "skip_h1_title": false,
   "title_cell": "Table of Contents",
   "title_sidebar": "Contents",
   "toc_cell": false,
   "toc_position": {
    "height": "calc(100% - 180px)",
    "left": "10px",
    "top": "150px",
    "width": "207px"
   },
   "toc_section_display": false,
   "toc_window_display": false
  },
  "varInspector": {
   "cols": {
    "lenName": 16,
    "lenType": 16,
    "lenVar": 40
   },
   "kernels_config": {
    "python": {
     "delete_cmd_postfix": "",
     "delete_cmd_prefix": "del ",
     "library": "var_list.py",
     "varRefreshCmd": "print(var_dic_list())"
    },
    "r": {
     "delete_cmd_postfix": ") ",
     "delete_cmd_prefix": "rm(",
     "library": "var_list.r",
     "varRefreshCmd": "cat(var_dic_list()) "
    }
   },
   "types_to_exclude": [
    "module",
    "function",
    "builtin_function_or_method",
    "instance",
    "_Feature"
   ],
   "window_display": false
  }
 },
 "nbformat": 4,
 "nbformat_minor": 4
}
