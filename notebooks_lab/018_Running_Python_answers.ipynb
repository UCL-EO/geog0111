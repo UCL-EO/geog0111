{
 "cells": [
  {
   "cell_type": "markdown",
   "metadata": {},
   "source": [
    "# 018 Python codes : Answers to exercises"
   ]
  },
  {
   "cell_type": "markdown",
   "metadata": {},
   "source": [
    "#### Exercise 1\n",
    "\n",
    "* Create a Python file in your [`work`](work) folder based on the example above and call it `work/myFirstCode.py`\n",
    "* Modify the code to achieve the following:\n",
    "    - make a function called `myFirstCode` that prints out a greeting message\n",
    "    - update the document strings in the file as appropriate"
   ]
  },
  {
   "cell_type": "code",
   "execution_count": 14,
   "metadata": {},
   "outputs": [],
   "source": [
    "%%bash\n",
    "# ANSWER : create the Python file with the code we want\n",
    "\n",
    "# Instructions:\n",
    "#\n",
    "# Create a Python file in your work\n",
    "# folder based on the example in geog0111/helloWorld.py\n",
    "# and call it `work/myFirstCode.py`\n",
    "#\n",
    "# Modify the code to achieve the following:\n",
    "# make a function called myFirstCode that prints out a greeting message\n",
    "# update the document strings in the file as appropriate\n",
    "\n",
    "# code between the next line and the \n",
    "# End Of File (EOF) marker will be saved in \n",
    "# to the file work/myFirstCode.py\n",
    "cat << EOF > work/myFirstCode.py\n",
    "#!/usr/bin/env python\n",
    "# -*- coding: utf-8 -*- \n",
    "\n",
    "'''\n",
    "myFirstCode\n",
    "\n",
    "Purpose:\n",
    "\n",
    "  function to print a greeting\n",
    "  \n",
    "'''\n",
    "__author__    = \"P Lewis\"\n",
    "__copyright__ = \"Copyright 2020 P Lewis\"\n",
    "__license__   = \"GPLv3\"\n",
    "__email__     = \"p.lewis@ucl.ac.uk\"\n",
    "\n",
    "def myFirstCode():\n",
    "    '''\n",
    "    function to print a greeting\n",
    "    '''\n",
    "    print('hello from me')\n",
    "    \n",
    "    \n",
    "# example calling the function    \n",
    "def main():\n",
    "    myFirstCode()\n",
    "\n",
    "if __name__ == \"__main__\":\n",
    "    # execute only if run as a script\n",
    "    main()\n",
    "EOF\n",
    "\n",
    "# Chmod 755 to make the file executable\n",
    "chmod 755 work/myFirstCode.py"
   ]
  },
  {
   "cell_type": "code",
   "execution_count": 15,
   "metadata": {},
   "outputs": [
    {
     "name": "stdout",
     "output_type": "stream",
     "text": [
      "hello from me\n"
     ]
    }
   ],
   "source": [
    "# ANSWER\n",
    "%run work/myFirstCode.py"
   ]
  }
 ],
 "metadata": {
  "kernelspec": {
   "display_name": "Python [conda env:geog0111-geog0111]",
   "language": "python",
   "name": "conda-env-geog0111-geog0111-py"
  },
  "language_info": {
   "codemirror_mode": {
    "name": "ipython",
    "version": 3
   },
   "file_extension": ".py",
   "mimetype": "text/x-python",
   "name": "python",
   "nbconvert_exporter": "python",
   "pygments_lexer": "ipython3",
   "version": "3.7.8"
  }
 },
 "nbformat": 4,
 "nbformat_minor": 4
}
