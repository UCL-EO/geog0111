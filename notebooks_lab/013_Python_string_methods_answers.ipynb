{
 "cells": [
  {
   "cell_type": "markdown",
   "id": "6a9fc013",
   "metadata": {},
   "source": [
    "# 013 String methods : Answers to exercises"
   ]
  },
  {
   "cell_type": "markdown",
   "metadata": {},
   "source": [
    "#### Exercise 1\n",
    "\n",
    "* insert a new cell below here\n",
    "* what might a zero-length string look like? Try to generate one, and check its length.\n",
    "* the `Hello there everyone` example above has no spaces between the words. Copy the code and modify it to have spaces.\n",
    "* confirm that you get the expected increase in length."
   ]
  },
  {
   "cell_type": "code",
   "execution_count": 5,
   "metadata": {},
   "outputs": [
    {
     "name": "stdout",
     "output_type": "stream",
     "text": [
      "the length of  is 0\n",
      "the length of Hello there everyone is 20\n",
      "\n",
      "The old string had length 18\n",
      "now, with two spaces, this has length 20 as expected\n",
      "\n"
     ]
    }
   ],
   "source": [
    "# ANSWER\n",
    "\n",
    "# insert a new cell below here\n",
    "# what might a zero-length string look like? Try to generate one, and check its length.\n",
    "\n",
    "t = ''\n",
    "print (f'the length of {t} is {len(t)}')\n",
    "\n",
    "# the `Hello there everyone` example above has no spaces between the words. Copy the code and modify it to have spaces.\n",
    "\n",
    "space = ' '\n",
    "s = \"Hello\" + space + \"there\" + space + \"everyone\"\n",
    "print (f'the length of {s} is {len(s)}')\n",
    "\n",
    "# confirm that you get the expected increase in length.\n",
    "msg = '''\n",
    "The old string had length 18\n",
    "now, with two spaces, this has length 20 as expected\n",
    "'''\n",
    "print(msg)"
   ]
  },
  {
   "cell_type": "markdown",
   "metadata": {},
   "source": [
    "#### Exercise 2\n",
    "\n",
    "* Insert a new cell below here\n",
    "* Take the multi-line string:\n",
    "\n",
    "`'''\n",
    "----Remote sensing is the process of detecting and \n",
    "monitoring the physical characteristics of an \n",
    "area by measuring its reflected and emitted \n",
    "radiation at a distance (typically from \n",
    "satellite or aircraft).----\n",
    "'''`\n",
    "\n",
    "  and use it to generate a single line string, without the `-` characters at either end.\n",
    "    "
   ]
  },
  {
   "cell_type": "code",
   "execution_count": 10,
   "metadata": {},
   "outputs": [
    {
     "name": "stdout",
     "output_type": "stream",
     "text": [
      "\n",
      "----Remote sensing is the process of detecting and \n",
      "monitoring the physical characteristics of an \n",
      "area by measuring its reflected and emitted \n",
      "radiation at a distance (typically from \n",
      "satellite or aircraft).----\n",
      "\n",
      "Remote sensing is the process of detecting and monitoring the physical characteristics of an area by measuring its reflected and emitted radiation at a distance (typically from satellite or aircraft).\n"
     ]
    }
   ],
   "source": [
    "# ANSWER\n",
    "\n",
    "old_string = '''\n",
    "----Remote sensing is the process of detecting and \n",
    "monitoring the physical characteristics of an \n",
    "area by measuring its reflected and emitted \n",
    "radiation at a distance (typically from \n",
    "satellite or aircraft).----\n",
    "'''\n",
    "print(old_string)\n",
    "\n",
    "# replace newline with empty string!\n",
    "# and strip the result after\n",
    "new_string = old_string.replace('\\n','').strip('-')\n",
    "print(new_string)"
   ]
  },
  {
   "cell_type": "markdown",
   "metadata": {},
   "source": [
    "#### Exercise 3\n",
    " \n",
    "* Insert a new cell below here\n",
    "* Take the string \n",
    "\n",
    "      The Owl and the Pussy-cat went to sea \n",
    "      In a beautiful pea-green boat, \n",
    "      They took some honey, and plenty of money, \n",
    "      Wrapped up in a five-pound note.\n",
    "    \n",
    "  and split it into a list of sub-strings.\n",
    "* Then re-construct the string, separating each word by a colon character `':'`\n",
    "* Print out the list of sub-strings and the re-constructed string"
   ]
  },
  {
   "cell_type": "code",
   "execution_count": 15,
   "metadata": {},
   "outputs": [
    {
     "name": "stdout",
     "output_type": "stream",
     "text": [
      "['The', 'Owl', 'and', 'the', 'Pussy-cat', 'went', 'to', 'sea', 'In', 'a', 'beautiful', 'pea-green', 'boat,', 'They', 'took', 'some', 'honey,', 'and', 'plenty', 'of', 'money,', 'Wrapped', 'up', 'in', 'a', 'five-pound', 'note.']\n",
      "The:Owl:and:the:Pussy-cat:went:to:sea:In:a:beautiful:pea-green:boat,:They:took:some:honey,:and:plenty:of:money,:Wrapped:up:in:a:five-pound:note.\n"
     ]
    }
   ],
   "source": [
    "# Answer\n",
    "\n",
    "# Take the string\n",
    "string = '''\n",
    "The Owl and the Pussy-cat went to sea \n",
    "In a beautiful pea-green boat, \n",
    "They took some honey, and plenty of money, \n",
    "Wrapped up in a five-pound note.\n",
    "'''\n",
    "\n",
    "# and split it into a list of sub-strings.\n",
    "list_string = string.split()\n",
    "# print this out\n",
    "print(list_string)\n",
    "\n",
    "# Then re-construct the string, separating each word by a colon character ':'\n",
    "recon_string = ':'.join(list_string)\n",
    "# print this out\n",
    "print(recon_string)"
   ]
  },
  {
   "cell_type": "code",
   "execution_count": 16,
   "metadata": {},
   "outputs": [
    {
     "name": "stdout",
     "output_type": "stream",
     "text": [
      "the length of \"Hello there everyone\" is 20\n"
     ]
    }
   ],
   "source": [
    "# Answer\n",
    "# the Hello there everyone example above has no spaces between the words. \n",
    "# copy the code and modify it to have spaces.\n",
    "\n",
    "# generate a string called s\n",
    "# and see how long it is\n",
    "\n",
    "# lets have a spacer variable\n",
    "spacer = ' '\n",
    "quote = '\"'\n",
    "# add the spaces in\n",
    "s = \"Hello\" + spacer + \"there\" + spacer + \"everyone\"\n",
    "print ('the length of',quote+s+quote,'is',len(s))\n",
    "\n",
    "# confirm that you get the expected increase in length.\n",
    "# It is now 20 rather than 18 above"
   ]
  },
  {
   "cell_type": "markdown",
   "metadata": {},
   "source": [
    "#### Exercise 4\n",
    "\n",
    "* Insert a new cell below here\n",
    "* copy the code above, and see what happens if you set `i` to be the value of length of the string. \n",
    "* why does it respond in this way?"
   ]
  },
  {
   "cell_type": "code",
   "execution_count": 18,
   "metadata": {
    "scrolled": true
   },
   "outputs": [
    {
     "name": "stdout",
     "output_type": "stream",
     "text": [
      "length of hello is 5\n"
     ]
    },
    {
     "ename": "IndexError",
     "evalue": "string index out of range",
     "output_type": "error",
     "traceback": [
      "\u001b[0;31m---------------------------------------------------------------------------\u001b[0m",
      "\u001b[0;31mIndexError\u001b[0m                                Traceback (most recent call last)",
      "\u001b[0;32m<ipython-input-18-c41bb38893d7>\u001b[0m in \u001b[0;36m<module>\u001b[0;34m\u001b[0m\n\u001b[1;32m     10\u001b[0m \u001b[0;31m# copy the code above, and see what happens if you set `i` to be the value of length of the string.\u001b[0m\u001b[0;34m\u001b[0m\u001b[0;34m\u001b[0m\u001b[0;34m\u001b[0m\u001b[0m\n\u001b[1;32m     11\u001b[0m \u001b[0mi\u001b[0m \u001b[0;34m=\u001b[0m \u001b[0mslen\u001b[0m\u001b[0;34m\u001b[0m\u001b[0;34m\u001b[0m\u001b[0m\n\u001b[0;32m---> 12\u001b[0;31m \u001b[0mprint\u001b[0m\u001b[0;34m(\u001b[0m\u001b[0;34m'character'\u001b[0m\u001b[0;34m,\u001b[0m \u001b[0mi\u001b[0m\u001b[0;34m,\u001b[0m \u001b[0;34m'of'\u001b[0m\u001b[0;34m,\u001b[0m \u001b[0mstring\u001b[0m\u001b[0;34m,\u001b[0m \u001b[0;34m'is'\u001b[0m\u001b[0;34m,\u001b[0m \u001b[0mstring\u001b[0m\u001b[0;34m[\u001b[0m\u001b[0mi\u001b[0m\u001b[0;34m]\u001b[0m\u001b[0;34m)\u001b[0m\u001b[0;34m\u001b[0m\u001b[0;34m\u001b[0m\u001b[0m\n\u001b[0m",
      "\u001b[0;31mIndexError\u001b[0m: string index out of range"
     ]
    }
   ],
   "source": [
    "# ANSWER\n",
    "\n",
    "# copy the code\n",
    "string = 'hello'\n",
    "\n",
    "# length\n",
    "slen = len(string)\n",
    "print('length of', string, 'is', slen)\n",
    "\n",
    "# copy the code above, and see what happens if you set `i` to be the value of length of the string. \n",
    "i = slen\n",
    "print('character', i, 'of', string, 'is', string[i])"
   ]
  },
  {
   "cell_type": "code",
   "execution_count": 19,
   "metadata": {},
   "outputs": [
    {
     "name": "stdout",
     "output_type": "stream",
     "text": [
      "\n",
      " This fails with:\n",
      " \n",
      "     IndexError: string index out of range\n",
      "\n",
      " because string[5] does not exist\n",
      " as the length of string is 5: we can\n",
      " only idex from 0 to 4\n",
      "\n"
     ]
    }
   ],
   "source": [
    "# ANSWER\n",
    "\n",
    "# Why does it respond in this way?\n",
    "msg = '''\n",
    " This fails with:\n",
    " \n",
    "     IndexError: string index out of range\n",
    "\n",
    " because string[5] does not exist\n",
    " as the length of string is 5: we can\n",
    " only idex from 0 to 4\n",
    "'''\n",
    "print(msg)\n"
   ]
  },
  {
   "cell_type": "markdown",
   "metadata": {},
   "source": [
    "#### Exercise 5\n",
    "\n",
    "The example above allows us to access an individual character(s) of the array.\n",
    "\n",
    "* Insert a new cell below here\n",
    "* based on the example above, print the string starting from the default start value, up to the default stop value, in steps of `2`. This should be `HloWrd`.\n",
    "* write code to print out the 4$^{th}$ letter (character) of the string `s`. This should be `l`.\n"
   ]
  },
  {
   "cell_type": "code",
   "execution_count": null,
   "metadata": {},
   "outputs": [],
   "source": [
    "# ANSWER\n",
    "\n",
    "s = \"Hello World\"\n",
    "print (s,len(s))\n",
    "\n",
    "# based on the example above, print the string starting \n",
    "# from the default start value, up to the default stop value, in steps of `2`.\n",
    "\n",
    "# default start -> None\n",
    "start = None\n",
    "# default stop -> None\n",
    "stop  = None\n",
    "skip  = 2\n",
    "print (s[start:stop:skip])"
   ]
  },
  {
   "cell_type": "code",
   "execution_count": null,
   "metadata": {},
   "outputs": [],
   "source": [
    "# ANSWER\n",
    "\n",
    "s = \"Hello World\"\n",
    "# write code to print out the 4 𝑡ℎ  letter (character) of the string s.\n",
    "# index 3 is the 4th character !!!\n",
    "print(s[3])"
   ]
  }
 ],
 "metadata": {
  "kernelspec": {
   "display_name": "conda env:geog0111-geog0111",
   "language": "python",
   "name": "conda-env-geog0111-geog0111-py"
  },
  "language_info": {
   "codemirror_mode": {
    "name": "ipython",
    "version": 3
   },
   "file_extension": ".py",
   "mimetype": "text/x-python",
   "name": "python",
   "nbconvert_exporter": "python",
   "pygments_lexer": "ipython3",
   "version": "3.7.13"
  },
  "latex_envs": {
   "LaTeX_envs_menu_present": true,
   "autocomplete": true,
   "bibliofile": "biblio.bib",
   "cite_by": "apalike",
   "current_citInitial": 1,
   "eqLabelWithNumbers": true,
   "eqNumInitial": 1,
   "hotkeys": {
    "equation": "Ctrl-E",
    "itemize": "Ctrl-I"
   },
   "labels_anchors": false,
   "latex_user_defs": false,
   "report_style_numbering": false,
   "user_envs_cfg": false
  },
  "nbTranslate": {
   "displayLangs": [
    "*"
   ],
   "hotkey": "alt-t",
   "langInMainMenu": true,
   "sourceLang": "en",
   "targetLang": "fr",
   "useGoogleTranslate": true
  },
  "toc": {
   "base_numbering": 1,
   "nav_menu": {},
   "number_sections": false,
   "sideBar": false,
   "skip_h1_title": false,
   "title_cell": "Table of Contents",
   "title_sidebar": "Contents",
   "toc_cell": false,
   "toc_position": {
    "height": "calc(100% - 180px)",
    "left": "10px",
    "top": "150px",
    "width": "207px"
   },
   "toc_section_display": false,
   "toc_window_display": false
  },
  "varInspector": {
   "cols": {
    "lenName": 16,
    "lenType": 16,
    "lenVar": 40
   },
   "kernels_config": {
    "python": {
     "delete_cmd_postfix": "",
     "delete_cmd_prefix": "del ",
     "library": "var_list.py",
     "varRefreshCmd": "print(var_dic_list())"
    },
    "r": {
     "delete_cmd_postfix": ") ",
     "delete_cmd_prefix": "rm(",
     "library": "var_list.r",
     "varRefreshCmd": "cat(var_dic_list()) "
    }
   },
   "types_to_exclude": [
    "module",
    "function",
    "builtin_function_or_method",
    "instance",
    "_Feature"
   ],
   "window_display": false
  }
 },
 "nbformat": 4,
 "nbformat_minor": 4
}
