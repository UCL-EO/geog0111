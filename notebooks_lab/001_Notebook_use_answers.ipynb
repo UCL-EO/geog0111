{
 "cells": [
  {
   "cell_type": "markdown",
   "id": "4522c701",
   "metadata": {},
   "source": [
    "# 001 Use of Jupyter notebooks : Answers to exercises"
   ]
  },
  {
   "cell_type": "markdown",
   "metadata": {},
   "source": [
    "#### Exercise 1\n",
    " This is a test exercise"
   ]
  },
  {
   "cell_type": "code",
   "execution_count": 1,
   "metadata": {},
   "outputs": [],
   "source": [
    "# and this is a test answer"
   ]
  },
  {
   "cell_type": "markdown",
   "metadata": {},
   "source": [
    "#### Exercise 1\n",
    "\n",
    "We can add new cells to this document via the `Insert -> Insert Cell Below` menu in the menu bar at the top of this document.\n",
    "\n",
    "Notice that you can double click on a cell to edit its contents.\n",
    "\n",
    "Add a cell now, below, and use the `Cell -> Cell Type` menu to make this cell type `markdown`. Add some text in there ... lyrics from your favourite song, whatever you like ...\n"
   ]
  },
  {
   "cell_type": "markdown",
   "metadata": {},
   "source": [
    "    \n",
    "The markdown will be text, something like:\n",
    "    \n",
    "    This is a markdown cell ...\n",
    "\n",
    "    Hello world is traditionally the first coding you do.\n",
    "    \n",
    "to produce:"
   ]
  },
  {
   "cell_type": "markdown",
   "metadata": {},
   "source": [
    "This is a markdown cell ...\n",
    "\n",
    "Hello world is traditionally the first coding you do."
   ]
  },
  {
   "cell_type": "markdown",
   "metadata": {},
   "source": [
    "#### Exercise 2\n",
    "\n",
    "\n",
    "Add another cell now, below, and use the Cell -> Cell Type menu to make this cell type markdown. \n",
    "\n",
    "Read up on the [features of markdown](https://github.com/adam-p/markdown-here/wiki/Markdown-Cheatsheet), and this time, include one or more of the following in your cell:\n",
    "\n",
    "* a heading\n",
    "* a sub-heading\n",
    "* and equation\n",
    "* links to a web page\n",
    "* a table\n",
    "* a image\n",
    "* some html"
   ]
  },
  {
   "cell_type": "markdown",
   "metadata": {},
   "source": [
    "Use:\n",
    "\n",
    "        # Main Heading\n",
    "\n",
    "for a heading called 'Main Heading'\n",
    "\n",
    "Use:\n",
    "\n",
    "        ## equation\n",
    "\n",
    "For a sub-heading called 'equation' etc\n",
    "\n",
    "Equations are of the form:\n",
    "\n",
    "For example:\n",
    "\n",
    "        \\begin{equation*}\n",
    "        \\left( \\sum_{k=1}^n a_k b_k \\right)^2 \\leq \\left( \\sum_{k=1}^n a_k^2 \\right) \\left( \\sum_{k=1}^n b_k^2 \\right)\n",
    "        \\end{equation*}\n",
    "\n",
    "A link is specified for link text in square brackets, followed by the the link URL in round brackets. For example:\n",
    "\n",
    "        [click me and I will pop up a google search window](https://www.google.com)\n",
    "\n",
    "\n",
    "A table  is formatted in columns defined by `|`. The first line of the table gives headings (e.g. `| a | b | `).  The second defines alignment (e.g. `|:-:|-|`). The rest if data columns separated by `|`. An example is:\n",
    "\n",
    "        | a | b | c | d | e |\n",
    "        |:-:|:-:|:-:|:-:|-|\n",
    "        | 🙈 | 💥 | 🦧 | 🐇 | 🐪 |\n",
    "        | f | g | h | i | j |\n",
    "        | 🙈 | 💥 | 🦧 | 🐇 | 🐪 |\n",
    "\n",
    "An image is similar syntax to a link, but with `!` in front. The text in the square bracket is `alt` text, and the link in round brackets points to the image, as a file or URL.\n",
    "\n",
    "        ![ucl logo](images/ucl_logo.png)\n",
    "\n",
    "\n",
    "You can enter blocks of HTML code, such as:\n",
    "\n",
    "        <html>\n",
    "        <body>\n",
    "        <h2>HTML</h2>\n",
    "\n",
    "        <p>Hey, I'm a paragraph!</p>\n",
    "\n",
    "\n",
    "        </body>\n",
    "        </html>"
   ]
  },
  {
   "cell_type": "markdown",
   "metadata": {},
   "source": [
    "\n",
    "\\begin{equation*}\n",
    "\\left( \\sum_{k=1}^n a_k b_k \\right)^2 \\leq \\left( \\sum_{k=1}^n a_k^2 \\right) \\left( \\sum_{k=1}^n b_k^2 \\right)\n",
    "\\end{equation*}\n",
    "\n",
    "\n",
    "[click me and I will pop up a google search window](https://www.google.com)\n",
    "\n",
    "\n",
    "| a | b | c | d | e |\n",
    "|:-:|:-:|:-:|:-:|-|\n",
    "| 🙈 | 💥 | 🦧 | 🐇 | 🐪 |\n",
    "| f | g | h | i | j |\n",
    "| 🙈 | 💥 | 🦧 | 🐇 | 🐪 |\n",
    "\n",
    "\n",
    "![ucl logo](images/ucl_logo.png)\n",
    "\n",
    "\n",
    "<html>\n",
    "<body>\n",
    "<h2>HTML</h2>\n",
    "\n",
    "<p>Hey, I'm a paragraph!</p>\n",
    "\n",
    "\n",
    "</body>\n",
    "</html>"
   ]
  },
  {
   "cell_type": "markdown",
   "metadata": {},
   "source": [
    "#### Exercise 3\n",
    "\n",
    "Now:\n",
    "\n",
    "* create a code cell below\n",
    "* create a string called `second_string` with the text `hello again`\n",
    "* call the `print()` method with this as an [argument](https://en.wikipedia.org/wiki/Parameter_(computer_programming))\n",
    "* run the cell "
   ]
  },
  {
   "cell_type": "code",
   "execution_count": 5,
   "metadata": {},
   "outputs": [
    {
     "name": "stdout",
     "output_type": "stream",
     "text": [
      "hello again\n"
     ]
    }
   ],
   "source": [
    "# ANSWER\n",
    "# create a code cell below\n",
    "# create a string called `second_string` with the text `hello again`\n",
    "\n",
    "second_string = 'hello again'\n",
    "\n",
    "# call the `print()` method with this as an argument\n",
    "print(second_string)\n",
    "\n",
    "# run the cell "
   ]
  },
  {
   "cell_type": "markdown",
   "metadata": {},
   "source": [
    "#### Exercise 4\n",
    "\n",
    "* create a code cell below\n",
    "* print the values of `first_string` and `second_string`  that we created above. \n",
    "* what does that tell you about information we create in one cell and try to use in another?"
   ]
  },
  {
   "cell_type": "code",
   "execution_count": 6,
   "metadata": {},
   "outputs": [
    {
     "name": "stdout",
     "output_type": "stream",
     "text": [
      "hello world\n",
      "hello again\n",
      "hello world hello again\n"
     ]
    }
   ],
   "source": [
    "# ANSWER\n",
    "# create a code cell below\n",
    "# print the values of first_string and second_string that we created above.\n",
    "\n",
    "print(first_string)\n",
    "print(second_string)\n",
    "\n",
    "# or\n",
    "\n",
    "print(first_string,second_string)\n",
    "\n",
    "# what does that tell you about information we create in one cell and try to use in another?\n",
    "# \n",
    "# It tells us that the informnation is persistent, i.e. once we have created the \n",
    "# variables, we can use them in running any cells later."
   ]
  },
  {
   "cell_type": "markdown",
   "metadata": {},
   "source": [
    "#### Exercise 5\n",
    "\n",
    "* create a code cell below\n",
    "* try to print a variable `third_string` (that you haven't yet created)\n",
    "* run the cell\n",
    "* what does this tell you about trying to print variables we haven't created?"
   ]
  },
  {
   "cell_type": "code",
   "execution_count": 7,
   "metadata": {},
   "outputs": [
    {
     "name": "stdout",
     "output_type": "stream",
     "text": [
      "\n",
      "The first time we run it, it comes up with an error\n",
      "NameError: name 'third_string' is not defined\n",
      "telling us that we have tried to access a variable name that\n",
      "we have not yet defined. Be aware of this type of error.\n",
      "\n",
      "what does that tell you about trying to print variables we haven't created?\n",
      "\n",
      "if we try to use a variable before we create it, the code will fail and throw\n",
      "an error. This is useful information: learn to read the errors and understand what\n",
      "it is telling you. \n",
      "\n"
     ]
    },
    {
     "ename": "NameError",
     "evalue": "name 'third_string' is not defined",
     "output_type": "error",
     "traceback": [
      "\u001b[0;31m---------------------------------------------------------------------------\u001b[0m",
      "\u001b[0;31mNameError\u001b[0m                                 Traceback (most recent call last)",
      "\u001b[0;32m/var/folders/p6/pjj7dk1j5hq9y5jw_z8qwg0w0000gp/T/ipykernel_93979/758698420.py\u001b[0m in \u001b[0;36m<module>\u001b[0;34m\u001b[0m\n\u001b[1;32m     18\u001b[0m \u001b[0;34m\u001b[0m\u001b[0m\n\u001b[1;32m     19\u001b[0m \u001b[0;31m# try to print a variable `third_string` that you haven't yet created\u001b[0m\u001b[0;34m\u001b[0m\u001b[0;34m\u001b[0m\u001b[0;34m\u001b[0m\u001b[0m\n\u001b[0;32m---> 20\u001b[0;31m \u001b[0mprint\u001b[0m\u001b[0;34m(\u001b[0m\u001b[0mthird_string\u001b[0m\u001b[0;34m)\u001b[0m\u001b[0;34m\u001b[0m\u001b[0;34m\u001b[0m\u001b[0m\n\u001b[0m",
      "\u001b[0;31mNameError\u001b[0m: name 'third_string' is not defined"
     ]
    }
   ],
   "source": [
    "# ANSWER\n",
    "# create a code cell below\n",
    "\n",
    "msg='''\n",
    "The first time we run it, it comes up with an error\n",
    "NameError: name 'third_string' is not defined\n",
    "telling us that we have tried to access a variable name that\n",
    "we have not yet defined. Be aware of this type of error.\n",
    "\n",
    "what does that tell you about trying to print variables we haven't created?\n",
    "\n",
    "if we try to use a variable before we create it, the code will fail and throw\n",
    "an error. This is useful information: learn to read the errors and understand what\n",
    "it is telling you. \n",
    "'''\n",
    "print(msg)\n",
    "\n",
    "\n",
    "# try to print a variable `third_string` that you haven't yet created\n",
    "print(third_string)"
   ]
  },
  {
   "cell_type": "markdown",
   "metadata": {},
   "source": [
    "#### Exercise 6\n",
    "\n",
    "* create a code cell below\n",
    "* *now* create a string called `third_string` with the text `hello once more`\n",
    "* run the cell, then the **cell above**\n",
    "* what does that tell you about information we create in one cell and try to use in another above?"
   ]
  },
  {
   "cell_type": "code",
   "execution_count": 8,
   "metadata": {},
   "outputs": [
    {
     "name": "stdout",
     "output_type": "stream",
     "text": [
      "hello once more\n",
      "\n",
      "what does that tell you about information we create in one cell and \n",
      "try to use in another above?\n",
      "\n",
      "we can run cells in any order. Once we had created third_string, the \n",
      "previous exercise print(third_string) executed as we expected.\n",
      "The *Danger* is that the next time we run this notebook in cell order\n",
      "the cell above will fail again. Learn from the mistakes we make.\n",
      "Remember what this type of error can mean.\n",
      "\n"
     ]
    }
   ],
   "source": [
    "# ANSWER\n",
    "# create a code cell below\n",
    "# now create a string called third_string with the text hello once more\n",
    "third_string = 'hello once more'\n",
    "\n",
    "# run the cell above\n",
    "# same as ...\n",
    "print(third_string)\n",
    "\n",
    "msg = '''\n",
    "what does that tell you about information we create in one cell and \n",
    "try to use in another above?\n",
    "\n",
    "we can run cells in any order. Once we had created third_string, the \n",
    "previous exercise print(third_string) executed as we expected.\n",
    "The *Danger* is that the next time we run this notebook in cell order\n",
    "the cell above will fail again. Learn from the mistakes we make.\n",
    "Remember what this type of error can mean.\n",
    "'''\n",
    "print(msg)"
   ]
  }
 ],
 "metadata": {
  "gist": {
   "data": {
    "description": "Chapter0_help.ipynb",
    "public": true
   },
   "id": ""
  },
  "hide_input": false,
  "kernelspec": {
   "display_name": "conda env:geog0111-geog0111",
   "language": "python",
   "name": "conda-env-geog0111-geog0111-py"
  },
  "language_info": {
   "codemirror_mode": {
    "name": "ipython",
    "version": 3
   },
   "file_extension": ".py",
   "mimetype": "text/x-python",
   "name": "python",
   "nbconvert_exporter": "python",
   "pygments_lexer": "ipython3",
   "version": "3.7.13"
  },
  "latex_envs": {
   "LaTeX_envs_menu_present": true,
   "autocomplete": true,
   "bibliofile": "biblio.bib",
   "cite_by": "apalike",
   "current_citInitial": 1,
   "eqLabelWithNumbers": true,
   "eqNumInitial": 1,
   "hotkeys": {
    "equation": "Ctrl-E",
    "itemize": "Ctrl-I"
   },
   "labels_anchors": false,
   "latex_user_defs": false,
   "report_style_numbering": false,
   "user_envs_cfg": false
  },
  "toc": {
   "base_numbering": "1.1",
   "nav_menu": {},
   "number_sections": false,
   "sideBar": true,
   "skip_h1_title": false,
   "title_cell": "Table of Contents",
   "title_sidebar": "Contents",
   "toc_cell": false,
   "toc_position": {
    "height": "calc(100% - 180px)",
    "left": "10px",
    "top": "150px",
    "width": "207px"
   },
   "toc_section_display": true,
   "toc_window_display": false
  },
  "varInspector": {
   "cols": {
    "lenName": 16,
    "lenType": 16,
    "lenVar": 40
   },
   "kernels_config": {
    "python": {
     "delete_cmd_postfix": "",
     "delete_cmd_prefix": "del ",
     "library": "var_list.py",
     "varRefreshCmd": "print(var_dic_list())"
    },
    "r": {
     "delete_cmd_postfix": ") ",
     "delete_cmd_prefix": "rm(",
     "library": "var_list.r",
     "varRefreshCmd": "cat(var_dic_list()) "
    }
   },
   "position": {
    "height": "247px",
    "left": "696px",
    "right": "20px",
    "top": "120px",
    "width": "335px"
   },
   "types_to_exclude": [
    "module",
    "function",
    "builtin_function_or_method",
    "instance",
    "_Feature"
   ],
   "window_display": false
  }
 },
 "nbformat": 4,
 "nbformat_minor": 4
}
