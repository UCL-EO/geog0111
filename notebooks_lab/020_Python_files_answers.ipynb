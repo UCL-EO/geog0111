{
 "cells": [
  {
   "cell_type": "markdown",
   "id": "f59bb1f0",
   "metadata": {},
   "source": [
    "# 020 Files, Streams and related issues : Answers to exercises"
   ]
  },
  {
   "cell_type": "markdown",
   "metadata": {},
   "source": [
    "#### Exercise 1\n",
    "\n",
    "There is a file called `environment.yml` in the directory `copy`.\n",
    "\n",
    "* use `Path` to generate the a variable `copy_dir` containing the pathname of the `copy` directory\n",
    "* create a variable `env_file` which adds add the file `environment.yml` to this \n",
    "* check to see if the file exists"
   ]
  },
  {
   "cell_type": "code",
   "execution_count": 7,
   "metadata": {},
   "outputs": [
    {
     "name": "stdout",
     "output_type": "stream",
     "text": [
      "does copy/environment.yml exist? True\n"
     ]
    }
   ],
   "source": [
    "from pathlib import Path\n",
    "# ANSWER\n",
    "\n",
    "# There is a file called environment.yml in the directory copy.\n",
    "# use Path to generate the a variable copy_dir containing the \n",
    "# pathname of the copy directory\n",
    "copy_dir = Path('copy')\n",
    "\n",
    "# create a variable env_file which adds add the file \n",
    "# environment.yml to this\n",
    "env_file = copy_dir / 'environment.yml'\n",
    "# or\n",
    "env_file = Path(copy_dir,'environment.yml')\n",
    "\n",
    "# check to see if the file exists\n",
    "print(f'does {env_file} exist? {env_file.exists()}')"
   ]
  },
  {
   "cell_type": "markdown",
   "metadata": {},
   "source": [
    "#### Exercise 2\n",
    "\n",
    "Create a zero-sized file called `hello.txt` in a directory `mystuff`, using `Path` and show that it exists and is a file. Then delete the file and directory."
   ]
  },
  {
   "cell_type": "code",
   "execution_count": 11,
   "metadata": {},
   "outputs": [
    {
     "name": "stdout",
     "output_type": "stream",
     "text": [
      "=== now you see it ===\n",
      "Does mystuff/hello.txt exist? True\n",
      "Is mystuff/hello.txt a file? True\n",
      "=== now you don't ===\n",
      "Does mystuff/hello.txt exist? False\n",
      "Is mystuff/hello.txt a file? False\n",
      "=== now you don't ===\n",
      "Does mystuff exist? False\n",
      "Is mystuff a file? False\n"
     ]
    }
   ],
   "source": [
    "from pathlib import Path\n",
    "# ANSWER\n",
    "# import package\n",
    "\n",
    "# Form the Path object for the file\n",
    "myfile = Path('mystuff','hello.txt')\n",
    "\n",
    "# Make sure the parent directory exists\n",
    "myfile.parent.mkdir(parents=True,exist_ok=True)\n",
    "\n",
    "# Create the zero-sized file\n",
    "myfile.touch()\n",
    "\n",
    "# Check it exists and is a file\n",
    "print('=== now you see it ===')\n",
    "print(f'Does {myfile.as_posix()} exist? {myfile.exists()}')\n",
    "print(f'Is {myfile.as_posix()} a file? {myfile.is_file()}')\n",
    "\n",
    "# delete the file \n",
    "myfile.exists() and myfile.is_file() and myfile.unlink()\n",
    "# Check it exists and is a file\n",
    "print(\"=== now you don't ===\")\n",
    "print(f'Does {myfile.as_posix()} exist? {myfile.exists()}')\n",
    "print(f'Is {myfile.as_posix()} a file? {myfile.is_file()}')\n",
    "\n",
    "# delete the directory -- the parent\n",
    "mydir = myfile.parent\n",
    "mydir.exists() and mydir.is_dir() and mydir.rmdir()\n",
    "# Check it exists and is a dir\n",
    "print(\"=== now you don't ===\")\n",
    "print(f'Does {mydir.as_posix()} exist? {mydir.exists()}')\n",
    "print(f'Is {mydir.as_posix()} a file? {mydir.is_dir()}')"
   ]
  },
  {
   "cell_type": "markdown",
   "metadata": {},
   "source": [
    "#### Exercise 3\n",
    "\n",
    "Create a zero-sized file in a new directory, and use `Path.stat()` to show it has size 0 bytes. Then tidy up by deleting the file and directory."
   ]
  },
  {
   "cell_type": "code",
   "execution_count": 13,
   "metadata": {},
   "outputs": [
    {
     "name": "stdout",
     "output_type": "stream",
     "text": [
      "The file size of mystuff/hello.txt is 0 bytes\n"
     ]
    }
   ],
   "source": [
    "from pathlib import Path\n",
    "# ANSWER\n",
    "# import package\n",
    "# very similar to exercise 2 but now we need to check the size\n",
    "\n",
    "# Form the Path object for the file\n",
    "myfile = Path('mystuff','hello.txt')\n",
    "\n",
    "# Make sure the parent directory exists\n",
    "myfile.parent.mkdir(parents=True,exist_ok=True)\n",
    "\n",
    "# Create the zero-sized file\n",
    "myfile.touch()\n",
    "\n",
    "# print the file size\n",
    "print(f'The file size of {myfile.as_posix()} is {myfile.stat().st_size} bytes')\n",
    "\n",
    "# delete the file \n",
    "myfile.exists() and myfile.is_file() and myfile.unlink()\n",
    "# delete the directory -- the parent\n",
    "mydir = myfile.parent\n",
    "mydir.exists() and mydir.is_dir() and mydir.rmdir()"
   ]
  },
  {
   "cell_type": "markdown",
   "metadata": {},
   "source": [
    "#### Exercise 4\n",
    "\n",
    "Use `Path.touch()` to update the modification time for the file `bin/README` and demonstrate that you have done this and that is the same as the current time (now)."
   ]
  },
  {
   "cell_type": "code",
   "execution_count": 17,
   "metadata": {},
   "outputs": [
    {
     "name": "stdout",
     "output_type": "stream",
     "text": [
      "Before touch: time of most recent modification for bin/README is 2022-09-29 15:46:20.737117\n",
      "After touch: time of most recent modification for bin/README is 2022-10-21 16:19:25.448961\n",
      "Now it is 2022-10-21 16:19:25.452844\n"
     ]
    }
   ],
   "source": [
    "from pathlib import Path\n",
    "from datetime import datetime\n",
    "# ANSWER\n",
    "# import packages\n",
    "\n",
    "readme = Path('bin','README')\n",
    "\n",
    "modified = readme.stat().st_mtime\n",
    "h_modified = datetime.fromtimestamp(modified)\n",
    "\n",
    "print(f'Before touch: time of most recent modification for {readme} is {h_modified}')\n",
    "\n",
    "# touch the file\n",
    "readme.touch()\n",
    "modified = readme.stat().st_mtime\n",
    "h_modified = datetime.fromtimestamp(modified)\n",
    "\n",
    "print(f'After touch: time of most recent modification for {readme} is {h_modified}')\n",
    "print(f'Now it is {datetime.now()}')"
   ]
  },
  {
   "cell_type": "markdown",
   "metadata": {},
   "source": [
    "#### Exercise 5\n",
    "\n",
    "* Use `Path` to show the file permissions of all files that end `.md` in the directory `.` (current directory)"
   ]
  },
  {
   "cell_type": "code",
   "execution_count": 23,
   "metadata": {},
   "outputs": [
    {
     "name": "stdout",
     "output_type": "stream",
     "text": [
      "/nfs/cfs/home3/Ucour1/coursd0/geog0111/notebooks/Install.md /nfs/cfs/home3/Ucour1/coursd0/geog0111/notebooks/InstallGDAL.md /nfs/cfs/home3/Ucour1/coursd0/geog0111/notebooks/OutsideInstall-Docker-owner.md /nfs/cfs/home3/Ucour1/coursd0/geog0111/notebooks/OutsideInstall-Docker.md /nfs/cfs/home3/Ucour1/coursd0/geog0111/notebooks/OutsideInstall-Local.md /nfs/cfs/home3/Ucour1/coursd0/geog0111/notebooks/OutsideInstall-Requirements.md /nfs/cfs/home3/Ucour1/coursd0/geog0111/notebooks/README.md /nfs/cfs/home3/Ucour1/coursd0/geog0111/notebooks/TIMETABLE.md /nfs/cfs/home3/Ucour1/coursd0/geog0111/notebooks/Using-the-course-notes.md\n"
     ]
    }
   ],
   "source": [
    "from pathlib import Path\n",
    "# ANSWER\n",
    "# import packages\n",
    "\n",
    "# Use Path to show the file \n",
    "# permissions of all files that end .md \n",
    "# in the directory . (current directory)\n",
    "\n",
    "# Path().cwd() gives the current directory (.)\n",
    "here = Path().cwd()\n",
    "\n",
    "# clearly, this needs glob the pattern will be *.md\n",
    "# use * to put output as list of arguments\n",
    "print(*here.glob('*.md'))"
   ]
  },
  {
   "cell_type": "markdown",
   "metadata": {},
   "source": [
    "#### Exercise 6\n",
    "\n",
    "Copy the file [`geog0111/cylog.py`](geog0111/cylog.py) to a new directory `myfile` and confirm the size of the file copied. Tidy up by deleting the copied file."
   ]
  },
  {
   "cell_type": "code",
   "execution_count": 29,
   "metadata": {},
   "outputs": [
    {
     "name": "stdout",
     "output_type": "stream",
     "text": [
      "9249 bytes written for myfile/cylog.py\n"
     ]
    }
   ],
   "source": [
    "from pathlib import Path\n",
    "# ANSWER\n",
    "# import packages\n",
    "\n",
    "# Copy the file geog0111/cylog.py to a new directory \n",
    "# myfile and confirm the size of the file copied. \n",
    "# Tidy up by deleting the copied file.\n",
    "\n",
    "# setup Path object for ifile \n",
    "ifile = Path('geog0111','cylog.py')\n",
    "\n",
    "# setup Path object for ofile \n",
    "ofile = Path('myfile',ifile.name)\n",
    "# create directory \n",
    "ofile.parent.mkdir(parents=True,exist_ok=True)\n",
    "\n",
    "# read ifile, write to ofile (text)\n",
    "nbytes = ofile.write_text(ifile.read_text()) #for binary files\n",
    "print(f'{nbytes} bytes written for {ofile}')\n",
    "\n",
    "# tidy up and remove the file\n",
    "ofile.unlink()\n",
    "ofile.parent.rmdir()"
   ]
  },
  {
   "cell_type": "markdown",
   "metadata": {},
   "source": [
    "#### Exercise 8\n",
    "\n",
    "* write code to read from the json-format file `bin/copy/environment.json` into a dictionary called `json_data`.\n",
    "* print out the dictionary keys.\n",
    "* print the file size of the json-format file in KB to two decimal places."
   ]
  },
  {
   "cell_type": "code",
   "execution_count": 34,
   "metadata": {},
   "outputs": [
    {
     "name": "stdout",
     "output_type": "stream",
     "text": [
      "dict_keys(['name', 'channels', 'dependencies'])\n",
      "file bin/copy/environment.json size  0.78 KB\n"
     ]
    }
   ],
   "source": [
    "# ANSWER\n",
    "# write code to read from the json-format file \n",
    "# bin/copy/environment.json \n",
    "# into a dictionary called json_data.\n",
    "json_file = Path('bin/copy/environment.json')\n",
    "\n",
    "# use with ... as ... as we have been shown\n",
    "with json_file.open('r') as f:\n",
    "    json_data = json.load(f)\n",
    "    \n",
    "# print out the dictionary keys.\n",
    "print(json_data.keys())\n",
    "\n",
    "# print the file size of the \n",
    "# json-format file in KB to two decimal places.\n",
    "print(f'file {json_file} size {json_file.stat().st_size / 1024 : .2f} KB')"
   ]
  },
  {
   "cell_type": "markdown",
   "metadata": {},
   "source": [
    "#### Exercise 9\n",
    "\n",
    "* check that the file `images/ucl.png` exists and print modification time and the file size in KB to two decimal places\n",
    "* make a directory `myfiles` and copy the file `images/ucl.png` to this directory\n",
    "* show the file size of `myfiles/ucl.png`, the modification time, and the time now\n",
    "* after that, tidy up by deleting the file `myfiles/ucl.png` and the directory `myfiles`. Confirm that you have done this.\n",
    "\n",
    "You will need to know how many Bytes in a Kilobyte, and how to [format a string to two decimal places](012_Python_strings.ipynb#String-formating). You will also need to remember how to use [`if` statements](015_Python_control.ipynb#Comparison-Operators-and-if)."
   ]
  },
  {
   "cell_type": "code",
   "execution_count": 35,
   "metadata": {},
   "outputs": [
    {
     "name": "stdout",
     "output_type": "stream",
     "text": [
      "The file images/ucl.png exists?: True\n",
      "The file images/ucl.png size: 1956 B\n",
      "The file images/ucl.png size:  1.91 KB\n",
      "The file images/ucl.png modification time: 2022-09-29 15:46:26.616106\n",
      "\n",
      "confirm with ls -lh\n",
      "-rw-r--r-- 1 coursd0 ucaac2 2.0K Sep 29 15:46 images/ucl.png\n",
      "\n",
      "==== After copying\n",
      "The file myfiles/ucl.png size:  1.91 KB\n",
      "The file myfiles/ucl.png modification time: 2022-10-21 16:19:26.415919\n",
      "Time now is 2022-10-21 16:19:26.425067\n"
     ]
    }
   ],
   "source": [
    "from pathlib import Path\n",
    "from datetime import datetime\n",
    "# ANSWER\n",
    "# import packages\n",
    "\n",
    "# check that the file images/ucl.png exists and \n",
    "# print modification time and the file size in KB to two decimal places\n",
    "\n",
    "# make a directory myfiles and copy the file images/ucl.png \n",
    "# to this directory\n",
    "# show the file size of myfiles/ucl.png, the \n",
    "# modification time, and the time now\n",
    "# after that, tidy up by deleting the file \n",
    "# myfiles/ucl.png and the directory myfiles. \n",
    "# Confirm that you have done this.\n",
    "\n",
    "# check that the file images/ucl.png exists and \n",
    "# print modification time and the file size in KB to two decimal places\n",
    "\n",
    "ifile = Path('images','ucl.png')\n",
    "# check that the file images/ucl.png exists and \n",
    "print(f'The file {ifile} exists?: {ifile.exists()}')\n",
    "# print the file in KB to two decimal places\n",
    "# 1 KB = 1024 bytes\n",
    "ifile_bytes = ifile.stat().st_size\n",
    "print(f'The file {ifile} size: {ifile_bytes} B')\n",
    "# in KB using .2f format for 2 dp\n",
    "ifile_size_kb = ifile.stat().st_size / 1024\n",
    "print(f'The file {ifile} size: {ifile_size_kb : .2f} KB')\n",
    "\n",
    "# show the file size of myfiles/ucl.png, the \n",
    "# modification time, and the time now\n",
    "\n",
    "modified = ifile.stat().st_mtime\n",
    "h_modified = datetime.fromtimestamp(modified)\n",
    "print(f'The file {ifile} modification time: {h_modified}')\n",
    "\n",
    "print(\"\\nconfirm with ls -lh\")\n",
    "!ls -lh {ifile}\n",
    "\n",
    "# make a directory myfiles and copy the file images/ucl.png to this directory\n",
    "ofile = Path('myfiles',ifile.name)\n",
    "# mkdir the parent\n",
    "ofile.parent.mkdir(parents=True,exist_ok=True)\n",
    "# copy text file with read_text() and write_text()\n",
    "ofile.write_bytes(ifile.read_bytes()) #for binary files\n",
    "\n",
    "print('\\n==== After copying')\n",
    "# confirm size\n",
    "print(f'The file {ofile} size: {ofile.stat().st_size / 1024 : .2f} KB')\n",
    "\n",
    "# mod time\n",
    "modified = ofile.stat().st_mtime\n",
    "h_modified = datetime.fromtimestamp(modified)\n",
    "print(f'The file {ofile} modification time: {h_modified}')\n",
    "# now time\n",
    "print(f'Time now is {datetime.now()}')\n",
    "\n",
    "# tidy up\n",
    "ofile.unlink()\n",
    "ofile.parent.rmdir()"
   ]
  }
 ],
 "metadata": {
  "kernelspec": {
   "display_name": "Python [conda env:geog0111-geog0111]",
   "language": "python",
   "name": "conda-env-geog0111-geog0111-py"
  },
  "language_info": {
   "codemirror_mode": {
    "name": "ipython",
    "version": 3
   },
   "file_extension": ".py",
   "mimetype": "text/x-python",
   "name": "python",
   "nbconvert_exporter": "python",
   "pygments_lexer": "ipython3",
   "version": "3.7.12"
  },
  "latex_envs": {
   "LaTeX_envs_menu_present": true,
   "autocomplete": true,
   "bibliofile": "biblio.bib",
   "cite_by": "apalike",
   "current_citInitial": 1,
   "eqLabelWithNumbers": true,
   "eqNumInitial": 1,
   "hotkeys": {
    "equation": "Ctrl-E",
    "itemize": "Ctrl-I"
   },
   "labels_anchors": false,
   "latex_user_defs": false,
   "report_style_numbering": false,
   "user_envs_cfg": false
  },
  "toc": {
   "base_numbering": 1,
   "nav_menu": {},
   "number_sections": false,
   "sideBar": false,
   "skip_h1_title": false,
   "title_cell": "Table of Contents",
   "title_sidebar": "Contents",
   "toc_cell": false,
   "toc_position": {
    "height": "calc(100% - 180px)",
    "left": "10px",
    "top": "150px",
    "width": "207px"
   },
   "toc_section_display": false,
   "toc_window_display": false
  },
  "varInspector": {
   "cols": {
    "lenName": 16,
    "lenType": 16,
    "lenVar": 40
   },
   "kernels_config": {
    "python": {
     "delete_cmd_postfix": "",
     "delete_cmd_prefix": "del ",
     "library": "var_list.py",
     "varRefreshCmd": "print(var_dic_list())"
    },
    "r": {
     "delete_cmd_postfix": ") ",
     "delete_cmd_prefix": "rm(",
     "library": "var_list.r",
     "varRefreshCmd": "cat(var_dic_list()) "
    }
   },
   "types_to_exclude": [
    "module",
    "function",
    "builtin_function_or_method",
    "instance",
    "_Feature"
   ],
   "window_display": false
  }
 },
 "nbformat": 4,
 "nbformat_minor": 4
}
