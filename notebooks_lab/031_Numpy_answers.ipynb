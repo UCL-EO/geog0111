{
 "cells": [
  {
   "cell_type": "markdown",
   "id": "12f4a075",
   "metadata": {},
   "source": [
    "# 031 Manipulating data: `numpy` : Answers to exercises"
   ]
  },
  {
   "cell_type": "markdown",
   "metadata": {},
   "source": [
    "#### Exercise 1\n",
    "\n",
    "* Using code similar to the above and a `for` loop, write the times tables for 2 to 10. The solution you're looking for should look a bit like this:\n",
    "\n",
    "        [ 2  4  6  8 10 12 14 16 18 20]\n",
    "        [ 3  6  9 12 15 18 21 24 27 30]\n",
    "        [ 4  8 12 16 20 24 28 32 36 40]\n",
    "        [ 5 10 15 20 25 30 35 40 45 50]\n",
    "        [ 6 12 18 24 30 36 42 48 54 60]\n",
    "        [ 7 14 21 28 35 42 49 56 63 70]\n",
    "        [ 8 16 24 32 40 48 56 64 72 80]\n",
    "        [ 9 18 27 36 45 54 63 72 81 90]\n",
    "        [ 10  20  30  40  50  60  70  80  90 100]"
   ]
  },
  {
   "cell_type": "code",
   "execution_count": 6,
   "metadata": {
    "scrolled": true
   },
   "outputs": [
    {
     "name": "stdout",
     "output_type": "stream",
     "text": [
      "\n",
      "Using code similar to the above and a `for` loop, \n",
      "write the times tables for 2 to 10. \n",
      "The solution you're looking for should look a bit like this:\n",
      "\n",
      "        [ 2  4  6  8 10 12 14 16 18 20]\n",
      "        [ 3  6  9 12 15 18 21 24 27 30]\n",
      "        [ 4  8 12 16 20 24 28 32 36 40]\n",
      "        [ 5 10 15 20 25 30 35 40 45 50]\n",
      "        [ 6 12 18 24 30 36 42 48 54 60]\n",
      "        [ 7 14 21 28 35 42 49 56 63 70]\n",
      "        [ 8 16 24 32 40 48 56 64 72 80]\n",
      "        [ 9 18 27 36 45 54 63 72 81 90]\n",
      "        [ 10  20  30  40  50  60  70  80  90 100]\n",
      "\n",
      " 1 x . -> [1 1 1 1 1 1 1 1 1 1]\n",
      " 2 x . -> [2 2 2 2 2 2 2 2 2 2]\n",
      " 3 x . -> [3 3 3 3 3 3 3 3 3 3]\n",
      " 4 x . -> [4 4 4 4 4 4 4 4 4 4]\n",
      " 5 x . -> [5 5 5 5 5 5 5 5 5 5]\n",
      " 6 x . -> [6 6 6 6 6 6 6 6 6 6]\n",
      " 7 x . -> [7 7 7 7 7 7 7 7 7 7]\n",
      " 8 x . -> [8 8 8 8 8 8 8 8 8 8]\n",
      " 9 x . -> [9 9 9 9 9 9 9 9 9 9]\n",
      "10 x . -> [10 10 10 10 10 10 10 10 10 10]\n"
     ]
    }
   ],
   "source": [
    "# ANSWER\n",
    "# dont forget to import numpy\n",
    "import numpy as np\n",
    "\n",
    "msg = '''\n",
    "Using code similar to the above and a `for` loop, \n",
    "write the times tables for 2 to 10. \n",
    "The solution you're looking for should look a bit like this:\n",
    "\n",
    "        [ 2  4  6  8 10 12 14 16 18 20]\n",
    "        [ 3  6  9 12 15 18 21 24 27 30]\n",
    "        [ 4  8 12 16 20 24 28 32 36 40]\n",
    "        [ 5 10 15 20 25 30 35 40 45 50]\n",
    "        [ 6 12 18 24 30 36 42 48 54 60]\n",
    "        [ 7 14 21 28 35 42 49 56 63 70]\n",
    "        [ 8 16 24 32 40 48 56 64 72 80]\n",
    "        [ 9 18 27 36 45 54 63 72 81 90]\n",
    "        [ 10  20  30  40  50  60  70  80  90 100]\n",
    "'''\n",
    "print(msg)\n",
    "\n",
    "# set up the core array as integers\n",
    "arr1 = np.ones(10).astype(int)\n",
    "\n",
    "# for over 2 to 10\n",
    "for n in np.arange(1,11):\n",
    "    print(f'{n:2d} x . -> {arr1*n}')"
   ]
  },
  {
   "cell_type": "markdown",
   "metadata": {},
   "source": [
    "#### Exercise 2\n",
    "\n",
    "* write a function that does the following:\n",
    "    * create a 2-D tuple called `indices` containing the integers `((0, 1, 2, 3, 4),(5, 6, 7, 8, 9))`\n",
    "    * create a 2-D numpy array called `data` of shape `(5,10)`, data type `int`, initialised with zero\n",
    "    * set the value of `data[r,c]` to be `1` for each of the 5 row,column pairs specified in `indices`.\n",
    "    * return the data array\n",
    "* print out the result returned\n",
    "\n",
    "The result should look like:\n",
    "\n",
    "    [[0 0 0 0 0 1 0 0 0 0]\n",
    "     [0 0 0 0 0 0 1 0 0 0]\n",
    "     [0 0 0 0 0 0 0 1 0 0]\n",
    "     [0 0 0 0 0 0 0 0 1 0]\n",
    "     [0 0 0 0 0 0 0 0 0 1]]\n",
    "\n",
    "**Hint**: You could use a `for` loop, but what does `data[indices]` give?"
   ]
  },
  {
   "cell_type": "code",
   "execution_count": 14,
   "metadata": {},
   "outputs": [
    {
     "name": "stdout",
     "output_type": "stream",
     "text": [
      "indices ->\n",
      "((0, 1, 2, 3, 4), (5, 6, 7, 8, 9))\n",
      "data       ->\n",
      "[[0 0 0 0 0 0 0 0 0 0]\n",
      " [0 0 0 0 0 0 0 0 0 0]\n",
      " [0 0 0 0 0 0 0 0 0 0]\n",
      " [0 0 0 0 0 0 0 0 0 0]\n",
      " [0 0 0 0 0 0 0 0 0 0]]\n",
      "data.shape -> (5, 10)\n",
      "data now   ->\n",
      "[[0 0 0 0 0 1 0 0 0 0]\n",
      " [0 0 0 0 0 0 1 0 0 0]\n",
      " [0 0 0 0 0 0 0 1 0 0]\n",
      " [0 0 0 0 0 0 0 0 1 0]\n",
      " [0 0 0 0 0 0 0 0 0 1]]\n"
     ]
    }
   ],
   "source": [
    "# ANSWER 1\n",
    "\n",
    "# write a function that does the following:\n",
    "\n",
    "# First we will test out the statements we want\n",
    "\n",
    "# create a 2-D tuple called indices containing the \n",
    "# integers ((0, 1, 2, 3, 4),(5, 6, 7, 8, 9))\n",
    "indices = ((0, 1, 2, 3, 4),(5, 6, 7, 8, 9))\n",
    "print(f'indices ->\\n{indices}')\n",
    "\n",
    "# create a 2-D numpy array called data \n",
    "# of shape (5,10), data type int, initialised with zero\n",
    "data = np.zeros((5,10),dtype=np.int)\n",
    "print(f'data       ->\\n{data}')\n",
    "print(f'data.shape -> {data.shape}')\n",
    "\n",
    "# set the value of data[r,c] to be 1 \n",
    "# for each of the 5 row,column pairs specified in indices.\n",
    "data[indices] = 1\n",
    "print(f'data now   ->\\n{data}')\n",
    "\n",
    "# return the data array\n",
    "# print out the result returned\n",
    "\n"
   ]
  },
  {
   "cell_type": "code",
   "execution_count": 15,
   "metadata": {},
   "outputs": [
    {
     "name": "stdout",
     "output_type": "stream",
     "text": [
      "[[0 0 0 0 0 1 0 0 0 0]\n",
      " [0 0 0 0 0 0 1 0 0 0]\n",
      " [0 0 0 0 0 0 0 1 0 0]\n",
      " [0 0 0 0 0 0 0 0 1 0]\n",
      " [0 0 0 0 0 0 0 0 0 1]]\n"
     ]
    }
   ],
   "source": [
    "# ANSWER 2\n",
    "\n",
    "# write a function that does the following:\n",
    "\n",
    "def doit():\n",
    "    '''\n",
    "    return (5,10) zero-value integer array \n",
    "    with ((0, 1, 2, 3, 4),(5, 6, 7, 8, 9))\n",
    "    set to 1\n",
    "    '''\n",
    "    # create a 2-D tuple called indices containing the \n",
    "    # integers ((0, 1, 2, 3, 4),(5, 6, 7, 8, 9))\n",
    "    indices = ((0, 1, 2, 3, 4),(5, 6, 7, 8, 9))\n",
    "    \n",
    "    # create a 2-D numpy array called data \n",
    "    # of shape (5,10), data type int, initialised with zero\n",
    "    data = np.zeros((5,10),dtype=np.int)\n",
    "\n",
    "    # set the value of data[r,c] to be 1 \n",
    "    # for each of the 5 row,column pairs specified in indices.\n",
    "    data[indices] = 1\n",
    "    \n",
    "    # return the data array\n",
    "    return data\n",
    "\n",
    "# print out the result returned\n",
    "print(doit())\n"
   ]
  },
  {
   "cell_type": "markdown",
   "metadata": {},
   "source": [
    "#### Exercise 3\n",
    "\n",
    "* write a more flexible version of you function above where `indices`, the value you want to set (`1` above) and the desired shape of `data` are specified through function keyword arguments (e.g. `indices=((0, 1, 2, 3, 4),(5, 6, 7, 8, 9)),value=1`) with the shape set as a required argument.\n",
    "\n"
   ]
  },
  {
   "cell_type": "code",
   "execution_count": 16,
   "metadata": {},
   "outputs": [
    {
     "name": "stdout",
     "output_type": "stream",
     "text": [
      "set_value((5,5))\n",
      "->\n",
      "[[0 0 0 0 0]\n",
      " [0 0 0 0 0]\n",
      " [0 0 0 0 0]\n",
      " [0 0 0 0 0]\n",
      " [0 0 0 0 0]]\n",
      "set_value((4,6),value=1,indices=((1,2,3),(0,1,2)))\n",
      "->\n",
      " [[0 0 0 0 0 0]\n",
      " [1 0 0 0 0 0]\n",
      " [0 1 0 0 0 0]\n",
      " [0 0 1 0 0 0]]\n"
     ]
    }
   ],
   "source": [
    "# ANSWER 3\n",
    "\n",
    "# write a more flexible version of you function \n",
    "# above where `indices`, the value you want to \n",
    "# set (`1` above) and the desired shape of `data` \n",
    "# are specified through function keyword arguments \n",
    "# (e.g. `indices=((0, 1, 2, 3, 4),(5, 6, 7, 8, 9)),\n",
    "# value=1`) with the shape set as a required argument.\n",
    "\n",
    "'''\n",
    "set_value\n",
    "'''\n",
    "def set_value(shape,indices=None,\\\n",
    "         value=0):\n",
    "    '''\n",
    "    return zero-value integer array of shape shape\n",
    "    with indices set to value\n",
    "    \n",
    "    arguments:\n",
    "        shape.  : desired array shape\n",
    "    \n",
    "    keywords:\n",
    "        indices : tuple of indices to set. default None\n",
    "        value   : integer value to set. default 0\n",
    "    '''\n",
    "    # create a 2-D numpy array called data \n",
    "    # of shape , data type int, initialised with zero\n",
    "    data = np.zeros(shape,dtype=np.int)\n",
    "\n",
    "    # set the value of data[r,c] to be 1 \n",
    "    # for each of the 5 row,column pairs specified in indices.\n",
    "    data[indices] = value\n",
    "    \n",
    "    # return the data array\n",
    "    return data\n",
    "\n",
    "# print out the result returned\n",
    "print(f'set_value((5,5))\\n->\\n{set_value((5,5))}')\n",
    "print(f'set_value((4,6),value=1,indices=((1,2,3),(0,1,2)))\\n->\\n',\\\n",
    "      f'{set_value((4,6),value=1,indices=((1,2,3),(0,1,2)))}')\n"
   ]
  },
  {
   "cell_type": "markdown",
   "metadata": {},
   "source": [
    "#### Exercise 4\n",
    "\n",
    "* print an array of integer numbers from 100 to 1\n",
    "* print an array with 9 numbers equally spaced between 100 and 1\n",
    "\n",
    "Hint: what value of skip would be appropriate here? what about `start` and `stop`?"
   ]
  },
  {
   "cell_type": "code",
   "execution_count": 18,
   "metadata": {
    "scrolled": true
   },
   "outputs": [
    {
     "name": "stdout",
     "output_type": "stream",
     "text": [
      "[100  99  98  97  96  95  94  93  92  91  90  89  88  87  86  85  84  83\n",
      "  82  81  80  79  78  77  76  75  74  73  72  71  70  69  68  67  66  65\n",
      "  64  63  62  61  60  59  58  57  56  55  54  53  52  51  50  49  48  47\n",
      "  46  45  44  43  42  41  40  39  38  37  36  35  34  33  32  31  30  29\n",
      "  28  27  26  25  24  23  22  21  20  19  18  17  16  15  14  13  12  11\n",
      "  10   9   8   7   6   5   4   3   2   1]\n",
      "[100  99  98  97  96  95  94  93  92  91  90  89  88  87  86  85  84  83\n",
      "  82  81  80  79  78  77  76  75  74  73  72  71  70  69  68  67  66  65\n",
      "  64  63  62  61  60  59  58  57  56  55  54  53  52  51  50  49  48  47\n",
      "  46  45  44  43  42  41  40  39  38  37  36  35  34  33  32  31  30  29\n",
      "  28  27  26  25  24  23  22  21  20  19  18  17  16  15  14  13  12  11\n",
      "  10   9   8   7   6   5   4   3   2]\n",
      "[100.     87.625  75.25   62.875  50.5    38.125  25.75   13.375   1.   ]\n"
     ]
    }
   ],
   "source": [
    "# ANSWER\n",
    "import numpy as np\n",
    "# print an array of integer numbers from 100 to 1\n",
    "print(np.linspace(100,1,100,dtype=np.int))\n",
    "# OR use np.arange\n",
    "print(np.arange(100,1,-1))\n",
    "\n",
    "# print an array with 9 numbers equally spaced between 100 and 1\n",
    "print(np.linspace(100,1,9))"
   ]
  }
 ],
 "metadata": {
  "kernelspec": {
   "display_name": "conda env:geog0111-geog0111",
   "language": "python",
   "name": "conda-env-geog0111-geog0111-py"
  },
  "language_info": {
   "codemirror_mode": {
    "name": "ipython",
    "version": 3
   },
   "file_extension": ".py",
   "mimetype": "text/x-python",
   "name": "python",
   "nbconvert_exporter": "python",
   "pygments_lexer": "ipython3",
   "version": "3.7.13"
  },
  "latex_envs": {
   "LaTeX_envs_menu_present": true,
   "autoclose": false,
   "autocomplete": true,
   "bibliofile": "biblio.bib",
   "cite_by": "apalike",
   "current_citInitial": 1,
   "eqLabelWithNumbers": true,
   "eqNumInitial": 1,
   "hotkeys": {
    "equation": "Ctrl-E",
    "itemize": "Ctrl-I"
   },
   "labels_anchors": false,
   "latex_user_defs": false,
   "report_style_numbering": false,
   "user_envs_cfg": false
  },
  "toc": {
   "base_numbering": 1,
   "nav_menu": {},
   "number_sections": false,
   "sideBar": true,
   "skip_h1_title": false,
   "title_cell": "Table of Contents",
   "title_sidebar": "Contents",
   "toc_cell": true,
   "toc_position": {
    "height": "438px",
    "left": "10px",
    "top": "150px",
    "width": "165px"
   },
   "toc_section_display": true,
   "toc_window_display": true
  },
  "varInspector": {
   "cols": {
    "lenName": 16,
    "lenType": 16,
    "lenVar": 40
   },
   "kernels_config": {
    "python": {
     "delete_cmd_postfix": "",
     "delete_cmd_prefix": "del ",
     "library": "var_list.py",
     "varRefreshCmd": "print(var_dic_list())"
    },
    "r": {
     "delete_cmd_postfix": ") ",
     "delete_cmd_prefix": "rm(",
     "library": "var_list.r",
     "varRefreshCmd": "cat(var_dic_list()) "
    }
   },
   "types_to_exclude": [
    "module",
    "function",
    "builtin_function_or_method",
    "instance",
    "_Feature"
   ],
   "window_display": false
  }
 },
 "nbformat": 4,
 "nbformat_minor": 4
}
