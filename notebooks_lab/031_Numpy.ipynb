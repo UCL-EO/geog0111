{
 "cells": [
  {
   "cell_type": "markdown",
   "metadata": {},
   "source": [
    "# 031 Manipulating data: `numpy`\n"
   ]
  },
  {
   "cell_type": "markdown",
   "metadata": {},
   "source": [
    "## Purpose\n",
    "\n",
    "\n",
    "While Python has a rich set of modules and data types by default, for numerical computing you'll be using two main libraries that conform the backbone of the [Python scientific stack](https://scipy.org/about.html). These libraries implement a great deal of functionality related to mathematical operations and efficient computations on large data volumes. These libraries are [`numpy`](http://numpy.org) and [`scipy`](http://scipy.org). `numpy`, which we will concentrate on in this section, deals with efficient arrays, similar to lists, that simplify many common processing operations. Of course, just doing calculations isn't much fun if you can't plot some results. To do this, we use the [`matplotlib`](http://matplotlib.org) library that we have seen in previous sessions.\n",
    "\n",
    "You may find it interesting to read the recent [numpy paper](https://www.nature.com/articles/s41586-020-2649-2) in Nature for some background and detail on `numpy`.\n",
    "\n",
    "\n",
    "### Prerequisites\n",
    "\n",
    "You will need some understanding of the following:\n",
    "\n",
    "\n",
    "* [001 Using Notebooks](001_Notebook_use.ipynb)\n",
    "* [003 Getting help](003_Help.ipynb)\n",
    "* [010 Variables, comments and print()](010_Python_Introduction.ipynb)\n",
    "* [011 Data types](011_Python_data_types.ipynb) \n",
    "* [012 String formatting](012_Python_strings.ipynb)\n",
    "* [013_Python_string_methods](013_Python_string_methods.ipynb)\n",
    "* [020_Python_files](020_Python_files.ipynb)\n",
    "* [021 Streams](021_Streams.ipynb)\n",
    "* [022 Read write files](022_Read_write_files.ipynb)\n",
    "* [023 Plotting](023_Plotting.ipynb)\n",
    "* [024_Image_display](024_Image_display.ipynb)\n",
    "* [030_NASA_MODIS_Earthdata](030_NASA_MODIS_Earthdata.ipynb)"
   ]
  },
  {
   "cell_type": "markdown",
   "metadata": {},
   "source": [
    "\n",
    "## `numpy`\n",
    "\n",
    "### Introduction to arrays\n",
    "\n",
    "You import the `numpy` library using\n",
    "\n",
    "    import numpy as np\n",
    "    \n",
    "This means that all the functionality of `numpy` is accessed by the prefix `np.`: e.g. `np.array`. The main element of `numpy` is the numpy array. \n",
    "\n",
    "An array is in some ways like the [list object we have seen before](014_Python_groups.ipynb#list), but unlike a list, all the elements are of the same type, for example floating point numbers. Further, the range of things we can do with a `numpy` list is much greater than with the basic list."
   ]
  },
  {
   "cell_type": "code",
   "execution_count": 24,
   "metadata": {
    "ExecuteTime": {
     "end_time": "2018-09-26T16:26:31.395372Z",
     "start_time": "2018-09-26T16:26:31.387781Z"
    }
   },
   "outputs": [
    {
     "name": "stdout",
     "output_type": "stream",
     "text": [
      "--> Array with 5 ones:\n",
      "[1. 1. 1. 1. 1.]\n",
      "--> type of array:\n",
      "<class 'numpy.ndarray'>\n",
      "--> Array started from a list of integers:\n",
      "[1 2 3 4]\n",
      "--> Array started from a list of floats (some implicit):\n",
      "[1. 2. 3. 4.]\n"
     ]
    }
   ],
   "source": [
    "import numpy as np  # Import the numpy library\n",
    "\n",
    "# Example 1\n",
    "# An array with 5 ones\n",
    "arr = np.ones(5)\n",
    "print(f'--> Array with 5 ones:\\n{arr}')\n",
    "\n",
    "# type\n",
    "print(f'--> type of array:\\n{type(arr)}')\n",
    "assert type(arr) == np.ndarray\n",
    "\n",
    "# Example 2\n",
    "arr = np.array([1, 2, 3, 4])\n",
    "print(f'--> Array started from a list of integers:\\n{arr}')\n",
    "\n",
    "# Example 3\n",
    "# An array started from a list of numbers, what's the difference??\n",
    "arr = np.array([1., 2, 3, 4])\n",
    "print(f'--> Array started from a list of floats (some implicit):\\n{arr}')\n"
   ]
  },
  {
   "cell_type": "markdown",
   "metadata": {},
   "source": [
    "In the example above we have generated an array where all the elements are `1.0`, using [`np.ones`](https://docs.scipy.org/doc/numpy/reference/generated/numpy.ones.html), and then we have been able to generate arrays from lists using the [`np.array`](https://docs.scipy.org/doc/numpy/reference/generated/numpy.array.html) function. The difference between the 2nd and 3rd examples is that in the 2nd example, all the elements of the list are integers, and in the 3rd example, one is a floating point number. `numpy` automatically makes the array floating point by converting the integers to floating point numbers.\n",
    "\n"
   ]
  },
  {
   "cell_type": "markdown",
   "metadata": {},
   "source": [
    "We saw in an [earlier session](011_Python_data_types.ipynb#Conversion-between-data-types) how we could convert a floating point number to integer with:\n"
   ]
  },
  {
   "cell_type": "code",
   "execution_count": 25,
   "metadata": {},
   "outputs": [
    {
     "name": "stdout",
     "output_type": "stream",
     "text": [
      "float version: 10.5\n",
      "int version  : 10\n"
     ]
    }
   ],
   "source": [
    "float_version = 10.5\n",
    "print(f'float version: {float_version}')\n",
    "\n",
    "# convert individual number to int\n",
    "int_version = int(float_version)\n",
    "print(f'int version  : {int_version}')"
   ]
  },
  {
   "cell_type": "markdown",
   "metadata": {},
   "source": [
    "We can similarly convert between numpy data types (where appropriate) with `np.astype()`:"
   ]
  },
  {
   "cell_type": "code",
   "execution_count": 26,
   "metadata": {},
   "outputs": [
    {
     "name": "stdout",
     "output_type": "stream",
     "text": [
      "float version: [1. 2. 3. 4.]\n",
      "int version  : [1 2 3 4]\n"
     ]
    }
   ],
   "source": [
    "# An array started from a list of numbers, what's the difference??\n",
    "float_version = np.array([1., 2., 3., 4.])\n",
    "print(f'float version: {float_version}')\n",
    "\n",
    "# convert whole array to int\n",
    "int_version = float_version.astype(np.int)\n",
    "print(f'int version  : {int_version}')"
   ]
  },
  {
   "cell_type": "markdown",
   "metadata": {},
   "source": [
    "### Array arithmetic\n",
    "\n",
    "What else can we do with arrays? Perhaps the most significant thing is that can efficiently operate all array elements without loops, by treating the array as an object:"
   ]
  },
  {
   "cell_type": "code",
   "execution_count": 27,
   "metadata": {},
   "outputs": [
    {
     "name": "stdout",
     "output_type": "stream",
     "text": [
      "2 x [1. 1. 1. 1. 1. 1. 1. 1. 1. 1.] \n",
      "  = [2. 2. 2. 2. 2. 2. 2. 2. 2. 2.]\n"
     ]
    }
   ],
   "source": [
    "arr = np.ones(10)\n",
    "print(f'2 x {arr} \\n  = {2 * arr}')"
   ]
  },
  {
   "cell_type": "markdown",
   "metadata": {},
   "source": [
    "`numpy` is clever enough to figure out that the 2 multiplying the array is applied to all elements of the array, and returns an array of the same size as `arr` with the elements of `arr` multiplied by 2. We can also multiply two arrays of the same size. So let's create an array with the numbers 0 to 9 and one with the numbers 9 to 0 and do a times table:"
   ]
  },
  {
   "cell_type": "code",
   "execution_count": 5,
   "metadata": {},
   "outputs": [
    {
     "name": "stdout",
     "output_type": "stream",
     "text": [
      "[9 9 9 9 9 9 9 9 9 9]\n",
      "[ 1  2  3  4  5  6  7  8  9 10]\n",
      "[ 9 18 27 36 45 54 63 72 81 90]\n"
     ]
    }
   ],
   "source": [
    "arr1 = 9 * np.ones(10).astype(np.int)\n",
    "arr2 = np.arange(1, 11)  # arange gives an array from 1 to 11, 11 not included\n",
    "\n",
    "print(arr1)\n",
    "print(arr2)\n",
    "\n",
    "print(arr1 * arr2)"
   ]
  },
  {
   "cell_type": "markdown",
   "metadata": {},
   "source": [
    "#### Exercise 1\n",
    "\n",
    "* Using code similar to the above and a `for` loop, write the times tables for 2 to 10. The solution you're looking for should look a bit like this:\n",
    "\n",
    "        [ 2  4  6  8 10 12 14 16 18 20]\n",
    "        [ 3  6  9 12 15 18 21 24 27 30]\n",
    "        [ 4  8 12 16 20 24 28 32 36 40]\n",
    "        [ 5 10 15 20 25 30 35 40 45 50]\n",
    "        [ 6 12 18 24 30 36 42 48 54 60]\n",
    "        [ 7 14 21 28 35 42 49 56 63 70]\n",
    "        [ 8 16 24 32 40 48 56 64 72 80]\n",
    "        [ 9 18 27 36 45 54 63 72 81 90]\n",
    "        [ 10  20  30  40  50  60  70  80  90 100]"
   ]
  },
  {
   "cell_type": "markdown",
   "metadata": {},
   "source": [
    "The `numpy` documenation is huge. There's an [user's guide](https://docs.scipy.org/doc/numpy/user/index.html), as well as a reference to all the [contents of the library](https://docs.scipy.org/doc/numpy/reference/index.html). There's even [a tutorial availabe](https://docs.scipy.org/doc/numpy/user/quickstart.html) if you get bored with this one.\n",
    "\n",
    "### More detail on `numpy.arrays` \n",
    "\n",
    "So far, we have seen a 1D array, which is the equivalent to a vector. But arrays can have more dimensions: a 2D array would be equivalent to a matrix (or an image, with rows and columns), and a 3D array would be a volume split into voxels, as seen below\n",
    "\n",
    "\n",
    "[![numpy arrays](images/1Ikn1J6siiiCSk4ivYUhdgw.png)](https://cdn-images-1.medium.com/max/1120/1*Ikn1J6siiiCSk4ivYUhdgw.png)\n",
    "\n",
    "\n",
    "So a 1D array has one axis, a 2D array has 2 axes, a 3D array 3, and so on. The `shape` of the array provides a tuple with the number of elements along each axis. Let's see this with some generally useful array creation options:"
   ]
  },
  {
   "cell_type": "code",
   "execution_count": 28,
   "metadata": {},
   "outputs": [
    {
     "name": "stdout",
     "output_type": "stream",
     "text": [
      "3*5 array:\n",
      "[[ 0  1  2  3  4]\n",
      " [ 5  6  7  8  9]\n",
      " [10 11 12 13 14]]\n",
      "2*3 array:\n",
      "[[1.5 2.  3. ]\n",
      " [4.  5.  6. ]]\n"
     ]
    }
   ],
   "source": [
    "# Create a 2D array from a list of rows. \n",
    "# Note that the 3 rows have the same number of elements!\n",
    "arr1 = np.array([[0,  1,  2,  3,  4],\\\n",
    "                 [5,  6,  7,  8,  9],\\\n",
    "                 [10, 11, 12, 13, 14]])\n",
    "\n",
    "# A 2D array from a list of tuples.\n",
    "# We're specifically asking for floating point numbers\n",
    "arr2 = np.array([(1.5, 2, 3),\\\n",
    "                 (4  , 5, 6)], dtype=np.float)\n",
    "print(\"3*5 array:\")\n",
    "print(arr1)\n",
    "print(\"2*3 array:\")\n",
    "print(arr2)"
   ]
  },
  {
   "cell_type": "markdown",
   "metadata": {},
   "source": [
    "### `shape`, `ndim`, `size`\n",
    "\n",
    "One of the key aspects of `numpy` is the way it deals efficiently with large, multi-dimensional arrays. To learn how to use `numpy` well, especially when we head to more complex problems later in the notes, you need to be aware of the dimensions and shape of the array you are processing.\n",
    "\n",
    "The key terms here are `array.ndim` which returns the number of dimensions of the array, `array.size` that gives the total number of elements in the array, and `array.shape` which gives the number of samples in each dimension. \n",
    "\n",
    "If the arrays are of the same shape (and some other conditions we shall see later), you can do standard operations between them **element-wise**:"
   ]
  },
  {
   "cell_type": "code",
   "execution_count": 29,
   "metadata": {},
   "outputs": [
    {
     "name": "stdout",
     "output_type": "stream",
     "text": [
      "the shape of arr1 is (2, 4) and ndim is 2 and size is 8\n",
      "the shape of arr2 is (2, 4) and ndim is 2 and size is 8\n",
      "[[27. 36. 45. 54.]\n",
      " [44. 36. 24. 18.]]\n",
      "the shape of arr1 - arr2 is (2, 4)\n",
      "[[ 90. 160. 250. 360.]\n",
      " [300. 160. 180.  40.]]\n",
      "the shape of arr1 * arr2 is (2, 4)\n"
     ]
    }
   ],
   "source": [
    "import numpy as np\n",
    "\n",
    "arr1 = np.array([[3, 4, 5, 6.],[6,4,6,2]])\n",
    "arr2 = np.array([[30, 40, 50, 60.],[50,40,30,20]])\n",
    "\n",
    "print(f'the shape of arr1 is {arr1.shape} and ndim is {arr1.ndim} and size is {arr1.size}')\n",
    "print(f'the shape of arr2 is {arr2.shape} and ndim is {arr2.ndim} and size is {arr2.size}')\n",
    "\n",
    "# so we can do element-wise operations such as \n",
    "# add, subtract, multiply etc\n",
    "\n",
    "print(arr2 - arr1)\n",
    "print(f'the shape of arr1 - arr2 is {(arr1 - arr2).shape}')\n",
    "print(arr1 * arr2)\n",
    "print(f'the shape of arr1 * arr2 is {(arr1 * arr2).shape}')"
   ]
  },
  {
   "cell_type": "markdown",
   "metadata": {},
   "source": [
    "### Array creators\n",
    "\n",
    "Quite often, we will want to initialise an array to be all the same number. The methods for doing this as 0,1 in `numpy` are `np.zeros()` and `np.ones()` respectively.\n",
    "\n",
    "We specify the shape of the array we want with an appropriate tuple.\n",
    "\n",
    "We can specify the data type of the array with the keyword `dtype=np.int` (for integer). This would have the same effect as using `array.astype(np.int)` as above, but is shorter, clearer and neater. "
   ]
  },
  {
   "cell_type": "code",
   "execution_count": 30,
   "metadata": {},
   "outputs": [
    {
     "name": "stdout",
     "output_type": "stream",
     "text": [
      "3*4 array of 0s\n",
      "[[0. 0. 0. 0.]\n",
      " [0. 0. 0. 0.]\n",
      " [0. 0. 0. 0.]]\n",
      "2*3*4 array of 1s (integers)\n",
      "[[[1 1 1 1]\n",
      "  [1 1 1 1]\n",
      "  [1 1 1 1]]\n",
      "\n",
      " [[1 1 1 1]\n",
      "  [1 1 1 1]\n",
      "  [1 1 1 1]]]\n"
     ]
    }
   ],
   "source": [
    "# Creates a 3*4 array of 0s\n",
    "arr = np.zeros((3, 4))\n",
    "print(\"3*4 array of 0s\")\n",
    "print(arr)\n",
    "\n",
    "# Creates a 2x3x4 array of int 1's\n",
    "print(\"2*3*4 array of 1s (integers)\")\n",
    "arr = np.ones((2, 3, 4), dtype=np.int)\n",
    "print(arr)"
   ]
  },
  {
   "cell_type": "markdown",
   "metadata": {},
   "source": [
    "A similar useful set of functions are `np.ones_like` and `np.zeros_like`. These create a copy of an array, with the values set to 1 or 0 respectively:"
   ]
  },
  {
   "cell_type": "code",
   "execution_count": 10,
   "metadata": {},
   "outputs": [
    {
     "name": "stdout",
     "output_type": "stream",
     "text": [
      "base:\n",
      "[[1 2 3]\n",
      " [4 7 0]]\n",
      "z:\n",
      "[[0 0 0]\n",
      " [0 0 0]]\n"
     ]
    }
   ],
   "source": [
    "base = np.array([[1,2,3],[4,7,0]])\n",
    "print(f'base:\\n{base}')\n",
    "\n",
    "z = np.zeros_like(base)\n",
    "print(f'z:\\n{z}')"
   ]
  },
  {
   "cell_type": "markdown",
   "metadata": {},
   "source": [
    "### Indexing arrays\n",
    "\n",
    "We can refer to a particular value within an array with a tuple describing an index. \n",
    "\n",
    "For example:"
   ]
  },
  {
   "cell_type": "code",
   "execution_count": 11,
   "metadata": {},
   "outputs": [
    {
     "name": "stdout",
     "output_type": "stream",
     "text": [
      "13\n"
     ]
    }
   ],
   "source": [
    "import numpy as np\n",
    "\n",
    "arr = np.array([[0,  1,  2,  3,  4],\\\n",
    "                 [5,  6,  7,  8,  9],\\\n",
    "                 [10, 11, 12, 13, 14]])\n",
    "\n",
    "# row 2, column 3\n",
    "# so index is (2,3)\n",
    "print(arr[2,3])"
   ]
  },
  {
   "cell_type": "markdown",
   "metadata": {},
   "source": [
    "In the example above, the index was implicitly a tuple, but we can also be explicit:"
   ]
  },
  {
   "cell_type": "code",
   "execution_count": 12,
   "metadata": {},
   "outputs": [
    {
     "name": "stdout",
     "output_type": "stream",
     "text": [
      "13\n"
     ]
    }
   ],
   "source": [
    "# row 2, column 3\n",
    "# so index is (2,3)\n",
    "# make an index tuple\n",
    "index = (2,3)\n",
    "print(arr[index])"
   ]
  },
  {
   "cell_type": "markdown",
   "metadata": {},
   "source": [
    "If we want to refer to a set of indices, we can use a 2D index tuple:"
   ]
  },
  {
   "cell_type": "code",
   "execution_count": 31,
   "metadata": {},
   "outputs": [
    {
     "name": "stdout",
     "output_type": "stream",
     "text": [
      "shape is (3, 5)\n",
      "data:\n",
      "[[ 0  1  2  3  4]\n",
      " [ 5  6  7  8  9]\n",
      " [10 11 12 13 14]]\n",
      "values at ((2, 0, 1), (3, 4, 1)) are [13  4  6]\n"
     ]
    }
   ],
   "source": [
    "import numpy as np\n",
    "\n",
    "arr = np.array([[0,  1,  2,  3,  4],\\\n",
    "                 [5,  6,  7,  8,  9],\\\n",
    "                 [10, 11, 12, 13, 14]])\n",
    "\n",
    "print(f'shape is {arr.shape}')\n",
    "# make sure we dont index outside of this shape!\n",
    "# row 2, column 3\n",
    "# row 0, column 4\n",
    "# row 1, column 2\n",
    "\n",
    "# so 2D index is ((2,0,1),(3,4,1))\n",
    "# make an index tuple\n",
    "print(f'data:\\n{arr}')\n",
    "index = ((2,0,1),(3,4,1))\n",
    "print(f'values at {index} are {arr[index]}')"
   ]
  },
  {
   "cell_type": "markdown",
   "metadata": {},
   "source": [
    "We will see below that there are other options for referring to elements of an array, but this 2D tuple of indices is important in showing how to select individual elements from an array."
   ]
  },
  {
   "cell_type": "markdown",
   "metadata": {},
   "source": [
    "#### Exercise 2\n",
    "\n",
    "* write a function that does the following:\n",
    "    * create a 2-D tuple called `indices` containing the integers `((0, 1, 2, 3, 4),(5, 6, 7, 8, 9))`\n",
    "    * create a 2-D numpy array called `data` of shape `(5,10)`, data type `int`, initialised with zero\n",
    "    * set the value of `data[r,c]` to be `1` for each of the 5 row,column pairs specified in `indices`.\n",
    "    * return the data array\n",
    "* print out the result returned\n",
    "\n",
    "The result should look like:\n",
    "\n",
    "    [[0 0 0 0 0 1 0 0 0 0]\n",
    "     [0 0 0 0 0 0 1 0 0 0]\n",
    "     [0 0 0 0 0 0 0 1 0 0]\n",
    "     [0 0 0 0 0 0 0 0 1 0]\n",
    "     [0 0 0 0 0 0 0 0 0 1]]\n",
    "\n",
    "**Hint**: You could use a `for` loop, but what does `data[indices]` give?"
   ]
  },
  {
   "cell_type": "markdown",
   "metadata": {},
   "source": [
    "#### Exercise 3\n",
    "\n",
    "* write a more flexible version of you function above where `indices`, the value you want to set (`1` above) and the desired shape of `data` are specified through function keyword arguments (e.g. `indices=((0, 1, 2, 3, 4),(5, 6, 7, 8, 9)),value=1`) with the shape set as a required argument.\n",
    "\n"
   ]
  },
  {
   "cell_type": "markdown",
   "metadata": {},
   "source": [
    "### `np.linspace`, `np.arange`, `np.mgrid`\n",
    "\n",
    "As well as initialising arrays with the same number as above, we often also want to initialise with common data patterns. This includes simple integer ranges `(start, stop, step)` in a similar fashion to [slicing we saw earlier](013_Python_string_methods.ipynb#slice).\n",
    "\n",
    "For example:\n",
    "\n",
    "    np.arange(start, stop, step)\n",
    "    \n",
    "will produce a list of integer numbers from `start` to `stop` in steps of `step`. It is similar to the [`range` function we have seen perviously](016_Python_for.ipynb#range()).\n",
    "\n",
    "We will introduce the function `np.linspace(start, stop, nsamp)` that creates an array of equally-spaced numbers according to the pattern `(start, stop, nsamp)`."
   ]
  },
  {
   "cell_type": "code",
   "execution_count": 17,
   "metadata": {},
   "outputs": [
    {
     "name": "stdout",
     "output_type": "stream",
     "text": [
      "1D array of numbers from 0 to 2 in increments of 0.3\n",
      "arr of shape (7,):\n",
      "\t[0.  0.3 0.6 0.9 1.2 1.5 1.8]\n",
      "array of shape (9,) numbers equally spaced from 0 to 34:\n",
      "\t[ 0.    4.25  8.5  12.75 17.   21.25 25.5  29.75 34.  ]\n"
     ]
    },
    {
     "data": {
      "text/plain": [
       "array([34.  , 29.75, 25.5 , 21.25, 17.  , 12.75,  8.5 ,  4.25,  0.  ])"
      ]
     },
     "execution_count": 17,
     "metadata": {},
     "output_type": "execute_result"
    }
   ],
   "source": [
    "# array creators\n",
    "\n",
    "print(\"1D array of numbers from 0 to 2 in increments of 0.3\")\n",
    "start = 0\n",
    "stop = 2.0\n",
    "step = 0.3\n",
    "\n",
    "arr = np.arange(start, stop, step)\n",
    "print(f'arr of shape {arr.shape}:\\n\\t{arr}')\n",
    "\n",
    "start = 0\n",
    "stop = 34\n",
    "nsamp = 9\n",
    "arr = np.linspace(start, stop, nsamp)\n",
    "print(\n",
    "    f\"array of shape {arr.shape} numbers equally spaced from {start} to {stop}:\\n\\t{arr}\")\n",
    "\n",
    "np.linspace(stop, start, 9)"
   ]
  },
  {
   "cell_type": "markdown",
   "metadata": {},
   "source": [
    "#### Exercise 4\n",
    "\n",
    "* print an array of integer numbers from 100 to 1\n",
    "* print an array with 9 numbers equally spaced between 100 and 1\n",
    "\n",
    "Hint: what value of skip would be appropriate here? what about `start` and `stop`?"
   ]
  },
  {
   "cell_type": "markdown",
   "metadata": {},
   "source": [
    "If we want to generate a multi-dimensional array with regularly-spaced numbers, we can use `np.mgrid[start:stop:step]`:"
   ]
  },
  {
   "cell_type": "code",
   "execution_count": 19,
   "metadata": {},
   "outputs": [
    {
     "data": {
      "text/plain": [
       "array([0. , 0.1, 0.2, 0.3, 0.4, 0.5, 0.6, 0.7, 0.8, 0.9])"
      ]
     },
     "execution_count": 19,
     "metadata": {},
     "output_type": "execute_result"
    }
   ],
   "source": [
    "import numpy as np\n",
    "\n",
    "# define the min and max for the grid we want\n",
    "p0min,p0max,p0step = 0.0,1.0,0.1\n",
    "\n",
    "np.mgrid[p0min:p0max:p0step]"
   ]
  },
  {
   "cell_type": "markdown",
   "metadata": {},
   "source": [
    "If we want the grid to be inclusive of `p0max` we must increase the maximum value by `p0step`:"
   ]
  },
  {
   "cell_type": "code",
   "execution_count": 20,
   "metadata": {},
   "outputs": [
    {
     "data": {
      "text/plain": [
       "array([0. , 0.1, 0.2, 0.3, 0.4, 0.5, 0.6, 0.7, 0.8, 0.9, 1. ])"
      ]
     },
     "execution_count": 20,
     "metadata": {},
     "output_type": "execute_result"
    }
   ],
   "source": [
    "np.mgrid[p0min:p0max+p0step:p0step]"
   ]
  },
  {
   "cell_type": "markdown",
   "metadata": {},
   "source": [
    "Now, for a 2-D grid we use `np.mgrid[start1:stop1:step1,start2:stop2:step2]`:"
   ]
  },
  {
   "cell_type": "code",
   "execution_count": 21,
   "metadata": {},
   "outputs": [
    {
     "name": "stdout",
     "output_type": "stream",
     "text": [
      "2d parameter grid: (11, 11)\n"
     ]
    },
    {
     "data": {
      "image/png": "[encoded data removed]",
      "text/plain": [
       "<Figure size 360x360 with 1 Axes>"
      ]
     },
     "metadata": {
      "needs_background": "light"
     },
     "output_type": "display_data"
    }
   ],
   "source": [
    "import matplotlib.pyplot as plt\n",
    "# define the min and max and step for the grid we want\n",
    "p0min,p0max,p0step = 0.0,0.5,0.05\n",
    "p1min,p1max,p1step = 0.0,0.001,0.0001\n",
    "\n",
    "\n",
    "gridp0,gridp1 = np.mgrid[p0min:p0max+p0step:p0step,\\\n",
    "                         p1min:p1max+p1step:p1step]\n",
    "\n",
    "# plot it\n",
    "fig, axs = plt.subplots(1,1,figsize=(5,5))\n",
    "axs.plot(gridp0,gridp1,'+')\n",
    "axs.set_xlabel('p1')\n",
    "axs.set_ylabel('p2')\n",
    "\n",
    "print(f'2d parameter grid: {gridp0.shape}')"
   ]
  },
  {
   "cell_type": "markdown",
   "metadata": {},
   "source": [
    "## Summary statistics\n",
    "\n",
    "Below are some representative arithmetic operations that you can use on arrays. Remember that they happen **elementwise** (i.e. to the whole array):"
   ]
  },
  {
   "cell_type": "code",
   "execution_count": 22,
   "metadata": {},
   "outputs": [
    {
     "name": "stdout",
     "output_type": "stream",
     "text": [
      "[0 1 2 3]^2 = [0 1 4 9]\n",
      "\n",
      "e^[0 1 2 3] = [ 1.          2.71828183  7.3890561  20.08553692]\n",
      "\n",
      "assuming in radians,\n",
      "10*sin([20 30 40 50]) = [ 9.12945251 -9.88031624  7.4511316  -2.62374854]\n",
      "\n",
      "Some useful numpy array methods for summary statistics...\n",
      "\n",
      "Find the maximum of an array: a.max():   50\n",
      "Find the minimum of an array: a.min():   20\n",
      "Find the sum of an array: a.sum():       140\n",
      "Find the mean of an array: a.mean():     35.00\n",
      "Find the std dev of an array: a.std():   11.18\n"
     ]
    }
   ],
   "source": [
    "import numpy as np\n",
    "\n",
    "# initialise some numbers\n",
    "b = np.arange(4)\n",
    "print(f'{b}^2 = {b**2}\\n')\n",
    "\n",
    "b = np.arange(4)\n",
    "print(f'e^{b} = {np.exp(b)}\\n')\n",
    "\n",
    "a = np.array([20, 30, 40, 50])\n",
    "print(f\"assuming in radians,\\n10*sin({a}) = {10 * np.sin(a)}\")\n",
    "\n",
    "print(\"\\nSome useful numpy array methods for summary statistics...\\n\")\n",
    "print(f\"Find the maximum of an array: a.max():   {a.max()}\")\n",
    "print(f\"Find the minimum of an array: a.min():   {a.min()}\")\n",
    "print(f\"Find the sum of an array: a.sum():       {a.sum()}\")\n",
    "print(f\"Find the mean of an array: a.mean():     {a.mean(): >5.2f}\")\n",
    "print(f\"Find the std dev of an array: a.std():   {a.std() : >5.2f}\")"
   ]
  },
  {
   "cell_type": "code",
   "execution_count": 23,
   "metadata": {},
   "outputs": [
    {
     "name": "stdout",
     "output_type": "stream",
     "text": [
      "sqrt(11.180339887498949) should equal 11.180339887498949\n"
     ]
    }
   ],
   "source": [
    "# variance and standard deviation:\n",
    "#\n",
    "# try var and see if it is the same as std * std\n",
    "var = a.var()\n",
    "std = a.std()\n",
    "\n",
    "# use np.sqrt for square root\n",
    "print(f'sqrt({np.sqrt(var)}) should equal {std}')"
   ]
  },
  {
   "cell_type": "markdown",
   "metadata": {},
   "source": [
    "### Summary\n",
    "\n",
    "In this section, you have been introduced to the `numpy` package and some detail on arrays. The big advantages of `numpy` are that you can easily perform array operators (such as adding two arrays together), and that `numpy` has a large number of useful functions for manipulating N-dimensional data in array form. This makes it particularly appropriate for raster geospatial data processing.\n",
    "\n",
    "We have seen how to create various forms of array (e.g. `np.ones()`, `np.arange()`), how to calculate some basic statistics (`min()`, `max()` etc). and come across a range of `numpy` functions and concepts. \n",
    "\n",
    "Remember:\n",
    "\n",
    "\n",
    "            import numpy as np\n",
    "            \n",
    " | Function | description   | keywords | \n",
    " |---|---|---|\n",
    " |`np.array(x)` | convert `x` (e.g. list) to `numpy` array | `dtype=` : specify data type, e.g. `np.float`, `np.bool`, `np.int` |\n",
    " |`np.ones(s)` | generate array of values `1` of shape `s` |  `dtype=` \n",
    "  |`np.zeros(s)` | generate array of values `0` of shape `s` |  `dtype=` \n",
    "  |`np.linspace(start,stop,nsamp)` | generate array of `nsamp` values from `start` to `stop` |  `dtype=` |\n",
    "| `np.arange(start,stop,step)` | generate array of numbers from `start` to (but not including) `stop` in steps of `step` | `dtype=` |\n",
    "| `p0,p1 = np.mgrid[p0min:p0max:p0step,p1min:p1max:p1step]` | generate grids `p0`, `p1` of combinations of samples from `p0min` to (but not including) `p0max` in steps of `p0step` and `p1min` to (but not including) `p1max` in steps of `p1step`|\n",
    "  | `a.astype(dtype)` | convert array `a` to data type `dtype` ||\n",
    "  | a * b | multiply array `a` element-wise by array `b` , etc. for arithmetic|\n",
    " | `a.shape` | tuple giving shape of array `a` | \n",
    " | `a.ndim` | tuple giving number of dimensions  of array `a` | \n",
    " | `a.size` | tuple giving total number of elements in array `a` | \n",
    " | `a[start:stop:step]` | array indexing for slice from `start` to `stop` in steps of `step` e.g. `np.array([2,5,3])[2:3])`|\n",
    " | `a[index]` | array indexing by explicit index tuple or tuple list e.g. `np.array([2,5,3])[(1,)]` |\n",
    " | `a.min()` | minimum value in array `a` | `axis=N` : value taken over axis `N` |\n",
    " | `a.max()` | maximum value in array `a` | `axis=N` : value taken over axis `N` |\n",
    " | `a.mean()` | mean value in array `a` | `axis=N` : value taken over axis `N` |\n",
    " | `a.std()` | standard deviation of values in array `a` | `axis=N` : value taken over axis `N` |\n",
    " | `a.var()` | variance of values in array `a` | `axis=N` : value taken over axis `N` |\n",
    " | `a.sum()` | sum of values in array `a` | `axis=N` : value taken over axis `N` |\n",
    " | `a.prod()` | product of values in array `a` | `axis=N` : value taken over axis `N` |\n",
    " |`np.median(a)` | median of values in array `a`, assumed `a` values in radians |`axis=N` : value taken over axis `N` |\n",
    " |`np.sqrt(a)` | square root of values in array `a` ||\n",
    "  |`np.sin(a)` | sine of values in array `a`, assumed `a` values in radians etc.|\n",
    "      |`np.exp(a)` | exponential of values in array `a`|"
   ]
  }
 ],
 "metadata": {
  "kernelspec": {
   "display_name": "Python [conda env:geog0111-geog0111]",
   "language": "python",
   "name": "conda-env-geog0111-geog0111-py"
  },
  "language_info": {
   "codemirror_mode": {
    "name": "ipython",
    "version": 3
   },
   "file_extension": ".py",
   "mimetype": "text/x-python",
   "name": "python",
   "nbconvert_exporter": "python",
   "pygments_lexer": "ipython3",
   "version": "3.7.8"
  },
  "latex_envs": {
   "LaTeX_envs_menu_present": true,
   "autoclose": false,
   "autocomplete": true,
   "bibliofile": "biblio.bib",
   "cite_by": "apalike",
   "current_citInitial": 1,
   "eqLabelWithNumbers": true,
   "eqNumInitial": 1,
   "hotkeys": {
    "equation": "Ctrl-E",
    "itemize": "Ctrl-I"
   },
   "labels_anchors": false,
   "latex_user_defs": false,
   "report_style_numbering": false,
   "user_envs_cfg": false
  },
  "toc": {
   "base_numbering": 1,
   "nav_menu": {},
   "number_sections": false,
   "sideBar": true,
   "skip_h1_title": false,
   "title_cell": "Table of Contents",
   "title_sidebar": "Contents",
   "toc_cell": true,
   "toc_position": {
    "height": "438px",
    "left": "10px",
    "top": "150px",
    "width": "165px"
   },
   "toc_section_display": true,
   "toc_window_display": true
  },
  "varInspector": {
   "cols": {
    "lenName": 16,
    "lenType": 16,
    "lenVar": 40
   },
   "kernels_config": {
    "python": {
     "delete_cmd_postfix": "",
     "delete_cmd_prefix": "del ",
     "library": "var_list.py",
     "varRefreshCmd": "print(var_dic_list())"
    },
    "r": {
     "delete_cmd_postfix": ") ",
     "delete_cmd_prefix": "rm(",
     "library": "var_list.r",
     "varRefreshCmd": "cat(var_dic_list()) "
    }
   },
   "types_to_exclude": [
    "module",
    "function",
    "builtin_function_or_method",
    "instance",
    "_Feature"
   ],
   "window_display": false
  }
 },
 "nbformat": 4,
 "nbformat_minor": 4
}
