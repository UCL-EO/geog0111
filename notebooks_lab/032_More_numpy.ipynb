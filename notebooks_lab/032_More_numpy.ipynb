{
 "cells": [
  {
   "cell_type": "markdown",
   "metadata": {},
   "source": [
    "# 032 More `numpy`\n"
   ]
  },
  {
   "cell_type": "markdown",
   "metadata": {},
   "source": [
    "## Purpose\n",
    "\n",
    "\n",
    "We continue our exploration of `numpy` and move onto topics we need for efficient array processing.\n",
    "\n",
    "\n",
    "### Prerequisites\n",
    "\n",
    "* [020_Python_files](020_Python_files.ipynb)\n",
    "* [021 Streams](021_Streams.ipynb)\n",
    "* [022 Read write files](022_Read_write_files.ipynb)\n",
    "* [023 Plotting](023_Plotting.ipynb)\n",
    "* [031_Numpy](031_Numpy.ipynb)\n",
    "\n",
    "You will need to know the material  from [031_Numpy](031_Numpy.ipynb) in detail."
   ]
  },
  {
   "cell_type": "markdown",
   "metadata": {},
   "source": [
    "### `np.loadtxt`\n",
    "\n",
    "Let's access an interesting dataset on the frequency of satellite launches to illustrate this.\n",
    "\n",
    "[![SpaceX landing](images/giphy.gif)](https://media.giphy.com/media/26DNbCqVfLJbYrXIA/giphy.gif)"
   ]
  },
  {
   "cell_type": "markdown",
   "metadata": {},
   "source": [
    "The library code `geog0111.nsat` accesses a database at [https://www.n2yo.com](https://www.n2yo.com) and gets a table satellite launch data.\n",
    "\n",
    "Data from this is stored in the datafile [data/satellites-1957-2021.gz](data/satellites-1957-2021.gz). This is a compressed text file.\n",
    "\n",
    "We can use `np.loadtxt` to read files of this nature into numpy arrays in a similar way to how we [read into panadas](021_Streams.ipynb#Reading-data-into-pandas). If the dataset is not `CSV` but simply a whitespaced text file, it is often easier to use `np.loadtxt` than `pandas`.\n",
    "\n",
    "In the case of this dataset, we wish to interpret the launch counts as integers, so we convert the data we read to integers."
   ]
  },
  {
   "cell_type": "code",
   "execution_count": 42,
   "metadata": {},
   "outputs": [
    {
     "name": "stdout",
     "output_type": "stream",
     "text": [
      "(12, 64)\n"
     ]
    }
   ],
   "source": [
    "import numpy as np\n",
    "\n",
    "filename = 'data/satellites-1957-2021.gz'\n",
    "data=np.loadtxt(filename).astype(np.int)\n",
    "\n",
    "# shape of data\n",
    "print(data.shape)"
   ]
  },
  {
   "cell_type": "markdown",
   "metadata": {},
   "source": [
    "The dataset dimensions are to `(month,year)`. Indices into the array are zero-based, so we can relate month number (1 being January) and year number to index `(i,j)` through:\n",
    "\n",
    "    i = month - 1\n",
    "    j = year - 1957\n",
    "    \n",
    "We can print some summary statistics:"
   ]
  },
  {
   "cell_type": "code",
   "execution_count": 43,
   "metadata": {},
   "outputs": [
    {
     "name": "stdout",
     "output_type": "stream",
     "text": [
      "data shape (12, 64)\n",
      "some summary statistics over the period 1957 to 2021:\n",
      "The total number of launches is 45689\n",
      "The mean number of launches is  59.49 per month\n"
     ]
    }
   ],
   "source": [
    "print(f'data shape {data.shape}')\n",
    "\n",
    "print(f'some summary statistics over the period 1957 to 2021:')\n",
    "print(f'The total number of launches is {data.sum()}')\n",
    "print(f'The mean number of launches is {data.mean() : .2f} per month')"
   ]
  },
  {
   "cell_type": "markdown",
   "metadata": {},
   "source": [
    "### slicing, `slice`\n",
    "\n",
    "We have seen [above](031_Numpy.ipynb#Indexing-arrays) how we can provide a tuple of indices to access particular array elements. Often we want to access 'blocks' of an array. A set of indices would be inefficient for that. Instead, we use the idea of slices `(from:to:step)` that we have come across before for [strings](013_Python_string_methods.ipynb#slice) . Remember that `to` is \"up to but not including\" the to number.\n",
    "\n",
    "If we specify `:` or `::` in the slice, it means we take the defaults for `(from:to:step)`. If we specify only one number, that is `from`. If we specify two, it is `from:to`.\n",
    "\n",
    "So:\n",
    "\n",
    "    data[0]\n",
    "    \n",
    "is the data for month index 0 (January), `data[1]` for February etc. Or:\n",
    "\n",
    "    data[0:2]\n",
    "   \n",
    "is the data for month index 0 (January) **and** 1 (February)  etc. \n",
    "\n",
    "We can get more specific statistics then such as:"
   ]
  },
  {
   "cell_type": "code",
   "execution_count": 45,
   "metadata": {},
   "outputs": [
    {
     "name": "stdout",
     "output_type": "stream",
     "text": [
      "(64,)\n",
      "mean launches in month 0: 33.95\n",
      "max  launches in month 0: 237\n"
     ]
    }
   ],
   "source": [
    "import numpy as np\n",
    "\n",
    "filename = 'data/satellites-1957-2021.gz'\n",
    "data=np.loadtxt(filename).astype(np.int)\n",
    "\n",
    "print(data[0].shape)\n",
    "\n",
    "print(f'mean launches in month 0: {data[0].mean() :.2f}')\n",
    "print(f'max  launches in month 0: {data[0].max()}')"
   ]
  },
  {
   "cell_type": "markdown",
   "metadata": {},
   "source": [
    "We can refer to items in the second dimension of the array, by using a code for *all* values of the first dimension. So:\n",
    "\n",
    "    data[:,0]\n",
    "    \n",
    "refers to all elements in dimension 0 (i.e. all months here) by only year 0 (1957)."
   ]
  },
  {
   "cell_type": "code",
   "execution_count": 47,
   "metadata": {},
   "outputs": [
    {
     "name": "stdout",
     "output_type": "stream",
     "text": [
      "(12,)\n",
      "mean launches in year 1957: 3\n",
      "max  launches in year 1957: 2\n"
     ]
    }
   ],
   "source": [
    "print(data[:,0].shape)\n",
    "\n",
    "print(f'mean launches in year 1957: {data[:,0].sum()}')\n",
    "print(f'max  launches in year 1957: {data[:,0].max()}')"
   ]
  },
  {
   "cell_type": "markdown",
   "metadata": {},
   "source": [
    "#### Exercise 1\n",
    "\n",
    "* Print out the total number of launches per month, for each month.\n",
    "* Print out the total number of launches per year, for the years 2010 to 2020 inclusive"
   ]
  },
  {
   "cell_type": "markdown",
   "metadata": {},
   "source": [
    "The `numpy` formatting for slice in an array is `start:stop:step` as we have seen. Sometimes it is convenient to use the function `slice(start:stop:step)` to specify this.\n",
    "\n",
    "Recall that the array `data` is two-dimensional of shape `(12, 64)` where the first axis is month and the second year after 1957. To describe the months of May to July inclusive (axis 0: index `4:7`) and years `1990-2000` inclusive (axis 1: index `1990-1957:2000-1957+1` = `33:44`) we can write:"
   ]
  },
  {
   "cell_type": "code",
   "execution_count": 48,
   "metadata": {},
   "outputs": [
    {
     "name": "stdout",
     "output_type": "stream",
     "text": [
      "shape of subset is (3, 11)\n"
     ]
    }
   ],
   "source": [
    "subset = data[4:7,33:44]\n",
    "print(f'shape of subset is {subset.shape}')"
   ]
  },
  {
   "cell_type": "markdown",
   "metadata": {},
   "source": [
    "Equivalently, using `slice`:"
   ]
  },
  {
   "cell_type": "code",
   "execution_count": 8,
   "metadata": {},
   "outputs": [
    {
     "name": "stdout",
     "output_type": "stream",
     "text": [
      "shape of subset is (3, 11)\n",
      "slices: slice(4, 7, None),slice(33, 44, None)\n"
     ]
    }
   ],
   "source": [
    "axis0 = slice(4,7)\n",
    "axis1 = slice(33,44)\n",
    "\n",
    "subset = data[axis0,axis1]\n",
    "print(f'shape of subset is {subset.shape}')\n",
    "print(f'slices: {axis0},{axis1}')"
   ]
  },
  {
   "cell_type": "markdown",
   "metadata": {},
   "source": [
    "One advantage of using `slice` is that we can store the axis slice information in a variable. We access the individual elements as:"
   ]
  },
  {
   "cell_type": "code",
   "execution_count": 9,
   "metadata": {},
   "outputs": [
    {
     "data": {
      "text/plain": [
       "(4, 7, None)"
      ]
     },
     "execution_count": 9,
     "metadata": {},
     "output_type": "execute_result"
    }
   ],
   "source": [
    "axis0.start,axis0.stop,axis0.step"
   ]
  },
  {
   "cell_type": "markdown",
   "metadata": {},
   "source": [
    "#### Exercise 2\n",
    "\n",
    "        import numpy as np\n",
    "        filename = 'data/satellites-1957-2021.gz'\n",
    "        data=np.loadtxt(filename).astype(np.int)\n",
    "\n",
    "* Use `slice` to produce a sub-set of the launch dataset `data` for the months January, March, and May for the years 1960-1966 inclusive. This is 3 months and 7 years, so the resultant array should have shape `(3,7)`"
   ]
  },
  {
   "cell_type": "markdown",
   "metadata": {},
   "source": [
    "### axis\n",
    "\n",
    "Whilst it is perfectly possibly to loop over one dimension of an array and calculate statistics over the other dimension, it is not very [Pythonic](https://docs.python-guide.org/writing/style/) to do it that way. \n",
    "\n",
    "Instead. we can specify the array axes over which we want the operation to occur.\n",
    "\n",
    "For example, in our satellite launch dataset, the dimension 0 is month index and the dimension 1 is year index. To calculate the mean over all years then, we apply the `mean` function to axis 1:"
   ]
  },
  {
   "cell_type": "code",
   "execution_count": 51,
   "metadata": {},
   "outputs": [
    {
     "data": {
      "text/plain": [
       "array([ 33.953125,  58.515625,  45.234375,  49.734375, 103.21875 ,\n",
       "        90.1875  ,  51.234375,  38.765625,  68.78125 ,  63.046875,\n",
       "        51.140625,  60.078125])"
      ]
     },
     "execution_count": 51,
     "metadata": {},
     "output_type": "execute_result"
    }
   ],
   "source": [
    "import numpy as np\n",
    "\n",
    "filename = 'data/satellites-1957-2021.gz'\n",
    "data=np.loadtxt(filename).astype(np.int)\n",
    "\n",
    "# mean over all years\n",
    "data.mean(axis=1)"
   ]
  },
  {
   "cell_type": "markdown",
   "metadata": {},
   "source": [
    "This is much more convenient than the loop we did above. The axis keyword is widely used in `numpy`, and you can apply most operations over one or more axis. "
   ]
  },
  {
   "cell_type": "markdown",
   "metadata": {},
   "source": [
    "#### Exercise 3\n",
    "\n",
    "* Plot the total number of satellite launches per year, as a function of year\n",
    "\n",
    "You will need to remember how to [plot line graphs](023_Plotting.ipynb#Plotting-Graphs)"
   ]
  },
  {
   "cell_type": "markdown",
   "metadata": {},
   "source": [
    "### `argmin`, `argmax` \n",
    "\n",
    "Whilst we have generated some initial summary statistics on the dataset, it's not really enough to give us a good idea of the data characteristics.\n",
    "\n",
    "To do that, we want to be able to ask somewhat more complex questions of the data, such as:\n",
    "\n",
    "* which *year* has the most/least launches? \n",
    "* which month do most launches happen in? \n",
    "* which month in which year had the most launches? \n",
    "* which years had more than 100 launches?\n",
    "\n",
    "Whilst we could do some of these with loops and slicing, we expect a more convenient approach for `numpy`.\n",
    "\n",
    "To be able to address these, we need some new concepts:\n",
    "\n",
    "* methods `argmin()` and `argmax()` that provide the *index* where the min/max occurs\n",
    "* masking out array elements that meet some condition\n",
    "\n",
    "The first set of these, `argmin()` and `argmax()` are straightforward to visualise and use:"
   ]
  },
  {
   "cell_type": "code",
   "execution_count": 57,
   "metadata": {},
   "outputs": [
    {
     "name": "stdout",
     "output_type": "stream",
     "text": [
      "0 42\n",
      "the year with most   launches was 1999 with 4195\n",
      "the year with fewest launches was 1957 with 3\n"
     ]
    }
   ],
   "source": [
    "import numpy as np\n",
    "\n",
    "# read data as before\n",
    "filename = 'data/satellites-1957-2021.gz'\n",
    "data=np.loadtxt(filename).astype(np.int)\n",
    "\n",
    "# sum the data over all months (axis 0)\n",
    "sum_per_year = data.sum(axis=0)\n",
    "# Construct an array of years\n",
    "year_array = 1957 + np.arange(data.shape[1])\n",
    "\n",
    "# Find the location (year) with **most** launches\n",
    "# Find the index of sum_per_year with highest number (argmmax)\n",
    "imax = np.argmax(sum_per_year)\n",
    "\n",
    "# Find the location (year) with **least** launches\n",
    "# Find the index of sum_per_year with lowest number (argmmax)\n",
    "imin = np.argmin(sum_per_year)\n",
    "print(imin,imax)\n",
    "print(f'the year with most   launches was',\\\n",
    "      f'{year_array[imax]} with {sum_per_year[imax]}')\n",
    "print(f'the year with fewest launches was',\\\n",
    "      f'{year_array[imin]} with {sum_per_year[imin]}')"
   ]
  },
  {
   "cell_type": "markdown",
   "metadata": {},
   "source": [
    "#### Exercise 4\n",
    "\n",
    "* Write code to print the months with highest and lowest number of launches"
   ]
  },
  {
   "cell_type": "markdown",
   "metadata": {},
   "source": [
    "### masking\n",
    "\n",
    "In section [011_Python_data_types](011_Python_data_types.ipynb#Data-types:-bool) we came across the boolean (binary) data type that can take the states `True` or `False`.\n",
    "\n",
    "Boolean arrays in `numpy` are important in the efficient use of arrays, as they can act as a mask on an array. \n",
    "\n",
    "For example:"
   ]
  },
  {
   "cell_type": "markdown",
   "metadata": {},
   "source": [
    "The form of filtering above (`high = sum_per_year >= 1000`) produces a numpy array of the same shape as that operated on (`sum_per_year` here) of `bool` data type.  It has entries of `True` where the condition is met, and `False` where it is not met."
   ]
  },
  {
   "cell_type": "code",
   "execution_count": 17,
   "metadata": {},
   "outputs": [
    {
     "name": "stdout",
     "output_type": "stream",
     "text": [
      "[False False False False False False False False  True False False False\n",
      " False False False False False False  True  True False False False False\n",
      "  True False False False False  True  True False False False False False\n",
      "  True  True False False False False  True False False False False False\n",
      " False  True False False False False False False False False False False\n",
      " False False False False]\n"
     ]
    }
   ],
   "source": [
    "import numpy as np\n",
    "\n",
    "# read data as before\n",
    "filename = 'data/satellites-1957-2021.gz'\n",
    "data=np.loadtxt(filename).astype(np.int)\n",
    "# sum over all months (axis 0)\n",
    "sum_per_year = data.sum(axis=0)\n",
    "\n",
    "high = sum_per_year >= 1000\n",
    "print(high)"
   ]
  },
  {
   "cell_type": "markdown",
   "metadata": {},
   "source": [
    "We can think of this logical array as a 'data mask' that we use to select (filter) entries:"
   ]
  },
  {
   "cell_type": "code",
   "execution_count": 18,
   "metadata": {},
   "outputs": [
    {
     "name": "stdout",
     "output_type": "stream",
     "text": [
      "years with 1000 or more launches [1965 1975 1976 1981 1986 1987 1993 1994 1999 2006]\n"
     ]
    }
   ],
   "source": [
    "# form the data mask\n",
    "high = (sum_per_year >= 1000)\n",
    "# form an attau of years\n",
    "years = 1957 + np.arange(data.shape[1])\n",
    "# select only elements where mask is True\n",
    "print(f'years with 1000 or more launches {years[high]}')"
   ]
  },
  {
   "cell_type": "markdown",
   "metadata": {},
   "source": [
    "We can apply logical operators to boolean arrays:"
   ]
  },
  {
   "cell_type": "code",
   "execution_count": 19,
   "metadata": {},
   "outputs": [
    {
     "name": "stdout",
     "output_type": "stream",
     "text": [
      "[ True  True  True  True  True  True  True  True False  True  True  True\n",
      "  True  True  True  True  True  True False False  True  True  True  True\n",
      " False  True  True  True  True False False  True  True  True  True  True\n",
      " False False  True  True  True  True False  True  True  True  True  True\n",
      "  True False  True  True  True  True  True  True  True  True  True  True\n",
      "  True  True  True  True]\n"
     ]
    }
   ],
   "source": [
    "low = np.logical_not(high)\n",
    "print(low)"
   ]
  },
  {
   "cell_type": "markdown",
   "metadata": {},
   "source": [
    "including combinations of logical arrays. \n",
    "\n",
    "Suppose we want to know the years after the year 2000 that have 1000 or greater launches. We can form two boolean arrays:\n",
    "    \n",
    "    years > 2000\n",
    "    sum_per_year >= 1000\n",
    "    \n",
    "Since these arrays are of the same shape, we can combine them element-wise:"
   ]
  },
  {
   "cell_type": "code",
   "execution_count": 61,
   "metadata": {},
   "outputs": [
    {
     "name": "stdout",
     "output_type": "stream",
     "text": [
      "[2006]\n"
     ]
    }
   ],
   "source": [
    "c1 = (years > 2000)\n",
    "c2 = (sum_per_year >= 1000)\n",
    "combined = np.logical_and(c1,c2)\n",
    "print(years[combined])"
   ]
  },
  {
   "cell_type": "markdown",
   "metadata": {},
   "source": [
    "### `where`\n",
    "\n",
    "Sometimes, instead of just applying the filter as above, we want to know the indices of the filtered values.\n",
    "\n",
    "To do this, we can use the `np.where()` method. This takes a `bool` array as its argument (such as our data masks or other conditions) and returns a tuple of the indices where this is set `True`. \n",
    "\n",
    "As an example, lets find month, year pairs where the number of launches is greater than 500. \n",
    "\n",
    "For a final flourish, we load the dataset into `pandas` to print it in a table:"
   ]
  },
  {
   "cell_type": "code",
   "execution_count": 62,
   "metadata": {},
   "outputs": [
    {
     "data": {
      "text/html": [
       "<div>\n",
       "<style scoped>\n",
       "    .dataframe tbody tr th:only-of-type {\n",
       "        vertical-align: middle;\n",
       "    }\n",
       "\n",
       "    .dataframe tbody tr th {\n",
       "        vertical-align: top;\n",
       "    }\n",
       "\n",
       "    .dataframe thead th {\n",
       "        text-align: right;\n",
       "    }\n",
       "</style>\n",
       "<table border=\"1\" class=\"dataframe\">\n",
       "  <thead>\n",
       "    <tr style=\"text-align: right;\">\n",
       "      <th></th>\n",
       "      <th>month</th>\n",
       "      <th>year</th>\n",
       "    </tr>\n",
       "  </thead>\n",
       "  <tbody>\n",
       "    <tr>\n",
       "      <th>0</th>\n",
       "      <td>2</td>\n",
       "      <td>1986</td>\n",
       "    </tr>\n",
       "    <tr>\n",
       "      <th>1</th>\n",
       "      <td>5</td>\n",
       "      <td>1994</td>\n",
       "    </tr>\n",
       "    <tr>\n",
       "      <th>2</th>\n",
       "      <td>5</td>\n",
       "      <td>1999</td>\n",
       "    </tr>\n",
       "    <tr>\n",
       "      <th>3</th>\n",
       "      <td>6</td>\n",
       "      <td>1981</td>\n",
       "    </tr>\n",
       "    <tr>\n",
       "      <th>4</th>\n",
       "      <td>6</td>\n",
       "      <td>1993</td>\n",
       "    </tr>\n",
       "    <tr>\n",
       "      <th>5</th>\n",
       "      <td>6</td>\n",
       "      <td>2006</td>\n",
       "    </tr>\n",
       "    <tr>\n",
       "      <th>6</th>\n",
       "      <td>7</td>\n",
       "      <td>1976</td>\n",
       "    </tr>\n",
       "    <tr>\n",
       "      <th>7</th>\n",
       "      <td>9</td>\n",
       "      <td>1997</td>\n",
       "    </tr>\n",
       "  </tbody>\n",
       "</table>\n",
       "</div>"
      ],
      "text/plain": [
       "   month  year\n",
       "0      2  1986\n",
       "1      5  1994\n",
       "2      5  1999\n",
       "3      6  1981\n",
       "4      6  1993\n",
       "5      6  2006\n",
       "6      7  1976\n",
       "7      9  1997"
      ]
     },
     "execution_count": 62,
     "metadata": {},
     "output_type": "execute_result"
    }
   ],
   "source": [
    "# find month, year where launches > 500\n",
    "import numpy as np\n",
    "import pandas as pd\n",
    "\n",
    "# read data as before\n",
    "filename = 'data/satellites-1957-2021.gz'\n",
    "data=np.loadtxt(filename).astype(np.int)\n",
    "\n",
    "month_index,year_index = np.where(data > 500)\n",
    "# This gives array indices\n",
    "\n",
    "# convert index to real month and year\n",
    "# and *transpose* (swap rows and columns)\n",
    "# using .T\n",
    "high_launches = np.array([month_index+1,year_index+1957]).T\n",
    "\n",
    "# load into pandas data frame \n",
    "df = pd.DataFrame(high_launches,columns=['month','year'])\n",
    "df"
   ]
  },
  {
   "cell_type": "markdown",
   "metadata": {},
   "source": [
    "### Simplifying shape: `flatten`, `ravel`, `reshape` and `unravel_index`"
   ]
  },
  {
   "cell_type": "markdown",
   "metadata": {},
   "source": [
    "We have seen that we can build multi-dimensional arrays in `numpy`. Sometimes, for processing though, we need to modify the number of dimensions of an array. There are several ways to do this.\n",
    "\n",
    "First, if we want simply to collapse a multi-dimensional array into a 1D array, we can use `ravel` or `flatten`. A useful case to consider for this is when we process on a grid.\n",
    "\n",
    "We generate a grid of `locations` similar to [previously](031_Numpy.ipynb#np.linspace,-np.arange,-np.mgrid):"
   ]
  },
  {
   "cell_type": "code",
   "execution_count": 63,
   "metadata": {},
   "outputs": [
    {
     "name": "stdout",
     "output_type": "stream",
     "text": [
      "shape of p0 : (21, 21)\n",
      "shape of p1 : (21, 21)\n"
     ]
    }
   ],
   "source": [
    "import numpy as np\n",
    "\n",
    "p0min,p0max,p0step = -1.0,1.0,0.1\n",
    "p1min,p1max,p1step = -1.0,1.0,0.1\n",
    "\n",
    "p0,p1 = np.mgrid[p0min:p0max+p0step:p0step,\\\n",
    "                         p1min:p1max+p1step:p1step]\n",
    "\n",
    "print(f'shape of p0 : {p0.shape}')\n",
    "print(f'shape of p1 : {p1.shape}')"
   ]
  },
  {
   "cell_type": "markdown",
   "metadata": {},
   "source": [
    "Now, we want to calculate a function of the variables `p0` and `p1` and want to find the parameter values at which the function has a local (over the grid) minimum. We will use the function:\n",
    "\n",
    "       y = 1 + 2 * (p0 - 0.5)**2 + 3 * (p1 - 0.4)**2\n",
    " \n",
    "as an example, or the range `[-1,1]` for both parameters. It should be clear that the minimum of this function lies at `(0.5,0.4)`, but we want to show this numerically."
   ]
  },
  {
   "cell_type": "code",
   "execution_count": 67,
   "metadata": {},
   "outputs": [
    {
     "data": {
      "text/plain": [
       "<matplotlib.colorbar.Colorbar at 0x7f2513d8bf50>"
      ]
     },
     "execution_count": 67,
     "metadata": {},
     "output_type": "execute_result"
    },
    {
     "data": {
      "image/png": "[encoded data removed]",
      "text/plain": [
       "<Figure size 432x360 with 2 Axes>"
      ]
     },
     "metadata": {
      "needs_background": "light"
     },
     "output_type": "display_data"
    }
   ],
   "source": [
    "import matplotlib.pyplot as plt\n",
    "\n",
    "# our function\n",
    "y = 1 + 2 * (p0 - 0.5)**2 + 3 * (p1 - 0.4)**2 \n",
    "\n",
    "# plot it\n",
    "fig, axs = plt.subplots(1,1,figsize=(6,5))\n",
    "im = axs.imshow(y,interpolation='nearest',vmax=2)\n",
    "fig.colorbar(im, ax=axs)"
   ]
  },
  {
   "cell_type": "markdown",
   "metadata": {},
   "source": [
    "We could  use `np.where` to find the index of the minimum point by seeking where it equals the minimum value. That is not always a good idea, as there might be rounding errors involved.\n",
    "\n",
    "A more robust approach is to use `np.argmin` to find the index at which the argument has its minimum."
   ]
  },
  {
   "cell_type": "code",
   "execution_count": 68,
   "metadata": {},
   "outputs": [
    {
     "name": "stdout",
     "output_type": "stream",
     "text": [
      "index of minimum point: 329\n"
     ]
    }
   ],
   "source": [
    "imin = np.argmin(y)\n",
    "print(f'index of minimum point: {imin}')"
   ]
  },
  {
   "cell_type": "markdown",
   "metadata": {},
   "source": [
    "The index of `329` is returned which might at first seem odd: the array `y` is two dimensional of shape `(21,21)` so how can we have a 1D index of `329`?\n",
    "\n",
    "The answer is that `np.argmin` operates on a 'flattened' version of the array. When we used it [above](032_More_numpy.ipynb#argmin,-argmax) this issue was not apparent because the input array was 1D.\n",
    "\n",
    "If we want to apply the flattened array index, we must first then flatten the array. There are two functions for this: `flatten` and `ravel`. They both have a similar effect, but `flatten` operates of a *copy* of the array. This means it uses more memory. But also any changes we make are not reflected in the original array. Very often we use `ravel` instead then. This takes no more memory, but any changes we make to the ravelled array will also happen to the original array. You should think carefully about which you use in any particular circumstance, but unless you really need to operate on a copy, you might generally use `ravel`."
   ]
  },
  {
   "cell_type": "code",
   "execution_count": 70,
   "metadata": {},
   "outputs": [
    {
     "name": "stdout",
     "output_type": "stream",
     "text": [
      "shape of y    : (21, 21)\n",
      "shape of yrav : (441,)\n",
      "parameter at minimum :  0.500, 0.400\n"
     ]
    }
   ],
   "source": [
    "yrav = y.ravel()\n",
    "print(f'shape of y    : {y.shape}')\n",
    "print(f'shape of yrav : {yrav.shape}')\n",
    "\n",
    "p0min,p1min = p0.ravel()[imin],p1.ravel()[imin]\n",
    "print(f'parameter at minimum : {p0min : .3f},{p1min : .3f}')"
   ]
  },
  {
   "cell_type": "markdown",
   "metadata": {},
   "source": [
    "which matches what we expected. \n",
    "\n",
    "These two functions are an integral part of efficient use of `numpy` for large-dimensional problems. We can recognise in the example above that it makes no difference to the processing whether we search for the `argmin` over a 1D or 2D array. It makes sense then to treat it as a 1D problem.\n",
    "\n",
    "The same sort of issues arise when we are dealing with image processing: although an image is defined over a 2D spatial extent, if the algorithm we are applying is operated independently per pixel, then this can be equally treated as a 1D problem. If we had a problem to solve over an image space and over a parameter space (as we come across see later) then we can simplify our data structure by collapsing unnecessary multi-dimensional arrays into 1D arrays. In that case, it might not always be possible to use `ravel` as we might need to 'flatten' different parts of the dataset in different fashions. For this, more refined control on array shape, we use `reshape`.\n",
    "\n",
    "To illustrate this, we generate a function y over the parameter space `p0`, `p1` that we suppose described our function at different time steps:"
   ]
  },
  {
   "cell_type": "code",
   "execution_count": 26,
   "metadata": {},
   "outputs": [
    {
     "name": "stdout",
     "output_type": "stream",
     "text": [
      "shape of y : (3, 21, 21)\n"
     ]
    }
   ],
   "source": [
    "y0 = 1 + 2 * (p0 - 0.5)**2 + 3 * (p1 - 0.4)**2 \n",
    "y1 = 1 + 4 * (p0 - 0.2)**2 + 3 * (p1 - 0.1)**2 \n",
    "y2 = 1 + 8 * (p0 - 0.7)**2 + 6 * (p1 - 0.3)**2 \n",
    "\n",
    "y = np.array([y0,y1,y2])\n",
    "print(f'shape of y : {y.shape}')"
   ]
  },
  {
   "cell_type": "markdown",
   "metadata": {},
   "source": [
    "`y` is a 3D array with the first axis representing time, and the second and third the parameter space. We can see that the minima should occur at `[0.5 0.2 0.7],[0.4 0.1 0.3]`\n",
    "\n",
    "We wish to find parameters that give the minimum of the function *for each time step* (i.e. solve numerically for `[0.5 0.2 0.7],[0.4 0.1 0.3]`). The result we expect then is that each parameter should be an array of shape `(3,)`.\n",
    "\n",
    "We can use `np.argmin` again for this problem, as we can specify the axis over which to operate for `argmin`. However, it can only operate over a single axis, so we must first re-form the array to one of shape `(3,21 * 21)`. The shape of the first dimension will be simply `y.shape[:1]`. We can multiply the last two elements of the shape array together using `np.prod` as `np.prod(np.array(y.shape[1:]))`, then use the new shape with `np.reshape`:"
   ]
  },
  {
   "cell_type": "code",
   "execution_count": 27,
   "metadata": {},
   "outputs": [
    {
     "name": "stdout",
     "output_type": "stream",
     "text": [
      "(3,)\n",
      "441\n",
      "(3, 441)\n"
     ]
    }
   ],
   "source": [
    "# get the new shape we want\n",
    "firstpart  = y.shape[:1]\n",
    "print(firstpart)\n",
    "\n",
    "secondpart = np.prod(np.array(y.shape[1:]))\n",
    "print(secondpart)\n",
    "\n",
    "# use * to unload the tuple\n",
    "newshape = (*y.shape[:1],np.prod(np.array(y.shape[1:])))\n",
    "print(newshape)"
   ]
  },
  {
   "cell_type": "code",
   "execution_count": 28,
   "metadata": {},
   "outputs": [
    {
     "name": "stdout",
     "output_type": "stream",
     "text": [
      "shape of y  : (3, 21, 21)\n",
      "shape of y_ : (3, 441)\n"
     ]
    }
   ],
   "source": [
    "# reshape \n",
    "y_ = y.reshape(newshape)\n",
    "\n",
    "print(f'shape of y  : {y.shape}')\n",
    "print(f'shape of y_ : {y_.shape}')"
   ]
  },
  {
   "cell_type": "code",
   "execution_count": 29,
   "metadata": {},
   "outputs": [
    {
     "name": "stdout",
     "output_type": "stream",
     "text": [
      "1D index of minimum point: [329 263 370]\n"
     ]
    }
   ],
   "source": [
    "# argmin over axis 1 (the parameters)\n",
    "imin = np.argmin(y_,axis=1)\n",
    "print(f'1D index of minimum point: {imin}')"
   ]
  },
  {
   "cell_type": "markdown",
   "metadata": {},
   "source": [
    "We may want to know the 2D index in the parameter grid for some applications. This can be conveniently calculated with `np.unravel_index`:"
   ]
  },
  {
   "cell_type": "code",
   "execution_count": 30,
   "metadata": {},
   "outputs": [
    {
     "name": "stdout",
     "output_type": "stream",
     "text": [
      "2D index of minimum point: [15 12 17], [14 11 13]\n",
      "parameter at minimum : [0.5 0.2 0.7],[0.4 0.1 0.3]\n"
     ]
    }
   ],
   "source": [
    "ip0min,ip1min = np.unravel_index(imin,p0.shape)\n",
    "\n",
    "print(f'2D index of minimum point: {ip0min}, {ip1min}')\n",
    "p0min = p0[ip0min,ip1min]\n",
    "p1min = p1[ip0min,ip1min]\n",
    "print(f'parameter at minimum : {p0min},{p1min}')"
   ]
  },
  {
   "cell_type": "markdown",
   "metadata": {},
   "source": [
    "which corresponds with what we expected."
   ]
  },
  {
   "cell_type": "markdown",
   "metadata": {},
   "source": [
    "That's great: by appropriate use of `reshape` we have found the flattened-parameter index for each of the time samples where the function is minimum.\n",
    "\n",
    "We could then print the parameters at the minimum as above, using the index array `imin` as indices into the flattened parameter arrays:"
   ]
  },
  {
   "cell_type": "code",
   "execution_count": 31,
   "metadata": {},
   "outputs": [
    {
     "name": "stdout",
     "output_type": "stream",
     "text": [
      "parameter at minimum : [0.5 0.2 0.7],[0.4 0.1 0.3]\n"
     ]
    }
   ],
   "source": [
    "p0min,p1min = p0.ravel()[imin],p1.ravel()[imin]\n",
    "print(f'parameter at minimum : {p0min},{p1min}')"
   ]
  },
  {
   "cell_type": "markdown",
   "metadata": {},
   "source": [
    "## Reconciling arrays: `np.newaxis`\n",
    "\n",
    "`numpy` is very efficient at array-based processing. This means that for your codes to be efficient, you should avoid any explicit loops when dealing with large datasets. We will come across examples later where this is critical to being able to process data in a reasonable time.\n",
    "\n",
    "Let's consider the case where we have some function that calculates the linear function:\n",
    "\n",
    "    y = c + m*x\n",
    "    \n",
    "where `x` is some `numpy` array of values of `x` and the linear model parameters are `c` (intercept) and `m` (slope). This is efficient in `numpy` and straightforward to do if `c` and `m` are scalar values (i.e. just a float number):"
   ]
  },
  {
   "cell_type": "code",
   "execution_count": 32,
   "metadata": {},
   "outputs": [
    {
     "name": "stdout",
     "output_type": "stream",
     "text": [
      "x-shape: (21,)\n",
      "y-shape: (21,)\n"
     ]
    },
    {
     "data": {
      "image/png": "[encoded data removed]",
      "text/plain": [
       "<Figure size 360x360 with 1 Axes>"
      ]
     },
     "metadata": {
      "needs_background": "light"
     },
     "output_type": "display_data"
    }
   ],
   "source": [
    "import matplotlib.pyplot as plt\n",
    "import numpy as np\n",
    "\n",
    "def linear_func(c,m,x):\n",
    "    return m * x + c\n",
    "\n",
    "# example parameters\n",
    "c = 0.2\n",
    "m = 0.002\n",
    "\n",
    "# the x values\n",
    "x = np.arange(0,10.5,0.5)\n",
    "\n",
    "y = m* x + c\n",
    "\n",
    "fig, axs = plt.subplots(1,1,figsize=(5,5))\n",
    "axs.plot(x,y,'+')\n",
    "axs.set_xlabel('x')\n",
    "axs.set_ylabel('y')\n",
    "\n",
    "print(f'x-shape: {x.shape}')\n",
    "print(f'y-shape: {y.shape}')"
   ]
  },
  {
   "cell_type": "markdown",
   "metadata": {},
   "source": [
    "Now let's try to calculate the model `y = c * m * x` for these same values of `x`, but for multiple sets of `c` and `m`. We will use [`np.mgrid`](031_Numpy.ipynb#np.linspace,-np.arange,-np.mgrid) as above to generate a grid of pairs of `c` and `m`:"
   ]
  },
  {
   "cell_type": "code",
   "execution_count": 33,
   "metadata": {},
   "outputs": [
    {
     "name": "stdout",
     "output_type": "stream",
     "text": [
      "grid_c is [[0.  0.  0.  0.  0.  0. ]\n",
      " [0.5 0.5 0.5 0.5 0.5 0.5]\n",
      " [1.  1.  1.  1.  1.  1. ]]\n",
      "grid_m is [[0.   0.01 0.02 0.03 0.04 0.05]\n",
      " [0.   0.01 0.02 0.03 0.04 0.05]\n",
      " [0.   0.01 0.02 0.03 0.04 0.05]]\n",
      "2d parameter grid: (3, 6)\n"
     ]
    },
    {
     "data": {
      "image/png": "[encoded data removed]",
      "text/plain": [
       "<Figure size 360x360 with 1 Axes>"
      ]
     },
     "metadata": {
      "needs_background": "light"
     },
     "output_type": "display_data"
    }
   ],
   "source": [
    "import matplotlib.pyplot as plt\n",
    "# define the min and max and step for the grid we want\n",
    "c_min,c_max,c_step = 0.0,1.,0.5\n",
    "m_min,m_max,m_step = 0.0,0.05,0.01\n",
    "\n",
    "grid_c,grid_m = np.mgrid[c_min:c_max+c_step:c_step,\\\n",
    "                         m_min:m_max+m_step:m_step]\n",
    "\n",
    "print(f'grid_c is {grid_c}')\n",
    "print(f'grid_m is {grid_m}')\n",
    "\n",
    "# plot it\n",
    "fig, axs = plt.subplots(1,1,figsize=(5,5))\n",
    "axs.plot(grid_c,grid_m,'+')\n",
    "axs.set_xlabel('c')\n",
    "axs.set_ylabel('m')\n",
    "\n",
    "print(f'2d parameter grid: {grid_c.shape}')"
   ]
  },
  {
   "cell_type": "markdown",
   "metadata": {},
   "source": [
    "This grid is `(3,6)` and the `x` dataset is shape `(21,)`. \n",
    "\n",
    "We would expect the output dataset `y` that describes `c + m*x` for all `x`, for each value of `c` and `m` to have a shape `(3,6,21)`. Here, axis 0 and 1 refer to the parameter grid dimensions and axis 2 to the variation over `x`. The operation is a simple element-wise manipulation that `numpy` should be efficient at, even for large arrays. We will see that the key to doing this cleanly is to use [`np.newaxis`](https://numpy.org/doc/stable/reference/arrays.indexing.html).\n",
    "\n",
    "An **inefficient** way of calculating `y` for each of the grid parameters would be to use a loop over each value of `x`:"
   ]
  },
  {
   "cell_type": "code",
   "execution_count": 34,
   "metadata": {},
   "outputs": [
    {
     "name": "stdout",
     "output_type": "stream",
     "text": [
      "for a single value of x, we get an output of shape (3, 6)\n"
     ]
    }
   ],
   "source": [
    "print(f'for a single value of x, we get an output of shape {linear_func(grid_c,grid_m,0.1).shape}')"
   ]
  },
  {
   "cell_type": "code",
   "execution_count": 35,
   "metadata": {},
   "outputs": [
    {
     "name": "stdout",
     "output_type": "stream",
     "text": [
      "y shape: (3, 6, 21)\n"
     ]
    }
   ],
   "source": [
    "# generate an output array to pack into\n",
    "newshape = grid_c.shape + x.shape\n",
    "y = np.zeros(newshape)\n",
    "print(f'y shape: {y.shape}')\n",
    "\n",
    "# inifficient: looping over each element of x -> xi\n",
    "# and inserting into grid\n",
    "for i,xi in enumerate(x):\n",
    "    y[:,:,i] = linear_func(grid_c,grid_m,xi)\n"
   ]
  },
  {
   "cell_type": "code",
   "execution_count": 36,
   "metadata": {},
   "outputs": [
    {
     "data": {
      "image/png": "[encoded data removed]",
      "text/plain": [
       "<Figure size 864x360 with 18 Axes>"
      ]
     },
     "metadata": {},
     "output_type": "display_data"
    }
   ],
   "source": [
    "import matplotlib.pyplot as plt\n",
    "ymin,ymax = y.min(),y.max()\n",
    "xmin,xmax = x.min(),x.max()\n",
    "\n",
    "# plots:     \n",
    "fig, axs = plt.subplots(*(grid_c.shape),figsize=(12,5))\n",
    "plt.setp(axs, xticks=[], yticks=[])\n",
    "\n",
    "for i in range(y.shape[0]):\n",
    "    for j in range(y.shape[1]):\n",
    "        axs[i,j].plot(x,y[i,j],'k')\n",
    "        axs[i,j].set_title(f'c: {grid_c[i,j]:.2f} m: {grid_m[i,j]:.2f}')\n",
    "        axs[i,j].set_xlim(xmin,xmax)\n",
    "        axs[i,j].set_ylim(ymin,ymax)"
   ]
  },
  {
   "cell_type": "markdown",
   "metadata": {},
   "source": [
    "So, we know the sort of result we are looking for from this, ideally we would do it in a single call to the function with `numpy`.\n",
    "\n",
    "In all of the simple cases above, we have performed operations of arrays of the same shape, so adding an array of shape `(10,2)` to another of the same shape results in an array of shape `(10,2)`. \n",
    "\n",
    "If we have an array of shape `(10,2,1)` and add it to an array of shape `(1,1,5)`, we will get a result of shape (10,2,5):"
   ]
  },
  {
   "cell_type": "code",
   "execution_count": 2,
   "metadata": {},
   "outputs": [
    {
     "name": "stdout",
     "output_type": "stream",
     "text": [
      "(10, 2, 5)\n"
     ]
    }
   ],
   "source": [
    "import numpy as np\n",
    "# generate some random numbers\n",
    "\n",
    "a = np.random.random((10,2,1))\n",
    "b = np.random.random((1,1,5))\n",
    "\n",
    "c = a + b\n",
    "print(c.shape)"
   ]
  },
  {
   "cell_type": "markdown",
   "metadata": {},
   "source": [
    "The 'rule' for combining arrays in this way can be thought of as:\n",
    "\n",
    "* the arrays to be combined must have the same *number of dimensions* (3 here)\n",
    "* the number of samples in any dimension must be *the same* or `1`"
   ]
  },
  {
   "cell_type": "markdown",
   "metadata": {},
   "source": [
    "If we had started out with arrays of different shapes that we want to combine, e.g.:"
   ]
  },
  {
   "cell_type": "code",
   "execution_count": 3,
   "metadata": {},
   "outputs": [],
   "source": [
    "import numpy as np\n",
    "# generate some random numbers\n",
    "\n",
    "a = np.random.random((10,2))\n",
    "b = np.random.random((5))"
   ]
  },
  {
   "cell_type": "markdown",
   "metadata": {},
   "source": [
    "Then we need to add new axes to the arrays to reconcile their dimensions. One clear way to do this is to use `np.newaxis` to add the new dimensions:"
   ]
  },
  {
   "cell_type": "code",
   "execution_count": 4,
   "metadata": {},
   "outputs": [
    {
     "name": "stdout",
     "output_type": "stream",
     "text": [
      "a shape: (10, 2)\n",
      "b shape: (5,)\n",
      "a1 shape: (10, 2, 1)\n",
      "b1 shape: (1, 1, 5)\n",
      "c1 shape: (10, 2, 5)\n"
     ]
    }
   ],
   "source": [
    "a = np.random.random((10,2))\n",
    "b = np.random.random((5,))\n",
    "print(f'a shape: {a.shape}')\n",
    "print(f'b shape: {b.shape}')\n",
    "\n",
    "a1 = a[:,:,np.newaxis]\n",
    "b1 = b[np.newaxis,np.newaxis,:]\n",
    "print(f'a1 shape: {a1.shape}')\n",
    "print(f'b1 shape: {b1.shape}')\n",
    "\n",
    "c1 = a1 + b1 \n",
    "print(f'c1 shape: {c1.shape}')"
   ]
  },
  {
   "cell_type": "markdown",
   "metadata": {},
   "source": [
    "Now, we can do element-wise operations of `a` and `b` as required, where the result will be of shape `(10,2,5)` and involve all element-wise combinations of `a` and `b`. "
   ]
  },
  {
   "cell_type": "markdown",
   "metadata": {},
   "source": [
    "#### Exercise 5\n",
    "\n",
    "    def linear_func(c,m,x):\n",
    "        return m * x + c\n",
    "        \n",
    "    x = np.arange(0,10.5,0.5)\n",
    "\n",
    "    c_min,c_max,c_step = 0.0,1.,0.5\n",
    "    m_min,m_max,m_step = 0.0,0.05,0.01\n",
    "\n",
    "    grid_c,grid_m = np.mgrid[c_min:c_max+c_step:c_step,\\\n",
    "                             m_min:m_max+m_step:m_step]\n",
    "\n",
    "\n",
    "* Use `np.newaxis` to reconcile the shapes of `grid_c`,`grid_m` and `x` \n",
    "* Make a single call to the function `linear_func`  using these reconciled variables\n",
    "* Show how the shape of the output relates to the shape of the inputs \n",
    "* Confirm your result by plotting the results for each (c,m) value pair"
   ]
  },
  {
   "cell_type": "markdown",
   "metadata": {},
   "source": [
    "## Formative assessment\n",
    "\n",
    "To get some feedback on how you are doing, you should complete and submit the formative assessment [064 Numpy](064_Numpy.ipynb)."
   ]
  },
  {
   "cell_type": "markdown",
   "metadata": {},
   "source": [
    "### Summary\n",
    "\n",
    "In this section, we have expanded our understanding of `numpy` processing to include topics such as finding the array index where some pattern occurs (e.g. `argmin()`, `argsort()` or `where()`) and how to generate and use masks for selecting data. We should now have a good grasp of the role of axes, slicing, and reconciling multi-dimensional grids for efficient processing.\n",
    "\n",
    "Remember:\n",
    "\n",
    "\n",
    "| Function | description   | keywords | \n",
    " |---|---|---|\n",
    " | `np.loadtxt(f)` | Load datra from file `f` into numpy array ||\n",
    " | x[start:stop:step] | 1-D slice of array `x` ||\n",
    " | `slice(start:stop:step)` | function to apply to slice e.g. `x[slice(start:stop:step)]`|\n",
    " | `np.argmin(x)` | return 1D index of minimum value in array (/axis) |  `axis=N` : value taken over axis `N` |\n",
    " | `np.argmax(x)` | return 1D index of maximum value in array (/axis) |  `axis=N` : value taken over axis `N` |\n",
    " | `x > 1` | logical operator resulting in boolean array e.g. to use for masks |\n",
    " | `np.logical_not(x)` | element-wise not over array |\n",
    " | `np.logical_or(x,y)` | element-wise `a` or `b`  over array |\n",
    " | `np.logical_and(x,y)` | element-wise `a` and `b`  over array |\n",
    " | `np.where(x)` |  list of indices where `x` is `True` |\n",
    " | `x.flatten()` | convert copy of ND array `x` into 1D array |\n",
    "  | `x.ravel()` | convert ND array `x` into 1D array |\n",
    "| `x.reshape(shape)` | apply shape `shape` to array `x` |\n",
    "| `np.unravel_index(indices,shape)` | unravel 1D indices `indices` to ND defined by `shape` |\n",
    "| `np.newaxis` | add a new axis to array for reconciling multiple dimensions making a copy. Effectively makes new dimension of size `(1,)` |\n",
    "\n"
   ]
  }
 ],
 "metadata": {
  "kernelspec": {
   "display_name": "Python [conda env:geog0111-geog0111]",
   "language": "python",
   "name": "conda-env-geog0111-geog0111-py"
  },
  "language_info": {
   "codemirror_mode": {
    "name": "ipython",
    "version": 3
   },
   "file_extension": ".py",
   "mimetype": "text/x-python",
   "name": "python",
   "nbconvert_exporter": "python",
   "pygments_lexer": "ipython3",
   "version": "3.7.8"
  },
  "latex_envs": {
   "LaTeX_envs_menu_present": true,
   "autoclose": false,
   "autocomplete": true,
   "bibliofile": "biblio.bib",
   "cite_by": "apalike",
   "current_citInitial": 1,
   "eqLabelWithNumbers": true,
   "eqNumInitial": 1,
   "hotkeys": {
    "equation": "Ctrl-E",
    "itemize": "Ctrl-I"
   },
   "labels_anchors": false,
   "latex_user_defs": false,
   "report_style_numbering": false,
   "user_envs_cfg": false
  },
  "toc": {
   "base_numbering": 1,
   "nav_menu": {},
   "number_sections": false,
   "sideBar": true,
   "skip_h1_title": false,
   "title_cell": "Table of Contents",
   "title_sidebar": "Contents",
   "toc_cell": true,
   "toc_position": {
    "height": "438px",
    "left": "10px",
    "top": "150px",
    "width": "165px"
   },
   "toc_section_display": true,
   "toc_window_display": true
  },
  "varInspector": {
   "cols": {
    "lenName": 16,
    "lenType": 16,
    "lenVar": 40
   },
   "kernels_config": {
    "python": {
     "delete_cmd_postfix": "",
     "delete_cmd_prefix": "del ",
     "library": "var_list.py",
     "varRefreshCmd": "print(var_dic_list())"
    },
    "r": {
     "delete_cmd_postfix": ") ",
     "delete_cmd_prefix": "rm(",
     "library": "var_list.r",
     "varRefreshCmd": "cat(var_dic_list()) "
    }
   },
   "types_to_exclude": [
    "module",
    "function",
    "builtin_function_or_method",
    "instance",
    "_Feature"
   ],
   "window_display": false
  }
 },
 "nbformat": 4,
 "nbformat_minor": 4
}
