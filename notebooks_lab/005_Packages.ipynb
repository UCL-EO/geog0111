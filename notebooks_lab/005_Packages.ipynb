{
 "cells": [
  {
   "cell_type": "markdown",
   "metadata": {},
   "source": [
    "# 005 Packages"
   ]
  },
  {
   "cell_type": "markdown",
   "metadata": {},
   "source": [
    "## Introduction\n",
    "\n",
    "\n",
    "### Purpose\n",
    "\n",
    "In this session, we will learn about importing packages into our code. \n",
    "\n",
    "### Prerequisites\n",
    "\n",
    "You will need some understanding of the following:\n",
    "\n",
    "\n",
    "* [001 Using Notebooks](001_Notebook_use.ipynb)\n"
   ]
  },
  {
   "cell_type": "markdown",
   "metadata": {},
   "source": [
    "## `import`\n",
    "\n",
    "Python comes with a good deal of built-in functionality, and that is what we have mainly been using to date. Often though, we need to classes or functions from other packages. Provided these packages are installed in our distribution, we can use them.\n",
    "\n",
    "The system you should have setup for you includes the packages listed in [`environment.yml`](copy/environment.yml).\n",
    "\n",
    "When we want to use a non-standard Python package, we must first import it into our codebase. This is done with the `import` directive, e.g.:\n",
    "\n",
    "    import yaml\n",
    "    \n",
    "to import a library called `yaml`. We can then access some function `XX` functions in the package as `yaml.XX`. "
   ]
  },
  {
   "cell_type": "code",
   "execution_count": 1,
   "metadata": {},
   "outputs": [
    {
     "name": "stdout",
     "output_type": "stream",
     "text": [
      "Help on function safe_load in module yaml:\n",
      "\n",
      "safe_load(stream)\n",
      "    Parse the first YAML document in a stream\n",
      "    and produce the corresponding Python object.\n",
      "    \n",
      "    Resolve only basic YAML tags. This is known\n",
      "    to be safe for untrusted input.\n",
      "\n"
     ]
    }
   ],
   "source": [
    "import yaml\n",
    "\n",
    "help(yaml.safe_load)"
   ]
  },
  {
   "cell_type": "markdown",
   "metadata": {},
   "source": [
    "We will learn in [Python Introduction](010_Python_Introduction.ipynb) that classes start with a capital letter. So, if we see a variable in `Python such as `path`, we should recognise that as a class.\n",
    "\n",
    "Sometimes we wish to only import certain functions or sub-packages. This is done with the `from` directive. For example to import the class `Path` from the package `pathlib`\n"
   ]
  },
  {
   "cell_type": "code",
   "execution_count": 1,
   "metadata": {},
   "outputs": [],
   "source": [
    "from pathlib import Path"
   ]
  },
  {
   "cell_type": "markdown",
   "metadata": {},
   "source": [
    "The class `Path` is now available directly as `Path`, whereas if we had imported it as:\n",
    "\n",
    "    import pathlib\n",
    "    \n",
    "we would have needed to refer to it as `pathlib.Path`. This will over-ride any current definition of the class `Path` in the current code, so be careful not to over-ride things you don't mean to."
   ]
  },
  {
   "cell_type": "markdown",
   "metadata": {},
   "source": [
    "#### Exercise 1\n",
    "\n",
    "Make and run a Python cell that imports the class `Loader` from the package `yaml` and show the help text for this."
   ]
  },
  {
   "cell_type": "markdown",
   "metadata": {},
   "source": [
    "## Summary\n",
    "\n",
    "In this section, we have learned how to import packages using `import` and `from`.\n",
    "    \n",
    "|  command | purpose  |   \n",
    "|---|---|\n",
    "| `import yaml` | import the package `yaml`|\n",
    "| `from pathlib import Path`  |  import the method/ class `Path` from the package `pathlib` |  \n",
    "\n",
    "\n"
   ]
  }
 ],
 "metadata": {
  "kernelspec": {
   "display_name": "conda env:geog0111-geog0111",
   "language": "python",
   "name": "conda-env-geog0111-geog0111-py"
  },
  "language_info": {
   "codemirror_mode": {
    "name": "ipython",
    "version": 3
   },
   "file_extension": ".py",
   "mimetype": "text/x-python",
   "name": "python",
   "nbconvert_exporter": "python",
   "pygments_lexer": "ipython3",
   "version": "3.7.10"
  }
 },
 "nbformat": 4,
 "nbformat_minor": 4
}
