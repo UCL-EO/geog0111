{
 "cells": [
  {
   "cell_type": "markdown",
   "metadata": {},
   "source": [
    "\n",
    "<img alt='UCL' src=\"images/ucl_logo.png\" align='center'>\n",
    "\n",
    "\n"
   ]
  },
  {
   "cell_type": "markdown",
   "metadata": {},
   "source": [
    "# Code Advice"
   ]
  },
  {
   "cell_type": "markdown",
   "metadata": {},
   "source": [
    "You need to submit you coursework in the usual manner by the date given above.\n",
    "\n",
    "You **must** work individually on this task. If you do not, it will be treated as plagiarism. By reading these instructions for this exercise, we assume that you are aware of the UCL rules on plagiarism. You can find more information on this matter in your student handbook. If in doubt about what might constitute plagiarism, ask one of the course conveners.\n",
    "\n"
   ]
  },
  {
   "cell_type": "markdown",
   "metadata": {},
   "source": [
    "### Computer Code"
   ]
  },
  {
   "cell_type": "markdown",
   "metadata": {},
   "source": [
    "#### General requirements\n",
    "\n",
    "You will obviously need to submit computer codes as part of this assessment. Some flexibility in the style of these codes is to be expected. For example, when asked to write a function, so students might choose to modularise and test the problem further and have multiple sub-functions that are finally called from the required function. This is fine to do, and can often be a good idea if the problem is complex or there are re-usable modular parts of code you might want to use (e.g. for printing). \n",
    "\n",
    "If you want to achieve distinction-level marks, then, on top of the main requirements we lay out here, we would be looking for features such as: maturity and detail in testing your codes; excellent code style; excellent presentation; and flexibility in the code (e.g. don't fix variable you can make variables or keywords).\n",
    "\n",
    "All codes needed to demonstrate that you have performed the core tasks are required to be included in the submission. \n",
    "\n",
    "All codes should be well-commented. Part of the marks you get for code will depend on the adequacy of the document strings and commenting.\n",
    "\n",
    "#### Degree of original work required and plagiarism\n",
    "\n",
    "If you use a piece of code verbatim that you have taken from the course pages or any other source, **you must acknowledge this** in comments in your text. **Not to do so is plagiarism**. Where you have taken some part (e.g. a few lines) of someone else's code, **you should also indicate this**. If some of your code is heavily based on code from elsewhere, **you must also indicate that**.\n",
    "\n",
    "Some examples. \n",
    "\n",
    "The first example is guilty of strong plagiarism, it does not seek to acknowledge the source of this code of code from one of the course pages, even though it is just a direct copy, pasted into a method called `model()`:"
   ]
  },
  {
   "cell_type": "code",
   "execution_count": 50,
   "metadata": {
    "ExecuteTime": {
     "end_time": "2017-11-21T19:49:29.355926Z",
     "start_time": "2017-11-21T19:49:29.345443Z"
    }
   },
   "outputs": [],
   "source": [
    "def model(tempThresh=9.0,K=2000.0,p=0.96):\n",
    "    '''...'''\n",
    "    import numpy as np\n",
    "    meltDays = np.where(temperature > tempThresh)[0]\n",
    "    accum = snowProportion*0.\n",
    "    for d in meltDays:\n",
    "        water = K * snowProportion[d]\n",
    "        n = np.arange(len(snowProportion)) - d\n",
    "        m = p ** n\n",
    "        m[np.where(n<0)]=0\n",
    "        accum += m * water\n",
    "    return accum"
   ]
  },
  {
   "cell_type": "markdown",
   "metadata": {},
   "source": [
    "This is **not** acceptable.\n",
    "\n",
    "This would be better as:"
   ]
  },
  {
   "cell_type": "code",
   "execution_count": 51,
   "metadata": {},
   "outputs": [],
   "source": [
    "'''\n",
    "This code is taken directly from\n",
    "\"Modelling delay in a hydrological network\"\n",
    "by P. Lewis http://www2.geog.ucl.ac.uk/~plewis/geogg122/DelNorte.html\n",
    "and wrapped into a method.\n",
    "'''\n",
    "def model(tempThresh=9.0,K=2000.0,p=0.96):\n",
    "    '''...'''\n",
    "    # my code: make sure numpy is imported\n",
    "    import numpy as np\n",
    "\n",
    "    # code below verbatim from Lewis REF XXX\n",
    "    meltDays = np.where(temperature > tempThresh)[0]\n",
    "    accum = snowProportion*0.\n",
    "    for d in meltDays:\n",
    "        water = K * snowProportion[d]\n",
    "        n = np.arange(len(snowProportion)) - d\n",
    "        m = p ** n\n",
    "        m[np.where(n<0)]=0\n",
    "        accum += m * water\n",
    "    # my code: return accumulator\n",
    "    return accum"
   ]
  },
  {
   "cell_type": "markdown",
   "metadata": {},
   "source": [
    "Now, we acknowledge that this is in essence a direct copy of someone else’s code, and clearly state this. We do also show that we have added some new lines to the code, and that we have wrapped this into a method.\n",
    "\n",
    "In the next example, we have seen that the way m is generated is in fact rather inefficient, and have re-structured the code. It is partially developed from the original code, and acknowledges this:"
   ]
  },
  {
   "cell_type": "code",
   "execution_count": 34,
   "metadata": {
    "ExecuteTime": {
     "end_time": "2017-11-21T19:49:32.108956Z",
     "start_time": "2017-11-21T19:49:32.097823Z"
    }
   },
   "outputs": [],
   "source": [
    "'''\n",
    "This code after the model developed in\n",
    "\"Modelling delay in a hydrological network\"\n",
    "by P. Lewis\n",
    "http://www2.geog.ucl.ac.uk/~plewis/geogg122/DelNorte.html\n",
    "\n",
    "My modifications have been to make the filtering more efficient.\n",
    "'''\n",
    "def model(tempThresh=9.0,K=2000.0,p=0.96):\n",
    "    '''...'''\n",
    "\n",
    "    # my code: make sure numpy is imported\n",
    "    import numpy as np\n",
    "\n",
    "    # code below verbatim from Lewis unless otherwise indicated\n",
    "    meltDays = np.where(temperature > tempThresh)[0]\n",
    "    accum = snowProportion*0.\n",
    "\n",
    "    # my code: pull the filter block out of the loop\n",
    "    n = np.arange(len(snowProportion))\n",
    "    m = p ** n\n",
    "\n",
    "    for d in meltDays:\n",
    "        water = K * snowProportion[d]\n",
    "\n",
    "        # my code: shift the filter on by one day\n",
    "        # ...do something clever to shift it on by one day\n",
    "\n",
    "        accum += m * water\n",
    "    # my code: return accumulator\n",
    "    return accum"
   ]
  },
  {
   "cell_type": "markdown",
   "metadata": {},
   "source": [
    "This example makes it clear that significant modifications have been made to the code structure (and probably to its efficiency) although the basic model and looping comes from an existing piece of code. It clearly highlights what the actual modifications have been. Note that this is not a working example! Note also that this is a poor example of a function, as there is no real document string and little comment on the code operation.\n",
    "\n",
    "We stress that this must be your own work. We do not want you to get anyone else to significantly helped you to develop the code (e.g. written the main part of it for you & you've just copied that with some minor modifications). This is not acceptable, but if for some reason it does happen, you must acknowledge it in your submission.\n",
    "\n",
    "If you take a piece of code from somewhere else and all you do is change the variable names and/or other cosmetic changes, you **must** acknowledge the source of the original code (with a URL if available).\n",
    "\n",
    "Plagiarism in coding is a tricky issue. One reason for that is that often the best way to learn something like this is to find an example that someone else has written and adapt that to your purposes. Equally, if someone has written some tool/library to do what you want to do, it would generally not be worthwhile for you to write your own but to concentrate on using that to achieve something new. Even in general code writing (i.e. when not submitting it as part of your assessment) you and anyone else who ever has to read your code would find it of value to make reference to where you found the material to base what you did on. The key issue to bear in mind in this work, as it is submitted ‘as your own work’ is that, to avoid being accused of plagiarism and to allow a fair assessment of what you have done, you must clearly acknowledge which parts of it are your own, and the degree to which you could claim them to be your own.\n",
    "\n",
    "For example, based on ... is absolutely fine, and you would certainly be given credit for what you have done. In many circumstances 'taken verbatim from ...' would also be fine (provided it is acknowledged) but then you would be given credit for what you had done with the code that you had taken from elsewhere (e.g. you find some elegant way of doing the graphs that someone has written and you make use of it for presenting your results).\n",
    "\n",
    "The difference between what you submit here and the code you might write if this were not a piece submitted for assessment is that you the vast majority of the credit you will gain for the code will be based on the degree to which you demonstrate that you can write code to achieve the required tasks. There would obviously be some credit for taking codes from the coursenotes and bolting them together into something that achieves the overall aim: provided that worked, and you had commented it adequately and acknowledge what the extent of your efforts had been, you should be able to achieve a pass in that component of the work. If there was no original input other than vbolting pieces of existing code together though, you be unlikely to achieve more than a pass. If you get less than a pass in another component of the coursework, that then puts you in danger of an overall fail.\n",
    "\n",
    "Provided you achieve the core tasks, the more original work that you do/show (that is of good quality), the higher the mark you will get. Once you have achieved the core tasks, even if you try something and don’t quite achieve it, is is probably worth including, as you may get marks for what you have done (or that fact that it was a good or interesting thing to try to do)."
   ]
  },
  {
   "cell_type": "markdown",
   "metadata": {},
   "source": [
    "#### Documentation\n",
    "\n",
    "Note: All methods/functions and classes must be documented for the code to be adequate. Generally, this will contain:\n",
    "\n",
    "   - some text on the purpose of the method (/function/class)\n",
    "\n",
    "   - some text describing the inputs and outputs, including reference to any relevant details such as datatype, shape etc where such things are of relevance to understanding the code.\n",
    "\n",
    "   - some text on keywords, e.g.:"
   ]
  },
  {
   "cell_type": "code",
   "execution_count": 31,
   "metadata": {
    "ExecuteTime": {
     "end_time": "2017-11-21T19:49:34.566235Z",
     "start_time": "2017-11-21T19:49:34.557952Z"
    }
   },
   "outputs": [],
   "source": [
    "def complex(real=0.0, imag=0.0):\n",
    "    \"\"\"Form a complex number.\n",
    "\n",
    "    Keyword arguments:\n",
    "    real -- the real part (default 0.0)\n",
    "    imag -- the imaginary part (default 0.0)\n",
    "\n",
    "    Example taken verbatim from:\n",
    "    http://www.python.org/dev/peps/pep-0257/\n",
    "    \"\"\"\n",
    "    if imag == 0.0 and real == 0.0: return complex_zero\n"
   ]
  },
  {
   "cell_type": "markdown",
   "metadata": {},
   "source": [
    "You should look at the [document on good docstring conventions](http://www.python.org/dev/peps/pep-0257/) when considering how to document methods, classes etc.\n",
    "\n",
    "To demonstrate your documentation, you **must** include the help text generated by your code after you include the code. e.g.:"
   ]
  },
  {
   "cell_type": "code",
   "execution_count": 35,
   "metadata": {
    "ExecuteTime": {
     "end_time": "2017-11-21T19:49:36.343661Z",
     "start_time": "2017-11-21T19:49:36.337210Z"
    }
   },
   "outputs": [],
   "source": [
    "def print_something(this,stderr=False):\n",
    "    '''This does something.\n",
    "\n",
    "    Keyword arguments:\n",
    "    stderr -- set to True to print to stderr (default False)\n",
    "    '''\n",
    "\n",
    "    if stderr:\n",
    "        # import sys.stderr\n",
    "        from sys import stderr\n",
    "\n",
    "        # print to stderr channel, converting this to str\n",
    "        print >> stderr,str(this)\n",
    "\n",
    "        # job done, return\n",
    "        return\n",
    "\n",
    "    # print to stdout, converting this to str\n",
    "    print (str(this))\n",
    "\n",
    "    return\n"
   ]
  },
  {
   "cell_type": "markdown",
   "metadata": {},
   "source": [
    "Then the help text would be:"
   ]
  },
  {
   "cell_type": "code",
   "execution_count": 36,
   "metadata": {
    "ExecuteTime": {
     "end_time": "2017-11-21T19:49:37.654141Z",
     "start_time": "2017-11-21T19:49:37.649675Z"
    }
   },
   "outputs": [
    {
     "name": "stdout",
     "output_type": "stream",
     "text": [
      "Help on function print_something in module __main__:\n",
      "\n",
      "print_something(this, stderr=False)\n",
      "    This does something.\n",
      "    \n",
      "    Keyword arguments:\n",
      "    stderr -- set to True to print to stderr (default False)\n",
      "\n"
     ]
    }
   ],
   "source": [
    "help(print_something)"
   ]
  },
  {
   "cell_type": "markdown",
   "metadata": {},
   "source": [
    "The above example represents a ‘good’ level of commenting as the code broadly adheres to the style suggestions and most of the major features are covered. It is not quite ‘very good/excellent’ as the description of the purpose of the method (rather important) is trivial and it fails to describe the input this in any way. An excellent piece would do all of these things, and might well tell us about any dependencies (e.g. requires sys if stderr set to True).\n",
    "\n",
    "An inadequate example would be:"
   ]
  },
  {
   "cell_type": "code",
   "execution_count": 38,
   "metadata": {
    "ExecuteTime": {
     "end_time": "2017-11-21T19:49:39.641877Z",
     "start_time": "2017-11-21T19:49:39.635030Z"
    }
   },
   "outputs": [],
   "source": [
    "def print_something(this,stderr=False):\n",
    "    '''This prints something'''\n",
    "    if stderr:\n",
    "        from sys import stderr\n",
    "        print >> stderr,str(this)\n",
    "        return\n",
    "    print (str(this))"
   ]
  },
  {
   "cell_type": "markdown",
   "metadata": {},
   "source": [
    "It is inadequate because it still only has a trivial description of the purpose of the method, it tells us nothing about inputs/outputs and there is no commenting inside the method."
   ]
  }
 ],
 "metadata": {
  "kernelspec": {
   "display_name": "conda env:geog0111-geog0111",
   "language": "python",
   "name": "conda-env-geog0111-geog0111-py"
  },
  "language_info": {
   "codemirror_mode": {
    "name": "ipython",
    "version": 3
   },
   "file_extension": ".py",
   "mimetype": "text/x-python",
   "name": "python",
   "nbconvert_exporter": "python",
   "pygments_lexer": "ipython3",
   "version": "3.7.8"
  },
  "latex_envs": {
   "LaTeX_envs_menu_present": true,
   "autocomplete": true,
   "bibliofile": "biblio.bib",
   "cite_by": "apalike",
   "current_citInitial": 1,
   "eqLabelWithNumbers": true,
   "eqNumInitial": 0,
   "hotkeys": {
    "equation": "Ctrl-E",
    "itemize": "Ctrl-I"
   },
   "labels_anchors": false,
   "latex_user_defs": false,
   "report_style_numbering": false,
   "user_envs_cfg": false
  },
  "toc": {
   "base_numbering": 1,
   "nav_menu": {},
   "number_sections": false,
   "sideBar": true,
   "skip_h1_title": false,
   "title_cell": "Table of Contents",
   "title_sidebar": "Contents",
   "toc_cell": true,
   "toc_position": {
    "height": "calc(100% - 180px)",
    "left": "10px",
    "top": "150px",
    "width": "362.1875px"
   },
   "toc_section_display": "block",
   "toc_window_display": true
  }
 },
 "nbformat": 4,
 "nbformat_minor": 4
}
