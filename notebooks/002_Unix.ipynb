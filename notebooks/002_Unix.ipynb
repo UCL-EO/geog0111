{
 "cells": [
  {
   "cell_type": "markdown",
   "metadata": {},
   "source": [
    "<img alt='UCL' src=\"images/ucl_logo.png\" align='center'>\n",
    "\n",
    "\n",
    "[<img src=\"images/noun_post_2109127.svg\" width=\"50\" align='right'>](003_Help.ipynb)\n",
    "[<img src=\"images/noun_pre_2109128.svg\" width=\"50\" align='right'>](001_Notebook_use.ipynb)"
   ]
  },
  {
   "cell_type": "markdown",
   "metadata": {},
   "source": [
    "# 002 Some basic UNIX"
   ]
  },
  {
   "cell_type": "markdown",
   "metadata": {},
   "source": [
    "\n",
    "## Introduction\n",
    "\n",
    "\n",
    "#### Purpose\n",
    "\n",
    "Although this course is about coding in Python, it can be of great value to you to learn at least some basic concepts and commands of the operating system. To that end, in this session we will learn some basic `unix` commands. You will be able to use these in almost any modern computing operating system may use: the `unix` shell is a core part of [`linux`](https://www.linux.org/) and [macOS](https://en.wikipedia.org/wiki/MacOS) and is directly available to you even in [Windows 10/11](https://docs.microsoft.com/en-us/windows/wsl/about). If you use these notes through the [`JupyterLab`](https://jupyterlab.readthedocs.io/en/stable/) interface, even from a mobile device, you will have access to a [`unix` shell](https://jupyterlab.readthedocs.io/en/stable/user/terminal.html?highlight=bash) to run commands.\n",
    "\n",
    "There are many online tutorials on unix. A good place to start backup material and some more features for the material we will cover today is [software-carpentry.org](https://v4.software-carpentry.org/shell/index.html).\n",
    "\n",
    "\n",
    "#### Prerequisites\n",
    "\n",
    "You will need some understanding of the following:\n",
    "\n",
    "\n",
    "* [001 Using Notebooks](001_Notebook_use.ipynb)\n",
    "\n",
    "\n",
    "Remember that you can 'run' the code in a code block using the 'run' widget (above) or hitting the keys ('typing') <shift> and <return> at the same time. "
   ]
  },
  {
   "cell_type": "markdown",
   "metadata": {},
   "source": [
    "## Running unix commands \n",
    "\n",
    "### Unix in code cells \n",
    "\n",
    "The code cells in this notebook take Python commands by default, but we can run `unix` commands either by pre-pending a single command with `!`:"
   ]
  },
  {
   "cell_type": "code",
   "execution_count": 1,
   "metadata": {},
   "outputs": [
    {
     "name": "stdout",
     "output_type": "stream",
     "text": [
      "/Users/philiplewis/Documents/GitHub/geog0111/notebooks\r\n"
     ]
    }
   ],
   "source": [
    "!pwd"
   ]
  },
  {
   "cell_type": "markdown",
   "metadata": {},
   "source": [
    "or by using the [cell magic](https://ipython.readthedocs.io/en/stable/interactive/magics.html) `%%bash`:"
   ]
  },
  {
   "cell_type": "code",
   "execution_count": 2,
   "metadata": {},
   "outputs": [
    {
     "name": "stdout",
     "output_type": "stream",
     "text": [
      "/Users/philiplewis/Documents/GitHub/geog0111/notebooks\n"
     ]
    }
   ],
   "source": [
    "%%bash\n",
    "\n",
    "# comment is after #\n",
    "pwd"
   ]
  },
  {
   "cell_type": "markdown",
   "metadata": {},
   "source": [
    "If you are using these notes through the [`JupyterLab`](https://jupyterlab.readthedocs.io/en/stable/) interface you have access to a [terminal](https://jupyterlab.readthedocs.io/en/stable/user/terminal.html?highlight=bash) to run unix commands."
   ]
  },
  {
   "cell_type": "markdown",
   "metadata": {},
   "source": [
    "### Navigating the file system"
   ]
  },
  {
   "cell_type": "markdown",
   "metadata": {},
   "source": [
    "### `~`, `.`, `..`\n",
    "\n",
    "You will be used to the idea of navigating the filesystem from any previous computing you have ever done. You may have done this by clicking your way to a certain 'location' using `File explorer` (in Windows) or `Finder` (in MacOS), but you will have some familiarity with the tree-like nature of a filesystem: you go up or down in the system to find your way to the files and directories you want.\n",
    "\n",
    "When we do this typing command in the `unix` shell, the concepts are exactly the same, but we have some new symbols to learn to help us navigate:\n",
    "\n",
    "    - ~ (tilde/twiddle)\n",
    "    - . (dot)\n",
    "    - .. (dot-dot)\n",
    "    \n",
    "\n",
    "The tilde symbol `~` is a shorthand to refer to your home directory (this would generally be `C:\\Users\\username` on windows, `/Users/username` on MacOS or `/home/username` in linux, where `username` is your username). On windows, the file separator is `\\` (backslash), but on [posix](https://en.wikipedia.org/wiki/POSIX#:~:text=The%20Portable%20Operating%20System%20Interface,maintaining%20compatibility%20between%20operating%20systems.) (`unix`-like) systems it is '/', forward slash. This can cause some issues when changing operating system. You should try to use the posix '/' whenever you can as this is more portable.\n",
    "\n",
    "The symbol `.` means the current directory, and `..` refers to one level up in the directory tree.\n",
    "\n",
    "### `cd`, `pwd`\n",
    "\n",
    "The command `cd filepath` is used in the shell to change from one directory to another. Typically, when you start a shell, you will be in your home directory. We can explicitly 'go to' (i.e. `cd` to) your home with `cd ~`. We use the command `pwd` to print the current working directory.\n",
    "\n",
    "So the following sequence:"
   ]
  },
  {
   "cell_type": "code",
   "execution_count": 3,
   "metadata": {},
   "outputs": [
    {
     "name": "stdout",
     "output_type": "stream",
     "text": [
      "/Users/philiplewis\n"
     ]
    }
   ],
   "source": [
    "%%bash\n",
    "\n",
    "cd ~\n",
    "pwd"
   ]
  },
  {
   "cell_type": "markdown",
   "metadata": {},
   "source": [
    "changes directory to our home, and prints the directory name.\n",
    "\n",
    "In the following command, we use `cd ..` to go up one directory. Notice that each time we start a new shell here, the location is re-set to the location of these notebooks (e.g. `geog0111/notebooks` or `geog0111/notebooks_lab` depending on where you run the notebook from)."
   ]
  },
  {
   "cell_type": "code",
   "execution_count": 4,
   "metadata": {},
   "outputs": [
    {
     "name": "stdout",
     "output_type": "stream",
     "text": [
      "/Users/philiplewis/Documents/GitHub/geog0111/notebooks\n",
      "/Users/philiplewis/Documents/GitHub/geog0111\n"
     ]
    }
   ],
   "source": [
    "%%bash\n",
    "\n",
    "pwd\n",
    "cd ..\n",
    "pwd"
   ]
  },
  {
   "cell_type": "markdown",
   "metadata": {
    "solution2": "hidden",
    "solution2_first": true
   },
   "source": [
    "#### Exercise 1\n",
    "\n",
    "* Use `cd` and `..` to move one directory at a time to your home directory. Check where you are at each stage using `pwd`.\n",
    "* Use `cd` and `~` to go straight to your home directory. Then go from there back to the notebook directory. Check where you are at each stage using `pwd`."
   ]
  },
  {
   "cell_type": "code",
   "execution_count": 5,
   "metadata": {
    "solution2": "hidden"
   },
   "outputs": [
    {
     "name": "stdout",
     "output_type": "stream",
     "text": [
      "/Users/philiplewis/Documents/GitHub/geog0111/notebooks\n",
      "/Users/philiplewis/Documents/GitHub/geog0111\n",
      "/Users/philiplewis/Documents/GitHub\n",
      "/Users/philiplewis\n"
     ]
    }
   ],
   "source": [
    "%%bash\n",
    "# ANSWER\n",
    "\n",
    "# Use cd and .. to move one directory at a time to your home directory. \n",
    "# Check where you are at each stage using pwd.\n",
    "\n",
    "# we start e.g. in /Users/plewis/Documents/GitHub/geog0111/notebooks\n",
    "pwd\n",
    "\n",
    "# go to /Users/plewis/Documents/GitHub/geog0111\n",
    "cd ..\n",
    "pwd\n",
    "\n",
    "# go to /Users/plewis/Documents/GitHub\n",
    "cd ..\n",
    "pwd\n",
    "\n",
    "# go to /Users/plewis\n",
    "cd ../..\n",
    "pwd"
   ]
  },
  {
   "cell_type": "code",
   "execution_count": 6,
   "metadata": {
    "solution2": "hidden"
   },
   "outputs": [
    {
     "name": "stdout",
     "output_type": "stream",
     "text": [
      "/Users/philiplewis/Documents/GitHub/geog0111/notebooks\n",
      "/Users/philiplewis\n",
      "/Users/philiplewis/geog0111/notebooks\n"
     ]
    }
   ],
   "source": [
    "%%bash\n",
    "# ANSWER\n",
    "\n",
    "# Use cd and ~ to go straight to your home directory. \n",
    "# Check where you are at each stage using pwd.\n",
    "pwd\n",
    "cd ~\n",
    "pwd\n",
    "\n",
    "# Then go from there back to the notebook directory. \n",
    "# This is e.g. in Documents/GitHub/geog0111/notebooks\n",
    "# relative to where we are\n",
    "cd geog0111/notebooks\n",
    "pwd"
   ]
  },
  {
   "cell_type": "markdown",
   "metadata": {},
   "source": [
    "### `ls` `ls -lh` `*`\n",
    "\n",
    "The command `ls` lists the files specified. For example:\n"
   ]
  },
  {
   "cell_type": "code",
   "execution_count": 7,
   "metadata": {},
   "outputs": [
    {
     "name": "stdout",
     "output_type": "stream",
     "text": [
      "README.md\n"
     ]
    }
   ],
   "source": [
    "%%bash\n",
    "cd ~/geog0111/notebooks\n",
    "ls R*"
   ]
  },
  {
   "cell_type": "markdown",
   "metadata": {},
   "source": [
    "Here, `R*` uses the wildcard `*`, so `R*` means `R` followed by zero or more characters.\n",
    "\n",
    "If we specify the option `-lh` then it provides a long listing (`-l`) with file size in 'human-readable' format (`-h`):"
   ]
  },
  {
   "cell_type": "code",
   "execution_count": 8,
   "metadata": {},
   "outputs": [
    {
     "name": "stdout",
     "output_type": "stream",
     "text": [
      "-rw-r--r--  1 philiplewis  staff   7.0K 12 Jul  2022 README.md\n"
     ]
    }
   ],
   "source": [
    "%%bash\n",
    "cd ~/geog0111/notebooks\n",
    "ls -lh README.md"
   ]
  },
  {
   "cell_type": "markdown",
   "metadata": {},
   "source": [
    "Here, the file size if `3.3K` (3.3 KBytes), and the file is owned by the user `plewis`. The field `-rw-r--r--` provides information on file permissions. Ignoring the first `-`, it is in 3 sets of 3 bits:\n",
    "\n",
    "    rw-  r--  r--\n",
    "    \n",
    "which refer to permissions for the user, group, and everyone, respectively. The permission fields are `rwx`, meaning permissions of read, write, and execute, respectively. Execute here means that we can run the file as a script. In the example above, the no execute permission is set (it is not a script file), the user has read and write permission, and group and everyone have only read permissions. So, only the user can write to this file, but everyone can read it.\n",
    "\n",
    "These fields `rwx` can be viewed as 3 bits which we can interpret as a [base-8 (octal) number](https://en.wikipedia.org/wiki/Octal) (i.e. between 0 and 7) where:\n",
    "\n",
    "    --- -> 0\n",
    "    --x -> 1\n",
    "    -w- -> 2\n",
    "    -wx -> 3\n",
    "    r-- -> 4\n",
    "    r-x -> 5\n",
    "    rw- -> 6\n",
    "    rwx -> 7\n",
    "    \n",
    "Following that, we interpret the field `rw-r--r--` from above as `644`. The most common file permissions you will likely see or need are:\n",
    "\n",
    "    644 -> rw-r--r--\n",
    "    755 -> rwxr-xr-x\n",
    "    \n",
    " "
   ]
  },
  {
   "cell_type": "markdown",
   "metadata": {
    "solution2": "hidden",
    "solution2_first": true
   },
   "source": [
    "#### Exercise 2\n",
    "\n",
    "* examine the file permissions for files `~/geog0111/notebooks/bin/*` (in the directory `~/geog0111/notebooks/bin`)\n",
    "* what do you notice about these? \n",
    "* why do you think this is so?"
   ]
  },
  {
   "cell_type": "code",
   "execution_count": 9,
   "metadata": {
    "scrolled": false,
    "solution2": "hidden"
   },
   "outputs": [
    {
     "name": "stdout",
     "output_type": "stream",
     "text": [
      "/Users/philiplewis/Documents/GitHub/geog0111/notebooks\n",
      "-rw-r--r--  1 philiplewis  staff   245B 12 Jul  2022 /Users/philiplewis/geog0111/notebooks/bin/NASAaccount0111.py\n",
      "-rw-r--r--  1 philiplewis  staff    16B 12 Jul  2022 /Users/philiplewis/geog0111/notebooks/bin/README\n",
      "-rwxr-xr-x  1 philiplewis  staff   1.1K 12 Jul  2022 /Users/philiplewis/geog0111/notebooks/bin/build-conda-package\n",
      "-rwxr-xr-x  1 philiplewis  staff   220B 12 Jul  2022 /Users/philiplewis/geog0111/notebooks/bin/build-pypi-package\n",
      "-rwxr-xr-x  1 philiplewis  staff   1.3K 12 Jul  2022 /Users/philiplewis/geog0111/notebooks/bin/clean0111.sh\n",
      "lrwxr-xr-x  1 philiplewis  staff     7B 12 Jul  2022 /Users/philiplewis/geog0111/notebooks/bin/copy -> ../copy\n",
      "-rwxr-xr-x  1 philiplewis  staff    43B 12 Jul  2022 /Users/philiplewis/geog0111/notebooks/bin/database.sh\n",
      "-rwxr-xr-x  1 philiplewis  staff   217B 12 Jul  2022 /Users/philiplewis/geog0111/notebooks/bin/docker-build\n",
      "-rwxr-xr-x  1 philiplewis  staff   428B 12 Jul  2022 /Users/philiplewis/geog0111/notebooks/bin/docker-killall\n",
      "-rwxr-xr-x  1 philiplewis  staff   1.0K 12 Jul  2022 /Users/philiplewis/geog0111/notebooks/bin/docker-run\n",
      "-rwxr-xr-x  1 philiplewis  staff   534B 12 Jul  2022 /Users/philiplewis/geog0111/notebooks/bin/fixA.sh\n",
      "-rwxr-xr-x  1 philiplewis  staff   2.0K 12 Jul  2022 /Users/philiplewis/geog0111/notebooks/bin/get-datasets.sh\n",
      "-rwxr-xr-x  1 philiplewis  staff   569B 12 Jul  2022 /Users/philiplewis/geog0111/notebooks/bin/git-remove-all.sh\n",
      "-rw-r--r--  1 philiplewis  staff   257B 12 Jul  2022 /Users/philiplewis/geog0111/notebooks/bin/howmany.sh\n",
      "-rwxr-xr-x  1 philiplewis  staff   2.2K 12 Jul  2022 /Users/philiplewis/geog0111/notebooks/bin/init.sh\n",
      "-rwxr-xr-x  1 philiplewis  staff   2.7K 12 Jul  2022 /Users/philiplewis/geog0111/notebooks/bin/init0111.sh\n",
      "-rwxr-xr-x  1 philiplewis  staff   3.2K 12 Jul  2022 /Users/philiplewis/geog0111/notebooks/bin/link-set.sh\n",
      "-rwxr-xr-x  1 philiplewis  staff   8.0K 12 Jul  2022 /Users/philiplewis/geog0111/notebooks/bin/notebook-mkdocs.sh\n",
      "-rwxr-xr-x  1 philiplewis  staff   2.0K 12 Jul  2022 /Users/philiplewis/geog0111/notebooks/bin/notebook-run.sh\n",
      "-rwxr-xr-x  1 philiplewis  staff   1.5K 12 Jul  2022 /Users/philiplewis/geog0111/notebooks/bin/postBuild\n",
      "-rwxr-xr-x  1 philiplewis  staff    44B 12 Jul  2022 /Users/philiplewis/geog0111/notebooks/bin/pullYou\n",
      "-rwxr-xr-x  1 philiplewis  staff    95B 12 Jul  2022 /Users/philiplewis/geog0111/notebooks/bin/pushMe\n",
      "-rwxr-xr-x  1 philiplewis  staff   526B 12 Jul  2022 /Users/philiplewis/geog0111/notebooks/bin/set-course.sh\n",
      "-rwxr-xr-x  1 philiplewis  staff   3.4K 12 Jul  2022 /Users/philiplewis/geog0111/notebooks/bin/setup.sh\n",
      "-rwxr-xr-x  1 philiplewis  staff   754B 12 Jul  2022 /Users/philiplewis/geog0111/notebooks/bin/shellMe.sh\n",
      "-rwxr-xr-x  1 philiplewis  staff   2.6K 12 Jul  2022 /Users/philiplewis/geog0111/notebooks/bin/sort-db.sh\n",
      "-rwxr-xr-x  1 philiplewis  staff   742B 12 Jul  2022 /Users/philiplewis/geog0111/notebooks/bin/tidy.sh\n",
      "===============================\n",
      "* what do you notice about these?\n",
      "===============================\n",
      "Most of them are -rwxr-xr-x, which is 755 so they have read write \n",
      "and execute for the user (7) but only read and execute for others.\n",
      "The file bin/README has 644: read and write for the user (6) but\n",
      "just read for others.\n",
      "===============================\n",
      "* why do you think this is so?\n",
      "===============================\n",
      "Most of these are executable commands (scripts to run).\n",
      "The ones that end with .sh will be sh or bash scripts\n",
      "\n",
      "The README file is not executable: its just a text file.\n"
     ]
    }
   ],
   "source": [
    "%%bash\n",
    "\n",
    "# This solution is called a bash script\n",
    "# it runs a series of bash (unix) commands, one after the other\n",
    "# It uses a special shell feature cat << EOF ... EOF for convenience\n",
    "# This is known as the 'here-document' structure that allows\n",
    "# multi-line input so everything between the EOF markers\n",
    "# is treated as if it essentially came from a text file. \n",
    "# All that does here is to print out everything in the ... \n",
    "# to the terminal (sends to the stdin of the cmd cat)\n",
    "\n",
    "# pwd\n",
    "pwd\n",
    "\n",
    "# * examine the file permissions in the directory bin\n",
    "ls -lh ~/geog0111/notebooks/bin/*\n",
    "\n",
    "# * what do you notice about these?\n",
    "cat << EOF\n",
    "===============================\n",
    "* what do you notice about these?\n",
    "===============================\n",
    "Most of them are -rwxr-xr-x, which is 755 so they have read write \n",
    "and execute for the user (7) but only read and execute for others.\n",
    "The file bin/README has 644: read and write for the user (6) but\n",
    "just read for others.\n",
    "EOF\n",
    "\n",
    "cat << EOF\n",
    "===============================\n",
    "* why do you think this is so?\n",
    "===============================\n",
    "Most of these are executable commands (scripts to run).\n",
    "The ones that end with .sh will be sh or bash scripts\n",
    "\n",
    "The README file is not executable: its just a text file.\n",
    "EOF"
   ]
  },
  {
   "cell_type": "markdown",
   "metadata": {},
   "source": [
    "### `chmod`\n",
    "\n",
    "We can change file permissions with the command `chmod`. For example:"
   ]
  },
  {
   "cell_type": "code",
   "execution_count": 10,
   "metadata": {},
   "outputs": [
    {
     "name": "stdout",
     "output_type": "stream",
     "text": [
      "-rw-r--r--  1 philiplewis  staff   7.1K 12 Jul  2022 ../README.md\n",
      "-rwxr-xr-x  1 philiplewis  staff   7.1K 12 Jul  2022 ../README.md\n"
     ]
    }
   ],
   "source": [
    "%%bash\n",
    "cd ~/geog0111/notebooks\n",
    "\n",
    "ls -lh ../README.md\n",
    "chmod 755 ../README.md\n",
    "\n",
    "ls -lh ../README.md\n",
    "chmod 644 ../README.md"
   ]
  },
  {
   "cell_type": "markdown",
   "metadata": {},
   "source": [
    "First the permissions of the file are 644 as we saw above, then we use `chmod 755` to change to 755, then back again to 644. Most commonly, we will use this later ion to apply execute permission to a file:\n",
    "\n",
    "    chmod 755 filename"
   ]
  },
  {
   "cell_type": "markdown",
   "metadata": {},
   "source": [
    "### absolute and relative pathnames"
   ]
  },
  {
   "cell_type": "markdown",
   "metadata": {},
   "source": [
    "A posix directory name that **starts with** the file separator '/' is called an **absolute** pathname: it is addressed from the root of the file system (`/`). An example of an absolute filename is `/home/jovyan/geog0111/README.md`. If the filename starts with `~`, it is in effect an absolute pathname. For example:\n"
   ]
  },
  {
   "cell_type": "code",
   "execution_count": 11,
   "metadata": {
    "code_folding": []
   },
   "outputs": [
    {
     "name": "stdout",
     "output_type": "stream",
     "text": [
      "-rw-r--r--  1 philiplewis  staff  7201 12 Jul  2022 /Users/philiplewis/geog0111/notebooks/README.md\n"
     ]
    }
   ],
   "source": [
    "%%bash\n",
    "\n",
    "ls -l ~/geog0111/notebooks/README.md"
   ]
  },
  {
   "cell_type": "markdown",
   "metadata": {},
   "source": [
    "\n",
    "A *relative pathname* is one that does not start with `/`  or `~`. It is specified relative to where we are in the filesystem in the current shell. For example:"
   ]
  },
  {
   "cell_type": "code",
   "execution_count": 12,
   "metadata": {},
   "outputs": [
    {
     "name": "stdout",
     "output_type": "stream",
     "text": [
      "-rw-r--r--  1 philiplewis  staff  7279 12 Jul  2022 ../README.md\n"
     ]
    }
   ],
   "source": [
    "%%bash\n",
    "\n",
    "cd ~/geog0111/notebooks\n",
    "\n",
    "ls -l ../README.md"
   ]
  },
  {
   "cell_type": "markdown",
   "metadata": {},
   "source": [
    "Recall that we use `..` to specify 'up one level'. Then:"
   ]
  },
  {
   "cell_type": "code",
   "execution_count": 13,
   "metadata": {},
   "outputs": [
    {
     "name": "stdout",
     "output_type": "stream",
     "text": [
      "/Users/philiplewis/geog0111/notebooks/images\n",
      "/Users/philiplewis/geog0111/notebooks/bin\n",
      "/Users/philiplewis/geog0111/notebooks\n"
     ]
    }
   ],
   "source": [
    "%%bash\n",
    "\n",
    "# cd to absolute path ~/geog0111/notebooks/images\n",
    "cd ~/geog0111/notebooks/images\n",
    "pwd\n",
    "\n",
    "# now relatuve cd up one and down to bin\n",
    "cd ../bin\n",
    "pwd\n",
    "\n",
    "# now relative cd up one level\n",
    "cd ..\n",
    "pwd"
   ]
  },
  {
   "cell_type": "markdown",
   "metadata": {},
   "source": [
    "### Create and delete a file, `cat`, `rm`"
   ]
  },
  {
   "cell_type": "markdown",
   "metadata": {},
   "source": [
    "#### `cat` and `<<`\n",
    "\n",
    "We can use the command `cat` to create a text files from a shell, but this is a bit more involved in a notebook cell than in normal use in an interactive unix shell, and involves the use of the redirection marker `<<`,. known as the `here-document` structure.\n",
    "\n",
    "    cat << EOF\n",
    "    line 1\n",
    "    line 2\n",
    "    EOF\n",
    "    \n",
    "sends the text input between the markers (`EOF` here):\n",
    "\n",
    "    line 1\n",
    "    line 2\n",
    "    \n",
    "into the command `cat` (which just sends it to the screen). So that's one (slightly awkward) way to create a file ...\n",
    "\n",
    "For example:"
   ]
  },
  {
   "cell_type": "code",
   "execution_count": 14,
   "metadata": {},
   "outputs": [
    {
     "name": "stdout",
     "output_type": "stream",
     "text": [
      "-rw-r--r--  1 philiplewis  staff    73B 28 Jun 10:51 work/newererfile.dat\n"
     ]
    }
   ],
   "source": [
    "%%bash\n",
    "\n",
    "# code between the next line and the \n",
    "# End Of File (EOF) marker will be saved in \n",
    "# to the file work/newfile.dat\n",
    "# the symbols << and > involve \n",
    "# redirection\n",
    "#\n",
    "# << is called the here-document structure\n",
    "# and redirects input (between markers EOF here) to the cmd\n",
    "# > redirects output, to the file work/newererfile.dat \n",
    "\n",
    "cd ~/geog0111/notebooks\n",
    "\n",
    "cat << EOF > work/newererfile.dat\n",
    "\n",
    "# this will go into the file\n",
    "hello world - this is some text in a file\n",
    "\n",
    "EOF\n",
    "\n",
    "# ls -l to see what we have: 73 Bytes here\n",
    "ls -lh work/n*"
   ]
  },
  {
   "cell_type": "markdown",
   "metadata": {},
   "source": [
    "#### `cat` and `<`\n",
    "\n",
    "We can also use `cat` to see what is in a file. We use the `stdin` redirection `<` to send text from a text file (`work/newererfile.dat` below) *into* the command `cat`:"
   ]
  },
  {
   "cell_type": "code",
   "execution_count": 15,
   "metadata": {},
   "outputs": [
    {
     "name": "stdout",
     "output_type": "stream",
     "text": [
      "\n",
      "# this will go into the file\n",
      "hello world - this is some text in a file\n",
      "\n"
     ]
    }
   ],
   "source": [
    "%%bash\n",
    "cd ~/geog0111/notebooks\n",
    "\n",
    "cat < work/newererfile.dat"
   ]
  },
  {
   "cell_type": "markdown",
   "metadata": {},
   "source": [
    "#### `rm` \n",
    "\n",
    "We can use the command `rm` to delete a file:"
   ]
  },
  {
   "cell_type": "code",
   "execution_count": 16,
   "metadata": {},
   "outputs": [],
   "source": [
    "%%bash\n",
    "cd ~/geog0111/notebooks\n",
    "\n",
    "rm work/newererfile.dat\n"
   ]
  },
  {
   "cell_type": "markdown",
   "metadata": {},
   "source": [
    "### Creating files\n",
    "\n",
    "In notebooks, you will find it much easier to create files using the the menu item `File -> New -> Text File` to open a new text file (similarly for other types of file)."
   ]
  },
  {
   "cell_type": "markdown",
   "metadata": {
    "solution2": "hidden",
    "solution2_first": true
   },
   "source": [
    "#### Exercise 3\n",
    "\n",
    "* Create a file `work/newfile.dat` using cat and check the new file size.\n",
    "* Use the menu item `File -> Open` to edit the file you have created and print the new file size\n",
    "* Use `cat` to show the new file content\n",
    "* delete the file"
   ]
  },
  {
   "cell_type": "code",
   "execution_count": 17,
   "metadata": {
    "solution2": "hidden"
   },
   "outputs": [
    {
     "name": "stdout",
     "output_type": "stream",
     "text": [
      "-rw-r--r--  1 philiplewis  staff  73 28 Jun 10:51 work/newfile.dat\n"
     ]
    }
   ],
   "source": [
    "%%bash\n",
    "cd ~/geog0111/notebooks\n",
    "\n",
    "# ANSWER\n",
    "# Create a file `work/newfile.dat` using cat and check the new file size.\n",
    "cat << EOF > work/newfile.dat\n",
    "\n",
    "# this will go into the file\n",
    "hello world - this is some text in a file\n",
    "\n",
    "EOF\n",
    "ls -l work/newfile.dat"
   ]
  },
  {
   "cell_type": "code",
   "execution_count": 18,
   "metadata": {
    "solution2": "hidden"
   },
   "outputs": [
    {
     "name": "stdout",
     "output_type": "stream",
     "text": [
      "-rw-r--r--  1 philiplewis  staff  73 28 Jun 10:51 work/newfile.dat\n",
      "\n",
      "# this will go into the file\n",
      "hello world - this is some text in a file\n",
      "\n"
     ]
    }
   ],
   "source": [
    "%%bash\n",
    "cd ~/geog0111/notebooks\n",
    "\n",
    "# ANSWER\n",
    "# Use the menu item File -> Open to edit the \n",
    "# file you have created and print the new file size\n",
    "# --> do interactively <--\n",
    "ls -l work/newfile.dat\n",
    "\n",
    "# Use cat to show the new file content\n",
    "cat work/newfile.dat"
   ]
  },
  {
   "cell_type": "code",
   "execution_count": 19,
   "metadata": {
    "solution2": "hidden"
   },
   "outputs": [],
   "source": [
    "%%bash\n",
    "cd ~/geog0111/notebooks\n",
    "\n",
    "# ANSWER\n",
    "# delete the file\n",
    "rm work/newfile.dat"
   ]
  },
  {
   "cell_type": "markdown",
   "metadata": {
    "solution2": "hidden",
    "solution2_first": true
   },
   "source": [
    "#### Exercise 4\n",
    "\n",
    "Using the `unix` commands and ideas from above:\n",
    "\n",
    "* show a listing of the files in the relative directory `geog0111` that start with the letter `f`\n",
    "* interpret the file permissions and sizes of the files in there"
   ]
  },
  {
   "cell_type": "code",
   "execution_count": 20,
   "metadata": {
    "solution2": "hidden"
   },
   "outputs": [
    {
     "name": "stdout",
     "output_type": "stream",
     "text": [
      "-rwxr-xr-x  1 philiplewis  staff   362B 12 Jul  2022 geog0111/fdict.py\n",
      "-rwxr-xr-x  1 philiplewis  staff   1.7K 12 Jul  2022 geog0111/filter_movies.py\n",
      "-rwxr-xr-x  1 philiplewis  staff   2.2K 12 Jul  2022 geog0111/fire_practical_model.py\n",
      "-rwxr-xr-x  1 philiplewis  staff   4.3K 12 Jul  2022 geog0111/fire_practical_satellite.py\n",
      "-rwxr-xr-x  1 philiplewis  staff   1.9K 12 Jul  2022 geog0111/fire_practical_telecon.py\n",
      "-rwxr-xr-x  1 philiplewis  staff    66B 12 Jul  2022 geog0111/flatten.py\n"
     ]
    }
   ],
   "source": [
    "%%bash\n",
    "# ANSWER\n",
    "# show a listing of the files in the relative \n",
    "# directory geog0111 that start with the letter f\n",
    "# so\n",
    "#     geog0111/f*\n",
    "cd ~/geog0111/notebooks\n",
    "\n",
    "ls -lh geog0111/f*\n",
    "\n",
    "# interpret the file permissions and sizes of the files in there\n",
    "# the file sizes are 2.2KB, 4.3KB and 1.9KB respectively\n",
    "# the file permissions are all 644, so, read and write for the user, \n",
    "# and only read for others"
   ]
  },
  {
   "cell_type": "markdown",
   "metadata": {},
   "source": [
    "## Summary\n",
    "\n",
    "In this section, we have learned the following `unix` commands and symbols:\n",
    "\n",
    "| cmd  |  meaning  | example use | \n",
    "|---|---|--|\n",
    "| `~`  |  twiddle / tilde -  home | `cd ~/geog0111` |\n",
    "| `.`  |  dot  - current directory | `cd .` |\n",
    "| `..`  |  dot dot  - one level up directory | `cd ..` |\n",
    "| `*`  | wildcard   | `ls R*` |\n",
    "| `<`  |  stdin redirection | `cat < afile.dat` |\n",
    "| `<<`  |  here-document structure | `cat << EOF` |\n",
    "| | | `text EOF > bfile.dat` |\n",
    "| `>`  |  stdout redirection | `cat < afile.dat > bfile.dat` |\n",
    "| `cd`  | change directory   | `cd ~/geog0111` |\n",
    "| `pwd`  | print working directory | `pwd` |\n",
    "| `ls`  | list | `ls README.md` |\n",
    "| `ls -l`  | long list | `ls -l README.md` |\n",
    "| `ls -lh`  | human-readable long list |`ls -lh README.md` |\n",
    "| `chmod`  | change mode (permissions) | `chmod 644 README.md` |\n",
    "| `rm` | remove | `rm work/n*` |\n",
    "| `755` | `rwxr-xr-x` | `chmod 755 bin/*` |\n",
    "| `644` | `rw-r--r--` | `chmod 644 README.md` |\n",
    "\n",
    "We have seen that we can use the cell magic `%%bash` or `!` to use `unix` commands in Python code cells in a notebook. This is a very basic introduction to unix, but it will allow you to make better use of the operating system and these notebooks.\n",
    "\n",
    "### You should know how to do some basic operations in a unix shell\n",
    "\n",
    "You should recognise the special file characters (`.`, `..`, `~`, `*`).\n",
    "\n",
    "You should know how to navigate the unix file structure using `cd`, `pwd` and these and `/`, and access information about files using `ls`.\n",
    "\n",
    "You should have come across redirection (`<<`, `<` and `>` here).\n",
    "\n",
    "You should know how to create files, remove files, and understand and change the file permissions.\n",
    "\n",
    "If you are unsure of any of these, then try going over the material again, explore other resources you may find, and/or come to the Thursday help sessions and ask for help."
   ]
  },
  {
   "cell_type": "markdown",
   "metadata": {},
   "source": [
    "\n",
    "[<img src=\"images/noun_post_2109127.svg\" width=\"50\" align='right'>](003_Help.ipynb)\n",
    "[<img src=\"images/noun_pre_2109128.svg\" width=\"50\" align='right'>](001_Notebook_use.ipynb)\n"
   ]
  }
 ],
 "metadata": {
  "kernelspec": {
   "display_name": "conda env:geog0111-geog0111",
   "language": "python",
   "name": "conda-env-geog0111-geog0111-py"
  },
  "language_info": {
   "codemirror_mode": {
    "name": "ipython",
    "version": 3
   },
   "file_extension": ".py",
   "mimetype": "text/x-python",
   "name": "python",
   "nbconvert_exporter": "python",
   "pygments_lexer": "ipython3",
   "version": "3.7.13"
  },
  "latex_envs": {
   "LaTeX_envs_menu_present": true,
   "autocomplete": true,
   "bibliofile": "biblio.bib",
   "cite_by": "apalike",
   "current_citInitial": 1,
   "eqLabelWithNumbers": true,
   "eqNumInitial": 1,
   "hotkeys": {
    "equation": "Ctrl-E",
    "itemize": "Ctrl-I"
   },
   "labels_anchors": false,
   "latex_user_defs": false,
   "report_style_numbering": false,
   "user_envs_cfg": false
  },
  "toc": {
   "base_numbering": 1,
   "nav_menu": {},
   "number_sections": false,
   "sideBar": false,
   "skip_h1_title": false,
   "title_cell": "Table of Contents",
   "title_sidebar": "Contents",
   "toc_cell": false,
   "toc_position": {
    "height": "calc(100% - 180px)",
    "left": "10px",
    "top": "150px",
    "width": "207px"
   },
   "toc_section_display": false,
   "toc_window_display": false
  },
  "varInspector": {
   "cols": {
    "lenName": 16,
    "lenType": 16,
    "lenVar": 40
   },
   "kernels_config": {
    "python": {
     "delete_cmd_postfix": "",
     "delete_cmd_prefix": "del ",
     "library": "var_list.py",
     "varRefreshCmd": "print(var_dic_list())"
    },
    "r": {
     "delete_cmd_postfix": ") ",
     "delete_cmd_prefix": "rm(",
     "library": "var_list.r",
     "varRefreshCmd": "cat(var_dic_list()) "
    }
   },
   "types_to_exclude": [
    "module",
    "function",
    "builtin_function_or_method",
    "instance",
    "_Feature"
   ],
   "window_display": false
  }
 },
 "nbformat": 4,
 "nbformat_minor": 4
}
