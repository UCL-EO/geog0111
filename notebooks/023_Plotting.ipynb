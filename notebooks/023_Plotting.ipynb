{
 "cells": [
  {
   "cell_type": "markdown",
   "metadata": {},
   "source": [
    "<img alt='UCL' src=\"images/ucl_logo.png\" align='center'>\n",
    "\n",
    "\n",
    "[<img src=\"images/noun_post_2109127.svg\" width=\"50\" align='right'>](024_Image_display.ipynb)\n",
    "[<img src=\"images/noun_pre_2109128.svg\" width=\"50\" align='right'>](022_Read_write_files.ipynb)\n",
    "\n"
   ]
  },
  {
   "cell_type": "markdown",
   "metadata": {},
   "source": [
    "#  023 Plotting Graphs"
   ]
  },
  {
   "cell_type": "markdown",
   "metadata": {},
   "source": [
    "\n",
    "### Purpose\n",
    "\n",
    "We have seen from [021 Streams](021_Streams.ipynb) and [022 Read write files](022_Read_write_files.ipynb) how to access both text and binary datasets, either from the local file system or from a URL.\n",
    "\n",
    "In this section, we will learn how to plot graphs from such data. \n",
    "\n",
    "We will be using the core [`matplotlib`](https://matplotlib.org) library for this. We will show only basic plotting here. You will find many examples that you can develop from the the  [`matplotlib` site](https://matplotlib.org/tutorials/introductory/sample_plots.html).\n",
    "\n",
    "You might follow these notes up by looking at the Python packages [`bokeh`](https://bokeh.org/) and [`seaborn`](https://seaborn.pydata.org/) for improved visualisation and interaction.\n",
    "\n",
    "### Prerequisites\n",
    "\n",
    "You will need some understanding of the following:\n",
    "\n",
    "\n",
    "* [001 Using Notebooks](001_Notebook_use.ipynb)\n",
    "* [002 Unix](002_Unix.ipynb) with a good familiarity with the UNIX commands we have been through.\n",
    "* [003 Getting help](003_Help.ipynb)\n",
    "* [010 Variables, comments and print()](010_Python_Introduction.ipynb)\n",
    "* [011 Data types](011_Python_data_types.ipynb) \n",
    "* [012 String formatting](012_Python_strings.ipynb)\n",
    "* [013_Python_string_methods](013_Python_string_methods.ipynb)\n",
    "* [020_Python_files](020_Python_files.ipynb)\n",
    "* [021 Streams](021_Streams.ipynb)\n",
    "* [022 Read write files](022_Read_write_files.ipynb)\n",
    "\n",
    "You will need to know how to use [`pandas`](021_Streams.ipynb#Reading-data-into-pandas) for reading a CSV dataset. Note that you can do plotting within `pandas`. But this is much the same as using [`matplotlib`](https://matplotlib.org) directly, so we will not be using `pandas` plotting. We will introduce the [`Modis`](geog0111/modis.py) class for simple downloading and reading of MODIS datasets."
   ]
  },
  {
   "cell_type": "markdown",
   "metadata": {},
   "source": [
    "## Simple x-y plot\n",
    "\n",
    "We have [previously](021_Streams.ipynb#Reading-data-into-pandas) seen a dataset of Monthly Southeast England precipitation (mm) in a tabular form on the [Met Office website](https://www.metoffice.gov.uk/hadobs/hadukp/data/monthly/HadSEEP_monthly_qc.txt) amnd how to load this into `pandas`:"
   ]
  },
  {
   "cell_type": "code",
   "execution_count": 1,
   "metadata": {},
   "outputs": [
    {
     "data": {
      "text/html": [
       "<div>\n",
       "<style scoped>\n",
       "    .dataframe tbody tr th:only-of-type {\n",
       "        vertical-align: middle;\n",
       "    }\n",
       "\n",
       "    .dataframe tbody tr th {\n",
       "        vertical-align: top;\n",
       "    }\n",
       "\n",
       "    .dataframe thead th {\n",
       "        text-align: right;\n",
       "    }\n",
       "</style>\n",
       "<table border=\"1\" class=\"dataframe\">\n",
       "  <thead>\n",
       "    <tr style=\"text-align: right;\">\n",
       "      <th></th>\n",
       "      <th>YEAR</th>\n",
       "      <th>JAN</th>\n",
       "      <th>FEB</th>\n",
       "      <th>MAR</th>\n",
       "      <th>APR</th>\n",
       "      <th>MAY</th>\n",
       "      <th>JUN</th>\n",
       "      <th>JUL</th>\n",
       "      <th>AUG</th>\n",
       "      <th>SEP</th>\n",
       "      <th>OCT</th>\n",
       "      <th>NOV</th>\n",
       "      <th>DEC</th>\n",
       "      <th>ANN</th>\n",
       "    </tr>\n",
       "  </thead>\n",
       "  <tbody>\n",
       "    <tr>\n",
       "      <th>0</th>\n",
       "      <td>1873</td>\n",
       "      <td>87.1</td>\n",
       "      <td>50.4</td>\n",
       "      <td>52.9</td>\n",
       "      <td>19.9</td>\n",
       "      <td>41.1</td>\n",
       "      <td>63.6</td>\n",
       "      <td>53.2</td>\n",
       "      <td>56.4</td>\n",
       "      <td>62.0</td>\n",
       "      <td>86.0</td>\n",
       "      <td>59.4</td>\n",
       "      <td>15.7</td>\n",
       "      <td>647.7</td>\n",
       "    </tr>\n",
       "    <tr>\n",
       "      <th>1</th>\n",
       "      <td>1874</td>\n",
       "      <td>46.8</td>\n",
       "      <td>44.9</td>\n",
       "      <td>15.8</td>\n",
       "      <td>48.4</td>\n",
       "      <td>24.1</td>\n",
       "      <td>49.9</td>\n",
       "      <td>28.3</td>\n",
       "      <td>43.6</td>\n",
       "      <td>79.4</td>\n",
       "      <td>96.1</td>\n",
       "      <td>63.9</td>\n",
       "      <td>52.3</td>\n",
       "      <td>593.5</td>\n",
       "    </tr>\n",
       "    <tr>\n",
       "      <th>2</th>\n",
       "      <td>1875</td>\n",
       "      <td>96.9</td>\n",
       "      <td>39.7</td>\n",
       "      <td>22.9</td>\n",
       "      <td>37.0</td>\n",
       "      <td>39.1</td>\n",
       "      <td>76.1</td>\n",
       "      <td>125.1</td>\n",
       "      <td>40.8</td>\n",
       "      <td>54.7</td>\n",
       "      <td>137.7</td>\n",
       "      <td>106.4</td>\n",
       "      <td>27.1</td>\n",
       "      <td>803.5</td>\n",
       "    </tr>\n",
       "    <tr>\n",
       "      <th>3</th>\n",
       "      <td>1876</td>\n",
       "      <td>31.8</td>\n",
       "      <td>71.9</td>\n",
       "      <td>79.5</td>\n",
       "      <td>63.6</td>\n",
       "      <td>16.5</td>\n",
       "      <td>37.2</td>\n",
       "      <td>22.3</td>\n",
       "      <td>66.3</td>\n",
       "      <td>118.2</td>\n",
       "      <td>34.1</td>\n",
       "      <td>89.0</td>\n",
       "      <td>162.9</td>\n",
       "      <td>793.3</td>\n",
       "    </tr>\n",
       "    <tr>\n",
       "      <th>4</th>\n",
       "      <td>1877</td>\n",
       "      <td>146.0</td>\n",
       "      <td>47.7</td>\n",
       "      <td>56.2</td>\n",
       "      <td>66.4</td>\n",
       "      <td>62.3</td>\n",
       "      <td>24.9</td>\n",
       "      <td>78.5</td>\n",
       "      <td>82.4</td>\n",
       "      <td>38.4</td>\n",
       "      <td>58.1</td>\n",
       "      <td>144.5</td>\n",
       "      <td>54.2</td>\n",
       "      <td>859.6</td>\n",
       "    </tr>\n",
       "  </tbody>\n",
       "</table>\n",
       "</div>"
      ],
      "text/plain": [
       "   YEAR    JAN   FEB   MAR   APR   MAY   JUN    JUL   AUG    SEP    OCT  \\\n",
       "0  1873   87.1  50.4  52.9  19.9  41.1  63.6   53.2  56.4   62.0   86.0   \n",
       "1  1874   46.8  44.9  15.8  48.4  24.1  49.9   28.3  43.6   79.4   96.1   \n",
       "2  1875   96.9  39.7  22.9  37.0  39.1  76.1  125.1  40.8   54.7  137.7   \n",
       "3  1876   31.8  71.9  79.5  63.6  16.5  37.2   22.3  66.3  118.2   34.1   \n",
       "4  1877  146.0  47.7  56.2  66.4  62.3  24.9   78.5  82.4   38.4   58.1   \n",
       "\n",
       "     NOV    DEC    ANN  \n",
       "0   59.4   15.7  647.7  \n",
       "1   63.9   52.3  593.5  \n",
       "2  106.4   27.1  803.5  \n",
       "3   89.0  162.9  793.3  \n",
       "4  144.5   54.2  859.6  "
      ]
     },
     "execution_count": 1,
     "metadata": {},
     "output_type": "execute_result"
    }
   ],
   "source": [
    "import pandas as pd\n",
    "from geog0111.gurlpath import URL\n",
    "\n",
    "# Monthly Southeast England precipitation (mm) \n",
    "site = 'https://www.metoffice.gov.uk/'\n",
    "site_dir = 'hadobs/hadukp/data/monthly'\n",
    "site_file = 'HadSEEP_monthly_qc.txt'\n",
    "\n",
    "url = URL(site,site_dir,site_file)\n",
    "\n",
    "panda_format = {\n",
    "    'skiprows'   :  3,\n",
    "    'na_values'  :  [-99.9],\n",
    "    'sep'        :  r\"[ ]{1,}\",\n",
    "    'engine'     :  'python'\n",
    "}\n",
    "\n",
    "df=pd.read_table(url.open('r'),**panda_format)\n",
    "\n",
    "# df.head: first n lines\n",
    "df.head()"
   ]
  },
  {
   "cell_type": "markdown",
   "metadata": {},
   "source": [
    "The `pandas` dataframe is essentially a dictionary, so we refer to the data for column `JAN` and `df['JAN']` etc. "
   ]
  },
  {
   "cell_type": "markdown",
   "metadata": {},
   "source": [
    "We can access the column headings as:"
   ]
  },
  {
   "cell_type": "code",
   "execution_count": null,
   "metadata": {},
   "outputs": [],
   "source": [
    "headings = df.columns\n",
    "print(headings)"
   ]
  },
  {
   "cell_type": "markdown",
   "metadata": {},
   "source": [
    "so, if we wanted just the months, we would want to leave out the first and last entry, and this would be:"
   ]
  },
  {
   "cell_type": "code",
   "execution_count": null,
   "metadata": {},
   "outputs": [],
   "source": [
    "headings = df.columns[1:-1]\n",
    "print(headings)"
   ]
  },
  {
   "cell_type": "markdown",
   "metadata": {},
   "source": [
    "Let's plot some of this dataset now:"
   ]
  },
  {
   "cell_type": "code",
   "execution_count": null,
   "metadata": {},
   "outputs": [],
   "source": [
    "import matplotlib.pyplot as plt\n",
    "\n",
    "fig, axs = plt.subplots(1,1,figsize=(10,10))\n",
    "axs.plot(df[\"YEAR\"],df['JAN'],label='JAN')"
   ]
  },
  {
   "cell_type": "markdown",
   "metadata": {},
   "source": [
    "We can easily customise this by adding titles and labels:"
   ]
  },
  {
   "cell_type": "code",
   "execution_count": null,
   "metadata": {},
   "outputs": [],
   "source": [
    "import matplotlib.pyplot as plt\n",
    "\n",
    "# make a useful title\n",
    "year0 = list(df[\"YEAR\"])[0]\n",
    "year1 = list(df[\"YEAR\"])[-1]\n",
    "name = f'Monthly SE UK precipitation {year0} to {year1}'\n",
    "\n",
    "# plot size \n",
    "x_size,y_size = 12,4\n",
    "# set up the figure: \n",
    "#   1 x 1 sub-plots\n",
    "#   size of plot 10,4\n",
    "fig, axs = plt.subplots(1,1,figsize=(x_size,y_size))\n",
    "# set the figure title\n",
    "fig.suptitle(name)\n",
    "\n",
    "# plot y-data and set the label\n",
    "axs.plot(df[\"YEAR\"],df['JAN'],label='JAN')\n",
    "# set x-limits to get a neat graph\n",
    "axs.set_xlim(year0,year1)\n",
    "\n",
    "# set the subplot title\n",
    "axs.set_title('JAN')\n",
    "# y-label\n",
    "axs.set_ylabel(f'Precipitation (mm)')\n",
    "# x-label\n",
    "axs.set_xlabel(f'year')"
   ]
  },
  {
   "cell_type": "markdown",
   "metadata": {},
   "source": [
    "The code to do this sort of plot is simple and generic. This example has most of what you will need in terms of coding for line plots. "
   ]
  },
  {
   "cell_type": "markdown",
   "metadata": {},
   "source": [
    "If we wanted to do several plots over each other, we can simply call `axs.plot` again, but we will also find it useful to set a legend:"
   ]
  },
  {
   "cell_type": "code",
   "execution_count": null,
   "metadata": {},
   "outputs": [],
   "source": [
    "# make a useful title\n",
    "name = f'Monthly SE UK precipitation'\n",
    "\n",
    "# plot size \n",
    "x_size,y_size = 12,4\n",
    "fig, axs = plt.subplots(1,1,figsize=(x_size,y_size))\n",
    "\n",
    "# plot y-data and set the label\n",
    "axs.plot(df[\"YEAR\"],df['JAN'],label='JAN')\n",
    "axs.plot(df[\"YEAR\"],df['FEB'],label='FEB')\n",
    "axs.set_xlim(year0,year1)\n",
    "\n",
    "# set legend now\n",
    "axs.legend(loc='best')\n",
    "# set the subplot title\n",
    "axs.set_title('JAN-FEB')\n",
    "# y-label\n",
    "axs.set_ylabel(f'Precipitation (mm)')\n",
    "# x-label\n",
    "axs.set_xlabel(f'year')"
   ]
  },
  {
   "cell_type": "markdown",
   "metadata": {},
   "source": [
    "If, instead, we wanted these on separate sub-plots, we specify that in the `plt.subplots` call. For a line of 2 plots, we use:\n",
    "\n",
    "    plt.subplots(2,1,...)\n",
    "    \n",
    "We should also increase the `y_size` variable, to make the plot longer, and notice that `axs` is a `tuple` now, where we access `axs[0]` for the first plot, `axs[1]` for the second etc. \n",
    "\n",
    "If we had 2 rows of plots and 2 columns, `axs` would be 2-dimensional and we would refer to `axs[0,0]`, `axs[0,1]`, `axs[1,0]` and `axs[1,1]`. It is easier deal with as a one-dimensional array though. We can achieve this by applying:\n",
    "\n",
    "    axs = axs.flatten()\n",
    "    \n",
    "after it has been created. Then we refer to the sub-plots simply as `axs[0]`, `axs[1]`, `axs[2]` and `axs[3]`.\n",
    "\n",
    "Below, we also choose to set the line colour to black (`k` in the `axs[...].plot()` command)."
   ]
  },
  {
   "cell_type": "code",
   "execution_count": null,
   "metadata": {},
   "outputs": [],
   "source": [
    "import matplotlib.pyplot as plt\n",
    "\n",
    "name = f'Monthly SE UK precipitation'\n",
    "\n",
    "# plot size \n",
    "x_size,y_size = 12,8\n",
    "\n",
    "fig, axs = plt.subplots(2,1,figsize=(x_size,y_size))\n",
    "axs = axs.flatten()\n",
    "\n",
    "# set the figure title\n",
    "fig.suptitle(name)\n",
    "\n",
    "# plot y-data and set the label for the first panel\n",
    "axs[0].plot(df[\"YEAR\"],df['JAN'],'k',label='JAN')\n",
    "axs[0].set_ylabel(f'JAN Precipitation (mm)')\n",
    "axs[0].set_xlim(year0,year1)\n",
    "\n",
    "# plot y-data and set the label for the next panel\n",
    "axs[1].plot(df[\"YEAR\"],df['FEB'],'k',label='FEB')\n",
    "axs[1].set_ylabel(f'FEB Precipitation (mm)')\n",
    "axs[1].set_xlim(year0,year1)\n",
    "\n",
    "# x-label\n",
    "axs[1].set_xlabel(f'year')"
   ]
  },
  {
   "cell_type": "markdown",
   "metadata": {
    "solution2": "hidden",
    "solution2_first": true
   },
   "source": [
    "#### Exercise 1\n",
    "\n",
    "We have seen how to access the dataset labels using:\n",
    "\n",
    "    headings = df.columns[1:-1]\n",
    "  \n",
    "* Copy the code to read the HadSEEP monthly datasets above\n",
    "* Write and run code that plots the precipitation data for all months separate subplots."
   ]
  },
  {
   "cell_type": "code",
   "execution_count": null,
   "metadata": {
    "solution2": "hidden"
   },
   "outputs": [],
   "source": [
    "# ANSWER \n",
    "# Copy the code to read the HadSEEP monthly datasets above\n",
    "import pandas as pd\n",
    "from geog0111.gurlpath import URL\n",
    "\n",
    "# Monthly Southeast England precipitation (mm) \n",
    "site = 'https://www.metoffice.gov.uk/'\n",
    "site_dir = 'hadobs/hadukp/data/monthly'\n",
    "site_file = 'HadSEEP_monthly_qc.txt'\n",
    "\n",
    "url = URL(site,site_dir,site_file)\n",
    "\n",
    "panda_format = {\n",
    "    'skiprows'   :  3,\n",
    "    'na_values'  :  [-99.9],\n",
    "    'sep'        :  r\"[ ]{1,}\",\n",
    "    'engine'     :  'python'\n",
    "}\n",
    "\n",
    "df=pd.read_table(url.open('r'),**panda_format)\n",
    "\n",
    "# df.head: first n lines\n",
    "df.head()"
   ]
  },
  {
   "cell_type": "code",
   "execution_count": null,
   "metadata": {
    "solution2": "hidden"
   },
   "outputs": [],
   "source": [
    "# ANSWER 2\n",
    "# Write and run code that plots the \n",
    "# precipitation data for all months separate subplots.\n",
    "import matplotlib.pyplot as plt\n",
    "\n",
    "# plot size > in y\n",
    "# need to play with this to get it right\n",
    "x_size,y_size = 20,30\n",
    "\n",
    "# get the m onth names from columns\n",
    "months = df.columns[1:-1]\n",
    "\n",
    "fig, axs = plt.subplots(12,1,figsize=(x_size,y_size))\n",
    "\n",
    "# use enumerate in the loop, to get the index\n",
    "for i,m in enumerate(months):\n",
    "    # plot y-data and set the label for the first panel\n",
    "    axs[i].plot(df[\"YEAR\"],df[m],'k',label=m)\n",
    "    axs[i].set_ylabel(f'{m} Precipitation (mm)')\n",
    "    axs[i].set_xlim(year0,year1)\n",
    "\n",
    "# x-label\n",
    "axs[-1].set_xlabel(f'year')"
   ]
  },
  {
   "cell_type": "markdown",
   "metadata": {},
   "source": [
    "## Errorbars, symbols, and `savefig`\n",
    "\n",
    "We often need to include error bars in out plots. The simplest form of this involves setting a variable `yerr`, assumed equal positive and negative around `y`:\n",
    "\n",
    "We can then use:\n",
    "    \n",
    "    plt.errorbar(x,y,yerr=yerr)\n",
    "\n",
    "to plot the error bars. More [sophisticated options](https://matplotlib.org/3.1.1/api/_as_gen/matplotlib.pyplot.errorbar.html) are available for moore complex cases.\n",
    "\n",
    "When we plot the errorbars, we might also like to plot a symbol at each data point. We can do this by giving an extra argument in `plot`. For example:\n",
    "\n",
    "    plt.plot(x,y,'o')\n",
    "    \n",
    "will plot small circles at the data points. This can be customised by [symbol](https://matplotlib.org/3.1.0/api/markers_api.html) and/or [colour](https://matplotlib.org/2.1.1/api/_as_gen/matplotlib.pyplot.plot.html). \n",
    "\n",
    "We also show here how to save the plot to an image file, using `plt.savefig`:"
   ]
  },
  {
   "cell_type": "code",
   "execution_count": null,
   "metadata": {},
   "outputs": [],
   "source": [
    "import pandas as pd\n",
    "from geog0111.gurlpath import URL\n",
    "\n",
    "# Monthly Southeast England precipitation (mm) \n",
    "site = 'https://www.metoffice.gov.uk/'\n",
    "site_dir = 'hadobs/hadukp/data/monthly'\n",
    "site_file = 'HadSEEP_monthly_qc.txt'\n",
    "\n",
    "url = URL(site,site_dir,site_file)\n",
    "\n",
    "panda_format = {\n",
    "    'skiprows'   :  3,\n",
    "    'na_values'  :  [-99.9],\n",
    "    'sep'        :  r\"[ ]{1,}\",\n",
    "    'engine'     :  'python'\n",
    "}\n",
    "\n",
    "df=pd.read_table(url.open('r'),**panda_format)\n",
    "# get mean and std over all months"
   ]
  },
  {
   "cell_type": "markdown",
   "metadata": {},
   "source": [
    "We will go into the details of `numpy` in a future session, but here we just need to calculate the mean and standard deviation of precipitation over all months."
   ]
  },
  {
   "cell_type": "code",
   "execution_count": null,
   "metadata": {},
   "outputs": [],
   "source": [
    "import numpy as np\n",
    "months = df.columns[1:-1]\n",
    "year   = df[\"YEAR\"]\n",
    "mean = np.array(df[months]).mean(axis=1)\n",
    "std  = np.array(df[months]).std(axis=1)"
   ]
  },
  {
   "cell_type": "code",
   "execution_count": null,
   "metadata": {},
   "outputs": [],
   "source": [
    "import matplotlib.pyplot as plt\n",
    "# make a useful title\n",
    "year0 = list(df[\"YEAR\"])[0]\n",
    "year1 = list(df[\"YEAR\"])[-1]\n",
    "name = f'Monthly SE UK precipitation {year0} to {year1}: mean and 1.95 std (over months)'\n",
    "\n",
    "# plot size \n",
    "x_size,y_size = 12,4\n",
    "fig, axs = plt.subplots(1,1,figsize=(x_size,y_size))\n",
    "fig.suptitle(name)\n",
    "\n",
    "# plot y-data and error bars\n",
    "x    = year\n",
    "y    = mean\n",
    "yerr = std * 1.96\n",
    "# ls=\"none\" so that no line is plotted\n",
    "axs.errorbar(x,y,yerr=yerr,ls='none')\n",
    "axs.plot(x,y,'o')\n",
    "\n",
    "\n",
    "axs.set_ylabel(f'Precipitation (mm)')\n",
    "# x-label\n",
    "axs.set_xlabel(f'year')\n",
    "axs.set_xlim(year0,year1)\n",
    "\n",
    "# save to file\n",
    "ofile = 'data/precip.png'\n",
    "plt.savefig(ofile)"
   ]
  },
  {
   "cell_type": "markdown",
   "metadata": {},
   "source": [
    "We can now load the [saved image](data/precip.png) as a figure with the markdown code:\n",
    "\n",
    "    ![the figure we just saved](data/precip.png)"
   ]
  },
  {
   "cell_type": "markdown",
   "metadata": {},
   "source": [
    "![the figure we just saved](data/precip.png)"
   ]
  },
  {
   "cell_type": "code",
   "execution_count": null,
   "metadata": {},
   "outputs": [],
   "source": [
    "import matplotlib.pyplot as plt\n",
    "# make a useful title\n",
    "name = f'Monthly SE UK precipitation'\n",
    "\n",
    "# plot size \n",
    "x_size,y_size = 12,4\n",
    "fig, axs = plt.subplots(1,1,figsize=(x_size,y_size))\n",
    "\n",
    "# plot y-data and set the label\n",
    "axs.plot(df[\"YEAR\"],df['JAN'],label='JAN')\n",
    "axs.plot(df[\"YEAR\"],df['FEB'],label='FEB')\n",
    "axs.set_xlim(year0,year1)\n",
    "\n",
    "# set legend now\n",
    "axs.legend(loc='best')\n",
    "# set the subplot title\n",
    "axs.set_title('JAN-FEB')\n",
    "# y-label\n",
    "axs.set_ylabel(f'Precipitation (mm)')\n",
    "# x-label\n",
    "axs.set_xlabel(f'year')"
   ]
  },
  {
   "cell_type": "markdown",
   "metadata": {},
   "source": [
    "## Date fields\n",
    "\n",
    "Many datasets we deal with will be a function of time. Sometimes the date information may be presented in a format we can use as an integer (or even floating point number), an example being the year field above. But other times, we might need to work with the date format that comes with the dataset to make it something appropriate.\n",
    "\n",
    "A useful Python package for this is [`datetime`](https://docs.python.org/3/library/datetime.html). \n",
    "\n",
    "Core elements of this is are: `datetime` class, the "
   ]
  },
  {
   "cell_type": "markdown",
   "metadata": {},
   "source": [
    "### `datetime`"
   ]
  },
  {
   "cell_type": "code",
   "execution_count": null,
   "metadata": {},
   "outputs": [],
   "source": [
    "from datetime import datetime\n",
    "# now\n",
    "now = datetime.now()\n",
    "print(f'It is now {now}')\n",
    "# access individual elements\n",
    "print(f'day {now.day}')\n",
    "print(f'month {now.month}')\n",
    "print(f'year {now.year}')\n",
    "print(f\"{now.hour} O'clock\")"
   ]
  },
  {
   "cell_type": "markdown",
   "metadata": {},
   "source": [
    "You can set up the `datetime` fields explicitly:"
   ]
  },
  {
   "cell_type": "code",
   "execution_count": null,
   "metadata": {},
   "outputs": [],
   "source": [
    "from datetime import datetime\n",
    "\n",
    "# datetime(year, month, day, hour, minute, second, microsecond)\n",
    "then = datetime(1918, 11, 11, 11, 0, 0, 0)\n",
    "print(f'It was then {then}')\n",
    "\n",
    "# you can access this using keywords\n",
    "then = datetime(year=1918, month=11, day=11, hour=11)\n",
    "print(f'It was then {then}')"
   ]
  },
  {
   "cell_type": "markdown",
   "metadata": {},
   "source": [
    "And do operations such as subtraction:"
   ]
  },
  {
   "cell_type": "code",
   "execution_count": null,
   "metadata": {},
   "outputs": [],
   "source": [
    "jan1_2019 = datetime(2019,1,1)\n",
    "jan1_2020 = datetime(2020,1,1)\n",
    "\n",
    "days_in_year = (jan1_2020-jan1_2019).days\n",
    "print(f'year 2019 had {days_in_year} days')"
   ]
  },
  {
   "cell_type": "markdown",
   "metadata": {},
   "source": [
    "To add/subtract one day, or smaller unit, use timedelta:"
   ]
  },
  {
   "cell_type": "code",
   "execution_count": null,
   "metadata": {},
   "outputs": [],
   "source": [
    "from datetime import datetime\n",
    "from datetime import timedelta\n",
    "\n",
    "now = datetime.now()\n",
    "yesterday = now - timedelta(days=1)\n",
    "print(f'yesterday was {yesterday}')"
   ]
  },
  {
   "cell_type": "markdown",
   "metadata": {},
   "source": [
    "### `strftime` and `strptime`"
   ]
  },
  {
   "cell_type": "markdown",
   "metadata": {},
   "source": [
    "We use `strftime` to format a date string:"
   ]
  },
  {
   "cell_type": "code",
   "execution_count": null,
   "metadata": {},
   "outputs": [],
   "source": [
    "from datetime import datetime\n",
    "\n",
    "# current date and time\n",
    "now = datetime.now()\n",
    "\n",
    "time_now = now.strftime(\"%H:%M:%S\")\n",
    "print(f\"time now: {time_now}\")\n",
    "\n",
    "date_now = now.strftime(\"%m/%d/%Y\")\n",
    "# mm/dd/YY H:M:S format\n",
    "print(f\"data now: {date_now}\")"
   ]
  },
  {
   "cell_type": "markdown",
   "metadata": {},
   "source": [
    "and `strptime` to load a `datetime` object from a string. To do so, we need to specify the format of the string. For example:"
   ]
  },
  {
   "cell_type": "code",
   "execution_count": null,
   "metadata": {},
   "outputs": [],
   "source": [
    "from datetime import datetime\n",
    "\n",
    "date_then = \"11 November, 1918\"\n",
    "# %d, %B and %Y -> day, month, year\n",
    "date_object = datetime.strptime(date_then, \"%d %B, %Y\")\n",
    "print(f\"date: {date_object}\")"
   ]
  },
  {
   "cell_type": "markdown",
   "metadata": {},
   "source": [
    "or"
   ]
  },
  {
   "cell_type": "code",
   "execution_count": null,
   "metadata": {},
   "outputs": [],
   "source": [
    "from datetime import datetime\n",
    "\n",
    "date_then = \"2020-06-20\"\n",
    "date_object = datetime.strptime(date_then, \"%Y-%m-%d\")\n",
    "print(f\"date: {date_object}\")"
   ]
  },
  {
   "cell_type": "markdown",
   "metadata": {},
   "source": [
    "### NOAA precipitation\n",
    "\n",
    "The file [2276931.csv](https://raw.githubusercontent.com/UCL-EO/geog0111/master/data/2276931.csv) contains precipitation data for an [NOAA weather station](https://www.ncdc.noaa.gov/cdo-web/datasets#GSOY) `HAVANA 4.2 SW, FL US` for the year 2020 to date. Precipitation data are in inches.\n",
    "\n",
    "We want to plot precipitation as a function of time. First, we read the data as previously:"
   ]
  },
  {
   "cell_type": "code",
   "execution_count": null,
   "metadata": {},
   "outputs": [],
   "source": [
    "import pandas as pd\n",
    "from geog0111.gurlpath import URL\n",
    "\n",
    "site = 'https://raw.githubusercontent.com'\n",
    "site_dir = '/UCL-EO/geog0111/master/notebooks/data'\n",
    "site_file = '2276931.csv'\n",
    "\n",
    "# form the URL\n",
    "url = URL(site,site_dir,site_file)\n",
    "\n",
    "# Read the file into pandas using url.open('r').\n",
    "df=pd.read_csv(url.open('r'))\n",
    "\n",
    "# print the first 5 lines of data\n",
    "df.head(5)"
   ]
  },
  {
   "cell_type": "markdown",
   "metadata": {},
   "source": [
    "We can refer to the datasets we see in the table above then as `df['DATE']`, `df['PRCP']` etc. \n",
    "If we want to use the station name, and access the first date from the dataframes, we can do this with:\n",
    "\n",
    "    # take the first entry\n",
    "    name = df['NAME'][0]\n",
    "    date = df[\"DATE\"][0]"
   ]
  },
  {
   "cell_type": "markdown",
   "metadata": {
    "solution2": "hidden",
    "solution2_first": true
   },
   "source": [
    "#### Exercise 2\n",
    "* Read the `2276931.csv` dataset into a pandas dataframe called `df`\n",
    "* Convert the field `df[\"DATE\"]` to a list called `dates`\n",
    "* Use your understanding of `datetime` to convert the data `dates[0]` to a `datetime` object called `start_date`\n",
    "* Convert the data `date[-1]` to a `datetime` object called `end_date`\n",
    "* Find how many days between start_date and end_date\n",
    "* Use a loop structure to convert the all elements in `dates` to be the n umber of days after the start date"
   ]
  },
  {
   "cell_type": "code",
   "execution_count": null,
   "metadata": {
    "solution2": "hidden"
   },
   "outputs": [],
   "source": [
    "# ANSWER\n",
    "# Read the `2276931.csv` dataset into a \n",
    "# pandas dataframe called `df`\n",
    "import pandas as pd\n",
    "from geog0111.gurlpath import URL\n",
    "\n",
    "site = 'https://raw.githubusercontent.com'\n",
    "site_dir = '/UCL-EO/geog0111/master/notebooks/data'\n",
    "site_file = '2276931.csv'\n",
    "\n",
    "# form the URL\n",
    "url = URL(site,site_dir,site_file)\n",
    "\n",
    "# Read the file into pandas using url.open('r').\n",
    "df=pd.read_csv(url.open('r'))\n",
    "\n",
    "# print the first 5 lines of data\n",
    "df.head(5)"
   ]
  },
  {
   "cell_type": "code",
   "execution_count": null,
   "metadata": {
    "scrolled": false,
    "solution2": "hidden"
   },
   "outputs": [],
   "source": [
    "from datetime import datetime\n",
    "# ANSWER\n",
    "# Convert the field `df[\"DATE\"]` to \n",
    "# a list called `dates`\n",
    "dates = list(df[\"DATE\"])\n",
    "\n",
    "# Use your understanding of `datetime` to convert \n",
    "# the data `dates[0]` to a `datetime` object called `start_date`\n",
    "# use datetime.strptime(d,\"%Y-%m-%d\") to read a date in the format 2020-09-02\n",
    "start_date = datetime.strptime(dates[0], \"%Y-%m-%d\")\n",
    "print(f'{dates[0]} -> {start_date}')\n",
    "\n",
    "# Convert the data `date[-1]` to a \n",
    "# `datetime` object called `end_date`\n",
    "end_date = datetime.strptime(dates[-1], \"%Y-%m-%d\")\n",
    "print(f'{dates[-1]} -> {end_date}')\n",
    "\n",
    "# find how many days between start_date and end_date\n",
    "# ndays is number of days in date minus start date\n",
    "ndays = (end_date - start_date).days\n",
    "print(f'ndays: {start_date} to {end_date}: {ndays}')\n",
    "\n",
    "# Use a loop structure to convert the all \n",
    "# elements in `dates` to be the number of days after the start date\n",
    "ndays = [(datetime.strptime(d,\"%Y-%m-%d\")-start_date).days for d in dates]\n",
    "print(ndays)"
   ]
  },
  {
   "cell_type": "markdown",
   "metadata": {},
   "source": [
    "Let's do a simple plot of `df['PRCP']` as a function of days after 01/01/2020:"
   ]
  },
  {
   "cell_type": "code",
   "execution_count": null,
   "metadata": {},
   "outputs": [],
   "source": [
    "import matplotlib.pyplot as plt\n",
    "from datetime import datetime\n",
    "\n",
    "name = df['NAME'][0]\n",
    "# use strptime to get date from %Y-%m-%d format\n",
    "start_date = datetime.strptime(df[\"DATE\"][0],\"%Y-%m-%d\")\n",
    "\n",
    "# plot size \n",
    "x_size,y_size = 15,3\n",
    "# set up the figure\n",
    "fig, axs = plt.subplots(figsize=(x_size,y_size))\n",
    "\n",
    "# set the title\n",
    "fig.suptitle(name)\n",
    "\n",
    "# plot x,y-data\n",
    "# get number of days after start date\n",
    "x = [(datetime.strptime(d,\"%Y-%m-%d\")-start_date).days for d in df[\"DATE\"]]\n",
    "y = df['PRCP']\n",
    "axs.plot(x,y)\n",
    "\n",
    "# label\n",
    "axs.set_ylabel(f'PRCP / inches')\n",
    "# format date string with strftime\n",
    "axs.set_xlabel(f'days after {start_date.strftime(\"%d/%m/%Y\")}')"
   ]
  },
  {
   "cell_type": "markdown",
   "metadata": {},
   "source": [
    "We can use the date fields directly in the plot above, which might make the information easier to understand. But by default, all of the data fields will be printed:"
   ]
  },
  {
   "cell_type": "code",
   "execution_count": null,
   "metadata": {},
   "outputs": [],
   "source": [
    "import matplotlib.pyplot as plt\n",
    "\n",
    "name = df['NAME'][0]\n",
    "\n",
    "# plot size \n",
    "x_size,y_size = 15,3\n",
    "# set up the figure\n",
    "fig, axs = plt.subplots(figsize=(x_size,y_size))\n",
    "\n",
    "# set the title\n",
    "fig.suptitle(name)\n",
    "\n",
    "# plot y-data\n",
    "axs.plot(df['DATE'],df['PRCP'])\n",
    "\n",
    "# label\n",
    "axs.set_ylabel(f'PRCP / inches')\n",
    "axs.set_xlabel(f'date')"
   ]
  },
  {
   "cell_type": "markdown",
   "metadata": {},
   "source": [
    "This is not a limitation of `matplotlib`, just a formatting issue. A quick [look into the matplotlib `dates` API](https://matplotlib.org/3.1.0/api/dates_api.html) shows us that we can quite simply set the x-ticks to be every month:\n",
    "\n",
    "    months = mdates.MonthLocator() \n",
    "    axs.xaxis.set_major_locator(months)"
   ]
  },
  {
   "cell_type": "code",
   "execution_count": null,
   "metadata": {},
   "outputs": [],
   "source": [
    "import matplotlib.pyplot as plt\n",
    "import matplotlib.dates as mdates\n",
    "\n",
    "name = df['NAME'][0]\n",
    "\n",
    "# plot size \n",
    "x_size,y_size = 15,3\n",
    "# set up the figure\n",
    "fig, axs = plt.subplots(1,1,figsize=(x_size,y_size))\n",
    "\n",
    "# set the title\n",
    "fig.suptitle(name)\n",
    "axs.plot(df['DATE'],df['PRCP'])\n",
    "\n",
    "# format the ticks: every month\n",
    "months = mdates.MonthLocator() \n",
    "axs.xaxis.set_major_locator(months)\n",
    "\n",
    "# label\n",
    "axs.set_ylabel(f'PRCP / inches')\n",
    "axs.set_xlabel(f'date')"
   ]
  },
  {
   "cell_type": "markdown",
   "metadata": {},
   "source": [
    "Although the default formatting in [matplotlib](https://matplotlib.org/) will do an excellent job for the vast majority of your needs, you should be aware that you may meet cases where you need to look a little deeper into the documentation to find the right solution to your problem. You should always try to find such solutions in the existing codebase, rather than attempting to hack your way around a problem."
   ]
  },
  {
   "cell_type": "markdown",
   "metadata": {
    "solution2": "hidden",
    "solution2_first": true
   },
   "source": [
    "#### Exercise 3\n",
    "\n",
    "We examined a pulsar time series in a [previous section of notes](021_Streams.ipynb#pandas-transpose). It contains the [successive pulses](https://gist.githubusercontent.com/borgar/31c1e476b8e92a11d7e9/raw/0fae97dab6830ecee185a63c1cee0008f6778ff6/pulsar.csv) of the oscillation signal coming from the [Pulsar PSR B1919+21](https://www.joydivisionofficial.com/reimagined/) discovered by [Jocelyn Bell](https://en.wikipedia.org/wiki/Jocelyn_Bell_Burnell) in 1967.\n",
    "\n",
    "The dataset as presented contains samples in columns, so that sample `0` is df[0], up to df[79] (80 samples).\n",
    "\n",
    "* Plot the pulsar samples in a series of 80 sub-plots. \n",
    "\n",
    "**Advice**: \n",
    "\n",
    "For the figure, do not label the axes as it will get too cluttered. In any professional figure of that sort, you would need to explain the axes in accompanying text. \n",
    "\n",
    "For further 'effects' consider switching off the plotting of axes in each subplot, with:\n",
    "\n",
    "    ax.axis('off')\n",
    "\n",
    "for axis `ax` (this may be something like `axs[i]` in your code).\n",
    "\n",
    "The results should be reminiscent of:\n",
    "\n",
    "[![pulsar image](images/smallfig537.jpg)](https://blogs.scientificamerican.com/blogs/assets/sa-visual/Image/fig537.jpg)\n",
    "\n",
    "and \n",
    "\n",
    "[![Joy Division](https://images-na.ssl-images-amazon.com/images/I/812FS2R2v6L._AC_SL1500_.jpg)](https://www.amazon.co.uk/Pleasures-VINYL-Joy-Division/dp/B00XILAIWI)\n",
    "\n",
    "If you want to go further towards re-creating this, you consult [the matplotlib gallery](https://matplotlib.org/3.1.0/gallery/animation/unchained.html) for ideas."
   ]
  },
  {
   "cell_type": "code",
   "execution_count": null,
   "metadata": {
    "solution2": "hidden"
   },
   "outputs": [],
   "source": [
    "import pandas as pd\n",
    "from geog0111.gurlpath import URL\n",
    "\n",
    "site = 'https://raw.githubusercontent.com'\n",
    "site_dir = 'igorol/unknown_pleasures_plot/master'\n",
    "site_file = 'pulsar.csv'\n",
    "\n",
    "url = URL(site,site_dir,site_file)\n",
    "\n",
    "# transposed version\n",
    "df=pd.read_csv(url,header=None).transpose()\n",
    "df"
   ]
  },
  {
   "cell_type": "code",
   "execution_count": null,
   "metadata": {
    "solution2": "hidden"
   },
   "outputs": [],
   "source": [
    "# ANSWER 3\n",
    "# Plot the pulsar samples in a series of 80 sub-plots.\n",
    "import matplotlib.pyplot as plt\n",
    "\n",
    "# need to play with this to get it right\n",
    "x_size,y_size = 15,20\n",
    "\n",
    "# get the m onth names from columns\n",
    "samples = df.columns\n",
    "fig,axs = plt.subplots(len(df.columns),1,figsize=(x_size,y_size))\n",
    "\n",
    "# use enumerate in the loop, to get the index\n",
    "for i,m in enumerate(samples):\n",
    "    axs[i].plot(df[m],'k')\n",
    "    axs[i].axis('off')"
   ]
  },
  {
   "cell_type": "markdown",
   "metadata": {},
   "source": [
    "## Summary\n",
    "\n",
    "In this section, we have learned how to plot graphs from datasets we have read in or downloaded from the web. We have concentrated in simple line graphs, with possibly multiple sub-plots here, although there are many other types of graph you may consider. \n",
    "\n",
    "The [`matplotlib` gallery](https://matplotlib.org/3.3.1/gallery/index.html) provides a useful starting point for other types of plot. You might also consider the Python packages [`bokeh`](https://bokeh.org/) and [`seaborn`](https://seaborn.pydata.org/) for improved visualisation and interaction.\n",
    "\n",
    "Remember:\n",
    "\n",
    "\n",
    "\n",
    "            import matplotlib.pyplot as plt\n",
    "            import matplotlib.dates as mdates\n",
    "\n",
    "\n",
    "| Function | Comment | Keywords |\n",
    "|---|---|---|\n",
    "|`fig, axs = plt.subplots(xshape,yshape)` | set up new figure as array of sub-plots `xshape` by `yshape` and return `fig` object for figure and `axs` object for subplots. `axs` is array of objects shape `(xshape,yshape)`, or single object if `(1,1)`. We often use `axs = axs.flatten()` to flatten the `axs` array to 1D.|`figsize=(sx,sy)` : set figure size `sx` by `sy`|\n",
    "| `plt.savefig(\"ofile.png\")` | Save plot to file `\"ofile.png\"` | \n",
    "| `fig.suptitle(name)` | set title `name` at top of figure `fig`\n",
    "| `im = axs.plot(xdata,ydata,cs)` | plot line graph with `ydata` as a function of `xdata` and return plot object `im`. If argument `cs` is given, this is a colour/symbol e.g. `k+` for black crosses. | `label=str` : set `str` as label for this line. For use with `legend`| \n",
    "| `im = plt.errorbar(xdata,ydata)` | Error bar plot for `ydata` as a function of `xdata`. Needs kwarg | `yerr=yerr` : set y-error bar to values in array `yerr` |\n",
    "| `axs.set_xlim(x0,x1)` | Set plot x-extent to from `x0` to `x1` |\n",
    "| `axs.set_ylim(y0,y1)` | Set plot x-extent to from `y0` to `y1` |\n",
    "| `axs.set_title(name)` | set sub-plot `axs` title to `name` |\n",
    "| `axs.set_xlabel(xlab)` | set x-axis label to `xlab` |\n",
    "| `axs.set_ylabel(ylab)` | set y-axis label to `ylab` |1\n",
    "| `axs.legend()` | set legend in plot | `loc='best'` : best location, otherwise `top left` etc. |\n",
    "| `mdates.MonthLocator()` | `MonthLocator` object of month locators, e.g. `months = mdates.MonthLocator()` |\n",
    "| `axs.xaxis.set_major_locator(months)` | set major ticks on x-axis to `Locator` object of `months`|\n",
    "\n",
    "\n",
    "Some colours and symbols:\n",
    "\n",
    "| symbol/colour | name |\n",
    "|---|---|\n",
    "|'k+' | black plus |\n",
    "|'r.' | red dot  |\n",
    "|'go' | green circle  |\n",
    "|'b-' | blue line  |\n",
    "|'c--' | cyan dashed line  |\n",
    "|'y-o' | yellow  line with circles  |\n",
    "\n",
    "\n",
    "`datetime`\n",
    "\n",
    "            from datetime import datetime\n",
    "            \n",
    "            \n",
    "| function | comment |\n",
    "|---|---|\n",
    "|`datetime.now()` | date and time for now |\n",
    "|`datetime(year, month, day, hour, minute, second, millisecond)` | return `datatime` object for time/date specified. Not all fields need be given. Can also use keywords but `year`, `month` and `day` must be given e.g.: `datetime(2020,day=1,month=2,hour=12)`|\n",
    "| `datetime.day` | day etc. |\n",
    "| `timedelta` | subtract two `datetime`s to get a `timedelta`|\n",
    "|`timedelta.days` | number of days in `timedelta` |\n",
    "| `dt.strftime(\"%H:%M:%S\")` | represent `datetime` object `dt` as `hour:minute:second`|\n",
    "| `dt.strftime(\"%m/%d/%Y\")` | represent `datetime` object `dt` as `month/day/year`|\n",
    "| `datetime.strptime(str,format)` | load string `str` into `datetime` object interpreting as format `format`, e.g. `datetime.strptime(\"11 November, 1918\", \"%d %B, %Y\")` -> `1918-11-11 00:00:00`; e.g. `datetime.strptime(\"2020-06-20\", \"%Y-%m-%d\")` -> `2020-06-20 00:00:00`|"
   ]
  },
  {
   "cell_type": "markdown",
   "metadata": {},
   "source": [
    "\n",
    "[<img src=\"images/noun_post_2109127.svg\" width=\"50\" align='right'>](024_Image_display.ipynb)\n",
    "[<img src=\"images/noun_pre_2109128.svg\" width=\"50\" align='right'>](022_Read_write_files.ipynb)\n"
   ]
  }
 ],
 "metadata": {
  "kernelspec": {
   "display_name": "Python [conda env:geog0111-geog0111]",
   "language": "python",
   "name": "conda-env-geog0111-geog0111-py"
  },
  "language_info": {
   "codemirror_mode": {
    "name": "ipython",
    "version": 3
   },
   "file_extension": ".py",
   "mimetype": "text/x-python",
   "name": "python",
   "nbconvert_exporter": "python",
   "pygments_lexer": "ipython3",
   "version": "3.7.8"
  }
 },
 "nbformat": 4,
 "nbformat_minor": 4
}
