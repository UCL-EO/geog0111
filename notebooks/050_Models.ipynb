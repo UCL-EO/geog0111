{
 "cells": [
  {
   "cell_type": "markdown",
   "metadata": {},
   "source": [
    "\n",
    "<img alt='UCL' src=\"images/ucl_logo.png\" align='center'>\n",
    "\n",
    "\n",
    "\n",
    "\n",
    "[<img src=\"images/noun_post_2109127.svg\" width=\"50\" align='right'>](051_Phenology_model.ipynb)\n",
    "[<img src=\"images/noun_pre_2109128.svg\" width=\"50\" align='right'>](043_Weighted_interpolation.ipynb)\n",
    "\n"
   ]
  },
  {
   "cell_type": "markdown",
   "metadata": {},
   "source": [
    "# 050 Models\n"
   ]
  },
  {
   "cell_type": "markdown",
   "metadata": {},
   "source": [
    "## Introduction\n",
    "\n",
    "In this session, we will consider the idea of a model in (Environmental) Science and discuss some examples. The material in this section brings together a lot of the techniques we have dealt with in previous sessions, so you should make sure you are up to speed with concepts like array processing, graph plotting and writing Python functions and scripts before attempting this.\n",
    "\n",
    "You will need to understand the material in this section to be able to complete the second half of the submitted coursework.\n",
    "\n",
    "## Prerequisites\n",
    "\n",
    "You will need a good understanding of previous topics involving [`np.mgrid`](031_Numpy.ipynb#np.linspace,-np.arange,-np.mgrid) and [`np.newaxis`](032_More_numpy.ipynb#Reconciling-arrays:-np.newaxis). You should by now be familiar with other more basic material. \n"
   ]
  },
  {
   "cell_type": "markdown",
   "metadata": {},
   "source": [
    "## Models \n",
    "\n",
    "We can think of a model as a 'process' box encapsulating our understanding, or a proposal for our understanding, of some process. Two examples we will cover later are:\n",
    "\n",
    "* a descriptive model of vegetation phenology\n",
    "* a model of snow-melt\n",
    "\n",
    "Such models make an *output prediction* will be some variable, or set of variables. For our two example models, these will be:\n",
    "\n",
    "* LAI as a function of time\n",
    "* river flow resulting from snow-melt\n",
    "\n",
    "The **outputs** depend on the mechanics of our model and:\n",
    "\n",
    "* some set of **driving data** (in our two models this will be simply time, and time and temperature, respectively) \n",
    "* some model parameters\n",
    "\n",
    "The model parameters control the operation of the model. These could be related to the type of vegetation for a phenology model, or terms such as the thickness of snowpack in the case of a snow-melt model. Most often, the parameters will describe *states* and *rates*, for example, the current amount of water in a snowpack (state) or the rate at which water is released from the snowpack into runoff (rate)."
   ]
  },
  {
   "cell_type": "markdown",
   "metadata": {},
   "source": [
    "![model](images/parameters1.png)"
   ]
  },
  {
   "cell_type": "markdown",
   "metadata": {},
   "source": [
    "We will generally have access to the driving data for our model, and we will have some set of measurements that correspond to the output, but we may not know the values of the parameters to use."
   ]
  },
  {
   "cell_type": "markdown",
   "metadata": {},
   "source": [
    "![model](images/parameters2.png)"
   ]
  },
  {
   "cell_type": "markdown",
   "metadata": {},
   "source": [
    "How can we use this to provide an estimate of the model parameters? We could make some educated guesses, based on previous experience with the model in different situations ('expert opinion'), and we might also be able to provide reasonable bounds for the parameters, again either based on previous experience with the model or sometimes simply from physical limits (e.g. some parameters cannot be negative). \n",
    "\n",
    "What we really want is a more objective way of estimating the parameters. This involves parameter optimisation, which is a whole field of science. We cannot cover that in this course, but we can introduce some of the main ideas to use in our codes.\n",
    "\n",
    "Before moving on to more 'realistic' models, let's build a simple example model `model` we can learn from. \n",
    "\n",
    "This has two parameters `p[0]` and `p[1]` and a driver that represents time:"
   ]
  },
  {
   "cell_type": "code",
   "execution_count": 1,
   "metadata": {},
   "outputs": [],
   "source": [
    "# simple model \n",
    "def model(driver,param):\n",
    "    '''2-parameter quadratic model with noise'''\n",
    "    return param[0] + param[1] * driver * driver"
   ]
  },
  {
   "cell_type": "markdown",
   "metadata": {},
   "source": [
    "We will generate a dataset `measure` at time samples `tmdriver` to represent our measurements, We generate them with the model with a set of parameters and some additive noise. We will also generate a set of weights for the observations, which we will use to indicate their reliability:"
   ]
  },
  {
   "cell_type": "code",
   "execution_count": 2,
   "metadata": {},
   "outputs": [],
   "source": [
    "import numpy as np\n",
    "\n",
    "# time driver every 4 days for measurement\n",
    "tmdriver = np.arange(0,365,4,dtype=np.int)\n",
    "# generate a pseudo-measurement\n",
    "p0 = np.array([0.4,0.0002])\n",
    "measure = model(tmdriver,p0) + 5*(np.random.random(tmdriver.shape)-0.5)\n",
    "# just make up some weights for this exercise\n",
    "measure_weight = (2 + np.random.random(tmdriver.shape))/4\n",
    "# convert to std for plotting as previously\n",
    "std = 1./np.sqrt(measure_weight) * 1.96"
   ]
  },
  {
   "cell_type": "markdown",
   "metadata": {},
   "source": [
    "Now we forget that we know the parameters, make a guess that they are `[0.3,0.0001]`, and use the model to make a prediction `output`. Note that `output` exists every day, whereas the measurements are only every 4 days."
   ]
  },
  {
   "cell_type": "code",
   "execution_count": 3,
   "metadata": {},
   "outputs": [
    {
     "name": "stderr",
     "output_type": "stream",
     "text": [
      "Unable to revert mtime: /Library/Fonts\n"
     ]
    },
    {
     "name": "stdout",
     "output_type": "stream",
     "text": [
      "measurements: tmdriver shape (92,)\n",
      "model output: tdriver shape  (365,)\n"
     ]
    },
    {
     "data": {
      "image/png": "[encoded data removed]",
      "text/plain": [
       "<Figure size 720x216 with 1 Axes>"
      ]
     },
     "metadata": {
      "needs_background": "light"
     },
     "output_type": "display_data"
    }
   ],
   "source": [
    "import matplotlib.pyplot as plt\n",
    "\n",
    "# time driver every day\n",
    "tdriver = np.arange(0,365,1,dtype=np.int)\n",
    "# guess parameters\n",
    "p = np.array([0.3,0.0001])\n",
    "toutput  = model(tdriver,p)\n",
    "\n",
    "\n",
    "# plot\n",
    "fig, axs = plt.subplots(1,1,figsize=(10,3))\n",
    "axs.set_xlim(0,365)\n",
    "axs.plot(tdriver,toutput,'k',label='modelled values')\n",
    "axs.errorbar(tmdriver,measure,yerr=std,ls='none')\n",
    "axs.plot(tmdriver,measure,'r+',label='measured values')\n",
    "# set legend now\n",
    "axs.legend(loc='best')\n",
    "axs.set_xlabel(f'time / days')\n",
    "\n",
    "print(f'measurements: tmdriver shape {tmdriver.shape}')\n",
    "print(f'model output: tdriver shape  {tdriver.shape}')"
   ]
  },
  {
   "cell_type": "markdown",
   "metadata": {},
   "source": [
    "We can see right away that there is a mis-match between the model outputs and the measurements."
   ]
  },
  {
   "cell_type": "markdown",
   "metadata": {},
   "source": [
    "### discrepancy and optimisation\n",
    "\n",
    "We have a set of *observations* that correspond to the model outputs at some time samples. \n",
    "\n",
    "A simple operation we can do is to compare these then. We might suppose that a set of parameters that provides a lower discrepancy between observations and modelled values (we will often call this error) is *objectively better* than one with a poorer match. In that sense, what we would need to do would be to search for a set of parameters that which has the minimum error. Our search for parameters will be guided by any bounds we set. Then all we need to do is write some computer code that considers different values of the parameters and reports on the best (the optimal) match.\n"
   ]
  },
  {
   "cell_type": "markdown",
   "metadata": {},
   "source": [
    "![model](images/parameters3.png)"
   ]
  },
  {
   "cell_type": "markdown",
   "metadata": {},
   "source": [
    "That is a reasonable approach, and one we will take in these notes. We should be aware that when we do Science however, we need to take into account uncertainty, and also that there might be other constraints we want to put on the problem.\n",
    "\n",
    "Uncertainty manifests itself at all stages of modelling and optimisation: the model itself will be uncertain, because of its nature as an abstraction of some process; the drivers will often be uncertain in their ability to the conditions at the actual place and time we are doing the modelling; and the measurements will be uncertain. We have treated uncertainty in other sections of these notes by applying a weight to observations, and we can take the same approach here. When we calculate error, for instance as the root mean square error between model predictions (output) and measurement, we can weight this to give a weighted error."
   ]
  },
  {
   "cell_type": "markdown",
   "metadata": {},
   "source": [
    "Before we can calculate the (weighted) error, we need to treat the outputs so that they match the time samples of the measurements. We can either match the observations to the measurements, or the measurements to the observations. The best approach will depend on circumstances but generally it is simplest to run the model for each observation driver. If your model involves some summation (integral) over time, then you need to think carefully about how to do this.\n",
    "\n",
    "In this example though it is straightforward: we just run the model for the time locations that we have observations."
   ]
  },
  {
   "cell_type": "code",
   "execution_count": 4,
   "metadata": {},
   "outputs": [
    {
     "name": "stdout",
     "output_type": "stream",
     "text": [
      "tmoutput shape: (92,)\n",
      "tmdriver shape: (92,)\n",
      "tdriver shape: (365,)\n"
     ]
    }
   ],
   "source": [
    "# run the model for measurement times only\n",
    "tmoutput = model(tmdriver,p)\n",
    "# check the shape\n",
    "print(f'tmoutput shape: {tmoutput.shape}')\n",
    "print(f'tmdriver shape: {tmdriver.shape}')\n",
    "print(f'tdriver shape: {tdriver.shape}')"
   ]
  },
  {
   "cell_type": "code",
   "execution_count": 5,
   "metadata": {},
   "outputs": [
    {
     "name": "stdout",
     "output_type": "stream",
     "text": [
      "RMSE: 3.9623187745427155 for parameters [3.e-01 1.e-04]\n"
     ]
    }
   ],
   "source": [
    "# now we can calculate the weighted discrepency \n",
    "error = (tmoutput - measure)*measure_weight\n",
    "error2 = error**2\n",
    "rmse = np.sqrt(np.mean(error2))\n",
    "print(f'RMSE: {rmse} for parameters {p}')"
   ]
  },
  {
   "cell_type": "code",
   "execution_count": 6,
   "metadata": {},
   "outputs": [
    {
     "name": "stdout",
     "output_type": "stream",
     "text": [
      "measurements: measure shape  (92,)\n",
      "model output: tmoutput shape (92,)\n"
     ]
    },
    {
     "data": {
      "image/png": "[encoded data removed]",
      "text/plain": [
       "<Figure size 720x216 with 1 Axes>"
      ]
     },
     "metadata": {
      "needs_background": "light"
     },
     "output_type": "display_data"
    }
   ],
   "source": [
    "# plot\n",
    "fig, axs = plt.subplots(1,1,figsize=(10,3))\n",
    "axs.set_xlim(0,365)\n",
    "axs.plot(tmdriver,tmoutput,'r+',label='modelled values')\n",
    "axs.plot(tmdriver,measure,'g+',label='measured values')\n",
    "# plot the discrepencies as error bars using errorbar\n",
    "axs.errorbar(tmdriver,measure,\\\n",
    "             yerr=[measure-measure,tmoutput-measure],ls='none',\\\n",
    "             label='error')\n",
    "\n",
    "# set legend now\n",
    "axs.legend(loc='best')\n",
    "axs.set_xlabel(f'time / days')\n",
    "\n",
    "print(f'measurements: measure shape  {measure.shape}')\n",
    "print(f'model output: tmoutput shape {tmoutput.shape}')"
   ]
  },
  {
   "cell_type": "code",
   "execution_count": 7,
   "metadata": {},
   "outputs": [
    {
     "data": {
      "text/plain": [
       "[<matplotlib.lines.Line2D at 0x7fba984437d0>]"
      ]
     },
     "execution_count": 7,
     "metadata": {},
     "output_type": "execute_result"
    },
    {
     "data": {
      "image/png": "[encoded data removed]",
      "text/plain": [
       "<Figure size 360x360 with 1 Axes>"
      ]
     },
     "metadata": {
      "needs_background": "light"
     },
     "output_type": "display_data"
    }
   ],
   "source": [
    "# scatter plot\n",
    "fig, axs = plt.subplots(1,1,figsize=(5,5))\n",
    "# max value over all\n",
    "maxvalue = np.array([measure,tmoutput]).max()\n",
    "axs.set_xlim(0,maxvalue)\n",
    "axs.set_ylim(0,maxvalue)\n",
    "\n",
    "axs.plot(measure,tmoutput,'r+')\n",
    "axs.errorbar(measure,tmoutput,yerr=std,ls='none')\n",
    "\n",
    "axs.set_ylabel(f'model output')\n",
    "axs.set_xlabel(f'measurement')\n",
    "# 1:1 line\n",
    "axs.plot([0,maxvalue],[0,maxvalue],'k')"
   ]
  },
  {
   "cell_type": "markdown",
   "metadata": {},
   "source": [
    "### Varying the parameters\n",
    "\n",
    "We have seen how, once we have aligned the model outputs and observations, we can calculate a weighted measure if error, RMSE here. So, so some given set of measurements, a model, and a set of model parameters, we can calculate the error:"
   ]
  },
  {
   "cell_type": "markdown",
   "metadata": {},
   "source": [
    "![model](images/parameters4.png)\n",
    "\n",
    "Re-generate the set of measurements:"
   ]
  },
  {
   "cell_type": "code",
   "execution_count": 8,
   "metadata": {},
   "outputs": [],
   "source": [
    "import numpy as np\n",
    "\n",
    "# simple model \n",
    "def model(driver,param):\n",
    "    '''2-parameter quadratic model with noise'''\n",
    "    return param[0] + param[1] * driver * driver\n",
    "\n",
    "# time driver every 4 days for measurement\n",
    "tmdriver = np.arange(0,365,4,dtype=np.int)\n",
    "\n",
    "# generate a pseudo-measurement\n",
    "# NB different to above\n",
    "p0 = np.array([0.6,0.0005])\n",
    "\n",
    "# np.random.random(tmdriver.shape)-0.5 -> zero mean noise\n",
    "measure = model(tmdriver,p0) + 5*(np.random.random(tmdriver.shape)-0.5)\n",
    "# just make up some weights for this exercise\n",
    "measure_weight = (2 + np.random.random(tmdriver.shape))/4\n",
    "# convert to std for plotting as previously\n",
    "std = 1./np.sqrt(measure_weight) * 1.96"
   ]
  },
  {
   "cell_type": "markdown",
   "metadata": {},
   "source": [
    "Recap on the core components so far, but setting the parameters to `numpy` arrays:"
   ]
  },
  {
   "cell_type": "code",
   "execution_count": 9,
   "metadata": {},
   "outputs": [
    {
     "name": "stdout",
     "output_type": "stream",
     "text": [
      "p0 shape:    (1,)\n",
      "p1 shape:    (1,)\n",
      "tmdriver shape: (92,)\n",
      "tmoutput shape: (92,)\n"
     ]
    }
   ],
   "source": [
    "# some test parameters\n",
    "p0,p1 = np.array([0.1]),np.array([0.2])\n",
    "\n",
    "tmoutput  = model(tmdriver,[p0,p1])\n",
    "\n",
    "print(f'p0 shape:    {p0.shape}')\n",
    "print(f'p1 shape:    {p1.shape}')\n",
    "print(f'tmdriver shape: {tmdriver.shape}')\n",
    "print(f'tmoutput shape: {tmoutput.shape}')"
   ]
  },
  {
   "cell_type": "markdown",
   "metadata": {},
   "source": [
    "We will now build a Look-up table (LUT) in parameter space to examine how the RMSE varies as we vary the model parameters."
   ]
  },
  {
   "cell_type": "code",
   "execution_count": 10,
   "metadata": {},
   "outputs": [],
   "source": [
    "import numpy as np\n",
    "\n",
    "# Use mgrid as previously to define a 2D grid of parameters\n",
    "p0min,p0max,p0step = 0.0,10.0,1\n",
    "p1min,p1max,p1step = 0.0,0.0011,0.0001\n",
    "p0,p1 = np.mgrid[p0min:p0max+p0step:p0step,\\\n",
    "                 p1min:p1max+p1step:p1step]"
   ]
  },
  {
   "cell_type": "code",
   "execution_count": 11,
   "metadata": {},
   "outputs": [
    {
     "name": "stdout",
     "output_type": "stream",
     "text": [
      "2d parameter grid\n"
     ]
    },
    {
     "data": {
      "image/png": "[encoded data removed]",
      "text/plain": [
       "<Figure size 360x360 with 1 Axes>"
      ]
     },
     "metadata": {
      "needs_background": "light"
     },
     "output_type": "display_data"
    }
   ],
   "source": [
    "import matplotlib.pyplot as plt\n",
    "fig, axs = plt.subplots(1,1,figsize=(5,5))\n",
    "axs.plot(p0,p1,'+')\n",
    "axs.set_xlabel('p0')\n",
    "axs.set_ylabel('p1')\n",
    "\n",
    "print('2d parameter grid')"
   ]
  },
  {
   "cell_type": "markdown",
   "metadata": {},
   "source": [
    "Recall from [032 `reshape`](032_More_numpy.ipynb#Changing-shape:-flatten,-ravel-and-reshape) that although the LUT is 2-D, we will mostly want to operate on a 1D ravelled version. So let's generate that from the outset:\n",
    "\n"
   ]
  },
  {
   "cell_type": "code",
   "execution_count": 12,
   "metadata": {},
   "outputs": [
    {
     "name": "stdout",
     "output_type": "stream",
     "text": [
      "shape of p0 : (11, 12)\n",
      "shape of p0_ : (132,)\n"
     ]
    }
   ],
   "source": [
    "p0_ = np.ravel(p0)\n",
    "p1_ = np.ravel(p1)\n",
    "print(f'shape of p0 : {p0.shape}')\n",
    "print(f'shape of p0_ : {p0_.shape}')"
   ]
  },
  {
   "cell_type": "markdown",
   "metadata": {},
   "source": [
    "\n",
    "\n",
    "In [032 `np.newaxis`](032_More_numpy.ipynb#Reconciling-arrays:-np.newaxis) we saw how to use `np.newaxis` to reconcile two arrays for element-wise processing. Here, have the 1D arrays `tdriver` and the `p0_` and `p1_` and we want to be able to describe all parameters for all time locations;"
   ]
  },
  {
   "cell_type": "code",
   "execution_count": 13,
   "metadata": {},
   "outputs": [
    {
     "name": "stdout",
     "output_type": "stream",
     "text": [
      "p0_ext shape:       (1, 132)\n",
      "p1_ext shape:       (1, 132)\n",
      "tmdriver_ext shape: (92, 1)\n",
      "tmoutput shape:     (92, 132)\n"
     ]
    }
   ],
   "source": [
    "p0_ext       = p0_[np.newaxis,:]\n",
    "p1_ext       = p1_[np.newaxis,:]\n",
    "tmdriver_ext = tmdriver[:,np.newaxis]\n",
    "\n",
    "print(f'p0_ext shape:       {p0_ext.shape}')\n",
    "print(f'p1_ext shape:       {p1_ext.shape}')\n",
    "print(f'tmdriver_ext shape: {tmdriver_ext.shape}')\n",
    "\n",
    "# we can now call the model with extended arrays\n",
    "# to produce model output for all parameters and \n",
    "# time samples\n",
    "tmoutput  = model(tmdriver_ext,[p0_ext,p1_ext])\n",
    "print(f'tmoutput shape:     {tmoutput.shape}')"
   ]
  },
  {
   "cell_type": "markdown",
   "metadata": {},
   "source": [
    "We need to be able to compare `tmoutput` with `measure` and `measure_weight`, so lets do that to align with the parameter grid:"
   ]
  },
  {
   "cell_type": "code",
   "execution_count": 14,
   "metadata": {},
   "outputs": [
    {
     "name": "stdout",
     "output_type": "stream",
     "text": [
      "measure_ext shape:        (92, 1)\n",
      "measure_weight_ext shape: (92, 1)\n"
     ]
    }
   ],
   "source": [
    "measure_ext        = measure[:,np.newaxis]\n",
    "measure_weight_ext = measure_weight[:,np.newaxis]\n",
    "print(f'measure_ext shape:        {measure_ext.shape}')\n",
    "print(f'measure_weight_ext shape: {measure_weight_ext.shape}')"
   ]
  },
  {
   "cell_type": "markdown",
   "metadata": {},
   "source": [
    "We can now perform element-wise operations involving `measure_ext`, `measure_weight_ext` and `tmoutput`:"
   ]
  },
  {
   "cell_type": "code",
   "execution_count": 15,
   "metadata": {},
   "outputs": [
    {
     "name": "stdout",
     "output_type": "stream",
     "text": [
      "error_ext shape: (92, 132)\n"
     ]
    }
   ],
   "source": [
    "error_ext = (tmoutput - measure_ext)*measure_weight_ext\n",
    "error_ext = error_ext*error_ext\n",
    "print(f'error_ext shape: {error_ext.shape}')"
   ]
  },
  {
   "cell_type": "markdown",
   "metadata": {},
   "source": [
    "Now calculate the square root of the mean of this squared error term `error_ext` over time samples (axis 0):"
   ]
  },
  {
   "cell_type": "code",
   "execution_count": 16,
   "metadata": {},
   "outputs": [
    {
     "name": "stdout",
     "output_type": "stream",
     "text": [
      "rmse shape (132,)\n",
      "min rmse\n",
      "0.931498404380905\n"
     ]
    }
   ],
   "source": [
    "rmse = np.sqrt(np.mean(error_ext,axis=0))\n",
    "\n",
    "print(f'rmse shape {rmse.shape}')\n",
    "min_rmse = rmse.min()\n",
    "print(f'min rmse\\n{min_rmse}')"
   ]
  },
  {
   "cell_type": "markdown",
   "metadata": {},
   "source": [
    "Following the material in [032](032_More_numpy.ipynb#Simplifying-shape:-flatten,-ravel,-reshape-and-unravel_index) we use `argmin` to find the parameter index of minimum RMSE:\n"
   ]
  },
  {
   "cell_type": "code",
   "execution_count": 17,
   "metadata": {},
   "outputs": [
    {
     "name": "stdout",
     "output_type": "stream",
     "text": [
      "1D index of minimum  : 5\n",
      "parameter at minimum : 0.0,0.0005\n"
     ]
    }
   ],
   "source": [
    "# use np.argmin to find the minimum\n",
    "imin = np.argmin(rmse)\n",
    "p0min,p1min = p0_[imin],p1_[imin]\n",
    "print(f'1D index of minimum  : {imin}')\n",
    "print(f'parameter at minimum : {p0min},{p1min}')"
   ]
  },
  {
   "cell_type": "markdown",
   "metadata": {},
   "source": [
    "\n",
    "To convert the index back to the unflattened array, we can use [`np.unravel_index`](032_More_numpy.ipynb#Simplifying-shape:-flatten,-ravel,-reshape-and-unravel_index) as before:"
   ]
  },
  {
   "cell_type": "code",
   "execution_count": 18,
   "metadata": {},
   "outputs": [
    {
     "name": "stdout",
     "output_type": "stream",
     "text": [
      "2D index of minimum point: 0, 5\n",
      "parameter at minimum : 0.0,0.0005\n"
     ]
    }
   ],
   "source": [
    "ip0min,ip1min = np.unravel_index(imin,p0.shape)\n",
    "\n",
    "print(f'2D index of minimum point: {ip0min}, {ip1min}')\n",
    "p0min = p0[ip0min,ip1min]\n",
    "p1min = p1[ip0min,ip1min]\n",
    "print(f'parameter at minimum : {p0min},{p1min}')"
   ]
  },
  {
   "cell_type": "markdown",
   "metadata": {},
   "source": [
    "Of the 11 x 12  combinations of parameters we examined, the parameters `[1.0,0.0005]` provide the best fit to the data. We had generated the 'measurements' with:\n",
    "\n",
    "    p0 = np.array([0.6,0.0005])\n"
   ]
  },
  {
   "cell_type": "markdown",
   "metadata": {},
   "source": [
    "#### Visualisation of RMSE\n",
    "\n",
    "We can find it useful to visualise the RMSE 'error surface' and then plot the measurements and forward model. Since we have a flattened version, we will need to apply `reshape` before loading it. We reshape it to the same shape as `p0`:"
   ]
  },
  {
   "cell_type": "code",
   "execution_count": 19,
   "metadata": {},
   "outputs": [],
   "source": [
    "# reshape to plot\n",
    "_rmse = rmse.reshape(p0.shape)"
   ]
  },
  {
   "cell_type": "markdown",
   "metadata": {},
   "source": [
    "Now, a graph of the RMSE values as a function of parameter 0 index. We set the maximum value in the plots below to 10 times the minimum RMSE value, as this should let us see some detail in the error function, without swamping the plot with error values that are not at all feasible. This factor of 5 is a little arbitrary, and you might need to experiment with it, but it is not a bad rule of thumb."
   ]
  },
  {
   "cell_type": "code",
   "execution_count": 20,
   "metadata": {},
   "outputs": [
    {
     "data": {
      "text/plain": [
       "Text(0.5, 0, 'parameter index')"
      ]
     },
     "execution_count": 20,
     "metadata": {},
     "output_type": "execute_result"
    },
    {
     "data": {
      "image/png": "[encoded data removed]",
      "text/plain": [
       "<Figure size 720x216 with 1 Axes>"
      ]
     },
     "metadata": {
      "needs_background": "light"
     },
     "output_type": "display_data"
    }
   ],
   "source": [
    "import matplotlib.pyplot as plt\n",
    "\n",
    "# plot rmse as function of parameter index\n",
    "pindex = np.arange(_rmse.shape[0])\n",
    "fig, axs = plt.subplots(1,1,figsize=(10,3))\n",
    "axs.plot(pindex,_rmse,'r+')\n",
    "axs.plot([p0min],[min_rmse],'ko',label='minimum RMSE')\n",
    "# set upper bound so we can see the detail\n",
    "axs.set_ylim(0,min_rmse*5)\n",
    "axs.set_xlabel(f'parameter index')"
   ]
  },
  {
   "cell_type": "code",
   "execution_count": 21,
   "metadata": {},
   "outputs": [
    {
     "data": {
      "text/plain": [
       "<matplotlib.legend.Legend at 0x7fba985c5e10>"
      ]
     },
     "execution_count": 21,
     "metadata": {},
     "output_type": "execute_result"
    },
    {
     "data": {
      "image/png": "[encoded data removed]",
      "text/plain": [
       "<Figure size 360x288 with 2 Axes>"
      ]
     },
     "metadata": {
      "needs_background": "light"
     },
     "output_type": "display_data"
    }
   ],
   "source": [
    "import matplotlib.pyplot as plt\n",
    "# Plot the RMSE values returned from this as an image\n",
    "\n",
    "# plot it\n",
    "fig, axs = plt.subplots(1,1,figsize=(5,4))\n",
    "# plot reshaped rmse\n",
    "im = axs.imshow(rmse.reshape(p0.shape),\\\n",
    "                interpolation=\"nearest\",\\\n",
    "                vmax=min_rmse*5,cmap=plt.cm.inferno_r)\n",
    "fig.colorbar(im, ax=axs)\n",
    "axs.set_xlabel('p0')\n",
    "axs.set_ylabel('p1')\n",
    "# notice we plot ip1min,ip0min to overlay the image\n",
    "plt.plot([ip1min],[ip0min],'r+',label=\"minimum RMSE\")\n",
    "axs.legend(loc='lower right')"
   ]
  },
  {
   "cell_type": "markdown",
   "metadata": {},
   "source": [
    "It is useful to look at such plots because we can use them to gauge  the uncertainty in the parameter solution. In this case, we see that the error surface is long and narrow in parameter 1. So even though we have reported the optimal value as 1.0, it could vary considerably and not change the RMSE value considerably. This is an important part of the interpretation of our results, and helps explain why we solved for a parameter value of 1.0 even though we fed the measurements with a value of 0.6.\n",
    "\n",
    "One other thing these plots are useful for is to check that our solution does not lie on the boundary of the parameter space. Unless there is a good physical reason for the bounds we have imposed on the parameters in generating the LUT grid, if we find our solution is on a parameter boundary we might just be not sampling the parameter space well enough. Related to this, we also would like to see some spread of the RMSE values, rather than just a single low point, as this might otherwise indicate that our sampling grid is too coarse. The example above is good model for what you should be looking for the the RMSE plots, although the grid is a little coarse. Remember from above that we have thresholded the plot at 10 times the minimum RMSE so we can see the detail of the plot around the minimum point."
   ]
  },
  {
   "cell_type": "markdown",
   "metadata": {},
   "source": [
    "Now visualise the model and measurents for the 'optimum' parameters:"
   ]
  },
  {
   "cell_type": "code",
   "execution_count": 22,
   "metadata": {},
   "outputs": [
    {
     "name": "stdout",
     "output_type": "stream",
     "text": [
      "[0.     0.0005]\n",
      "measurements: tmdriver shape (92,)\n",
      "model output: tdriver shape  (365,)\n"
     ]
    },
    {
     "data": {
      "image/png": "[encoded data removed]",
      "text/plain": [
       "<Figure size 720x216 with 1 Axes>"
      ]
     },
     "metadata": {
      "needs_background": "light"
     },
     "output_type": "display_data"
    }
   ],
   "source": [
    "import matplotlib.pyplot as plt\n",
    "\n",
    "# time driver every day\n",
    "tdriver = np.arange(0,365,1,dtype=np.int)\n",
    "\n",
    "# get the parameters we iolved for\n",
    "p = np.array([p0min,p1min])\n",
    "print(p)\n",
    "\n",
    "# forward model at all time points\n",
    "# noit just the measurement points\n",
    "output  = model(tdriver,p)\n",
    "\n",
    "# plot\n",
    "fig, axs = plt.subplots(1,1,figsize=(10,3))\n",
    "axs.set_xlim(0,365)\n",
    "axs.plot(tdriver,output,'k',label='modelled values')\n",
    "axs.errorbar(tmdriver,measure,yerr=std,ls='none')\n",
    "axs.plot(tmdriver,measure,'r+',label='measured values')\n",
    "# set legend now\n",
    "axs.legend(loc='best')\n",
    "axs.set_xlabel(f'time / days')\n",
    "\n",
    "print(f'measurements: tmdriver shape {tmdriver.shape}')\n",
    "print(f'model output: tdriver shape  {tdriver.shape}')"
   ]
  },
  {
   "cell_type": "markdown",
   "metadata": {},
   "source": [
    "The parameter estimation code is effective and quite fast in this case. \n",
    "We are using quite a sparse LUT (132 points) in 2-D, but the model is able to mimic the (pseudo) observations very well, even with rather a quantised LUT. We can see from the RMSE image plot above, and the value of RMSE we obtained, that this is likely a good solution for the model. We know from that plot also that the uncertainty in parameter 1 is high. A more sophisticated analysis would take into account the parameter uncertainty in producing the modelled outputs (i.e. put error bars on the model output).\n",
    "\n",
    "When we forward model using the parameters we solved for, we see that the solution \n",
    "found gives a good fit to the observations, within their error bars. This further informs us\n",
    "that the sensitivity to  model parameter p1 is quite low. "
   ]
  },
  {
   "cell_type": "markdown",
   "metadata": {},
   "source": [
    "### LUT inversion\n",
    "\n",
    "This approach is called a Look-up table (LUT) inversion. It has the advantage of being quite fast if the total number of samples in the LUT can be kept down in number. This means that the limits to the problem need to be carefully considered: if your LUT inversion produces a supposed optimum parameter value that is on the bounds of the parameter space, then this can often be quite suspect: it may be that you just haven't sampled over a large-enough parameter space. The result is quantised to the LUT spacing if you use the simple approach here, but that will be fine for many applications. This is really only an appropriate method if you have a small number of parameters that you are solving for: i.e. a 1-, 2- or perhaps 3-Dimensional problem. If your model has more parameters, you may have to adopt a multi-pass strategy for parameter searching, or use a method other than LUT inversion."
   ]
  },
  {
   "cell_type": "markdown",
   "metadata": {
    "solution2": "hidden",
    "solution2_first": true
   },
   "source": [
    "#### Exercise 1\n",
    "\n",
    "In a file `lut_RMSE.py` do the following:\n",
    "\n",
    "        import numpy as np\n",
    "        # define the min and max and step for the grid we want\n",
    "        p0min,p0max,p0step = 0.0,10.0,0.05\n",
    "        p1min,p1max,p1step = 0.0,0.001,0.000005\n",
    "\n",
    "        gridp0,gridp1 = np.mgrid[p0min:p0max+p0step:p0step,\\\n",
    "                                 p1min:p1max+p1step:p1step]\n",
    "\n",
    "\n",
    "* Write a function `gen_lut` to return a 2D parameter (Look up table -- LUT) grid using `np.mgrid` as above as `param = [gridp0,gridp1]`\n",
    "\n",
    "        # simple model \n",
    "        def model(driver,param):\n",
    "            '''2-parameter quadratic model with noise'''\n",
    "            return param[0] + param[1] * driver * driver\n",
    "          \n",
    "* Write a function `model` to describe the model we will be using from the code above\n",
    "            \n",
    "        # code to use\n",
    "        # time driver every 4 days for measurement    \n",
    "        tmdriver = np.arange(0,365,4,dtype=np.int)\n",
    "        # generate a pseudo-measurement\n",
    "        p0 = np.array([5.0,0.0005])\n",
    "        measure = model(tmdriver,p0) + 5*(np.random.random(tmdriver.shape)-0.5)\n",
    "        # just make up some weights for this exercise\n",
    "        measure_weight = (2 + np.random.random(tmdriver.shape))/4\n",
    "        \n",
    "* Write a function `gen_meas` to generate a pseudo-measurement based on the model and some noise. It should print the value of the parameters used in the model, and return `tmdriver, measure, measure_weight` corresponding to:\n",
    "\n",
    "        * tmdriver:       array of (Nm,) floats of the day of year on which to do modelling\n",
    "        * measure:        array of (Nm,) floats of measurements over sampled days of the year\n",
    "        * measure_weight: array of (Nm,) floats of the weights associated with the measurements\n",
    "\n",
    "* Write a function `lut_RMSE` that takes as inputs:\n",
    "\n",
    "        * `param`:          list of `[p0,p1]` with `p0` and `p1` being arrays of shape `(Np0,Np1)` representing a the LUT grid over parameter space\n",
    "        * `tmdriver`:       array of (Nm,) integers: the days on which the measurements occur \n",
    "        * `measure:`        array of (Nm,) floats of measurements over sampled days of the year\n",
    "        * `measure_weight`: array of (Nm,) floats of the weights associated with the measurements\n",
    "    \n",
    " That runs the model `model(tmdriver,param)`, calculates the weighted RMSE between the measurements and the modelled values for each parameter pair, and returns a grid of shape `(Np0,Np1)` values of RMSE associated with each parameter pair.\n",
    " \n",
    " * Write a function `runner()` that \n",
    "    * generates tmdriver, the array of (92,) floats for every 4 day of year on which to do modelling\n",
    "    * gets a LUT `param` from `gen_lut`\n",
    "    * gets a pseudo-measurement from `gen_meas`\n",
    "    * gets a 2-D array of RMSE corresponding to the parameter grid\n",
    "    * calculated and prints the value of the parameters corresponding to the minimum RMSE,\n",
    "    * returns the RMSE array, the LUT, and the measurements\n",
    " \n",
    "* Run `runner()` in a notebook\n",
    "* Plot the RMSE values returned from this as an image\n",
    "* Verify that you have identified the minimum RMSE\n",
    "* Set different parameters in `gen_meas` to generate a different pseudo-measurement and repeat the process.\n",
    "* Comment on the results"
   ]
  },
  {
   "cell_type": "code",
   "execution_count": 23,
   "metadata": {
    "solution2": "hidden"
   },
   "outputs": [
    {
     "name": "stdout",
     "output_type": "stream",
     "text": [
      "original parameters: [0.4, 0.0002]\n",
      "min rmse\n",
      "2.372352991393801\n",
      "index: 2452: 0.6000000000000001,0.0002\n",
      "parameters: 0.6000000000000001 0.0002\n"
     ]
    }
   ],
   "source": [
    "# ANSWER\n",
    "# run your own script \n",
    "!geog0111/lut_RMSE.py"
   ]
  },
  {
   "cell_type": "code",
   "execution_count": 24,
   "metadata": {
    "solution2": "hidden"
   },
   "outputs": [
    {
     "name": "stdout",
     "output_type": "stream",
     "text": [
      "original parameters: [0.4, 0.0002]\n",
      "min rmse\n",
      "2.446801263996164\n",
      "index: 41: 0.0,0.00020500000000000002\n",
      "parameters: 0.0 0.00020500000000000002\n"
     ]
    }
   ],
   "source": [
    "# ANSWER\n",
    "import numpy as np\n",
    "# Run runner() in a notebook\n",
    "from geog0111.lut_RMSE import runner, model, gen_lut\n",
    "RMSE,param,(measure,measure_weight,tmdriver) = runner()"
   ]
  },
  {
   "cell_type": "code",
   "execution_count": 25,
   "metadata": {
    "solution2": "hidden"
   },
   "outputs": [
    {
     "name": "stdout",
     "output_type": "stream",
     "text": [
      "index: 41: 0.0,0.00020500000000000002\n",
      "parameters: 0.0 0.00020500000000000002\n"
     ]
    }
   ],
   "source": [
    "# confirm: same as in runner?\n",
    "# use argmin to find min, but need to flatten/reshape arrays first\n",
    "p0,p1 = param\n",
    "p0_ = np.ravel(p0)\n",
    "p1_ = np.ravel(p1)\n",
    "# min over time axis\n",
    "imin = np.argmin(RMSE,axis=0)\n",
    "\n",
    "print(f'index: {imin}: {p0_[imin]},{p1_[imin]}')\n",
    "# back to 2D\n",
    "ip0min,ip1min = np.unravel_index(imin,p0.shape)\n",
    "p0min = p0[ip0min,ip1min]\n",
    "p1min = p1[ip0min,ip1min]\n",
    "\n",
    "p = np.array([p0min,p1min])\n",
    "print(f'parameters: {p[0]} {p[1]}')"
   ]
  },
  {
   "cell_type": "code",
   "execution_count": 26,
   "metadata": {
    "solution2": "hidden"
   },
   "outputs": [
    {
     "data": {
      "text/plain": [
       "<matplotlib.legend.Legend at 0x7fbaf040d4d0>"
      ]
     },
     "execution_count": 26,
     "metadata": {},
     "output_type": "execute_result"
    },
    {
     "data": {
      "image/png": "[encoded data removed]",
      "text/plain": [
       "<Figure size 720x576 with 2 Axes>"
      ]
     },
     "metadata": {
      "needs_background": "light"
     },
     "output_type": "display_data"
    }
   ],
   "source": [
    "import matplotlib.pyplot as plt\n",
    "# Plot the reshaped RMSE values returned from this as an image\n",
    "\n",
    "# plot it\n",
    "fig, axs = plt.subplots(1,1,figsize=(10,8))\n",
    "im = axs.imshow(RMSE.reshape(p0.shape),interpolation=\"nearest\",\\\n",
    "                vmax=10,cmap=plt.cm.inferno_r)\n",
    "fig.colorbar(im, ax=axs)\n",
    "axs.set_xlabel('p0')\n",
    "axs.set_ylabel('p1')\n",
    "plt.plot([ip1min],[ip0min],'r+',label=\"minimum RMSE\")\n",
    "axs.legend(loc='best')"
   ]
  },
  {
   "cell_type": "code",
   "execution_count": 27,
   "metadata": {
    "solution2": "hidden"
   },
   "outputs": [
    {
     "name": "stdout",
     "output_type": "stream",
     "text": [
      "original parameters: [0.7, 0.0005]\n",
      "min rmse\n",
      "2.034386901987606\n",
      "index: 1909: 0.45,0.0005\n",
      "parameters: 0.45 0.0005\n"
     ]
    },
    {
     "data": {
      "text/plain": [
       "<matplotlib.legend.Legend at 0x7fbaf8941750>"
      ]
     },
     "execution_count": 27,
     "metadata": {},
     "output_type": "execute_result"
    },
    {
     "data": {
      "image/png": "[encoded data removed]",
      "text/plain": [
       "<Figure size 720x576 with 2 Axes>"
      ]
     },
     "metadata": {
      "needs_background": "light"
     },
     "output_type": "display_data"
    }
   ],
   "source": [
    "import numpy as np\n",
    "from geog0111.lut_RMSE import gen_meas,model,lut_RMSE\n",
    "\n",
    "# change the original parameters \n",
    "tdriver = np.arange(0,365,1,dtype=np.int)\n",
    "# gets a LUT `param` from `gen_lut`\n",
    "param = gen_lut()\n",
    "# gets a pseudo-measurement from `gen_meas`\n",
    "tmdriver,measure,measure_weight = gen_meas(p0=[0.7,0.0005])\n",
    "# gets a 2-D array of RMSE corresponding to the parameter grid\n",
    "RMSE = lut_RMSE(param,tmdriver,measure,measure_weight)\n",
    "# calculated and prints the value of the parameters corresponding to the minimum RMSE,\n",
    "min_rmse = RMSE.min()\n",
    "print(f'min rmse\\n{min_rmse}')\n",
    "\n",
    "# use argmin to find min, but need to flatten/reshape arrays first\n",
    "p0,p1 = param\n",
    "p0_ = np.ravel(p0)\n",
    "p1_ = np.ravel(p1)\n",
    "# min over time axis\n",
    "imin = np.argmin(RMSE,axis=0)\n",
    "\n",
    "print(f'index: {imin}: {p0_[imin]},{p1_[imin]}')\n",
    "# back to 2D\n",
    "ip0min,ip1min = np.unravel_index(imin,p0.shape)\n",
    "p0min = p0[ip0min,ip1min]\n",
    "p1min = p1[ip0min,ip1min]\n",
    "\n",
    "p = np.array([p0min,p1min])\n",
    "print(f'parameters: {p[0]} {p[1]}')\n",
    "\n",
    "\n",
    "min_rmse = RMSE.min()\n",
    "\n",
    "fig, axs = plt.subplots(1,1,figsize=(10,8))\n",
    "im = axs.imshow(RMSE.reshape(p0.shape),interpolation=\"nearest\",\\\n",
    "                vmax=10,cmap=plt.cm.inferno_r)\n",
    "fig.colorbar(im, ax=axs)\n",
    "axs.set_xlabel('p0')\n",
    "axs.set_ylabel('p1')\n",
    "plt.plot([ip1min],[ip0min],'r+',label=\"minimum RMSE\")\n",
    "axs.legend(loc='best')"
   ]
  },
  {
   "cell_type": "code",
   "execution_count": 28,
   "metadata": {
    "solution2": "hidden"
   },
   "outputs": [
    {
     "name": "stdout",
     "output_type": "stream",
     "text": [
      "[0.45   0.0005]\n",
      "measurements: tmdriver shape (92,)\n",
      "model output: tdriver shape  (365,)\n"
     ]
    },
    {
     "data": {
      "image/png": "[encoded data removed]",
      "text/plain": [
       "<Figure size 720x216 with 1 Axes>"
      ]
     },
     "metadata": {
      "needs_background": "light"
     },
     "output_type": "display_data"
    }
   ],
   "source": [
    "import matplotlib.pyplot as plt\n",
    "\n",
    "# error bars\n",
    "std = 1./np.sqrt(measure_weight) * 1.96\n",
    "\n",
    "# time driver every day\n",
    "tdriver = np.arange(0,365,1,dtype=np.int)\n",
    "# get the parameters we siolved for\n",
    "p = np.array([p0min,p1min])\n",
    "print(p)\n",
    "output  = model(tdriver,p)\n",
    "\n",
    "# plot\n",
    "fig, axs = plt.subplots(1,1,figsize=(10,3))\n",
    "axs.set_xlim(0,365)\n",
    "axs.plot(tdriver,output,'k',label='modelled values')\n",
    "axs.errorbar(tmdriver,measure,yerr=std,ls='none')\n",
    "axs.plot(tmdriver,measure,'r+',label='measured values')\n",
    "# set legend now\n",
    "axs.legend(loc='best')\n",
    "axs.set_xlabel(f'time / days')\n",
    "\n",
    "print(f'measurements: tmdriver shape {tmdriver.shape}')\n",
    "print(f'model output: tdriver shape  {tdriver.shape}')"
   ]
  },
  {
   "cell_type": "code",
   "execution_count": 29,
   "metadata": {
    "scrolled": true,
    "solution2": "hidden"
   },
   "outputs": [
    {
     "name": "stdout",
     "output_type": "stream",
     "text": [
      "\n",
      "We confirm the findings above, but are now able to see the form of the error surface in much greater detail. \n",
      "\n"
     ]
    }
   ],
   "source": [
    "# Comment on the results\n",
    "\n",
    "msg = '''\n",
    "We confirm the findings above, but are now able to see the form of the error surface in much greater detail. \n",
    "'''\n",
    "print(msg)"
   ]
  },
  {
   "cell_type": "markdown",
   "metadata": {},
   "source": [
    "## Summary\n",
    "\n",
    "In this notebook, we have discussed some generic aspects of models. We note that they typically have some set of driving data (even if that is just time, as in the example here), and a set of parameters that control the model response. \n",
    "\n",
    "We have seen how we can apply the concepts we learned in the [`numpy`](032_More_numpy.ipynb#032-More-numpy) sessions to build a parameter LUT and rapidly calculate a goodness of fit measure between some set of observations and the model output. We have seen how to use this to provide an estimate of the model parameters. This is known as model calibration. \n",
    "\n",
    "Technically, we have seen how we need to reconcile the dimensions of the parameter LUT and the model outputs in `numpy` using `np.newaxis` so we can calculate the model outputs for all parameters in the LUT efficiently, all at once. We have seen that parameter estimation in this way can be effective, but may be limited to a relatively small-dimensional problem. If we have a larger number of parameters, we may need to devise other strategies for parameter estimation."
   ]
  },
  {
   "cell_type": "markdown",
   "metadata": {},
   "source": [
    "\n",
    "[<img src=\"images/noun_post_2109127.svg\" width=\"50\" align='right'>](051_Phenology_model.ipynb)\n",
    "[<img src=\"images/noun_pre_2109128.svg\" width=\"50\" align='right'>](043_Weighted_interpolation.ipynb)\n",
    "\n"
   ]
  }
 ],
 "metadata": {
  "kernelspec": {
   "display_name": "conda env:geog0111-geog0111",
   "language": "python",
   "name": "conda-env-geog0111-geog0111-py"
  },
  "language_info": {
   "codemirror_mode": {
    "name": "ipython",
    "version": 3
   },
   "file_extension": ".py",
   "mimetype": "text/x-python",
   "name": "python",
   "nbconvert_exporter": "python",
   "pygments_lexer": "ipython3",
   "version": "3.7.12"
  }
 },
 "nbformat": 4,
 "nbformat_minor": 4
}
