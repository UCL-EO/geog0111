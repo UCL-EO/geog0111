{
 "cells": [
  {
   "cell_type": "markdown",
   "metadata": {},
   "source": [
    "<img alt='UCL' src=\"images/ucl_logo.png\" align='center'>\n"
   ]
  },
  {
   "cell_type": "markdown",
   "metadata": {},
   "source": [
    "# Formative Assessment: Groups"
   ]
  },
  {
   "cell_type": "markdown",
   "metadata": {},
   "source": [
    "*Although we provide access to answers for this exercise, we want you to submit the codes you generate via Moodle, so that we can provide feedback. You should avoid looking at the answers before you submit your work. This submitted work does not count towards your course assessment, it is purely to allow us to provide some rapid feedback to you on how you are doing. You will need to put together a few elements from the notes so far to do all parts of this practical, but you should all be capable of doing it well. Pay attention to writing tidy code, with useful, clear comments and document strings.*"
   ]
  },
  {
   "cell_type": "markdown",
   "metadata": {
    "solution2": "hidden",
    "solution2_first": true
   },
   "source": [
    "#### Exercise 1\n",
    "\n",
    "* create a list called `months` with the names of the months of the year\n",
    "* create a list called `ndays` with the number of days in each month (for this year)\n",
    "* confirm that the two lists have the same length (12)\n",
    "* Use these two lists to make a dictionary called `days_in_month` with the key as month name and value as the number of days in that month.\n",
    "* print out the dictionary and confirm it is as expected\n",
    "* set a variable `m` to be the name of a month\n",
    "* using `m` and your dictionary, print out the number of days in month `m`"
   ]
  },
  {
   "cell_type": "code",
   "execution_count": 1,
   "metadata": {
    "solution2": "hidden"
   },
   "outputs": [
    {
     "name": "stdout",
     "output_type": "stream",
     "text": [
      "length of months: 12\n",
      "length of ndays:  12\n",
      "{'January': 31, 'February': 29, 'March': 31, 'April': 30, 'May': 31, 'June': 30, 'July': 31, 'August': 31, 'September': 30, 'October': 31, 'November': 30, 'December': 31}\n",
      "The number of days in January is 31\n"
     ]
    }
   ],
   "source": [
    "# ANSWER\n",
    "# create a list called `months` with the names of the months of the year\n",
    "months = [\"January\",\"February\",\"March\",\"April\",\"May\",\\\n",
    "         \"June\",\"July\",\"August\",\"September\",\"October\",\\\n",
    "         \"November\",\"December\"]\n",
    "# create a list called `ndays` with the number of days in each month (for this year)\n",
    "ndays = [31,29,31,30,31,30,31,31,30,31,30,31]\n",
    "\n",
    "# confirm that the two lists have the same length (12)\n",
    "print(f'length of months: {len(months)}')\n",
    "print(f'length of ndays:  {len(ndays)}')\n",
    "\n",
    "# Use these two lists to make a dictionary called `days_in_month` \n",
    "# with the key as month name and value as the number of days in that month.\n",
    "days_in_month = dict(zip(months,ndays))\n",
    "\n",
    "# print out the dictionary and confirm it is as expected\n",
    "print(days_in_month)\n",
    "\n",
    "# set a variable `m` to be the name of a month\n",
    "m = 'January'\n",
    "print(f'The number of days in {m} is {days_in_month[m]}')"
   ]
  }
 ],
 "metadata": {
  "kernelspec": {
   "display_name": "conda env:geog0111-geog0111",
   "language": "python",
   "name": "conda-env-geog0111-geog0111-py"
  },
  "language_info": {
   "codemirror_mode": {
    "name": "ipython",
    "version": 3
   },
   "file_extension": ".py",
   "mimetype": "text/x-python",
   "name": "python",
   "nbconvert_exporter": "python",
   "pygments_lexer": "ipython3",
   "version": "3.7.13"
  }
 },
 "nbformat": 4,
 "nbformat_minor": 4
}
