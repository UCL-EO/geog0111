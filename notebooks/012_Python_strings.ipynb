{
 "cells": [
  {
   "cell_type": "markdown",
   "metadata": {},
   "source": [
    "<img alt='UCL' src=\"images/ucl_logo.png\" align='center'>\n",
    "\n",
    "\n",
    "[<img src=\"images/noun_post_2109127.svg\" width=\"50\" align='right'>](013_Python_string_methods.ipynb)\n",
    "[<img src=\"images/noun_pre_2109128.svg\" width=\"50\" align='right'>](011_Python_data_types.ipynb)\n",
    "\n"
   ]
  },
  {
   "cell_type": "markdown",
   "metadata": {},
   "source": [
    "# 012 String formatting\n",
    "\n",
    "## Introduction\n",
    "\n",
    "### Purpose\n",
    "\n",
    "In this section we will learn some more depth about strings: features and formatting.\n",
    "\n",
    "### Prerequisites\n",
    "\n",
    "You will need some understanding of the following:\n",
    "\n",
    "\n",
    "* [001 Using Notebooks](001_Notebook_use.ipynb)\n",
    "* [003 Getting help](003_Help.ipynb)\n",
    "* [010 Variables, comments and print()](010_Python_Introduction.ipynb)\n",
    "* [011 Data types](011_Python_data_types.ipynb) In particular, you should be understand strings and know how to find the length of a string.\n",
    "\n"
   ]
  },
  {
   "cell_type": "markdown",
   "metadata": {},
   "source": [
    "## String features"
   ]
  },
  {
   "cell_type": "markdown",
   "metadata": {},
   "source": [
    "### Quotes and escapes\n",
    "\n",
    "We have seen strings before, and noted that they are collections of characters (`a`, `b`, `1`, ...). Strings and characters are input by surrounding the relevant text in either double (`\"`) or single (`'`) quotes. You can use this feature to print out a string with quotes, for example:"
   ]
  },
  {
   "cell_type": "code",
   "execution_count": 1,
   "metadata": {
    "scrolled": true
   },
   "outputs": [
    {
     "name": "stdout",
     "output_type": "stream",
     "text": [
      "'a string in single quotes'\n",
      "\"a string in double quotes\"\n"
     ]
    }
   ],
   "source": [
    "print (\"'a string in single quotes'\")\n",
    "print ('\"a string in double quotes\"')"
   ]
  },
  {
   "cell_type": "markdown",
   "metadata": {},
   "source": [
    "Some elements of the string may be special codes for print formatting, such as newline `\\n` or tab `\\t`. If we insert these in the string, they will add a newline or a tab respectively. Both of these might *look like* multiple characters, but rather are interpreted instead as a single character.\n",
    "\n",
    "What if we needed to print out `\\n` as part of the string, e.g. print the string:\n",
    "\n",
    "        \"beware of \\n and \\t\"\n",
    "        \n",
    "we will find that they are (as we probably suspected) interpreted. Using single or double quotes will make no difference:"
   ]
  },
  {
   "cell_type": "code",
   "execution_count": 2,
   "metadata": {},
   "outputs": [
    {
     "name": "stdout",
     "output_type": "stream",
     "text": [
      "beware of \n",
      " and \t\n",
      "beware of \n",
      " and \t\n"
     ]
    }
   ],
   "source": [
    "print(\"beware of \\n and \\t\")\n",
    "print('beware of \\n and \\t')"
   ]
  },
  {
   "cell_type": "markdown",
   "metadata": {},
   "source": [
    "What we need to do is to present the `print()` with two characters `\\` and `n`, instead of the single character `\\n`. The problem now is that `\\` has special meaning in a string: it *escapes* the following character, i.e. it makes the interpreter ignore the meaning of the following character. If we tried to generate a string:\n",
    "\n",
    "        \"\\\"\n",
    " \n",
    " the code would fail, because `\\\"` means *don't* interpret `\"` in its usual sense (i.e. as a quote) and we would have an unclosed string.\n",
    " \n",
    " The trick then, is to use `\\` to escape the meaning of `\\`. So, if we want to print `\\`, we set the string as `\\\\`:"
   ]
  },
  {
   "cell_type": "code",
   "execution_count": 3,
   "metadata": {},
   "outputs": [
    {
     "name": "stdout",
     "output_type": "stream",
     "text": [
      "\\\n"
     ]
    }
   ],
   "source": [
    "print(\"\\\\\")"
   ]
  },
  {
   "cell_type": "markdown",
   "metadata": {
    "solution2": "hidden",
    "solution2_first": true
   },
   "source": [
    "#### Exercise 1\n",
    "\n",
    "* insert a new cell below here\n",
    "* Use what we have learned above to print the phrase `\"beware of \\n and \\t\"`, including quotes."
   ]
  },
  {
   "cell_type": "code",
   "execution_count": 4,
   "metadata": {
    "solution2": "hidden"
   },
   "outputs": [
    {
     "name": "stdout",
     "output_type": "stream",
     "text": [
      "wrong:\t\t beware of \n",
      " and \t\n",
      "good:\t\t beware of \\n and \\t \t\tbut no quotes\n",
      "great:\t\t \"beware of \\n and \\t\"\n",
      "great:\t\t \"beware of \\n and \\t\"\n"
     ]
    }
   ],
   "source": [
    "# ANSWER\n",
    "# Use what we have learned above to print the phrase\n",
    "# \"beware of \\n and \\t\", including quotes.\n",
    "\n",
    "# try this first\n",
    "string = \"beware of \\n and \\t\"\n",
    "print('wrong:\\t\\t',string)\n",
    "\n",
    "# now escape the \\ characters\n",
    "string = \"beware of \\\\n and \\\\t\"\n",
    "print('good:\\t\\t',string,'\\t\\tbut no quotes')\n",
    "\n",
    "# now escape the \\ characters\n",
    "# and add quotes\n",
    "string = '\"beware of \\\\n and \\\\t\"'\n",
    "print('great:\\t\\t',string)\n",
    "\n",
    "# now escape the \\ characters\n",
    "# and add quotes by escaping\n",
    "string = \"\\\"beware of \\\\n and \\\\t\\\"\"\n",
    "print('great:\\t\\t',string)"
   ]
  },
  {
   "cell_type": "markdown",
   "metadata": {},
   "source": [
    "Another time we use the `\\` as an escape character is in trying to make long strings in our code more readable. We can do this by putting an escape `\\` **just before** we hit the return key (newline!) on the keyboard, and so spread what would be a command or variable over a single long line over multiple lines.\n",
    "\n",
    "For example:"
   ]
  },
  {
   "cell_type": "code",
   "execution_count": 5,
   "metadata": {},
   "outputs": [
    {
     "name": "stdout",
     "output_type": "stream",
     "text": [
      "Remote sensing is the process of detecting and monitoring the physical characteristics of an area by measuring its reflected and emitted radiation at a distance (typically from satellite or aircraft).\n"
     ]
    }
   ],
   "source": [
    "# from https://www.usgs.gov/faqs/what-remote-sensing-and-what-it-used?\n",
    "string = \\\n",
    "\"Remote sensing is the process of detecting and \\\n",
    "monitoring the physical characteristics of an \\\n",
    "area by measuring its reflected and emitted \\\n",
    "radiation at a distance (typically from \\\n",
    "satellite or aircraft).\"\n",
    "\n",
    "print(string)"
   ]
  },
  {
   "cell_type": "markdown",
   "metadata": {},
   "source": [
    "Here, when we type `string = ` on the first line, the Python interpreter expects a string to be specified next. By using instead `\\` *just before we hit the return*, we are essentially escaping that newline, and the rest of the command (the string definition here) can take place on the following line. We repeat this idea to spread the string over multiple lines."
   ]
  },
  {
   "cell_type": "markdown",
   "metadata": {},
   "source": [
    "This can be really useful. \n",
    "\n",
    "In the special case of a string that we want to define over multiple lines though, Python has a special format using triple quotes (single or double):\n",
    "\n",
    "    '''\n",
    "    multiple \n",
    "    line\n",
    "    string\n",
    "    '''\n",
    "    \n",
    "that means we don't need to escape each end of line within the text."
   ]
  },
  {
   "cell_type": "code",
   "execution_count": 6,
   "metadata": {},
   "outputs": [
    {
     "name": "stdout",
     "output_type": "stream",
     "text": [
      "\n",
      "Remote sensing is the process of detecting and \n",
      "monitoring the physical characteristics of an \n",
      "area by measuring its reflected and emitted \n",
      "radiation at a distance (typically from \n",
      "satellite or aircraft).\n",
      "\n"
     ]
    }
   ],
   "source": [
    "# from https://www.usgs.gov/faqs/what-remote-sensing-and-what-it-used?\n",
    "string = '''\n",
    "Remote sensing is the process of detecting and \n",
    "monitoring the physical characteristics of an \n",
    "area by measuring its reflected and emitted \n",
    "radiation at a distance (typically from \n",
    "satellite or aircraft).\n",
    "'''\n",
    "\n",
    "print(string)"
   ]
  },
  {
   "cell_type": "markdown",
   "metadata": {},
   "source": [
    "Notice how this is different to the case when we escaped the newline characters withing the string. In fact, at the end of each line of text, this string contains `\\n` newline characters (we just don't see them)."
   ]
  },
  {
   "cell_type": "markdown",
   "metadata": {
    "solution2": "hidden",
    "solution2_first": true
   },
   "source": [
    "#### Exercise 2\n",
    "\n",
    "* Insert a new cell below here\n",
    "* Write Python code that prints a string containing the following text, spaced over four lines as intended. There should be no space at the start of the line.\n",
    "\n",
    "        The Owl and the Pussy-cat went to sea \n",
    "        In a beautiful pea-green boat, \n",
    "        They took some honey, and plenty of money, \n",
    "        Wrapped up in a five-pound note.\n",
    "\n",
    "* Write Python code that prints a string containing the above text, all on a single line."
   ]
  },
  {
   "cell_type": "code",
   "execution_count": 7,
   "metadata": {
    "solution2": "hidden"
   },
   "outputs": [
    {
     "name": "stdout",
     "output_type": "stream",
     "text": [
      "\n",
      "The Owl and the Pussy-cat went to sea\n",
      "In a beautiful pea-green boat,\n",
      "They took some honey, and plenty of money,\n",
      "Wrapped up in a five-pound note.\n",
      "  \n"
     ]
    }
   ],
   "source": [
    "# ANSWER\n",
    "\n",
    "# Write Python code that prints a string containing \n",
    "# the following text, spaced over four lines as intended.\n",
    "\n",
    "lear = '''\n",
    "The Owl and the Pussy-cat went to sea\n",
    "In a beautiful pea-green boat,\n",
    "They took some honey, and plenty of money,\n",
    "Wrapped up in a five-pound note.\n",
    "  '''\n",
    "print(lear)"
   ]
  },
  {
   "cell_type": "code",
   "execution_count": 8,
   "metadata": {
    "solution2": "hidden"
   },
   "outputs": [
    {
     "name": "stdout",
     "output_type": "stream",
     "text": [
      "The Owl and the Pussy-cat went to sea In a beautiful pea-green boat, They took some honey, and plenty of money, Wrapped up in a five-pound note.\n"
     ]
    }
   ],
   "source": [
    "# ANSWER\n",
    "\n",
    "# Write Python code that prints a string \n",
    "# containing the above text, all on a single line.\n",
    "\n",
    "\n",
    "# we can still space it out clearly, but \n",
    "# now escape the new lines\n",
    "lear = \\\n",
    "\"The Owl and the Pussy-cat went to sea \\\n",
    "In a beautiful pea-green boat, \\\n",
    "They took some honey, and plenty of money, \\\n",
    "Wrapped up in a five-pound note.\"\n",
    "print(lear)"
   ]
  },
  {
   "cell_type": "markdown",
   "metadata": {},
   "source": [
    "## String arithmetic\n",
    "\n",
    "We can use some of the arithmetic operators with strings. In particular `*` and `+`.\n",
    "\n",
    "### `*`\n",
    "\n",
    "In the context of a string, the operator `*` is used to repeat the string. For example:"
   ]
  },
  {
   "cell_type": "code",
   "execution_count": 9,
   "metadata": {},
   "outputs": [
    {
     "name": "stdout",
     "output_type": "stream",
     "text": [
      "- 1\n",
      "---------- 10\n"
     ]
    }
   ],
   "source": [
    "# multiplication example\n",
    "dash = '-'\n",
    "dash10 = dash * 10\n",
    "print(dash,len(dash))\n",
    "print(dash10,len(dash10))"
   ]
  },
  {
   "cell_type": "markdown",
   "metadata": {
    "solution2": "hidden",
    "solution2_first": true
   },
   "source": [
    "#### Exercise 3\n",
    "\n",
    "* In a new cell below, generate a string called `base` and set this to the string `Hello` \n",
    "* print base and its length\n",
    "* set a new variable `mult` to `base * 10`\n",
    "* print `mult` and its length\n",
    "* comment on why the lengths are the values reported"
   ]
  },
  {
   "cell_type": "code",
   "execution_count": 10,
   "metadata": {
    "solution2": "hidden"
   },
   "outputs": [
    {
     "name": "stdout",
     "output_type": "stream",
     "text": [
      "Hello 5\n",
      "HelloHelloHelloHelloHelloHelloHelloHelloHelloHello 50\n",
      "\n",
      "The string 'Hello' has 5 characters. We set the evariable base\n",
      "to be this, so the length of the string base is 5.\n",
      "\n",
      "We set mult to be base * 10. For a string, * repeats the string,\n",
      "so we end up with a string the same as base but repeated 10 times.\n",
      "Since th length of base was 5, the length of mult will be 5 * 10 = 50\n",
      "\n"
     ]
    }
   ],
   "source": [
    "# ANSWER\n",
    "# In a new cell below, generate a string called base and set this to the string Hello\n",
    "base = 'Hello'\n",
    "\n",
    "#print base and its length\n",
    "print(base,len(base))\n",
    "\n",
    "#set a new variable mult to base * 10\n",
    "mult = base * 10\n",
    "\n",
    "#print mult and its length\n",
    "print (mult,len(mult))\n",
    "\n",
    "#comment on why the lengths are the values reported\n",
    "msg = '''\n",
    "The string 'Hello' has 5 characters. We set the evariable base\n",
    "to be this, so the length of the string base is 5.\n",
    "\n",
    "We set mult to be base * 10. For a string, * repeats the string,\n",
    "so we end up with a string the same as base but repeated 10 times.\n",
    "Since th length of base was 5, the length of mult will be 5 * 10 = 50\n",
    "'''\n",
    "print(msg)"
   ]
  },
  {
   "cell_type": "markdown",
   "metadata": {},
   "source": [
    "### `+`\n",
    "\n",
    "The plus operator `+` adds two strings together, in the sense of [concatenating](https://en.wikipedia.org/wiki/Concatenation) the strings. For example:"
   ]
  },
  {
   "cell_type": "code",
   "execution_count": 11,
   "metadata": {},
   "outputs": [
    {
     "name": "stdout",
     "output_type": "stream",
     "text": [
      "I joined hello to world with + and got helloworld\n"
     ]
    }
   ],
   "source": [
    "# hello world\n",
    "astring = 'hello'\n",
    "bstring = 'world'\n",
    "\n",
    "cstring = astring + bstring\n",
    "print('I joined',astring,'to',bstring,'with + and got',cstring)"
   ]
  },
  {
   "cell_type": "markdown",
   "metadata": {
    "solution2": "hidden",
    "solution2_first": true
   },
   "source": [
    "#### Exercise 4\n",
    "\n",
    "You may have noticed that when we use `+` to join `hello + world` above, there is no space between the words. This is because we have not told the computer to put any such space in.\n",
    "\n",
    "* Copy the code from the hello world example above\n",
    "* create a new string called `gap` containing whitespace: `gap = ' '`\n",
    "* using `gap`, edit the code so that `cstring` has a gap between the words"
   ]
  },
  {
   "cell_type": "code",
   "execution_count": 12,
   "metadata": {
    "solution2": "hidden"
   },
   "outputs": [
    {
     "name": "stdout",
     "output_type": "stream",
     "text": [
      "I joined hello to   to world with + and got hello world\n"
     ]
    }
   ],
   "source": [
    "# ANSWER\n",
    "\n",
    "# Copy the code from the hello world example above\n",
    "astring = 'hello'\n",
    "bstring = 'world'\n",
    "\n",
    "# create a new string called `gap` containing whitespace: `gap = ' '`\n",
    "gap = ' '\n",
    "\n",
    "# using `gap`, edit the code so that `cstring` has a gap between the words\n",
    "cstring = astring + gap + bstring\n",
    "print('I joined',astring,'to',gap,'to',bstring,'with + and got',cstring)"
   ]
  },
  {
   "cell_type": "code",
   "execution_count": 13,
   "metadata": {
    "solution2": "hidden"
   },
   "outputs": [
    {
     "name": "stdout",
     "output_type": "stream",
     "text": [
      "Hello 5\n",
      "HelloHelloHelloHelloHelloHelloHelloHelloHelloHello 50\n",
      "\n",
      "    comment on why the lengths are the values reported\n",
      " \n",
      "    The string called base had length 5\n",
      "    The new string called mult was a repeat of the string\n",
      "    base, 10 times, using the multiplication operator *\n",
      "\n",
      "    As we would expect, the new string had length 10 * 5 = 50\n",
      "\n"
     ]
    }
   ],
   "source": [
    "# ANSWER\n",
    "\n",
    "# in a new cell below, generate a string called base and set this to the string Hello\n",
    "base = 'Hello'\n",
    "\n",
    "# print base and its length\n",
    "print(base,len(base))\n",
    "\n",
    "# set a new variable mult to base * 10\n",
    "mult = base * 10\n",
    "\n",
    "# print mult and its length\n",
    "print(mult,len(mult))\n",
    "\n",
    "# comment on why the lengths are the values reported\n",
    "msg = '''\n",
    "    comment on why the lengths are the values reported\n",
    " \n",
    "    The string called base had length 5\n",
    "    The new string called mult was a repeat of the string\n",
    "    base, 10 times, using the multiplication operator *\n",
    "\n",
    "    As we would expect, the new string had length 10 * 5 = 50\n",
    "'''\n",
    "print(msg)"
   ]
  },
  {
   "cell_type": "markdown",
   "metadata": {},
   "source": [
    "## String formating\n",
    "\n",
    "### `str.format()`\n",
    "\n",
    "We know that we can join strings together with `+` or, from a list with `str.join()`. \n",
    "\n",
    "Whilst we have seen that you can print a string with some variables in it, e.g.:"
   ]
  },
  {
   "cell_type": "code",
   "execution_count": 14,
   "metadata": {},
   "outputs": [
    {
     "name": "stdout",
     "output_type": "stream",
     "text": [
      "The number you are thinking of is 10.6 but I guessed 13.4\n"
     ]
    }
   ],
   "source": [
    "float_val = 10.6\n",
    "guess_value = 13.4\n",
    "print(\"The number you are thinking of is\",float_val,'but I guessed',guess_value)"
   ]
  },
  {
   "cell_type": "markdown",
   "metadata": {},
   "source": [
    "strings of that nature can soon become unwieldy. We could have converted each item to a string, and then joined the strings:"
   ]
  },
  {
   "cell_type": "code",
   "execution_count": 15,
   "metadata": {},
   "outputs": [
    {
     "name": "stdout",
     "output_type": "stream",
     "text": [
      "The number you are thinking of is 10.6 but I guessed 13.4\n"
     ]
    }
   ],
   "source": [
    "float_val = 10.6\n",
    "guess_value = 13.4\n",
    "# using + & inserting the correct white spaces\n",
    "string = \"The number you are thinking of is \" + \\\n",
    "          str(float_val) + \\\n",
    "         ' but I guessed ' + \\\n",
    "          str(guess_value)\n",
    "print(string)"
   ]
  },
  {
   "cell_type": "markdown",
   "metadata": {},
   "source": [
    "but neither of these is very readable, or indeed very re-useable.\n",
    "\n",
    "A neater way to form a string with variable inserts is to use the `format()` method:"
   ]
  },
  {
   "cell_type": "markdown",
   "metadata": {},
   "source": [
    "    str.format(...)\n",
    "     |      S.format(*args, **kwargs) -> str\n",
    "     |      \n",
    "     |      Return a formatted version of S, using substitutions from args and kwargs.\n",
    "     |      The substitutions are identified by braces ('{' and '}').\n",
    "     |  "
   ]
  },
  {
   "cell_type": "markdown",
   "metadata": {},
   "source": [
    "Using this approach, we would set up a template:\n",
    "\n",
    "    string_template = \\\n",
    "    \"The number you are thinking of is {think} but I guessed {guess}\"\n",
    "\n",
    "with variables `float_val` and `guess_value` defined between braces `{}`.\n",
    "\n",
    "To insert values into this template, we use the string method `format()`. If the template variables are named (as in `{think}` and `{guess}` here), then we use **keyword arguments** with `format()`. For example:"
   ]
  },
  {
   "cell_type": "code",
   "execution_count": 16,
   "metadata": {},
   "outputs": [
    {
     "name": "stdout",
     "output_type": "stream",
     "text": [
      "The number you are thinking of is 10.6 but I guessed 13.4\n"
     ]
    }
   ],
   "source": [
    "string_template = \\\n",
    "    \"The number you are thinking of is {think} but I guessed {guess}\"\n",
    "\n",
    "float_val = 10.6\n",
    "guess_value = 13.4\n",
    "\n",
    "print(string_template.format(think=float_val,\\\n",
    "                             guess=guess_value))"
   ]
  },
  {
   "cell_type": "markdown",
   "metadata": {},
   "source": [
    "This has the advantage that the template is easily re-useable, that we have been explicit about the variables we insert."
   ]
  },
  {
   "cell_type": "markdown",
   "metadata": {},
   "source": [
    "A further refinement on this is to specify some formatting statement for the variables we use. For example, we might want the value `float_val` or `guess_value` to be specified to two decimal places. To do this, we can provide a formatting statement to associate with the variable name in the template. This is done using a `:` qualifier, followed by a description of the format. For example, the format statement of two figures after the decimal point for a `float`is `:.2f`. "
   ]
  },
  {
   "cell_type": "code",
   "execution_count": 17,
   "metadata": {},
   "outputs": [
    {
     "name": "stdout",
     "output_type": "stream",
     "text": [
      "The number you are thinking of is 10.60 but I guessed 13.40\n"
     ]
    }
   ],
   "source": [
    "string_template = \\\n",
    "    \"The number you are thinking of is {think:.2f} but I guessed {guess:.2f}\"\n",
    "\n",
    "float_val = 10.6\n",
    "guess_value = 13.4\n",
    "\n",
    "print(string_template.format(think=float_val,\\\n",
    "                             guess=guess_value))"
   ]
  },
  {
   "cell_type": "markdown",
   "metadata": {},
   "source": [
    "Other useful format statements examples include:\n",
    "\n",
    "                              : >10.2f \n",
    "                                 ^^ ^\n",
    "     10, so length 10 in total  <-| ||-> f is code for float\n",
    "                                    |-> .4 so length of 4 after decimal\n",
    "                                    \n",
    "                              : 0>8d\n",
    "             pad space with 0 <-||||-> d is code for integer\n",
    "                                 ||-> 8 is length of string\n",
    "                                 |-> use > for right align \n",
    "                                  \n",
    "                              : _>10s\n",
    "            pad space with _ <- || ||-> s is code for string\n",
    "       use > for right align   <-| |-> 10 is length of string \n",
    "                                  \n",
    "                              : _<10s\n",
    "            pad space with _ <- || ||-> s is code for string\n",
    "        use < for left align   <-| |-> 10 is length of string \n",
    "                                                                        \n",
    " The syntax might seem a little awkward at first, but its is [very powerful](https://docs.python.org/3/library/string.html#formatstrings). So long as you are aware that it exists and know of some examples, you should be able to pick it up."
   ]
  },
  {
   "cell_type": "code",
   "execution_count": 18,
   "metadata": {},
   "outputs": [
    {
     "name": "stdout",
     "output_type": "stream",
     "text": [
      "  : >.2f  -> 10.30\n",
      "  :0>8d    -> 00000010\n",
      "  :_>10s   -> _____hello\n",
      "  :_<10s   -> hello_____\n"
     ]
    }
   ],
   "source": [
    "print(\"  : >.2f  -> {x: >.2f}\".format(x=10.3))\n",
    "print(\"  :0>8d    -> {x:0>8d}\".format(x=10))\n",
    "print(\"  :_>10s   -> {x:_>10s}\".format(x='hello'))\n",
    "print(\"  :_<10s   -> {x:_<10s}\".format(x='hello'))"
   ]
  },
  {
   "cell_type": "markdown",
   "metadata": {},
   "source": [
    "Suppose we want to write a set of results to a different file for each job, where the identifier of the job is an integer number between 0 and 99999999.\n",
    "\n",
    "We want the file names associated with these results to appear in a logical order.\n",
    "\n",
    "We could just use file names `0.dat`, `1.dat`, `2.dat`, `3.dat` ... `10.dat`, `11.dat` etc. but we would find that when we list the files, they will be in the order `0.dat`, `1.dat`, `10.dat`, `11.dat`, ...  `2.dat`, `3.dat`, because this is the natural ['lexicographic' order](https://www.tutorialspoint.com/Sort-the-words-in-lexicographical-order-in-Python#:~:text=Sorting%20words%20in%20lexicographical%20order,(not%20the%20data%20structure).) generally used by computers. We could define some awkward way of getting around this, but it would be much simpler if we simply padded the filenames with `0` characters, so that they appeared as `00000000.dat`, `00000001.dat`, `00000002.dat`, `00000003.dat` ... `00000010.dat`, `00000011.dat`. Then, lexigraphically, they will appear in the order we intended.\n",
    "\n"
   ]
  },
  {
   "cell_type": "markdown",
   "metadata": {
    "solution2": "hidden",
    "solution2_first": true
   },
   "source": [
    "#### Exercise 5\n",
    "\n",
    "* set a variable `index` to be an integer between `0` and `99999999`.\n",
    "* use this to generate a zero-padded filename of the form `00000010.dat`\n",
    "* print out the filename\n",
    "\n"
   ]
  },
  {
   "cell_type": "code",
   "execution_count": 19,
   "metadata": {
    "solution2": "hidden"
   },
   "outputs": [
    {
     "name": "stdout",
     "output_type": "stream",
     "text": [
      "00001265.dat\n"
     ]
    }
   ],
   "source": [
    "# ANSWER\n",
    "\n",
    "# set a variable index to be an integer between 0 and 99999999.\n",
    "index = 1265\n",
    "\n",
    "# use this to generate a zero-padded filename of the form 00000010.dat\n",
    "# Note that we use 8d here as we want at the string part with\n",
    "# the number to be of length 8\n",
    "filename = \"{:0>8d}.dat\".format(index)\n",
    "\n",
    "# print out the filename\n",
    "print(filename)"
   ]
  },
  {
   "cell_type": "markdown",
   "metadata": {},
   "source": [
    "### `f-string`\n",
    "\n",
    "An alternative way of formatting a string that can be useful is the use of the `f-string`. In this, we place an `f` character at the start of the string. It is a sort of short-hand for what we do with the format statement, where the variables given in the braces are directly inserted.\n",
    "\n",
    "Note that we can use the same sort of formatting statements for the f-string as when using `.format()` above."
   ]
  },
  {
   "cell_type": "code",
   "execution_count": 20,
   "metadata": {},
   "outputs": [
    {
     "name": "stdout",
     "output_type": "stream",
     "text": [
      "The number you are thinking of is 10.6 but I guessed 13.4\n"
     ]
    }
   ],
   "source": [
    "string = f'The number you are thinking of is {float_val} but I guessed {guess_value}'\n",
    "print(string)"
   ]
  },
  {
   "cell_type": "markdown",
   "metadata": {
    "solution2": "hidden",
    "solution2_first": true
   },
   "source": [
    "#### Exercise 6\n",
    "\n",
    "* Insert a new cell below here\n",
    "* create a template string of the form:\n",
    "\n",
    "        \"what have the {people} ever done for us?\"\n",
    "        \n",
    "* assign the word `Romans` to the variable `people` and print the formatted template: hint: use the `str.format()` method to insert this into the template.\n",
    "* repeat this using an f-string directly."
   ]
  },
  {
   "cell_type": "code",
   "execution_count": 21,
   "metadata": {
    "solution2": "hidden"
   },
   "outputs": [
    {
     "name": "stdout",
     "output_type": "stream",
     "text": [
      "what have the Romans ever done for us?\n",
      "what have the Romans ever done for us?\n"
     ]
    }
   ],
   "source": [
    "# ANSWER\n",
    "# Insert a new cell below here\n",
    "# create a template string of the form:\n",
    "\n",
    "template=\"what have the {people} ever done for us?\"\n",
    "        \n",
    "# assign the word Romans to the variable people and print \n",
    "# the formatted template: hint: use the str.format() \n",
    "# method to insert this into the template.\n",
    "\n",
    "print(template.format(people='Romans'))\n",
    "\n",
    "# repeat this using an f-string directly.\n",
    "people='Romans'\n",
    "print(f\"what have the {people} ever done for us?\")"
   ]
  },
  {
   "cell_type": "markdown",
   "metadata": {},
   "source": [
    "Actually, there are a lot more [useful things](https://realpython.com/python-f-strings/#simple-syntax) we can do with an `f` string, but we will leave it here at this point."
   ]
  },
  {
   "cell_type": "markdown",
   "metadata": {},
   "source": [
    "## Summary\n",
    "\n",
    "In this section, we have introduced some more detail on strings, especially string formatting. You should have agained an understanding of the use of quotes and escape code, as well as using `f-string`, `string.format()`."
   ]
  },
  {
   "cell_type": "markdown",
   "metadata": {},
   "source": [
    "| item | description |\n",
    "|---|-|\n",
    "| `\"'\"` | single quote as a string |\n",
    "| `'\"'` | double quote as a string |\n",
    "| `\"\\\\\"` | backslash as a string (escaped) in string|\n",
    "| ''' ... ''' | multiple line string |\n",
    "| `*` | string multiplication e.g. `\"0\"*2` -> `\"00\"` |\n",
    "| `+` | string addition e.g. `\"0\" + \"1\"` -> `\"01\"`|\n",
    "| `str.format()` | insert items in string e.g. `\"{x}\".format(x=1)` -> \"1\"|\n",
    "| `f\"...\"`| f-string, e.g. `x=1`, `f\"{x}\"` -> `\"1\"|"
   ]
  },
  {
   "cell_type": "markdown",
   "metadata": {},
   "source": [
    "\n",
    "[<img src=\"images/noun_post_2109127.svg\" width=\"50\" align='right'>](013_Python_string_methods.ipynb)\n",
    "[<img src=\"images/noun_pre_2109128.svg\" width=\"50\" align='right'>](011_Python_data_types.ipynb)\n",
    "\n",
    "\n"
   ]
  }
 ],
 "metadata": {
  "kernelspec": {
   "display_name": "conda env:geog0111-geog0111",
   "language": "python",
   "name": "conda-env-geog0111-geog0111-py"
  },
  "language_info": {
   "codemirror_mode": {
    "name": "ipython",
    "version": 3
   },
   "file_extension": ".py",
   "mimetype": "text/x-python",
   "name": "python",
   "nbconvert_exporter": "python",
   "pygments_lexer": "ipython3",
   "version": "3.7.13"
  },
  "latex_envs": {
   "LaTeX_envs_menu_present": true,
   "autocomplete": true,
   "bibliofile": "biblio.bib",
   "cite_by": "apalike",
   "current_citInitial": 1,
   "eqLabelWithNumbers": true,
   "eqNumInitial": 1,
   "hotkeys": {
    "equation": "Ctrl-E",
    "itemize": "Ctrl-I"
   },
   "labels_anchors": false,
   "latex_user_defs": false,
   "report_style_numbering": false,
   "user_envs_cfg": false
  },
  "nbTranslate": {
   "displayLangs": [
    "*"
   ],
   "hotkey": "alt-t",
   "langInMainMenu": true,
   "sourceLang": "en",
   "targetLang": "fr",
   "useGoogleTranslate": true
  },
  "toc": {
   "base_numbering": 1,
   "nav_menu": {},
   "number_sections": false,
   "sideBar": false,
   "skip_h1_title": false,
   "title_cell": "Table of Contents",
   "title_sidebar": "Contents",
   "toc_cell": false,
   "toc_position": {
    "height": "calc(100% - 180px)",
    "left": "10px",
    "top": "150px",
    "width": "207px"
   },
   "toc_section_display": false,
   "toc_window_display": false
  },
  "varInspector": {
   "cols": {
    "lenName": 16,
    "lenType": 16,
    "lenVar": 40
   },
   "kernels_config": {
    "python": {
     "delete_cmd_postfix": "",
     "delete_cmd_prefix": "del ",
     "library": "var_list.py",
     "varRefreshCmd": "print(var_dic_list())"
    },
    "r": {
     "delete_cmd_postfix": ") ",
     "delete_cmd_prefix": "rm(",
     "library": "var_list.r",
     "varRefreshCmd": "cat(var_dic_list()) "
    }
   },
   "types_to_exclude": [
    "module",
    "function",
    "builtin_function_or_method",
    "instance",
    "_Feature"
   ],
   "window_display": false
  }
 },
 "nbformat": 4,
 "nbformat_minor": 4
}
