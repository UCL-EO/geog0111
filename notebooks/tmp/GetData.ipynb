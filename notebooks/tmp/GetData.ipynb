{
 "cells": [
  {
   "cell_type": "code",
   "execution_count": null,
   "metadata": {
    "scrolled": false
   },
   "outputs": [],
   "source": [
    "from geog0111.modisUtils import modisAnnual\n",
    "\n",
    "kwargs = {\n",
    "    'tile'   :    ['h09v05'],\n",
    "    'sds'     : ['NDSI_Snow_Cover'],\n",
    "    'product' : 'MOD10A1',\n",
    "    'doys'      : [i for i in range(1,366,1)],\n",
    "    'year'      : 2019,\n",
    "    'warp_args' : {},\n",
    "    'verbose'   : False\n",
    "}\n",
    "\n",
    "# run\n",
    "odict,bnames = modisAnnual(**kwargs)\n",
    "print(bnames)"
   ]
  },
  {
   "cell_type": "markdown",
   "metadata": {},
   "source": [
    "\n",
    "This will take a *long* time if you run it on your own computer as it has to download a lot of data. Consider testing for limited years first, or even use lower-level codes to test things out. Check the files in the  [.modis_data](.modis_data) cache from a shell."
   ]
  },
  {
   "cell_type": "code",
   "execution_count": null,
   "metadata": {},
   "outputs": [],
   "source": [
    "from geog0111.modisUtils import modisAnnual\n",
    "\n",
    "# run for all years for snow data\n",
    "for year in [2016,2017,2018,2019]:\n",
    "\n",
    "    kwargs = {\n",
    "        'tile'   :    ['h09v05'],\n",
    "        'sds'     : ['NDSI_Snow_Cover'],\n",
    "        'product' : 'MOD10A1',\n",
    "        'doys'      : [i for i in range(1,365,1)],\n",
    "        'year'      : year,\n",
    "        'warp_args' : warp_args,\n",
    "        'verbose'   : False\n",
    "    }\n",
    "\n",
    "    # run\n",
    "    odict,bnames = modisAnnual(**kwargs)"
   ]
  }
 ],
 "metadata": {
  "kernelspec": {
   "display_name": "Python [conda env:geog0111-geog0111]",
   "language": "python",
   "name": "conda-env-geog0111-geog0111-py"
  },
  "language_info": {
   "codemirror_mode": {
    "name": "ipython",
    "version": 3
   },
   "file_extension": ".py",
   "mimetype": "text/x-python",
   "name": "python",
   "nbconvert_exporter": "python",
   "pygments_lexer": "ipython3",
   "version": "3.7.8"
  }
 },
 "nbformat": 4,
 "nbformat_minor": 4
}
