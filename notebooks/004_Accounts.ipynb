{
 "cells": [
  {
   "cell_type": "markdown",
   "metadata": {},
   "source": [
    "<img alt='UCL' src=\"images/ucl_logo.png\" align='center'>\n",
    "\n",
    "\n",
    "\n",
    "[<img src=\"images/noun_post_2109127.svg\" width=\"50\" align='right'>](005_Packages.ipynb)\n",
    "[<img src=\"images/noun_pre_2109128.svg\" width=\"50\" align='right'>](003_Help.ipynb)\n",
    "\n"
   ]
  },
  {
   "cell_type": "markdown",
   "metadata": {},
   "source": [
    "# 004 Setup, Accounts and logins"
   ]
  },
  {
   "cell_type": "markdown",
   "metadata": {},
   "source": [
    "## Introduction"
   ]
  },
  {
   "cell_type": "markdown",
   "metadata": {},
   "source": [
    "### NASA Earthdata login and password\n",
    "\n",
    "\n",
    "Before you can use the material in these notebooks, you will need to register as a user at the [`NASA EarthData`](https://urs.earthdata.nasa.gov/users/new).\n",
    "\n",
    "Once you have done that, make sure you know your `username` and `password` ready for below.\n",
    "\n",
    "Some web resources require you to use a login and password. In any publicly available files (like these notebooks) we do not want to expose sensitive information such information.\n",
    "\n",
    "To that in these notes we can make use of stored passwords and usernames using the local [cylog](geog0111/cylog.py) package. \n",
    "\n",
    "Information is encrypted in a user read-only file in your home directory (mode `400`) and accessed through the `Cylog`  `login` function.\n",
    "\n",
    "You need to store your username and password in a database file (that only you can access) to be able to make convenient use oof the notes in later classes.\n",
    "\n",
    "You can do this by running through the following cell, and responding as appropriate."
   ]
  },
  {
   "cell_type": "code",
   "execution_count": 1,
   "metadata": {},
   "outputs": [],
   "source": [
    "from geog0111.cylog import Cylog\n",
    "\n",
    "sites = ['https://n5eil01u.ecs.nsidc.org',\\\n",
    "         'https://urs.earthdata.nasa.gov',\\\n",
    "        'https://e4ftl01.cr.usgs.gov']\n",
    "\n",
    "l = Cylog(sites)\n",
    "myLogin = l.login()"
   ]
  },
  {
   "cell_type": "markdown",
   "metadata": {},
   "source": [
    "### Tests\n",
    "\n",
    "#### Wednesday test\n",
    "\n",
    "The NASA servers for the data we mainly use go down for maintenance on Wednesday Eastern US work time, so you should try to avoid running tests and download on a Wednesday afternoon UK time.\n",
    "We have a script you can put in your codes later to test for this:"
   ]
  },
  {
   "cell_type": "code",
   "execution_count": 2,
   "metadata": {},
   "outputs": [
    {
     "name": "stdout",
     "output_type": "stream",
     "text": [
      "proceed? True\n"
     ]
    },
    {
     "name": "stderr",
     "output_type": "stream",
     "text": [
      "It is probably OK to proceed with tests on the NASA server today: it is  Wednesday 08 Hrs in America/New_York\n"
     ]
    }
   ],
   "source": [
    "# don't worry about this code .. its just to force you to think about\n",
    "# the server being known to be down on wednesday afternoon (UK time)\n",
    "from geog0111.modisUtils import NASAServerUp\n",
    "\n",
    "serverUp = NASAServerUp(verbose=True)\n",
    "print(f'proceed? {serverUp}')"
   ]
  },
  {
   "cell_type": "markdown",
   "metadata": {},
   "source": [
    "You don't have to pay attention to any warning, but your codes may fail, and this could be a likely reason.\n",
    "\n",
    "##### Login test for MODIS data\n",
    "\n",
    "You can run a test on your login to NASA Earthdata using the information you have stored this using `cylog` for the site `https://e4ftl01.cr.usgs.gov`. We will do that now for a test with a MODIS snow cover product called `MOD10A1`, for which we should use version `6.1` as current. You will learn more about these products later in the course.\n",
    "\n",
    "We can test this with the following code if you set do_test to `True`:"
   ]
  },
  {
   "cell_type": "code",
   "execution_count": 3,
   "metadata": {},
   "outputs": [
    {
     "name": "stdout",
     "output_type": "stream",
     "text": [
      "test passed: login to NASA server achieved and data pulled\n",
      "/Users/philiplewis/Documents/GitHub/geog0111/notebooks/.modis_cache/n5eil01u.ecs.nsidc.org/MOST/MOD10A1.061/2012.01.19/MOD10A1.A2012019.h08v06.061.2021202121236.hdf\n"
     ]
    }
   ],
   "source": [
    "from osgeo import gdal\n",
    "from geog0111.cylog import Cylog\n",
    "from geog0111.modisUtils import modisFile\n",
    "# settings\n",
    "\n",
    "# test version 6.1 of MODIS snow cover\n",
    "modinfo = {  \n",
    "    'product'  : 'MOD10A1',\n",
    "    'year'     : 2012,\n",
    "    'month'    : 1,\n",
    "    'day'      : 19,\n",
    "    'version'  : 6.1,\n",
    "    'tile'     : 'h08v06'\n",
    "}\n",
    "\n",
    "do_test = True\n",
    "\n",
    "# run the test\n",
    "if do_test:\n",
    "    filename = modisFile(force=True,**modinfo,verbose=False)\n",
    "if filename != None:\n",
    "    print('test passed: login to NASA server achieved and data pulled')\n",
    "    print(f'{filename}')\n",
    "else:\n",
    "    print('test FAILED: check that your login works on https://urs.earthdata.nasa.gov')\n",
    "    l = Cylog(sites)\n",
    "    myLogin = l.login()\n",
    "    print(f'your current username and password are {myLogin}')\n",
    "    print(f'check that these are correct at the NASA Earthdata login page: https://urs.earthdata.nasa.gov')\n",
    "    serverUp = NASAServerUp(verbose=True)\n",
    "    print(f'did you consider whether the servers are up right now? {serverUp}')"
   ]
  },
  {
   "cell_type": "markdown",
   "metadata": {},
   "source": [
    "This should return `test passed: login to NASA server achieved and data pulled` and give a file location for where the file is cached. \n",
    "\n",
    "If that passed ok, you may be interested to run a similar test for VIIRS data, as this is a recent addition to the capability of these codes. We do this by specifying VIIRS product VNP10A1 (Version 2 is current)."
   ]
  },
  {
   "cell_type": "code",
   "execution_count": 4,
   "metadata": {},
   "outputs": [
    {
     "name": "stdout",
     "output_type": "stream",
     "text": [
      "test passed: login to NASA server achieved and data pulled\n",
      "/Users/philiplewis/Documents/GitHub/geog0111/notebooks/.modis_cache/n5eil01u.ecs.nsidc.org/VIIRS/VNP10A1.002/2012.01.19/VNP10A1.A2012019.h08v06.002.2023122181925.h5\n"
     ]
    }
   ],
   "source": [
    "from osgeo import gdal\n",
    "from geog0111.cylog import Cylog\n",
    "from geog0111.modisUtils import modisFile\n",
    "# settings\n",
    "\n",
    "# test version 2 of VIIRS snow cover\n",
    "modinfo = {  \n",
    "    'product'  : 'VNP10A1',\n",
    "    'year'     : 2012,\n",
    "    'month'    : 1,\n",
    "    'day'      : 19,\n",
    "    'version'  : 2,\n",
    "    'tile'     : 'h08v06'\n",
    "}\n",
    "\n",
    "do_test = True\n",
    "\n",
    "# run the test\n",
    "if do_test:\n",
    "    filename = modisFile(force=True,**modinfo,verbose=False)\n",
    "if filename != None:\n",
    "    print('test passed: login to NASA server achieved and data pulled')\n",
    "    print(f'{filename}')\n",
    "else:\n",
    "    print('test FAILED: check that your login works on https://urs.earthdata.nasa.gov')\n",
    "    l = Cylog(sites)\n",
    "    myLogin = l.login()\n",
    "    print(f'your current username and password are {myLogin}')\n",
    "    print(f'check that these are correct at the NASA Earthdata login page: https://urs.earthdata.nasa.gov')\n",
    "    serverUp = NASAServerUp(verbose=True)\n",
    "    print(f'did you consider whether the servers are up right now? {serverUp}')"
   ]
  },
  {
   "cell_type": "markdown",
   "metadata": {},
   "source": [
    "This should return `test passed: login to NASA server achieved and data pulled` and give a file location for where the file is cached. \n",
    "\n",
    "If it doesn't, then you have *not* passed the login test, and have an error in your setup. This is probably because you have the wrong password stored. \n",
    "\n",
    "You need to check this by logging in with that username and password to [https://urs.earthdata.nasa.gov](https://urs.earthdata.nasa.gov). If that doesn't work, sort the password out through that interface, then reset it in cylog.\n",
    "\n",
    "See below on how to reset the cylog password."
   ]
  },
  {
   "cell_type": "markdown",
   "metadata": {},
   "source": [
    "## Cylog details\n",
    "\n",
    "The [cylog](geog0111/cylog.py) package is a bespoke piece of code provided for you for this course. Its purpose is to allow you to hide your username and password in notebooks. This is particularly vital for you students, as you have to submit notebooks that might otherwise reveal these details to anyone who reads the submissions. That would stop your work being anonymous, and also reveal your password for Earthdata, neither of which you should want to do.\n",
    "\n",
    "[cylog](geog0111/cylog.py) is nothing for you to worry about, provided you have the correct username and password stored for the Earthdata sites. Check that on  [https://urs.earthdata.nasa.gov](https://urs.earthdata.nasa.gov) if you are not sure.\n",
    "\n",
    "If you are interested, you can see the help page for `Cylog`. \n",
    "\n",
    "It shows, for instance, how to over-ride the current entry (e.g. if you have changed your password), by using `force=True`).\n"
   ]
  },
  {
   "cell_type": "code",
   "execution_count": 5,
   "metadata": {},
   "outputs": [
    {
     "name": "stdout",
     "output_type": "stream",
     "text": [
      "Help on function login in module geog0111.cylog:\n",
      "\n",
      "login(self, site=None, force=False)\n",
      "    Reads encrypted information from ~/{dest_path}/.cylog.npz\n",
      "    \n",
      "    Keyword arguments\n",
      "    ----------\n",
      "    site = False (so self.site is default)\n",
      "           string of anchor URL for site to associate with username and\n",
      "           password\n",
      "    force = False\n",
      "           force password re-entry for site\n",
      "    \n",
      "    Returns\n",
      "    --------\n",
      "    A tuple containing plain text (username,password) for (site or self.site)\n",
      "\n"
     ]
    }
   ],
   "source": [
    "from geog0111.cylog import Cylog\n",
    "help(Cylog.login)"
   ]
  },
  {
   "cell_type": "markdown",
   "metadata": {},
   "source": [
    "You should be aware that the NASA servers this connects you to go down for maintenance on Wednesdays. You can ping the servers with the follwoing code:"
   ]
  },
  {
   "cell_type": "markdown",
   "metadata": {},
   "source": [
    "If this fails, you may have entered your account information incorrectly for `https://e4ftl01.cr.usgs.gov` (or it could just be Wednesday, in which case, don't run this again)."
   ]
  },
  {
   "cell_type": "markdown",
   "metadata": {},
   "source": [
    "If you want to force the code to let you re-enter your credentials (e.g. you got it wrong before, or have changed them, or the test fails), then change the call to:\n",
    "\n",
    "    cy = Cylog(sites,force=True)\n",
    "    \n",
    "and re-run."
   ]
  },
  {
   "cell_type": "markdown",
   "metadata": {},
   "source": [
    "## Reset password\n",
    "\n",
    "To reset the password, set `failure` to `True` in the cell below, and run the cell.\n",
    "\n",
    "You will be prompted to enter your username and password (for NASA Earthdata), e.g.:\n",
    "\n",
    "    --> user login required for ['https://n5eil01u.ecs.nsidc.org', 'https://urs.earthdata.nasa.gov', 'https://e4ftl01.cr.usgs.gov'] <--\n",
    "    Enter your username: proflewis\n",
    "    please type your password········\n",
    "    please re-type your password for confirmation········\n",
    "    password created"
   ]
  },
  {
   "cell_type": "code",
   "execution_count": 6,
   "metadata": {},
   "outputs": [],
   "source": [
    "from geog0111.cylog import Cylog\n",
    "\n",
    "# code to re-enter the NASA earthdata password for cylog\n",
    "# to give your codes access to this password\n",
    "\n",
    "# if you failed the login test, then set\n",
    "#   failure = True\n",
    "# else\n",
    "#   failure = False\n",
    "\n",
    "#failure = True\n",
    "failure = False\n",
    "\n",
    "sites = ['https://n5eil01u.ecs.nsidc.org',\\\n",
    "         'https://urs.earthdata.nasa.gov',\\\n",
    "        'https://e4ftl01.cr.usgs.gov']\n",
    "\n",
    "l = Cylog(sites)\n",
    "test = l.login(force=failure)\n"
   ]
  },
  {
   "cell_type": "markdown",
   "metadata": {},
   "source": [
    "If you changed the password here, you should re-run the [test above](#Test). \n",
    "\n",
    "Don't proceed beyond this page until you have this test passed, else later notebooks might not work for you."
   ]
  },
  {
   "cell_type": "markdown",
   "metadata": {},
   "source": [
    "## Summary\n",
    "\n",
    "This short notebook is intended to let you store your NASA Earthdata login to make later calls to collect NASA data more straightforward. We have used code from the local class `Cylog` from `geog0111.cylog`, and seen how to setl, reset and test our login using `modisUtils.modisFile()`.\n",
    "\n",
    "|  command | purpose  |   \n",
    "|---|---|\n",
    "| `l = Cylog(sites); test = l.login()`  |  set / run login for list of URLs `sites` |  \n",
    "| `cy = Cylog(sites); test = l.login(force=True)`  | reset / run login for list of URLs `sites` |\n",
    "| `serverUp = NASAServerUp(verbose=True)` | test to see if the NASA servers are likely up|\n",
    "\n",
    "\n"
   ]
  },
  {
   "cell_type": "markdown",
   "metadata": {},
   "source": [
    "\n",
    "[<img src=\"images/noun_post_2109127.svg\" width=\"50\" align='right'>](005_Packages.ipynb)\n",
    "[<img src=\"images/noun_pre_2109128.svg\" width=\"50\" align='right'>](003_Help.ipynb)\n",
    "\n"
   ]
  }
 ],
 "metadata": {
  "kernelspec": {
   "display_name": "conda env:geog0111-geog0111",
   "language": "python",
   "name": "conda-env-geog0111-geog0111-py"
  },
  "language_info": {
   "codemirror_mode": {
    "name": "ipython",
    "version": 3
   },
   "file_extension": ".py",
   "mimetype": "text/x-python",
   "name": "python",
   "nbconvert_exporter": "python",
   "pygments_lexer": "ipython3",
   "version": "3.7.13"
  }
 },
 "nbformat": 4,
 "nbformat_minor": 4
}
