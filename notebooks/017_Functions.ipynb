{
 "cells": [
  {
   "cell_type": "markdown",
   "metadata": {
    "ExecuteTime": {
     "end_time": "2020-07-22T08:47:27.276868Z",
     "start_time": "2020-07-22T08:47:27.273435Z"
    }
   },
   "source": [
    "<img alt='UCL' src=\"images/ucl_logo.png\" align='center'>\n",
    "\n",
    "\n",
    "[<img src=\"images/noun_post_2109127.svg\" width=\"50\" align='right'>](018_Running_Python.ipynb)\n",
    "[<img src=\"images/noun_pre_2109128.svg\" width=\"50\" align='right'>](016_Python_for.ipynb)\n",
    "\n"
   ]
  },
  {
   "cell_type": "markdown",
   "metadata": {},
   "source": [
    "\n",
    "\n",
    "# 017 Functions in Python"
   ]
  },
  {
   "cell_type": "markdown",
   "metadata": {},
   "source": [
    "## Introduction\n",
    "\n",
    "### Purpose\n",
    "\n",
    "In this session, we will learn about Functions in Python. In essence, a function allows us to write better, more compact and re-usable code. This is a concept we will use a lot in later sessions, so make sure you fully familiarise yourself with the material.\n",
    "\n",
    "\n",
    "### Prerequisites\n",
    "\n",
    "You will need some understanding of the following:\n",
    "\n",
    "* [001 Using Notebooks](001_Notebook_use.ipynb)\n",
    "* [003 Getting help](003_Help.ipynb)\n",
    "* [010 Variables, comments and print()](010_Python_Introduction.ipynb)\n",
    "* [011 Data types](011_Python_data_types.ipynb) \n",
    "* [012 String formatting](012_Python_strings.ipynb)\n",
    "* [013_Python_string_methods](013_Python_string_methods.ipynb)\n",
    "* [014_Python_groups](014_Python_groups.ipynb)\n",
    "* [015_Python_control](015_Python_control.ipynb)\n",
    "* [016_Python_for](016_Python_for.ipynb)\n",
    "\n",
    "In particular, you will need to recall how to use:\n",
    "\n",
    "   - [`assert`](016_Python_for.ipynb#looping-over-dictionaries,-and-assert)\n",
    "   - [`str.join()`](013_Python_string_methods.ipynb#split()-and-join())\n",
    "   - [`zip`](014_Python_groups.ipynb#dict)\n"
   ]
  },
  {
   "cell_type": "markdown",
   "metadata": {},
   "source": [
    "## Introduction to Functions\n",
    "\n",
    "A [function](https://docs.python.org/3/glossary.html#term-function) is a block of code statements that we can use to carry out a specific purpose. \n",
    "\n",
    "\n",
    "The simplest form of function has no inputs or outputs, but simply performs some task when we call it:\n",
    "\n",
    "![function](images/no_in_out.png)\n",
    "\n",
    "\n",
    "An example of a simple function in Python is:"
   ]
  },
  {
   "cell_type": "code",
   "execution_count": 1,
   "metadata": {},
   "outputs": [],
   "source": [
    "def hello_world():\n",
    "    '''\n",
    "    Purpose:\n",
    "      print the string 'hello world'\n",
    "    '''\n",
    "    print('hello world')"
   ]
  },
  {
   "cell_type": "markdown",
   "metadata": {},
   "source": [
    "This is designed to print the string `hello world` when we call it.\n",
    "\n",
    "Notice the formatting here: the function is declared:\n",
    "\n",
    "    def hello_world():\n",
    "\n",
    "and the *contents* of the function are indented in (by 4 spaces here).\n",
    "\n",
    "We use the function in Python code as:"
   ]
  },
  {
   "cell_type": "code",
   "execution_count": 2,
   "metadata": {},
   "outputs": [
    {
     "name": "stdout",
     "output_type": "stream",
     "text": [
      "hello world\n"
     ]
    }
   ],
   "source": [
    "hello_world()"
   ]
  },
  {
   "cell_type": "markdown",
   "metadata": {},
   "source": [
    "and access the function document string by:"
   ]
  },
  {
   "cell_type": "code",
   "execution_count": 3,
   "metadata": {},
   "outputs": [
    {
     "name": "stdout",
     "output_type": "stream",
     "text": [
      "Help on function hello_world in module __main__:\n",
      "\n",
      "hello_world()\n",
      "    Purpose:\n",
      "      print the string 'hello world'\n",
      "\n"
     ]
    }
   ],
   "source": [
    "help(hello_world)"
   ]
  },
  {
   "cell_type": "markdown",
   "metadata": {
    "solution2": "hidden",
    "solution2_first": true
   },
   "source": [
    "### Exercise 1\n",
    "\n",
    "* in a new code cell below, write a function called `my_name` that prints your name\n",
    "* demonstrate that your code works (i.e. run it in a code cell)\n",
    "* show the doc string using `help()` \n",
    "\n",
    "**Advice**: make sure it has an appropriate document string, based on the example in the notes, and also check that you have the indentation correct for the code in the function. Notice the semicolon `:` at the end of the `def` statement."
   ]
  },
  {
   "cell_type": "code",
   "execution_count": 4,
   "metadata": {
    "solution2": "hidden"
   },
   "outputs": [],
   "source": [
    "# ANSWER 1\n",
    "\n",
    "# in a new code cell below, write a function called my_name that prints your name\n",
    "def my_name():\n",
    "    '''    \n",
    "    Purpose:\n",
    "      print my name\n",
    "    '''\n",
    "    print('Lewis')"
   ]
  },
  {
   "cell_type": "code",
   "execution_count": 5,
   "metadata": {
    "solution2": "hidden"
   },
   "outputs": [
    {
     "name": "stdout",
     "output_type": "stream",
     "text": [
      "Lewis\n"
     ]
    }
   ],
   "source": [
    "# ANSWER 2\n",
    "# demonstrate that your code works (i.e. run it in a code cell)\n",
    "my_name()"
   ]
  },
  {
   "cell_type": "code",
   "execution_count": 6,
   "metadata": {
    "scrolled": true,
    "solution2": "hidden"
   },
   "outputs": [
    {
     "name": "stdout",
     "output_type": "stream",
     "text": [
      "Help on function my_name in module __main__:\n",
      "\n",
      "my_name()\n",
      "    Purpose:\n",
      "      print my name\n",
      "\n"
     ]
    }
   ],
   "source": [
    "# ANSWER 3\n",
    "# show the doc string using help()\n",
    "help(my_name)"
   ]
  },
  {
   "cell_type": "markdown",
   "metadata": {},
   "source": [
    "## Function specification"
   ]
  },
  {
   "cell_type": "markdown",
   "metadata": {},
   "source": [
    "\n",
    "More generally, we could think of the the function as **a sort of filter**: it takes some **inputs** (specified in the arguments), makes some calculation based on these, i.e. that is a *function* of these inputs, and returns an **output**.\n",
    "\n",
    "![function](images/in_out.png)\n"
   ]
  },
  {
   "cell_type": "markdown",
   "metadata": {
    "ExecuteTime": {
     "end_time": "2020-07-22T08:49:07.668226Z",
     "start_time": "2020-07-22T08:49:07.665432Z"
    }
   },
   "source": [
    "\n",
    "In this sense:\n",
    "\n",
    " * It will generally have one or more [arguments](https://docs.python.org/3/glossary.html#argument): `(arg1, arg2, ...)` that form the **inputs**.\n",
    " * It will often return some value (or set of values) as the **output**: `retval`\n",
    " * It will have a name: `my_function`\n",
    "\n",
    "![function io](images/im_funct.png)\n",
    "\n",
    "### Anatomy of a function\n",
    "\n",
    "The format of a function in Python is:\n",
    "\n",
    "    def my_function(arg1,arg2,...):\n",
    "      '''\n",
    "      Document string \n",
    "      '''\n",
    "\n",
    "      # comments\n",
    "\n",
    "      retval =  ... \n",
    "\n",
    "      # return\n",
    "      return retval\n",
    "      \n",
    "The keyword `def` defines a function, followed by the function name, a list (actually, a [`tuple`](https://docs.python.org/3/library/stdtypes.html?highlight=tuple#tuple)) of arguments, then a semicolon `:`.\n",
    "\n",
    "The contents of the function are indented to a consistent level of spaces.\n",
    "\n",
    "The function will typically have a document string, generally a multi-line string defined within triple quotes. We use this to document information about the function, such as its author, purpose, and inputs and outputs.\n",
    "\n",
    "Within the function, we can refer to the arguments (`arg1` and `arg2` here, though they will generally have more meaningful names), make some calculation based on these, and generally, return some value (`retval` here).\n",
    "\n",
    "### Code design \n",
    "\n",
    "This idea of a *filter* can be useful when thinking how to design a function. We can see that we need to define:\n",
    "\n",
    "    * purpose\n",
    "    * inputs\n",
    "    * output\n",
    "\n",
    "Let's suppose we need to design a function that will take a first name and last name, and combine them into your full name (assuming for now that you have two names).\n",
    "\n",
    "The *purpose* of our function could be stated as:\n",
    "\n",
    "    purpose: \n",
    "    \n",
    "        generate a name string from list of strings\n",
    "    \n",
    "The inputs could be:\n",
    "\n",
    "    inputs:\n",
    "      - name_list : list of names\n",
    "      \n",
    "And the output:\n",
    "\n",
    "    return:\n",
    "      - the full name\n",
    "      \n",
    "Without knowing any real coding then, we could develop the template for this function, along with an initial document string. \n",
    "\n",
    "We do need to give the function a name, so let's use `full_name` here.\n",
    "\n",
    "We have started with the idea of some purpose for our code, then defined what the expected inputs and outputs would be. We can call coding at that level of generalisation [pseudocode](https://en.wikipedia.org/wiki/Pseudocode). We could have written our task is a form of pseudocode such as:\n",
    "\n",
    "    algorithm full_name is\n",
    "        input: List of strings in variable name_list\n",
    "        output: string in variable retval\n",
    "\n",
    "        purpose: generate a name string from list of strings \n",
    "        \n",
    "        # CODE BLOCK to achieve aim (NOT DONE)\n",
    "        # test by passing input to output\n",
    "        retval = name_list\n",
    "        \n",
    " where we have left the `CODE BLOCK` blank at the moment, and replaced it by simply sending the function input to the output so we can test the code structure. It can be of value when designing codes to first develop some pseudocode such as above, but in reality such statements are very closely related to what we would write in high-level codes like Python:"
   ]
  },
  {
   "cell_type": "code",
   "execution_count": 7,
   "metadata": {
    "ExecuteTime": {
     "end_time": "2020-07-22T09:57:12.987397Z",
     "start_time": "2020-07-22T09:57:12.983646Z"
    }
   },
   "outputs": [],
   "source": [
    "def full_name(name_list):\n",
    "    '''\n",
    "    \n",
    "    purpose: \n",
    "      generate a name string from list of strings \n",
    "\n",
    "    inputs:\n",
    "    - name_list : list of names\n",
    "\n",
    "    return:\n",
    "    - the full name\n",
    "    '''\n",
    "    # CODE BLOCK to achieve aim (NOT DONE)\n",
    "    # test by passing input to output\n",
    "    retval = name_list\n",
    "\n",
    "    # return\n",
    "    return retval"
   ]
  },
  {
   "cell_type": "markdown",
   "metadata": {
    "ExecuteTime": {
     "end_time": "2020-07-22T09:33:23.106686Z",
     "start_time": "2020-07-22T09:33:23.097710Z"
    }
   },
   "source": [
    "That's a good start, and it allows us to develop a function that we can run and test. \n",
    "\n",
    "To test, we can set a list of example strings. We then *call* the function `full_name()` with this argument, and set the value returned in the variable `full`."
   ]
  },
  {
   "cell_type": "code",
   "execution_count": 8,
   "metadata": {
    "ExecuteTime": {
     "end_time": "2020-07-22T09:57:20.969141Z",
     "start_time": "2020-07-22T09:57:20.965164Z"
    }
   },
   "outputs": [
    {
     "name": "stdout",
     "output_type": "stream",
     "text": [
      "['Fred', 'Bloggs']\n"
     ]
    }
   ],
   "source": [
    "names = ['Fred','Bloggs']\n",
    "\n",
    "full = full_name(names)\n",
    "print(full)"
   ]
  },
  {
   "cell_type": "markdown",
   "metadata": {},
   "source": [
    "From our test, we can see that the function doesn't yet achieve what we wanted: it simply returns the input list, rather than the full name.\n",
    "\n",
    "To proceed, we need to know how to make a combined string. It can be useful to test our understanding of the code we will need to achieve the aim of the function. We do not need to do that inside the function, but can instead try to think of some examples we could use to test the ideas.\n",
    "\n",
    "One way to achieve the aim of the function this would be to use the string [`join`](https://docs.python.org/3/library/stdtypes.html#str.join) operation that we came across the in [Python string methods](013_Python_string_methods.ipynb#split()-and-join()) notes.\n",
    "\n",
    "This works by placing a key string between string items in a list. For example, if we want to separate strings by `:`, we would use:\n",
    "\n",
    "    ':'.join(names)"
   ]
  },
  {
   "cell_type": "code",
   "execution_count": 9,
   "metadata": {
    "ExecuteTime": {
     "end_time": "2020-07-22T10:01:51.087769Z",
     "start_time": "2020-07-22T10:01:51.083552Z"
    }
   },
   "outputs": [
    {
     "data": {
      "text/plain": [
       "'Fred:Bloggs'"
      ]
     },
     "execution_count": 9,
     "metadata": {},
     "output_type": "execute_result"
    }
   ],
   "source": [
    "':'.join(names)"
   ]
  },
  {
   "cell_type": "markdown",
   "metadata": {},
   "source": [
    "In our function, we want to use a single 'whitespace' value, so `' '` as the key:"
   ]
  },
  {
   "cell_type": "code",
   "execution_count": 10,
   "metadata": {
    "ExecuteTime": {
     "end_time": "2020-07-22T10:01:51.922936Z",
     "start_time": "2020-07-22T10:01:51.918946Z"
    }
   },
   "outputs": [
    {
     "data": {
      "text/plain": [
       "'Fred Bloggs'"
      ]
     },
     "execution_count": 10,
     "metadata": {},
     "output_type": "execute_result"
    }
   ],
   "source": [
    "' '.join(names)"
   ]
  },
  {
   "cell_type": "markdown",
   "metadata": {},
   "source": [
    "Now we are sure of the coding concept to achieve what we want in the filter, we can write the function:"
   ]
  },
  {
   "cell_type": "code",
   "execution_count": 11,
   "metadata": {
    "ExecuteTime": {
     "end_time": "2020-07-22T10:03:31.466723Z",
     "start_time": "2020-07-22T10:03:31.463279Z"
    }
   },
   "outputs": [],
   "source": [
    "def full_name(name_list):\n",
    "    '''\n",
    "    \n",
    "    purpose: \n",
    "      generate a name string from list of strings \n",
    "\n",
    "    inputs:\n",
    "    - name_list : list of names\n",
    "\n",
    "    return:\n",
    "    - the full name\n",
    "    '''\n",
    "    # join the names in name_list together\n",
    "    retval = ' '.join(name_list)\n",
    "\n",
    "    # return\n",
    "    return retval"
   ]
  },
  {
   "cell_type": "markdown",
   "metadata": {},
   "source": [
    "we try to make the docstring useful and test what it shows:"
   ]
  },
  {
   "cell_type": "code",
   "execution_count": 12,
   "metadata": {
    "ExecuteTime": {
     "end_time": "2020-07-22T10:10:24.734693Z",
     "start_time": "2020-07-22T10:10:24.731280Z"
    }
   },
   "outputs": [
    {
     "name": "stdout",
     "output_type": "stream",
     "text": [
      "Help on function full_name in module __main__:\n",
      "\n",
      "full_name(name_list)\n",
      "    purpose: \n",
      "      generate a name string from list of strings \n",
      "    \n",
      "    inputs:\n",
      "    - name_list : list of names\n",
      "    \n",
      "    return:\n",
      "    - the full name\n",
      "\n"
     ]
    }
   ],
   "source": [
    "help(full_name)"
   ]
  },
  {
   "cell_type": "markdown",
   "metadata": {},
   "source": [
    "then run our code:"
   ]
  },
  {
   "cell_type": "code",
   "execution_count": 13,
   "metadata": {
    "ExecuteTime": {
     "end_time": "2020-07-22T10:04:01.094448Z",
     "start_time": "2020-07-22T10:04:01.091423Z"
    }
   },
   "outputs": [
    {
     "name": "stdout",
     "output_type": "stream",
     "text": [
      "Fred Bloggs\n"
     ]
    }
   ],
   "source": [
    "full = full_name(['Fred','Bloggs'])\n",
    "print(full)"
   ]
  },
  {
   "cell_type": "markdown",
   "metadata": {},
   "source": [
    "## Test \n",
    "\n",
    "It is a good idea if we can write a test for our function. This should cover some typical case or cases, and check that we get the correct output for a particular input. We can use the [assert](https://www.w3schools.com/python/ref_keyword_assert.asp) method that we have seen in the [Python for](016_Python_for.ipynb#looping-over-dictionaries,-and-assert) notes:\n",
    "\n",
    "    assert True\n",
    "\n",
    "For example:"
   ]
  },
  {
   "cell_type": "code",
   "execution_count": 14,
   "metadata": {},
   "outputs": [
    {
     "name": "stdout",
     "output_type": "stream",
     "text": [
      "test passed\n"
     ]
    }
   ],
   "source": [
    "assert full_name(['Fred','Bloggs']) == \"Fred Bloggs\"\n",
    "print('test passed')"
   ]
  },
  {
   "cell_type": "markdown",
   "metadata": {},
   "source": [
    "remember that if this assertion fails, we get an `AssertionError` (you can try that out by putting something incorrect in the assertion above and re-running the cell). If the error is raised, our code will strop running and report the error.  \n",
    "\n",
    "We will learn more about code testing later, but for the moment, we suggest that you use one or more `assert` statements that try out different inputs-output matches with your function. "
   ]
  },
  {
   "cell_type": "markdown",
   "metadata": {
    "ExecuteTime": {
     "end_time": "2020-07-22T10:04:27.323659Z",
     "start_time": "2020-07-22T10:04:27.320977Z"
    },
    "solution2": "hidden",
    "solution2_first": true
   },
   "source": [
    "### Exercise 2\n",
    "\n",
    "We assume for this exercise that you know how to create a dictionary from two lists of the same length. This was covered in the [Python_Groups](014_Python_groups.ipynb#dict) notes.\n",
    "\n",
    "In this exercise, we suggest that you follow the design approach we took above:\n",
    "\n",
    "- Think first what you will use as inputs and outputs to the function, and come up with some examples of inputs and outputs\n",
    "- Then consider the Python code you would need to go from the inputs to the outputs\n",
    "    * Develop and test the core code to achieve the function purpose in a notebook cell with an example input\n",
    "    * Consider what you might use as a test for your code\n",
    "- Develop skeleton\n",
    "    * Write a skeleton function defining the purpose, inputs and outputs. In the skeleton code, you can just pass the inputs straight to the outputs. \n",
    "    * Confirm that that works before going further.\n",
    "    * Confirm that your document string is useful.\n",
    "    * Write a test\n",
    "- Implement the core code in the function \n",
    "    * Confirm that that works\n",
    "    * Confirm that your document string is useful.\n",
    "    * Write a test\n",
    "- Consider any flaws in your code and how you might improve it\n",
    "\n",
    "**Your task for the exercise is:**\n",
    "\n",
    "* design a function to convert two lists of the same length into a dictionary\n",
    "* the design must include relevant comments, document strings and tests"
   ]
  },
  {
   "cell_type": "code",
   "execution_count": 15,
   "metadata": {
    "ExecuteTime": {
     "end_time": "2020-07-22T10:07:23.310168Z",
     "start_time": "2020-07-22T10:07:23.307454Z"
    },
    "solution2": "hidden"
   },
   "outputs": [
    {
     "name": "stdout",
     "output_type": "stream",
     "text": [
      "\n",
      "\n",
      "The output is a dictionary, with keys and values\n",
      "\n",
      "example output from a previous exercise, with \n",
      "month names as keys and days in month as values. \n",
      "Note that we dont need a long example, just one \n",
      "complex enough to test\n",
      "\n",
      "retval =  {\n",
      "     'January':31,\n",
      "     'February':29\n",
      "}\n",
      " \n",
      "\n",
      "The associated input lists for this would be\n",
      "something like:\n",
      "\n",
      "month_names = ['January','February']\n",
      "month_days  = [31,29]\n",
      "\n",
      "\n"
     ]
    }
   ],
   "source": [
    "# Answer 1\n",
    "\n",
    "# design a function to convert two lists of \n",
    "# the same length into a dictionary\n",
    "\n",
    "# Think first what you will use as inputs and \n",
    "# outputs to the function, and come up with some \n",
    "# examples of inputs and outputs\n",
    "\n",
    "msg = '''\n",
    "\n",
    "The output is a dictionary, with keys and values\n",
    "\n",
    "example output from a previous exercise, with \n",
    "month names as keys and days in month as values. \n",
    "Note that we dont need a long example, just one \n",
    "complex enough to test\n",
    "\n",
    "retval =  {\n",
    "     'January':31,\n",
    "     'February':29\n",
    "}\n",
    " \n",
    "\n",
    "The associated input lists for this would be\n",
    "something like:\n",
    "\n",
    "month_names = ['January','February']\n",
    "month_days  = [31,29]\n",
    "\n",
    "'''\n",
    "print(msg)"
   ]
  },
  {
   "cell_type": "code",
   "execution_count": 16,
   "metadata": {
    "solution2": "hidden"
   },
   "outputs": [
    {
     "name": "stdout",
     "output_type": "stream",
     "text": [
      "{'January': 31, 'February': 29}\n",
      "test passed\n"
     ]
    }
   ],
   "source": [
    "# Answer 2\n",
    "\n",
    "# design a function to convert two lists of \n",
    "# the same length into a dictionary\n",
    "\n",
    "# Then consider the Python code you would need to \n",
    "# go from the inputs to the outputs\n",
    "#  - Develop and test the core code to achieve \n",
    "#    the function purpose in a notebook cell with an example input\n",
    "\n",
    "# set up example inputs from. ideas above\n",
    "month_names = ['January','February']\n",
    "month_days  = [31,29]\n",
    "\n",
    "# recalling the code about how to create a dictionary from\n",
    "# two lists:\n",
    "retval = dict(zip(month_names,month_days))\n",
    "\n",
    "# print this\n",
    "print(retval)\n",
    "\n",
    "# Consider what you might use as a test for your code\n",
    "# this will be an assert statement of the form\n",
    "# assert retval == {'January': 31, 'February': 29}\n",
    "assert retval == {'January': 31, 'February': 29}\n",
    "print('test passed')"
   ]
  },
  {
   "cell_type": "code",
   "execution_count": 17,
   "metadata": {
    "solution2": "hidden"
   },
   "outputs": [
    {
     "name": "stdout",
     "output_type": "stream",
     "text": [
      "function returns: (['January', 'February'], [31, 29])\n",
      "Help on function list2dict in module __main__:\n",
      "\n",
      "list2dict(keys, values)\n",
      "    Purpose:\n",
      "      generate a dictionary from lists of keys and values\n",
      "      \n",
      "    Note:\n",
      "      the length of the lists must be the same\n",
      "    \n",
      "    Inputs:\n",
      "      - keys   : list of values for the keys\n",
      "      - values : list of values to associate with the keys\n",
      "      \n",
      "    Output:\n",
      "      - retval : dictionary with keys and values derived\n",
      "                 from the input lists\n",
      "\n",
      "test passed\n"
     ]
    }
   ],
   "source": [
    "# Answer 3\n",
    "# Develop skeleton\n",
    "# - Write a skeleton function defining the purpose, inputs and outputs. \n",
    "# In the skeleton code, you can just pass the inputs straight to the outputs.\n",
    "\n",
    "# we call our function list2dict\n",
    "# and use relevanmt names for the two lists\n",
    "def list2dict(keys,values):\n",
    "    '''\n",
    "    Purpose:\n",
    "      generate a dictionary from lists of keys and values\n",
    "      \n",
    "    Note:\n",
    "      the length of the lists must be the same\n",
    "\n",
    "    Inputs:\n",
    "      - keys   : list of values for the keys\n",
    "      - values : list of values to associate with the keys\n",
    "      \n",
    "    Output:\n",
    "      - retval : dictionary with keys and values derived\n",
    "                 from the input lists\n",
    "    '''\n",
    "    # for skeleton ,just set output = input\n",
    "    # but use a tuple to make it explicit that a single\n",
    "    # item is returned\n",
    "    return (keys,values)\n",
    "    \n",
    "# - Confirm that that works before going further.\n",
    "\n",
    "# we need some test keys and values to do this\n",
    "month_names = ['January','February']\n",
    "month_days  = [31,29]\n",
    "\n",
    "# run and check that something is returned\n",
    "print(f'function returns: {list2dict(month_names,month_days)}')\n",
    "\n",
    "# - Confirm that your document string is useful.\n",
    "help(list2dict)\n",
    "\n",
    "# - Write a test \n",
    "# with the input and output the same for now!!\n",
    "assert list2dict(['January','February'],[31,29]) == (['January', 'February'], [31, 29])\n",
    "print('test passed')"
   ]
  },
  {
   "cell_type": "code",
   "execution_count": 18,
   "metadata": {
    "solution2": "hidden"
   },
   "outputs": [
    {
     "name": "stdout",
     "output_type": "stream",
     "text": [
      "function returns: {'January': 31, 'February': 29}\n",
      "Help on function list2dict in module __main__:\n",
      "\n",
      "list2dict(keys, values)\n",
      "    Purpose:\n",
      "      generate a dictionary from lists of keys and values\n",
      "      \n",
      "    Note:\n",
      "      the length of the lists must be the same\n",
      "    \n",
      "    Inputs:\n",
      "      - keys   : list of values for the keys\n",
      "      - values : list of values to associate with the keys\n",
      "      \n",
      "    Output:\n",
      "      - retval : dictionary with keys and values derived\n",
      "                 from the input lists\n",
      "\n",
      "test passed\n"
     ]
    }
   ],
   "source": [
    "# Answer 4\n",
    "# Implement the core code in the function\n",
    "\n",
    "# we call our function list2dict\n",
    "# and use relevanmt names for the two lists\n",
    "def list2dict(keys,values):\n",
    "    '''\n",
    "    Purpose:\n",
    "      generate a dictionary from lists of keys and values\n",
    "      \n",
    "    Note:\n",
    "      the length of the lists must be the same\n",
    "\n",
    "    Inputs:\n",
    "      - keys   : list of values for the keys\n",
    "      - values : list of values to associate with the keys\n",
    "      \n",
    "    Output:\n",
    "      - retval : dictionary with keys and values derived\n",
    "                 from the input lists\n",
    "    '''\n",
    "    # for the dictionary from the lists\n",
    "    # and set variable retval to the response\n",
    "    retval = dict(zip(keys,values))\n",
    "    \n",
    "    # remember to output!!\n",
    "    return retval\n",
    "\n",
    "# Confirm that that works\n",
    "\n",
    "# we need some test keys and values to do this\n",
    "month_names = ['January','February']\n",
    "month_days  = [31,29]\n",
    "\n",
    "# run and check that something is returned\n",
    "print(f'function returns: {list2dict(month_names,month_days)}')\n",
    "\n",
    "# - Confirm that your document string is useful.\n",
    "help(list2dict)\n",
    "\n",
    "# - Write a test \n",
    "assert list2dict(['January','February'],[31,29]) == {'January': 31, 'February': 29}\n",
    "print('test passed')"
   ]
  },
  {
   "cell_type": "code",
   "execution_count": 19,
   "metadata": {
    "code_folding": [],
    "solution2": "hidden"
   },
   "outputs": [
    {
     "name": "stdout",
     "output_type": "stream",
     "text": [
      "\n",
      "# Consider any flaws in your code and how you might improve it\n",
      "\n",
      "Since we require the inputs to be lists, we could ensure this\n",
      "by using\n",
      "\n",
      "    keys = list(keys)\n",
      "    values = list(values)\n",
      "\n",
      "or we might examine the data types\n",
      "\n",
      "An obvious improvement would be to test that the input \n",
      "lists are of the same length.\n",
      "\n",
      "This is done with:\n",
      "\n",
      "assert len(keys) == len(values)\n",
      "\n",
      "function returns: {'January': 31, 'February': 29}\n",
      "Help on function list2dict in module __main__:\n",
      "\n",
      "list2dict(keys, values)\n",
      "    Purpose:\n",
      "      generate a dictionary from lists of keys and values\n",
      "      \n",
      "    Note:\n",
      "      the length of the lists must be the same\n",
      "    \n",
      "    Inputs:\n",
      "      - keys   : list of values for the keys\n",
      "      - values : list of values to associate with the keys\n",
      "      \n",
      "    Output:\n",
      "      - retval : dictionary with keys and values derived\n",
      "                 from the input lists\n",
      "\n",
      "test passed\n"
     ]
    }
   ],
   "source": [
    "# Answer 5\n",
    "# Consider any flaws in your code and how you might improve it\n",
    "\n",
    "msg = '''\n",
    "# Consider any flaws in your code and how you might improve it\n",
    "\n",
    "Since we require the inputs to be lists, we could ensure this\n",
    "by using\n",
    "\n",
    "    keys = list(keys)\n",
    "    values = list(values)\n",
    "\n",
    "or we might examine the data types\n",
    "\n",
    "An obvious improvement would be to test that the input \n",
    "lists are of the same length.\n",
    "\n",
    "This is done with:\n",
    "\n",
    "assert len(keys) == len(values)\n",
    "'''\n",
    "print(msg)\n",
    "\n",
    "# we call our function list2dict\n",
    "# and use relevanmt names for the two lists\n",
    "def list2dict(keys,values):\n",
    "    '''\n",
    "    Purpose:\n",
    "      generate a dictionary from lists of keys and values\n",
    "      \n",
    "    Note:\n",
    "      the length of the lists must be the same\n",
    "\n",
    "    Inputs:\n",
    "      - keys   : list of values for the keys\n",
    "      - values : list of values to associate with the keys\n",
    "      \n",
    "    Output:\n",
    "      - retval : dictionary with keys and values derived\n",
    "                 from the input lists\n",
    "    '''\n",
    "    # Since we require the inputs to be lists, \n",
    "    # we ensure this\n",
    "    keys = list(keys)\n",
    "    values = list(values)\n",
    "    \n",
    "    # test the inpouts are the same length\n",
    "    assert len(keys) == len(values)\n",
    "    \n",
    "    # for the dictionary from the lists\n",
    "    # and set variable retval to the response\n",
    "    retval = dict(zip(keys,values))\n",
    "    \n",
    "    # remember to output!!\n",
    "    return retval\n",
    "\n",
    "# Confirm that that works\n",
    "\n",
    "# we need some test keys and values to do this\n",
    "month_names = ['January','February']\n",
    "month_days  = [31,29]\n",
    "\n",
    "# run and check that something is returned\n",
    "print(f'function returns: {list2dict(month_names,month_days)}')\n",
    "\n",
    "# - Confirm that your document string is useful.\n",
    "help(list2dict)\n",
    "\n",
    "# - Write a test \n",
    "assert list2dict(['January','February'],[31,29]) == {'January': 31, 'February': 29}\n",
    "print('test passed')"
   ]
  },
  {
   "cell_type": "markdown",
   "metadata": {
    "ExecuteTime": {
     "end_time": "2020-07-22T10:07:11.812609Z",
     "start_time": "2020-07-22T10:07:11.810291Z"
    }
   },
   "source": [
    "## More on arguments"
   ]
  },
  {
   "cell_type": "markdown",
   "metadata": {},
   "source": [
    "Python functions can take [two types of arguments](https://book.pythontips.com/en/latest/args_and_kwargs.html):\n",
    "\n",
    "* positional arguments\n",
    "* keyword arguments\n",
    "\n",
    "### Positional arguments\n",
    "\n",
    "The arguments we have used above are positional arguments, in that their definition in the function depends on the order they are specified in. For example:"
   ]
  },
  {
   "cell_type": "code",
   "execution_count": 20,
   "metadata": {},
   "outputs": [
    {
     "name": "stdout",
     "output_type": "stream",
     "text": [
      "argument 0 is hello\n",
      "argument 1 is world\n"
     ]
    }
   ],
   "source": [
    "def hello(s1,s2):\n",
    "    '''\n",
    "    Purpose:\n",
    "      print out positional arguments\n",
    "      \n",
    "    Inputs:\n",
    "      s1 : first argument\n",
    "      s2 : secopnd argument\n",
    "    '''\n",
    "    print(f'argument 0 is {s1}')\n",
    "    print(f'argument 1 is {s2}')\n",
    "    \n",
    "hello('hello','world')"
   ]
  },
  {
   "cell_type": "markdown",
   "metadata": {},
   "source": [
    "Sometimes in Python documentation, you will see the arguments specified simply as:\n",
    "\n",
    "    example(*args, **kwargs)\n",
    "    \n",
    "This is the most general way of specifying function arguments. The first item in this case `*args` are the positional arguments. Although we generally specify them explicitly as above, we can also use\n",
    "\n",
    "    *args\n",
    "    \n",
    "to specify them, where `args` is a list-like object. In this form, the example above becomes:\n",
    "\n"
   ]
  },
  {
   "cell_type": "code",
   "execution_count": 21,
   "metadata": {},
   "outputs": [
    {
     "name": "stdout",
     "output_type": "stream",
     "text": [
      "argument 0 is hello\n",
      "argument 1 is world\n",
      "argument 2 is again\n"
     ]
    }
   ],
   "source": [
    "def hello(*args):\n",
    "    '''\n",
    "    print out positional arguments\n",
    "    \n",
    "    Inputs:\n",
    "        *args : list of positional arguments\n",
    "    '''\n",
    "    # loop over the list\n",
    "    for i,s in enumerate(args):\n",
    "        print(f'argument {i} is {s}')\n",
    "    \n",
    "hello('hello','world','again')"
   ]
  },
  {
   "cell_type": "code",
   "execution_count": 22,
   "metadata": {},
   "outputs": [
    {
     "name": "stdout",
     "output_type": "stream",
     "text": [
      "argument 0 is hello\n",
      "argument 1 is world\n",
      "argument 2 is again\n",
      "argument 3 is as\n",
      "argument 4 is list\n"
     ]
    }
   ],
   "source": [
    "# or using *args where args is a list\n",
    "l = ['hello','world','again','as','list']\n",
    "hello(*l)"
   ]
  },
  {
   "cell_type": "markdown",
   "metadata": {},
   "source": [
    "In this example, we have not specified how many positional arguments there are, but obviously we need to attach some meaning to each of them in the order supplied. Sometimes this is useful in code, where we just want to loop over a list of arguments, but you should mostly be wary about using it unless you really need to. \n",
    "\n",
    "A good example of the use of `*args` is the `print()` statement. It will print out however many positional arguments we specify:"
   ]
  },
  {
   "cell_type": "code",
   "execution_count": 23,
   "metadata": {},
   "outputs": [
    {
     "name": "stdout",
     "output_type": "stream",
     "text": [
      "hello world again\n",
      "['hello', 'world', 'again', 'as', 'list']\n",
      "hello world again as list\n"
     ]
    }
   ],
   "source": [
    "print('hello','world','again')\n",
    "\n",
    "l = ['hello','world','again','as','list']\n",
    "# print the list, specifying l as a single positional argument\n",
    "print(l)\n",
    "# print the list passing each list item as a positional argument\n",
    "print(*l)"
   ]
  },
  {
   "cell_type": "markdown",
   "metadata": {},
   "source": [
    "### Keyword arguments\n",
    "\n",
    "The second type of argument we mentioned above was keyword arguments. These are typically used to modify the behaviour of a function are are of the form:\n",
    "\n",
    "    verbose=True\n",
    "    sep=' '\n"
   ]
  },
  {
   "cell_type": "markdown",
   "metadata": {},
   "source": [
    "We can see examples of these with the `print` function:"
   ]
  },
  {
   "cell_type": "code",
   "execution_count": 24,
   "metadata": {},
   "outputs": [
    {
     "name": "stdout",
     "output_type": "stream",
     "text": [
      "Help on built-in function print in module builtins:\n",
      "\n",
      "print(...)\n",
      "    print(value, ..., sep=' ', end='\\n', file=sys.stdout, flush=False)\n",
      "    \n",
      "    Prints the values to a stream, or to sys.stdout by default.\n",
      "    Optional keyword arguments:\n",
      "    file:  a file-like object (stream); defaults to the current sys.stdout.\n",
      "    sep:   string inserted between values, default a space.\n",
      "    end:   string appended after the last value, default a newline.\n",
      "    flush: whether to forcibly flush the stream.\n",
      "\n"
     ]
    }
   ],
   "source": [
    "help(print)"
   ]
  },
  {
   "cell_type": "markdown",
   "metadata": {},
   "source": [
    "where a set of optional keyword arguments are specified. All keyword arguments are specified with a default value (`sep=' ', end='\\n', file=sys.stdout, flush=False` above). If we do not specify a keyword when we call the function, this is the value that that variable will take within the function.\n",
    "\n",
    "Note that keywords must be specified **after** positional arguments. The keywords can be in any order (they are not positional). Keywords can only be given once.\n",
    "\n",
    "But, if we want, we can override the defaults by setting the keyword when we call the function:"
   ]
  },
  {
   "cell_type": "code",
   "execution_count": 25,
   "metadata": {},
   "outputs": [
    {
     "name": "stdout",
     "output_type": "stream",
     "text": [
      "hello world again as list\n",
      "helloXworldXagainXasXlist\n",
      "hello:world:again:as:list\n"
     ]
    }
   ],
   "source": [
    "l = ['hello','world','again','as','list']\n",
    "# print the list passing each list item as a positional argument\n",
    "# default with sep as ' '\n",
    "print(*l)\n",
    "# with sep as 'X'\n",
    "print(*l,sep='X')\n",
    "# with sep as ':'\n",
    "print(*l,sep=':')"
   ]
  },
  {
   "cell_type": "markdown",
   "metadata": {},
   "source": [
    "This is a very useful feature for functions: we can set default behaviour, but the user can modify this when they call the function. \n",
    "\n",
    "For example, let's add a `verbose` keyword to our `hello()` function. The behaviour we want is that if the verbose flag is set, we print lots of information to the user. In this case:\n",
    "\n",
    "    print(f'argument {i}:',end=' ')\n",
    "    \n",
    "which will print the index `i`. We have used the `kwarg` `end=''` for `print()` so that if this is called, it does not print a newline, but a space instead."
   ]
  },
  {
   "cell_type": "code",
   "execution_count": 26,
   "metadata": {},
   "outputs": [],
   "source": [
    "def hello(*args,verbose=False):\n",
    "    '''\n",
    "    print out positional arguments\n",
    "    \n",
    "    Inputs:\n",
    "        *args : list of positional arguments\n",
    "        \n",
    "    Optional keyword arguments:\n",
    "        verbose : print the index \n",
    "    '''\n",
    "    # loop over the list\n",
    "    for i,s in enumerate(args):\n",
    "        # if the verbose flag is set\n",
    "        # then print detailed information\n",
    "        if verbose:\n",
    "            print(f'argument {i}:',end=' ')\n",
    "        print(f'{s}')\n"
   ]
  },
  {
   "cell_type": "code",
   "execution_count": 27,
   "metadata": {},
   "outputs": [
    {
     "name": "stdout",
     "output_type": "stream",
     "text": [
      "===== verbose=False =====\n",
      "hello\n",
      "world\n",
      "again\n",
      "===== verbose=True =====\n",
      "argument 0: hello\n",
      "argument 1: world\n",
      "argument 2: again\n"
     ]
    }
   ],
   "source": [
    "dash='='*5\n",
    "\n",
    "# call without verbose\n",
    "print(f'{dash} verbose=False {dash}')\n",
    "hello('hello','world','again')\n",
    "\n",
    "# call with verbose\n",
    "print(f'{dash} verbose=True {dash}')\n",
    "hello('hello','world','again',verbose=True)"
   ]
  },
  {
   "cell_type": "markdown",
   "metadata": {
    "solution2": "hidden",
    "solution2_first": true
   },
   "source": [
    "### Exercise 3\n",
    "\n",
    "* Starting from the function `list2dict(keys,values)` that you developed above, add keyword arguments to the code to achieve the following:\n",
    "     - if check=True   : perform checks on the input data\n",
    "     - if verbose=True : print out information on what is going on in the function\n",
    "     - set all default keywords to False\n",
    "* Make sure you perform tests as above, and that you update document strings"
   ]
  },
  {
   "cell_type": "code",
   "execution_count": 28,
   "metadata": {
    "solution2": "hidden"
   },
   "outputs": [
    {
     "name": "stdout",
     "output_type": "stream",
     "text": [
      "function returns: {'January': 31, 'February': 29}\n"
     ]
    }
   ],
   "source": [
    "# ANSWER\n",
    "# Starting from the function list2dict(keys,values) \n",
    "# that you developed above, add keyword arguments \n",
    "# to the code to achieve the following:\n",
    "#  if check=True : perform checks on the input data\n",
    "#  if verbose=True : print out information on what is going on in the function\n",
    "#  set all default keywords to False\n",
    "\n",
    "# we call our function list2dict\n",
    "# and use relevanmt names for the two lists\n",
    "\n",
    "# KWARGS\n",
    "#  if check=True : perform checks on the input data\n",
    "#  if verbose=True : print out information on what is going on in the function\n",
    "#  set all default keywords to False\n",
    "def list2dict(keys,values,check=False,verbose=False):\n",
    "    '''\n",
    "    Purpose:\n",
    "      generate a dictionary from lists of keys and values\n",
    "      \n",
    "    Note:\n",
    "      the length of the lists must be the same\n",
    "\n",
    "    Inputs:\n",
    "      - keys   : list of values for the keys\n",
    "      - values : list of values to associate with the keys\n",
    "      \n",
    "    Output:\n",
    "      - retval : dictionary with keys and values derived\n",
    "                 from the input lists\n",
    "                 \n",
    "    Optional keyword arguments:\n",
    "        verbose : print detailed information, default False\n",
    "        check   : perform internal tests\n",
    "    '''\n",
    "    # NB updated doc string ^\n",
    "    \n",
    "    # test the inputs are the same length\n",
    "    # if check flag set True\n",
    "    if check:\n",
    "        # verbose comments\n",
    "        if verbose:\n",
    "            print('--> perfoming sanity check on array lengths')\n",
    "        assert len(keys) == len(values)\n",
    "    \n",
    "    # for the dictionary from the lists\n",
    "    # and set variable retval to the response\n",
    "    \n",
    "    # verbose comments\n",
    "    if verbose:\n",
    "        print(f'--> zipping dictionary for lists of length {len(keys)}')\n",
    "    retval = dict(zip(keys,values))\n",
    "    \n",
    "    # remember to output!!\n",
    "    return retval\n",
    "\n",
    "# Confirm that that works\n",
    "\n",
    "# we need some test keys and values to do this\n",
    "month_names = ['January','February']\n",
    "month_days  = [31,29]\n",
    "\n",
    "# run and check that something is returned\n",
    "print(f'function returns: {list2dict(month_names,month_days)}')\n"
   ]
  },
  {
   "cell_type": "code",
   "execution_count": 29,
   "metadata": {
    "solution2": "hidden"
   },
   "outputs": [
    {
     "name": "stdout",
     "output_type": "stream",
     "text": [
      "Help on function list2dict in module __main__:\n",
      "\n",
      "list2dict(keys, values, check=False, verbose=False)\n",
      "    Purpose:\n",
      "      generate a dictionary from lists of keys and values\n",
      "      \n",
      "    Note:\n",
      "      the length of the lists must be the same\n",
      "    \n",
      "    Inputs:\n",
      "      - keys   : list of values for the keys\n",
      "      - values : list of values to associate with the keys\n",
      "      \n",
      "    Output:\n",
      "      - retval : dictionary with keys and values derived\n",
      "                 from the input lists\n",
      "                 \n",
      "    Optional keyword arguments:\n",
      "        verbose : print detailed information, default False\n",
      "        check   : perform internal tests\n",
      "\n"
     ]
    }
   ],
   "source": [
    "# ANSWER\n",
    "# - Confirm that your document string is useful.\n",
    "help(list2dict)\n"
   ]
  },
  {
   "cell_type": "code",
   "execution_count": 30,
   "metadata": {
    "solution2": "hidden"
   },
   "outputs": [
    {
     "name": "stdout",
     "output_type": "stream",
     "text": [
      "===== no kwargs =====\n",
      "test passed\n",
      "===== verbose=True =====\n",
      "--> zipping dictionary for lists of length 2\n",
      "===== check=True =====\n",
      "===== check=True and verbose=True =====\n",
      "--> perfoming sanity check on array lengths\n",
      "--> zipping dictionary for lists of length 2\n",
      "tests passed\n"
     ]
    }
   ],
   "source": [
    "#answer\n",
    "# tests for the KWARGS\n",
    "\n",
    "dash='='*5\n",
    "# - Write tests that also show the kwargs\n",
    "# no kwargs\n",
    "print(f'{dash} no kwargs {dash}')\n",
    "assert list2dict(['January','February'],[31,29]) == {'January': 31, 'February': 29}\n",
    "print('test passed')\n",
    "\n",
    "print(f'{dash} verbose=True {dash}')\n",
    "assert list2dict(['January','February'],[31,29],\\\n",
    "                          verbose=True) \\\n",
    "              == {'January': 31, 'February': 29}\n",
    "\n",
    "print(f'{dash} check=True {dash}')\n",
    "assert list2dict(['January','February'],[31,29],\\\n",
    "                          check=True) \\\n",
    "              == {'January': 31, 'February': 29}\n",
    "\n",
    "print(f'{dash} check=True and verbose=True {dash}')\n",
    "assert list2dict(['January','February'],[31,29],\\\n",
    "                          check=True,verbose=True) \\\n",
    "              == {'January': 31, 'February': 29}\n",
    "print('tests passed')"
   ]
  },
  {
   "cell_type": "markdown",
   "metadata": {},
   "source": [
    "As a final point of `kwargs`, you might still be wondering why this was specified as:\n",
    "\n",
    "       example(*args,**kwargs)\n",
    "       \n",
    "above. We have seen what the `*args` part means: if `args` is a list, then each item in the list is passed as a positional argument. The same idea applies to `**kwargs` but instead of a list, `kwargs` refers to a dictionary. If you think about the information you need to pass for keword arguments, you would understand why this is the case. \n",
    "\n",
    "By using `**kwargs`, where `kwargs` is a dictionary, the key-value pairs in the dictionary are passed as `key=value`. For example:"
   ]
  },
  {
   "cell_type": "code",
   "execution_count": 31,
   "metadata": {},
   "outputs": [
    {
     "name": "stdout",
     "output_type": "stream",
     "text": [
      "helloXworldXagainXasXlist<- end of the line\n"
     ]
    }
   ],
   "source": [
    "args = ['hello','world','again','as','list']\n",
    "# set up dictionary for kwargs\n",
    "# with X as sep and a string at the end oif the line\n",
    "kwargs = {'sep' : 'X', 'end' : '<- end of the line\\n'}\n",
    "\n",
    "print(*args,**kwargs)"
   ]
  },
  {
   "cell_type": "markdown",
   "metadata": {},
   "source": [
    "The use of `**kwargs` can be useful sometimes, as you can more easily keep track of keywords for some particular configuration of running a code. For that reason, and because you will see it sometimes in documentation, you should be aware of it. Most likely you won't be using it a lot in your early code development though."
   ]
  },
  {
   "cell_type": "markdown",
   "metadata": {},
   "source": [
    "## `lambda` functions\n",
    "\n",
    "Sometimes the function we want to write is very simple, and might consist of only a few statements on a single line. As an example, consider the function `y(x)` here:"
   ]
  },
  {
   "cell_type": "code",
   "execution_count": 2,
   "metadata": {},
   "outputs": [],
   "source": [
    "def y(x):\n",
    "    '''\n",
    "    a function y(x) with\n",
    "    zeros at x=4,x=3\n",
    "    '''\n",
    "    return 2.0*(x-3)*(x-4)"
   ]
  },
  {
   "cell_type": "markdown",
   "metadata": {},
   "source": [
    "Whilst it is fine to write a function in this way, and it has the advantage of being quite explicit about what it is doing, it is not very efficient: there is a computational cost to calling a function, especially in a high-level language like Python. \n",
    "\n",
    "If we were only ever going to use this function in places in the code where performance is unimportant, then we can go ahead with the above.\n",
    "\n",
    "If we are worried that it might be used in a case when we would not want to slow it down unnecessarily with as function call, we can use a special type of function, called a [`lambda` function](https://www.w3schools.com/python/python_lambda.asp). The syntax is:\n",
    "\n",
    "        function_name = lambda args : function_code\n",
    "\n",
    "where `function_name` is the name of the function, `args` is a list of arguments, and `function_code` here represents the (short!) code inside the function.\n",
    "\n",
    "Our example above translates to:"
   ]
  },
  {
   "cell_type": "code",
   "execution_count": 6,
   "metadata": {},
   "outputs": [],
   "source": [
    "y = lambda x : 2.0*(x-3)*(x-4)"
   ]
  },
  {
   "cell_type": "markdown",
   "metadata": {},
   "source": [
    "which is a much *neater* and more efficient code than a full function. Use these when appropriate.\n",
    "\n",
    "Generally, you are not expected to use a docstring with a `lambda` function, as it should be a simple statement that is self-evident from the code. If you do feel the need, you can add one with:\n",
    "\n",
    "        y.__doc__ = '''\n",
    "        a function y(x) with\n",
    "        zeros at x=4,x=3\n",
    "        '''\n"
   ]
  },
  {
   "cell_type": "markdown",
   "metadata": {
    "solution2": "hidden",
    "solution2_first": true
   },
   "source": [
    "#### Exercise 4\n",
    "\n",
    "Consider the function:\n",
    "\n",
    "\n",
    "        def power_of_2(ilist):\n",
    "            \"\"\"\n",
    "            output a list of 2 raised to the power of \n",
    "            the values of the input arguments \n",
    "\n",
    "            Inputs:\n",
    "                ilist : list of integers\n",
    "\n",
    "            Output:\n",
    "                list of [2**arg[0],2**arg[1],...]\n",
    "            \"\"\"\n",
    "\n",
    "            # initialise list\n",
    "            olist = []\n",
    "\n",
    "            # loop over the arg list\n",
    "            for i in ilist:\n",
    "                # append the 2**i value\n",
    "                olist.append(2**i)\n",
    "            # return the list\n",
    "            return olist\n",
    "\n",
    "\n",
    "* Test this function, inputting a list of integers from 0 to 4 inclusive\n",
    "* Write a more Pythonic version of this, making use of list comprehensions and `lambda` functions"
   ]
  },
  {
   "cell_type": "code",
   "execution_count": 34,
   "metadata": {
    "solution2": "hidden"
   },
   "outputs": [
    {
     "name": "stdout",
     "output_type": "stream",
     "text": [
      "\n",
      "Consider the function:\n",
      "\n",
      "        def power_of_2(ilist):\n",
      "            \"\"\"\n",
      "            output a list of 2 raised to the power of \n",
      "            the values of the input arguments \n",
      "\n",
      "            Inputs:\n",
      "                ilist : list of integers\n",
      "\n",
      "            Output:\n",
      "                list of [2**arg[0],2**arg[1],...]\n",
      "            \"\"\"\n",
      "\n",
      "            # initialise list\n",
      "            olist = []\n",
      "\n",
      "            # loop over the arg list\n",
      "            for i in ilist:\n",
      "                # append the 2**i value\n",
      "                olist.append(2**i)\n",
      "            # return the list\n",
      "            return olist\n",
      "\n",
      "\n",
      "\n",
      "* Test this function, inputting a list of integers from 0 to 4 inclusive\n",
      "\n",
      "inputs:    [0, 1, 2, 3, 4]\n",
      "outputs: ->[1, 2, 4, 8, 16]\n"
     ]
    }
   ],
   "source": [
    "# ANSWER\n",
    "\n",
    "msg = '''\n",
    "Consider the function:\n",
    "\n",
    "        def power_of_2(ilist):\n",
    "            \"\"\"\n",
    "            output a list of 2 raised to the power of \n",
    "            the values of the input arguments \n",
    "\n",
    "            Inputs:\n",
    "                ilist : list of integers\n",
    "\n",
    "            Output:\n",
    "                list of [2**arg[0],2**arg[1],...]\n",
    "            \"\"\"\n",
    "\n",
    "            # initialise list\n",
    "            olist = []\n",
    "\n",
    "            # loop over the arg list\n",
    "            for i in ilist:\n",
    "                # append the 2**i value\n",
    "                olist.append(2**i)\n",
    "            # return the list\n",
    "            return olist\n",
    "\n",
    "'''\n",
    "print(msg)\n",
    "\n",
    "def power_of_2(ilist):\n",
    "    \"\"\"\n",
    "    output a list of 2 raised to the power of \n",
    "    the values of the input arguments \n",
    "\n",
    "    Inputs:\n",
    "        ilist : list of integers\n",
    "\n",
    "    Output:\n",
    "        list of [2**arg[0],2**arg[1],...]\n",
    "    \"\"\"\n",
    "\n",
    "    # initialise list\n",
    "    olist = []\n",
    "\n",
    "    # loop over the arg list\n",
    "    for i in ilist:\n",
    "        # append the 2**i value\n",
    "        olist.append(2**i)\n",
    "    # return the list\n",
    "    return olist\n",
    "msg = '''\n",
    "* Test this function, inputting a list of integers from 0 to 4 inclusive\n",
    "'''\n",
    "print(msg)\n",
    "\n",
    "ilist = [0,1,2,3,4]\n",
    "olist = power_of_2(ilist)\n",
    "print(f'inputs:    {ilist}\\noutputs: ->{olist}')"
   ]
  },
  {
   "cell_type": "code",
   "execution_count": 39,
   "metadata": {
    "solution2": "hidden"
   },
   "outputs": [
    {
     "name": "stdout",
     "output_type": "stream",
     "text": [
      "\n",
      "* Write a more Pythonic version of this, \n",
      "  making use of list comprehensions and lambda functions\n",
      "\n",
      "inputs:    [0, 1, 2, 3, 4]\n",
      "outputs: ->[1, 2, 4, 8, 16]\n"
     ]
    }
   ],
   "source": [
    "msg='''\n",
    "* Write a more Pythonic version of this, \n",
    "  making use of list comprehensions and lambda functions\n",
    "'''\n",
    "print(msg)\n",
    "\n",
    "# lambda function\n",
    "twop = lambda x : 2**x\n",
    "\n",
    "ilist = [0,1,2,3,4]\n",
    "# list comp using lambda\n",
    "olist = [twop(i) for i in ilist]\n",
    "print(f'inputs:    {ilist}\\noutputs: ->{olist}')"
   ]
  },
  {
   "cell_type": "markdown",
   "metadata": {},
   "source": [
    "## Summary\n",
    "\n",
    "In this section, we have learned about writing a function. We have seen that they generally will have zero or more input positional arguments and zero or more keyword arguments. They will typically return some value. We have also seen how we can define a `doc string` to give the user information on how to use the function, and also how we can use `assert` to build tests for our codes. We have been through some design considerations, and seen that it is best to plan you functions by thinking about the purpose, the inputs and the outputs. Then, for the core code, you just need to develop a skeleton code and docstring structure, test that, and insert your core code. You should think about modifications using keyword arguments that you might want to include, but these will often come in a second pass of development.\n",
    "\n",
    "When we write Python codes from now on, we will often make use of functions.\n",
    "\n",
    "Remember:\n",
    "\n",
    "Anatomy of a function:\n",
    "\n",
    "        def my_function(arg1,arg2,...,kw0=...,kw1=...):\n",
    "          '''\n",
    "          Document string \n",
    "          '''\n",
    "\n",
    "          # comments\n",
    "\n",
    "          retval =  ... \n",
    "\n",
    "          # return\n",
    "          return retval\n",
    "\n",
    "\n",
    "Also written as:\n",
    "\n",
    "        def my_function(*args,**kwargs):\n",
    "\n",
    "We have also seen `lambda` functions, used for short functions:\n",
    "\n",
    "        function_name = lambda args : function_code\n"
   ]
  },
  {
   "cell_type": "markdown",
   "metadata": {},
   "source": [
    "\n",
    "[<img src=\"images/noun_post_2109127.svg\" width=\"50\" align='right'>](018_Running_Python.ipynb)\n",
    "[<img src=\"images/noun_pre_2109128.svg\" width=\"50\" align='right'>](016_Python_for.ipynb)\n",
    "\n"
   ]
  }
 ],
 "metadata": {
  "kernelspec": {
   "display_name": "Python [conda env:geog0111-geog0111]",
   "language": "python",
   "name": "conda-env-geog0111-geog0111-py"
  },
  "language_info": {
   "codemirror_mode": {
    "name": "ipython",
    "version": 3
   },
   "file_extension": ".py",
   "mimetype": "text/x-python",
   "name": "python",
   "nbconvert_exporter": "python",
   "pygments_lexer": "ipython3",
   "version": "3.7.8"
  },
  "toc": {
   "base_numbering": "",
   "nav_menu": {},
   "number_sections": false,
   "sideBar": false,
   "skip_h1_title": false,
   "title_cell": "Table of Contents",
   "title_sidebar": "Contents",
   "toc_cell": false,
   "toc_position": {},
   "toc_section_display": false,
   "toc_window_display": false
  },
  "varInspector": {
   "cols": {
    "lenName": 16,
    "lenType": 16,
    "lenVar": 40
   },
   "kernels_config": {
    "python": {
     "delete_cmd_postfix": "",
     "delete_cmd_prefix": "del ",
     "library": "var_list.py",
     "varRefreshCmd": "print(var_dic_list())"
    },
    "r": {
     "delete_cmd_postfix": ") ",
     "delete_cmd_prefix": "rm(",
     "library": "var_list.r",
     "varRefreshCmd": "cat(var_dic_list()) "
    }
   },
   "types_to_exclude": [
    "module",
    "function",
    "builtin_function_or_method",
    "instance",
    "_Feature"
   ],
   "window_display": false
  }
 },
 "nbformat": 4,
 "nbformat_minor": 4
}
