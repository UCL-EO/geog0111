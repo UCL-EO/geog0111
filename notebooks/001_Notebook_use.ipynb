{
 "cells": [
  {
   "cell_type": "markdown",
   "metadata": {},
   "source": [
    "<img alt='UCL' src=\"images/ucl_logo.png\" align='center'>\n",
    "\n",
    "\n",
    "[<img src=\"images/noun_post_2109127.svg\" width=\"50\" align='right'>](002_Unix.ipynb)\n"
   ]
  },
  {
   "cell_type": "markdown",
   "metadata": {},
   "source": [
    "# 001 Use of Jupyter notebooks\n",
    "\n",
    "This is a Jupyter notebook designed to let you get used to notebooks, and to test your python and notebooks installation.\n",
    "\n",
    "You can find much information on using notebooks on the [web](https://jupyter.org/), so you might start by exploring some of that.\n",
    "\n",
    "You should do the tasks in this notebook before the first class. We need to assume at that class that you have the basic familiarity with notebooks you will gain here."
   ]
  },
  {
   "cell_type": "markdown",
   "metadata": {},
   "source": [
    "## Introduction\n",
    "\n",
    "This is your first Jupyter notebook of the class. Jupyter notebooks will form the primary teaching and learning tool in this course. The format of the notebooks will be similar for all sessions. \n",
    "\n",
    "#### Course material\n",
    "\n",
    "You will find full, up to date information on this course GEOG0111 on the [UCL course moodle page](https://moodle.ucl.ac.uk/course/view.php?id=26595). \n",
    "\n",
    "#### Course load\n",
    "\n",
    "This course is intended to be 25 % of your course load for the term, which equates to at lesast 9 hours per week. This is the typiocal average of effort you should be putting in each week of the course.\n",
    "\n",
    "You will find fuller information on the [GEOG0111 course moodle page](https://moodle.ucl.ac.uk/course/view.php?id=26595), but that percentage should give you some idea of the amount of effort we are expecting you to put in (on average) per week.\n",
    "\n",
    "#### Learning \n",
    "\n",
    "You will be expected to learn from what we present in these notebooks and by following up material referenced and wider resources. \n",
    "\n",
    "Learning is mostly blocked into two-week chunks, with a test you need to submit at the end of the block. You will receive feedback from your test submission to help you learn from what you have done well and not so well. It is important that you submit materials for these tests. It is not about 'getting the right answer', but giving us the opportunity to regularly see your progress.\n",
    "\n",
    "There will be two pieces of work that you submit for formal assessment on the course: one half way through, and one at the end. Again, we will provide you with feedback on these.\n",
    "\n",
    "You will be covering a number of notebooks per week in a learning chunk, and you will need to keep up. If you find you are having problems, or there are reasons you cannot work, you must let us know so we can help you.\n",
    "\n",
    "We will provide more information on learning in this course and the resources you have access to on the course moodle page.\n",
    "\n",
    "#### Prerequisites\n",
    "\n",
    "There are no prerequisites for this notebook.\n",
    "\n",
    "Note that you can 'run' the code in a code block using the 'run' widget (above) or hitting the keys ('typing') <shift> and <return> at the same time. \n"
   ]
  },
  {
   "cell_type": "markdown",
   "metadata": {},
   "source": [
    "\n",
    "\n",
    "### Some resources\n",
    "\n",
    "There is a useful [cheatsheet](https://www.datacamp.com/cheat-sheet/jupyter-notebook-cheat-sheet) on using Jupyter, and [another, on markdown syntax](https://www.markdownguide.org/cheat-sheet) for you to use.\n",
    "\n"
   ]
  },
  {
   "cell_type": "markdown",
   "metadata": {},
   "source": [
    "## How we will be using notebooks\n",
    "\n",
    "We will be using Jupyter notebooks to present course notes and view and run exercises. These will run on the UCL Notebook server. To connect, you need either:\n",
    "\n",
    "* a [UCL VPN connection](https://www.ucl.ac.uk/isd/services/get-connected/ucl-virtual-private-network-vpn)\n",
    "* use [Desktop@UCL](https://www.ucl.ac.uk/isd/services/computers/remote-access/desktopucl-anywhere), open a browser in there, and connect to the server.\n",
    "\n",
    "In either case, you will need to provide your UCL ISD login and password for both the access method ([UCL VPN connection](https://www.ucl.ac.uk/isd/services/get-connected/ucl-virtual-private-network-vpn) or [Desktop@UCL](https://www.ucl.ac.uk/isd/services/computers/remote-access/desktopucl-anywhere)) and for the Jupyter notebook server.\n",
    "\n",
    "You should then be able to connect to the [UCL notebook server](https://jupyter.data-science.rc.ucl.ac.uk/).\n"
   ]
  },
  {
   "cell_type": "markdown",
   "metadata": {},
   "source": [
    "## Use of Notebooks\n",
    "\n",
    "We recommend that you use the 'traditional' Jupyter notebooks for this course, rather than Jupyter Lab. Both are viable options, but the notebooks, in the folder `notebooks` have features that will not work properly in Jupyter Lab. In essence, if you use the notebooks in the folder `notebooks` Jupyter Lab, the exercise answers will be exposed to you as you go through the notes, whereas they should be hidden. For example:"
   ]
  },
  {
   "cell_type": "markdown",
   "metadata": {
    "solution2": "hidden",
    "solution2_first": true
   },
   "source": [
    "#### Exercise 1\n",
    " This is a test exercise"
   ]
  },
  {
   "cell_type": "code",
   "execution_count": 1,
   "metadata": {
    "solution2": "hidden"
   },
   "outputs": [],
   "source": [
    "# and this is a test answer"
   ]
  },
  {
   "cell_type": "markdown",
   "metadata": {},
   "source": [
    "In notebooks, there will be a green button that you have to press to reveal the answer, but in Jupyter Lab, the answer will be directly on show. "
   ]
  },
  {
   "cell_type": "markdown",
   "metadata": {},
   "source": [
    "## Notebooks"
   ]
  },
  {
   "cell_type": "markdown",
   "metadata": {},
   "source": [
    "    \n",
    "### Cells\n",
    "    \n",
    "The notebook is made up of a series of [cells](https://jupyter-notebook.readthedocs.io/en/stable/notebook.html#:~:text=A%20cell%20is%20a%20multiline,markdown%20cells%2C%20and%20raw%20cells). Some cells, such as the one this is written in, are 'text' cells, where we format the text in a language called [markdown](https://jupyter-notebook.readthedocs.io/en/stable/examples/Notebook/Working%20With%20Markdown%20Cells.html)."
   ]
  },
  {
   "cell_type": "code",
   "execution_count": 2,
   "metadata": {},
   "outputs": [],
   "source": [
    "# a code cell with a line that starts # so this text is a comment"
   ]
  },
  {
   "cell_type": "markdown",
   "metadata": {},
   "source": [
    "This is a markdown cell"
   ]
  },
  {
   "cell_type": "code",
   "execution_count": 3,
   "metadata": {},
   "outputs": [
    {
     "name": "stdout",
     "output_type": "stream",
     "text": [
      "001_Notebook_use.ipynb\r\n"
     ]
    }
   ],
   "source": [
    "# this is a code cell we will use to run the unix\n",
    "# operating system cmd 'ls'\n",
    "# The call to the operating is invoked by the '!'\n",
    "\n",
    "!ls 001_Notebook_use.ipynb"
   ]
  },
  {
   "cell_type": "markdown",
   "metadata": {},
   "source": [
    "Take a few minutes to explore the **notebook menu** (up where it says `File`, `Edit`, `View`, `Insert` etc.) and note how to do things like:\n",
    "\n",
    "* save the notebook\n",
    "* save the notebook with a checkpoint: useful for exercises, as you can go back to previous versions!\n",
    "* make a copy of the notebook and rename it\n",
    "* download the notebook as a pdf\n",
    "* restart the kernel (the 'engine' running this notebook)\n",
    "* restart the kernel and clear output"
   ]
  },
  {
   "cell_type": "markdown",
   "metadata": {
    "solution2": "hidden",
    "solution2_first": true
   },
   "source": [
    "#### Exercise 1\n",
    "\n",
    "We can add new cells to this document via the `Insert -> Insert Cell Below` menu in the menu bar at the top of this document.\n",
    "\n",
    "Notice that you can double click on a cell to edit its contents.\n",
    "\n",
    "Add a cell now, below, and use the `Cell -> Cell Type` menu to make this cell type `markdown`. Add some text in there ... lyrics from your favourite song, whatever you like ...\n"
   ]
  },
  {
   "cell_type": "markdown",
   "metadata": {
    "solution2": "hidden"
   },
   "source": [
    "    \n",
    "The markdown will be text, something like:\n",
    "    \n",
    "    This is a markdown cell ...\n",
    "\n",
    "    Hello world is traditionally the first coding you do.\n",
    "    \n",
    "to produce:"
   ]
  },
  {
   "cell_type": "markdown",
   "metadata": {
    "solution2": "hidden"
   },
   "source": [
    "This is a markdown cell ...\n",
    "\n",
    "Hello world is traditionally the first coding you do."
   ]
  },
  {
   "cell_type": "markdown",
   "metadata": {
    "solution2": "hidden",
    "solution2_first": true
   },
   "source": [
    "#### Exercise 2\n",
    "\n",
    "\n",
    "Add another cell now, below, and use the Cell -> Cell Type menu to make this cell type markdown. \n",
    "\n",
    "Read up on the [features of markdown](https://github.com/adam-p/markdown-here/wiki/Markdown-Cheatsheet), and this time, include one or more of the following in your cell:\n",
    "\n",
    "* a heading\n",
    "* a sub-heading\n",
    "* and equation\n",
    "* links to a web page\n",
    "* a table\n",
    "* a image\n",
    "* some html"
   ]
  },
  {
   "cell_type": "markdown",
   "metadata": {
    "solution2": "hidden"
   },
   "source": [
    "Use:\n",
    "\n",
    "        # Main Heading\n",
    "\n",
    "for a heading called 'Main Heading'\n",
    "\n",
    "Use:\n",
    "\n",
    "        ## equation\n",
    "\n",
    "For a sub-heading called 'equation' etc\n",
    "\n",
    "Equations are of the form:\n",
    "\n",
    "For example:\n",
    "\n",
    "        \\begin{equation*}\n",
    "        \\left( \\sum_{k=1}^n a_k b_k \\right)^2 \\leq \\left( \\sum_{k=1}^n a_k^2 \\right) \\left( \\sum_{k=1}^n b_k^2 \\right)\n",
    "        \\end{equation*}\n",
    "\n",
    "A link is specified for link text in square brackets, followed by the the link URL in round brackets. For example:\n",
    "\n",
    "        [click me and I will pop up a google search window](https://www.google.com)\n",
    "\n",
    "\n",
    "A table  is formatted in columns defined by `|`. The first line of the table gives headings (e.g. `| a | b | `).  The second defines alignment (e.g. `|:-:|-|`). The rest if data columns separated by `|`. An example is:\n",
    "\n",
    "        | a | b | c | d | e |\n",
    "        |:-:|:-:|:-:|:-:|-|\n",
    "        | 🙈 | 💥 | 🦧 | 🐇 | 🐪 |\n",
    "        | f | g | h | i | j |\n",
    "        | 🙈 | 💥 | 🦧 | 🐇 | 🐪 |\n",
    "\n",
    "An image is similar syntax to a link, but with `!` in front. The text in the square bracket is `alt` text, and the link in round brackets points to the image, as a file or URL.\n",
    "\n",
    "        ![ucl logo](images/ucl_logo.png)\n",
    "\n",
    "\n",
    "You can enter blocks of HTML code, such as:\n",
    "\n",
    "        <html>\n",
    "        <body>\n",
    "        <h2>HTML</h2>\n",
    "\n",
    "        <p>Hey, I'm a paragraph!</p>\n",
    "\n",
    "\n",
    "        </body>\n",
    "        </html>"
   ]
  },
  {
   "cell_type": "markdown",
   "metadata": {
    "solution2": "hidden"
   },
   "source": [
    "\n",
    "\\begin{equation*}\n",
    "\\left( \\sum_{k=1}^n a_k b_k \\right)^2 \\leq \\left( \\sum_{k=1}^n a_k^2 \\right) \\left( \\sum_{k=1}^n b_k^2 \\right)\n",
    "\\end{equation*}\n",
    "\n",
    "\n",
    "[click me and I will pop up a google search window](https://www.google.com)\n",
    "\n",
    "\n",
    "| a | b | c | d | e |\n",
    "|:-:|:-:|:-:|:-:|-|\n",
    "| 🙈 | 💥 | 🦧 | 🐇 | 🐪 |\n",
    "| f | g | h | i | j |\n",
    "| 🙈 | 💥 | 🦧 | 🐇 | 🐪 |\n",
    "\n",
    "\n",
    "![ucl logo](images/ucl_logo.png)\n",
    "\n",
    "\n",
    "<html>\n",
    "<body>\n",
    "<h2>HTML</h2>\n",
    "\n",
    "<p>Hey, I'm a paragraph!</p>\n",
    "\n",
    "\n",
    "</body>\n",
    "</html>"
   ]
  },
  {
   "cell_type": "markdown",
   "metadata": {},
   "source": [
    "## Coding\n",
    "\n",
    "\n",
    "###  hello world\n",
    "\n",
    "Next, let's try a code cell below and do our first python coding. You should notice that it indicates this in the cell type box on the menu.\n",
    "\n",
    "We will use the method `print()` to print out a `string` (a list of characters) called `first_string`.\n",
    "\n",
    "We *execute* ('run') the code in the cell, either with the `>| Run` button above, or by pressing the `SHIFT RETURN` keys at the same time. "
   ]
  },
  {
   "cell_type": "code",
   "execution_count": 4,
   "metadata": {},
   "outputs": [
    {
     "name": "stdout",
     "output_type": "stream",
     "text": [
      "hello world\n"
     ]
    }
   ],
   "source": [
    "# comment with a hash\n",
    "\n",
    "# set a string variable\n",
    "first_string = \"hello world\"\n",
    "\n",
    "# print this\n",
    "print(first_string)"
   ]
  },
  {
   "cell_type": "markdown",
   "metadata": {},
   "source": [
    "The type of cell we use is `Code` (rather than `Markdown` above).\n",
    "\n",
    "Remember that we *execute* ('run') the code in the cell, either with the `>| Run` button above, or by pressing the `SHIFT RETURN` keys at the same time. \n",
    "\n",
    "Try that out, running the code cell above.\n",
    "\n"
   ]
  },
  {
   "cell_type": "markdown",
   "metadata": {
    "solution2": "hidden",
    "solution2_first": true
   },
   "source": [
    "#### Exercise 3\n",
    "\n",
    "Now:\n",
    "\n",
    "* create a code cell below\n",
    "* create a string called `second_string` with the text `hello again`\n",
    "* call the `print()` method with this as an [argument](https://en.wikipedia.org/wiki/Parameter_(computer_programming))\n",
    "* run the cell "
   ]
  },
  {
   "cell_type": "code",
   "execution_count": 5,
   "metadata": {
    "solution2": "hidden"
   },
   "outputs": [
    {
     "name": "stdout",
     "output_type": "stream",
     "text": [
      "hello again\n"
     ]
    }
   ],
   "source": [
    "# ANSWER\n",
    "# create a code cell below\n",
    "# create a string called `second_string` with the text `hello again`\n",
    "\n",
    "second_string = 'hello again'\n",
    "\n",
    "# call the `print()` method with this as an argument\n",
    "print(second_string)\n",
    "\n",
    "# run the cell "
   ]
  },
  {
   "cell_type": "markdown",
   "metadata": {
    "solution2": "hidden",
    "solution2_first": true
   },
   "source": [
    "#### Exercise 4\n",
    "\n",
    "* create a code cell below\n",
    "* print the values of `first_string` and `second_string`  that we created above. \n",
    "* what does that tell you about information we create in one cell and try to use in another?"
   ]
  },
  {
   "cell_type": "code",
   "execution_count": 6,
   "metadata": {
    "solution2": "hidden"
   },
   "outputs": [
    {
     "name": "stdout",
     "output_type": "stream",
     "text": [
      "hello world\n",
      "hello again\n",
      "hello world hello again\n"
     ]
    }
   ],
   "source": [
    "# ANSWER\n",
    "# create a code cell below\n",
    "# print the values of first_string and second_string that we created above.\n",
    "\n",
    "print(first_string)\n",
    "print(second_string)\n",
    "\n",
    "# or\n",
    "\n",
    "print(first_string,second_string)\n",
    "\n",
    "# what does that tell you about information we create in one cell and try to use in another?\n",
    "# \n",
    "# It tells us that the informnation is persistent, i.e. once we have created the \n",
    "# variables, we can use them in running any cells later."
   ]
  },
  {
   "cell_type": "markdown",
   "metadata": {
    "solution2": "hidden",
    "solution2_first": true
   },
   "source": [
    "#### Exercise 5\n",
    "\n",
    "* create a code cell below\n",
    "* try to print a variable `third_string` (that you haven't yet created)\n",
    "* run the cell\n",
    "* what does this tell you about trying to print variables we haven't created?"
   ]
  },
  {
   "cell_type": "code",
   "execution_count": 7,
   "metadata": {
    "solution2": "hidden"
   },
   "outputs": [
    {
     "name": "stdout",
     "output_type": "stream",
     "text": [
      "\n",
      "The first time we run it, it comes up with an error\n",
      "NameError: name 'third_string' is not defined\n",
      "telling us that we have tried to access a variable name that\n",
      "we have not yet defined. Be aware of this type of error.\n",
      "\n",
      "what does that tell you about trying to print variables we haven't created?\n",
      "\n",
      "if we try to use a variable before we create it, the code will fail and throw\n",
      "an error. This is useful information: learn to read the errors and understand what\n",
      "it is telling you. \n",
      "\n"
     ]
    },
    {
     "ename": "NameError",
     "evalue": "name 'third_string' is not defined",
     "output_type": "error",
     "traceback": [
      "\u001b[0;31m---------------------------------------------------------------------------\u001b[0m",
      "\u001b[0;31mNameError\u001b[0m                                 Traceback (most recent call last)",
      "\u001b[0;32m/var/folders/p6/pjj7dk1j5hq9y5jw_z8qwg0w0000gp/T/ipykernel_39143/758698420.py\u001b[0m in \u001b[0;36m<module>\u001b[0;34m\u001b[0m\n\u001b[1;32m     18\u001b[0m \u001b[0;34m\u001b[0m\u001b[0m\n\u001b[1;32m     19\u001b[0m \u001b[0;31m# try to print a variable `third_string` that you haven't yet created\u001b[0m\u001b[0;34m\u001b[0m\u001b[0;34m\u001b[0m\u001b[0;34m\u001b[0m\u001b[0m\n\u001b[0;32m---> 20\u001b[0;31m \u001b[0mprint\u001b[0m\u001b[0;34m(\u001b[0m\u001b[0mthird_string\u001b[0m\u001b[0;34m)\u001b[0m\u001b[0;34m\u001b[0m\u001b[0;34m\u001b[0m\u001b[0m\n\u001b[0m",
      "\u001b[0;31mNameError\u001b[0m: name 'third_string' is not defined"
     ]
    }
   ],
   "source": [
    "# ANSWER\n",
    "# create a code cell below\n",
    "\n",
    "msg='''\n",
    "The first time we run it, it comes up with an error\n",
    "NameError: name 'third_string' is not defined\n",
    "telling us that we have tried to access a variable name that\n",
    "we have not yet defined. Be aware of this type of error.\n",
    "\n",
    "what does that tell you about trying to print variables we haven't created?\n",
    "\n",
    "if we try to use a variable before we create it, the code will fail and throw\n",
    "an error. This is useful information: learn to read the errors and understand what\n",
    "it is telling you. \n",
    "'''\n",
    "print(msg)\n",
    "\n",
    "\n",
    "# try to print a variable `third_string` that you haven't yet created\n",
    "print(third_string)"
   ]
  },
  {
   "cell_type": "markdown",
   "metadata": {
    "solution2": "hidden",
    "solution2_first": true
   },
   "source": [
    "#### Exercise 6\n",
    "\n",
    "* create a code cell below\n",
    "* *now* create a string called `third_string` with the text `hello once more`\n",
    "* run the cell, then the **cell above**\n",
    "* what does that tell you about information we create in one cell and try to use in another above?"
   ]
  },
  {
   "cell_type": "code",
   "execution_count": null,
   "metadata": {
    "solution2": "hidden"
   },
   "outputs": [],
   "source": [
    "# ANSWER\n",
    "# create a code cell below\n",
    "# now create a string called third_string with the text hello once more\n",
    "third_string = 'hello once more'\n",
    "\n",
    "# run the cell above\n",
    "# same as ...\n",
    "print(third_string)\n",
    "\n",
    "msg = '''\n",
    "what does that tell you about information we create in one cell and \n",
    "try to use in another above?\n",
    "\n",
    "we can run cells in any order. Once we had created third_string, the \n",
    "previous exercise print(third_string) executed as we expected.\n",
    "The *Danger* is that the next time we run this notebook in cell order\n",
    "the cell above will fail again. Learn from the mistakes we make.\n",
    "Remember what this type of error can mean.\n",
    "'''\n",
    "print(msg)"
   ]
  },
  {
   "cell_type": "markdown",
   "metadata": {},
   "source": [
    "## Summary\n",
    "\n",
    "This notebook has introduced you to using jupyter notebooks.\n",
    "\n",
    "To make sure you understand it all, it is worthwhile restarting the kernel with cleared output (`Kernel -> Restart & Clear Output`) and running it all again. Once you are happy with that, you might try (`Kernel -> Restart & Run All`).\n",
    "\n",
    "We have explored the notebook menu, and seen how to run cells, create new cells, and change the cell type to something appropriate (`Markdown` or `Code` here). \n",
    "\n",
    "We have seen how to set a string variable and print the value of that variable. \n",
    "\n",
    "We have noticed that variables are persistent between cells, so if we define a variable in one cell, we can use it *later on*. We have seen that if we try to access a variable before we have declared it, it will throw a `NameError`, telling us this. Having seen this type of error once, and understanding why it occurred should prepare us for the next time we see one similar.\n",
    "\n",
    "We have seen one of the *dangers* of a notebook: it allows you to go back and forth running cells. This can lead to confusion, as the next time you run the same notebook in cell order, you may not get the same result! It is one of the most common mistakes for a beginner to make, so be aware of this, and try to always run the cells in the same order. **You can test for this type of error by restarting the kernel, clearing the output, and running all cells.**\n",
    "\n",
    "We have written our very first `python` codes!\n",
    "\n",
    "### You should know how to use jupyter notebooks to:\n",
    "\n",
    "* save a notebook\n",
    "* copy/rename a notebook\n",
    "* download a notebook as a pdf\n",
    "* restart and clear the note book kernel\n",
    "* create a markdown cell\n",
    "* enter some text and other features in a markdown cell (links, tables, html etc.)\n",
    "* create a code cell\n",
    "* write comments in a code cell\n",
    "* set and print string variables in Python in a code cell\n",
    "\n",
    "If you are unsure of any of these, then try going over the material again, explore other resources you may find, and/or come to the Thursday help sessions and ask for help."
   ]
  },
  {
   "cell_type": "markdown",
   "metadata": {},
   "source": [
    "[<img src=\"images/noun_post_2109127.svg\" width=\"50\" align='right'>](002_Unix.ipynb)\n",
    "\n"
   ]
  }
 ],
 "metadata": {
  "gist": {
   "data": {
    "description": "Chapter0_help.ipynb",
    "public": true
   },
   "id": ""
  },
  "hide_input": false,
  "kernelspec": {
   "display_name": "conda env:geog0111-geog0111",
   "language": "python",
   "name": "conda-env-geog0111-geog0111-py"
  },
  "language_info": {
   "codemirror_mode": {
    "name": "ipython",
    "version": 3
   },
   "file_extension": ".py",
   "mimetype": "text/x-python",
   "name": "python",
   "nbconvert_exporter": "python",
   "pygments_lexer": "ipython3",
   "version": "3.7.13"
  },
  "latex_envs": {
   "LaTeX_envs_menu_present": true,
   "autocomplete": true,
   "bibliofile": "biblio.bib",
   "cite_by": "apalike",
   "current_citInitial": 1,
   "eqLabelWithNumbers": true,
   "eqNumInitial": 1,
   "hotkeys": {
    "equation": "Ctrl-E",
    "itemize": "Ctrl-I"
   },
   "labels_anchors": false,
   "latex_user_defs": false,
   "report_style_numbering": false,
   "user_envs_cfg": false
  },
  "toc": {
   "base_numbering": "1.1",
   "nav_menu": {},
   "number_sections": false,
   "sideBar": true,
   "skip_h1_title": false,
   "title_cell": "Table of Contents",
   "title_sidebar": "Contents",
   "toc_cell": false,
   "toc_position": {
    "height": "calc(100% - 180px)",
    "left": "10px",
    "top": "150px",
    "width": "207px"
   },
   "toc_section_display": true,
   "toc_window_display": false
  },
  "varInspector": {
   "cols": {
    "lenName": 16,
    "lenType": 16,
    "lenVar": 40
   },
   "kernels_config": {
    "python": {
     "delete_cmd_postfix": "",
     "delete_cmd_prefix": "del ",
     "library": "var_list.py",
     "varRefreshCmd": "print(var_dic_list())"
    },
    "r": {
     "delete_cmd_postfix": ") ",
     "delete_cmd_prefix": "rm(",
     "library": "var_list.r",
     "varRefreshCmd": "cat(var_dic_list()) "
    }
   },
   "position": {
    "height": "247px",
    "left": "696px",
    "right": "20px",
    "top": "120px",
    "width": "335px"
   },
   "types_to_exclude": [
    "module",
    "function",
    "builtin_function_or_method",
    "instance",
    "_Feature"
   ],
   "window_display": false
  }
 },
 "nbformat": 4,
 "nbformat_minor": 4
}
