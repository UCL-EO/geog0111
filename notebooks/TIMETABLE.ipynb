{
 "cells": [
  {
   "cell_type": "markdown",
   "metadata": {},
   "source": [
    "GEOG0111 Timetable \n",
    "\n",
    "\n",
    "| Course Week\t|  Topic\t|  |  | \t| || Assessment |\n",
    "|-\t|-\t|-\t|-\t|-\t|-\t|-\t|- |\n",
    "|  1\t|  **Course basics**\t|  [Notebook use](001_Notebook_use.ipynb)\t|  [Unix](002_Unix.ipynb)\t|  [Help](003_Help.ipynb)\t| [Accounts](004_Accounts.ipynb) | [Packages](005_Packages.ipynb)| \n",
    "|\t| | | [![Unix](images/icon.png)](https://web.microsoftstream.com/video/8b1894c1-83ad-4194-aaf3-999647c8e269)|[![Help](images/icon.png)](https://web.microsoftstream.com/video/85e92a30-45e0-4214-a3d6-25882cd479ec)|[![Accounts](images/icon.png)](https://web.microsoftstream.com/video/b836e3e2-cccc-431c-be71-c394ede23288)| [![Packages](images/icon.png)](https://web.microsoftstream.com/video/1cdd4f09-036d-45b3-88a9-451c8c1ddef0)\n",
    "|  2\t|  **Python** \t| [Python Introduction](010_Python_Introduction.ipynb)\t| [Data Types](011_Python_data_types.ipynb) \t|  [Strings](012_Python_strings.ipynb)\t| [String methods](013_Python_string_methods.ipynb) | [Groups](014_Python_groups.ipynb) |[Lists and dictionaries](060_Groups.ipynb)|\n",
    "|\t| |[![Python Introduction](images/icon.png)](https://web.microsoftstream.com/video/ada31325-4f42-4d6e-bd4e-69d980ccdc6e) | [![Data Types](images/icon.png)](https://web.microsoftstream.com/video/484a82d4-0159-41f5-a088-8079f511c449)|[![Strings](images/icon.png)](https://web.microsoftstream.com/video/5395e966-9d6b-4ae7-9495-bc6af514b84c)|[![String methods](images/icon.png)](https://web.microsoftstream.com/video/15c2b8a1-ee07-4b51-972f-9902b31ff7fd)| [![Groups](images/icon.png)](https://web.microsoftstream.com/video/b4e0005a-866a-4d56-bfcb-4373121979a3)\n",
    "|  3\t|  **Control**\t| [Control in Python](015_Python_control.ipynb) \t| [For loop](016_Python_for.ipynb) \t| [Functions](017_Functions.ipynb) \t| [Scripts](018_Running_Python.ipynb) | | [Python script](061_Script.ipynb)|\n",
    "|\t| |[![Control in Python](images/icon.png)](https://web.microsoftstream.com/video/bca9c0f5-93f3-4e0e-9514-afbfb7636467) | [![For loop](images/icon.png)](https://web.microsoftstream.com/video/20bac8b4-2aa7-442b-bdbc-7f1e247102c1)|[![Function](images/icon.png)](https://web.microsoftstream.com/video/16fdbf94-2ae9-4679-8693-7ae8d47dd949)|[![Scripts](images/icon.png)](https://web.microsoftstream.com/video/087a1c32-9bd4-4a45-a481-826cb1f39279)\n",
    "|  4\t| **Files** \t|  [Files](020_Python_files.ipynb)\t|  \t[URLs](021_URLs.ipynb)| [Pandas](022_Pandas.ipynb) \t|\n",
    "|  5\t| **Graphics** \t|  [Plotting](023_Plotting.ipynb)\t|  [Image display](024_Image_display.ipynb)\t|  \t| | |[Part 1](Geog0111_Part1.pdf) [Code advice](063_Part1_code.ipynb)|\n",
    "|  *Reading Week*\t|  \t|  \t|  \t|  \t|\n",
    "|  6\t|**Data** \t|  [NASA MODIS](030_NASA_MODIS_Earthdata.ipynb)\t|  [numpy](031_Numpy.ipynb)\t|  [more numpy](032_More_numpy.ipynb)\t| || [Numpy exercise](064_Numpy.ipynb)|\n",
    "|  7\t|  **Space and time**\t| [Mosaicing](040_GDAL_mosaicing_and_masking.ipynb) \t|  [Timeseries](041_GDAL_timeseries.ipynb)\t|  \t|\n",
    "|  8\t| **Regularisation** \t|  [Smoothing theory](042_Weighted_smoothing_and_interpolation.ipynb)\t| [Smoothing and interpolation](043_Weighted_interpolation.ipynb) \t|  \t| |  |[LAI](065_LAI.ipynb)|\n",
    "|\t| |[![Smoothing theory](images/icon.png)](https://web.microsoftstream.com/video/143428cb-d1f2-48bd-b064-d15c224025a4) | \n",
    "|  9\t|  **Parameter estimation**\t| [Models and inversion](050_Models.ipynb) \t|   [Phenology model](051_Phenology_model.ipynb) \t|  \t|\n",
    "|  10\t|  **Recap**\t|  [Summary](070_Summary.ipynb)|  \t|  \t|| | [Part 2](Geog0111_Part2.pdf)|\n",
    "\n",
    "\n",
    "Note that [Part 1](Geog0111_Part1.pdf) and [Part 2](Geog0111_Part2.pdf) are the formal assessments for the course. [Part 1](Geog0111_Part1.pdf) should be submitted the Monday after Reading week. [Part 2](Geog0111_Part2.pdf) should be submitted in the first week of Term 2. Please read [Code advice](063_Part1_code.ipynb) before subitting work.\n"
   ]
  }
 ],
 "metadata": {
  "kernelspec": {
   "display_name": "conda env:geog0111-geog0111",
   "language": "python",
   "name": "conda-env-geog0111-geog0111-py"
  },
  "language_info": {
   "codemirror_mode": {
    "name": "ipython",
    "version": 3
   },
   "file_extension": ".py",
   "mimetype": "text/x-python",
   "name": "python",
   "nbconvert_exporter": "python",
   "pygments_lexer": "ipython3",
   "version": "3.7.13"
  }
 },
 "nbformat": 4,
 "nbformat_minor": 4
}
