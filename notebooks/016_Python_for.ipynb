{
 "cells": [
  {
   "cell_type": "markdown",
   "metadata": {},
   "source": [
    "<img alt='UCL' src=\"images/ucl_logo.png\" align='center'>\n",
    "\n",
    "\n",
    "[<img src=\"images/noun_post_2109127.svg\" width=\"50\" align='right'>](017_Functions.ipynb)\n",
    "[<img src=\"images/noun_pre_2109128.svg\" width=\"50\" align='right'>](015_Python_control.ipynb)\n",
    "\n"
   ]
  },
  {
   "cell_type": "markdown",
   "metadata": {},
   "source": [
    "# 016 More control in Python: `for`"
   ]
  },
  {
   "cell_type": "markdown",
   "metadata": {},
   "source": [
    "## Introduction\n",
    "\n",
    "### Purpose\n",
    "\n",
    "In this section we will learn how to add more control to our code by using loops. We will mainly be using the `for` statements for this. We will also learn about the use of `assert` statements to check our code is operating as intended.\n",
    "\n",
    "### Prerequisites\n",
    "\n",
    "You will need some understanding of the following:\n",
    "\n",
    "\n",
    "* [001 Using Notebooks](001_Notebook_use.ipynb)\n",
    "* [003 Getting help](003_Help.ipynb)\n",
    "* [010 Variables, comments and print()](010_Python_Introduction.ipynb)\n",
    "* [011 Data types](011_Python_data_types.ipynb) \n",
    "* [012 String formatting](012_Python_strings.ipynb)\n",
    "* [013_Python_string_methods](013_Python_string_methods.ipynb)\n",
    "* [014_Python_groups](014_Python_groups.ipynb)\n",
    "* [015_Python_control](015_Python_control.ipynb)\n"
   ]
  },
  {
   "cell_type": "markdown",
   "metadata": {},
   "source": [
    "## Looping with `for`"
   ]
  },
  {
   "cell_type": "markdown",
   "metadata": {},
   "source": [
    "### `for ... in ...`\n",
    "\n",
    "Very commonly, we need to iterate or 'loop' over some set of items.\n",
    "\n",
    "The basic stucture for doing this (in Python, and many other languages) is `for item in group:`, where `item` is the name of some variable and `group` is a set of values. \n",
    "\n",
    "The loop is run so that `item` takes on the first value in `group`, then the second, etc. Notice in the code below that the expressions inside the loop use indentation to indicate the loop. As when we discussed indentation in `if` statements, be careful to align your statements or the code will fail."
   ]
  },
  {
   "cell_type": "code",
   "execution_count": 1,
   "metadata": {},
   "outputs": [
    {
     "name": "stdout",
     "output_type": "stream",
     "text": [
      "4\n",
      "3\n",
      "2\n",
      "1\n",
      "blast off!\n"
     ]
    }
   ],
   "source": [
    "'''\n",
    "for loop\n",
    "'''\n",
    "\n",
    "group = [4,3,2,1]\n",
    "\n",
    "for item in group:\n",
    "    # print item in loop\n",
    "    print(item)\n",
    "    \n",
    "print ('blast off!')"
   ]
  },
  {
   "cell_type": "markdown",
   "metadata": {},
   "source": [
    "The `group` in this example is the list of integer numbers `[4,3,2,1]`. A `list` is a group of comma-separated items contained in square brackets `[]` as we have seen before.\n",
    "\n",
    "In Python, the statement(s) we run whilst looping (here `print(item)`) are *indented*. \n",
    "\n",
    "The indent can be one or more spaces, the choice is up to the programmer. You can use `<tab>` but should probably avoid it. Whatever you use, it **must be consistent**. We suggest you use 4 spaces."
   ]
  },
  {
   "cell_type": "markdown",
   "metadata": {},
   "source": [
    "It is important to note the difference between the code above and:"
   ]
  },
  {
   "cell_type": "code",
   "execution_count": 2,
   "metadata": {},
   "outputs": [
    {
     "name": "stdout",
     "output_type": "stream",
     "text": [
      "4\n",
      "blast off!\n",
      "3\n",
      "blast off!\n",
      "2\n",
      "blast off!\n",
      "1\n",
      "blast off!\n"
     ]
    }
   ],
   "source": [
    "'''\n",
    "for loop\n",
    "'''\n",
    "\n",
    "group = [4,3,2,1]\n",
    "\n",
    "for item in group:\n",
    "    # print item in loop\n",
    "    print(item)\n",
    "    print ('blast off!')"
   ]
  },
  {
   "cell_type": "markdown",
   "metadata": {},
   "source": [
    "In the second case, we have the `print ('blast off!')` statement inside the loop as it is indented. So it is executed each time we are in the loop. In the first case, it is outside the loop and is only run once the loop is completed."
   ]
  },
  {
   "cell_type": "markdown",
   "metadata": {
    "solution2": "hidden",
    "solution2_first": true
   },
   "source": [
    "#### Exercise 1\n",
    "\n",
    "* generate a list of strings called `group` with the names of (some of) the items in your pocket or bag (or make some up!)\n",
    "* set up a `for` loop with `group`, setting the variable `item`\n",
    "* within the loop, print each value of item in turn\n",
    "* at the end of the loop, print `I'm done`"
   ]
  },
  {
   "cell_type": "code",
   "execution_count": 3,
   "metadata": {
    "solution2": "hidden"
   },
   "outputs": [
    {
     "name": "stdout",
     "output_type": "stream",
     "text": [
      "keys\n",
      "hat\n",
      "💄\n",
      "🌴\n",
      "I'm done\n"
     ]
    }
   ],
   "source": [
    "'''\n",
    "# ANSWER \n",
    "\n",
    "for loop\n",
    "'''\n",
    "# generate a list of strings called `group` with the names \n",
    "# of (some of) the items in your pocket or bag (or make some up!)\n",
    "group = ['keys','hat','💄','🌴']\n",
    "\n",
    "# set up a `for` loop with `group`, \n",
    "# setting the variable `item`\n",
    "for item in group:\n",
    "    # within the loop, print \n",
    "    # each value of item in turn\n",
    "    print(item)\n",
    "    \n",
    "# at the end of the loop, print done\n",
    "# note the quote types\n",
    "print(\"I'm done\")"
   ]
  },
  {
   "cell_type": "markdown",
   "metadata": {},
   "source": [
    "Quite often, we want to keep track of the 'index' of the item in the loop (the 'item number').\n",
    "\n",
    "One way to do this would be to use a variable (called `count` here).\n",
    "\n",
    "Before we enter the loop, we initialise the `count` to zero. Then, within the loop, we would need to increment `count` b y one each time (i.e. add `1` to `count`):"
   ]
  },
  {
   "cell_type": "code",
   "execution_count": 4,
   "metadata": {},
   "outputs": [
    {
     "name": "stdout",
     "output_type": "stream",
     "text": [
      "count: 0 : cat\n",
      "count: 1 : fish\n",
      "count: 2 : 🦄\n",
      "count: 3 : house\n"
     ]
    }
   ],
   "source": [
    "'''\n",
    "for loop with enumeration\n",
    "'''\n",
    "\n",
    "group = ['cat', 'fish', '🦄', 'house']\n",
    "\n",
    "# Before we enter the loop, we initialise the `count` to zero.\n",
    "count = 0\n",
    "\n",
    "for item in group:\n",
    "    # print the count value and item\n",
    "    print(f'count: {count} : {item}')\n",
    "    # increment count by 1\n",
    "    count += 1\n"
   ]
  },
  {
   "cell_type": "markdown",
   "metadata": {
    "solution2": "hidden",
    "solution2_first": true
   },
   "source": [
    "#### Exercise 2\n",
    "\n",
    "* copy the code above\n",
    "* check to see if the value of `count` at the end of the loop is the same as the length of the list. \n",
    "* Why should this be so?"
   ]
  },
  {
   "cell_type": "code",
   "execution_count": 5,
   "metadata": {
    "solution2": "hidden"
   },
   "outputs": [
    {
     "name": "stdout",
     "output_type": "stream",
     "text": [
      "count: 0 : cat\n",
      "count: 1 : fish\n",
      "count: 2 : 🦄\n",
      "count: 3 : house\n",
      "----------\n",
      "count is now 4\n",
      "the length of the list group is 4\n",
      "\n",
      "    Why should this be so?\n",
      "\n",
      "    There are 4 items in the list group.\n",
      "    We initially set count to be 0, then add 1 to it\n",
      "    after we print each item in the for loop. So, after the \n",
      "    first item, it is 1, then 2 etc.\n",
      "\n",
      "    At the end of all 4 items, count will then be 4, the length\n",
      "    of the list we looped over\n",
      "\n"
     ]
    }
   ],
   "source": [
    "'''\n",
    "# ANSWER\n",
    "\n",
    "for loop with enumeration\n",
    "'''\n",
    "\n",
    "# copy the code above\n",
    "group = ['cat', 'fish', '🦄', 'house']\n",
    "\n",
    "# Before we enter the loop, we initialise the `count` to zero.\n",
    "count = 0\n",
    "\n",
    "for item in group:\n",
    "    # print the count value and item\n",
    "    print(f'count: {count} : {item}')\n",
    "    # increment count by 1\n",
    "    count += 1\n",
    "\n",
    "# check to see if the value of `count` at the end \n",
    "# of the loop is the same as the length of the list. \n",
    "print('-'*10)\n",
    "print(f'count is now {count}')\n",
    "print(f'the length of the list group is {len(group)}')\n",
    "\n",
    "msg = '''\n",
    "    Why should this be so?\n",
    "\n",
    "    There are 4 items in the list group.\n",
    "    We initially set count to be 0, then add 1 to it\n",
    "    after we print each item in the for loop. So, after the \n",
    "    first item, it is 1, then 2 etc.\n",
    "\n",
    "    At the end of all 4 items, count will then be 4, the length\n",
    "    of the list we looped over\n",
    "'''\n",
    "print(msg)"
   ]
  },
  {
   "cell_type": "markdown",
   "metadata": {},
   "source": [
    "## `range()`\n",
    "\n",
    "If we want to use in index to count explicitly, we can use the `range()` function. The arguments of this are `(stop)`,  `(start,stop)` or `(start,stop,step)`. If not sepcified, the default values os `start` is `0`, and `step`, `1`, so `range(10)` is equivalent to `range(0,10,1)`.\n",
    "\n",
    "The function returns an object similar to a `list` type, but known as an iterator. An iterator can be thought of as a list that returns a single item at a time. We generally use them in a for loop or similar structure. The iterator returns integers starting at `start`, up to (but not including) `stop`, in steps of `step`. \n",
    "\n",
    "For example:\n"
   ]
  },
  {
   "cell_type": "code",
   "execution_count": 6,
   "metadata": {},
   "outputs": [
    {
     "name": "stdout",
     "output_type": "stream",
     "text": [
      "0\n",
      "1\n",
      "2\n",
      "3\n",
      "4\n",
      "5\n"
     ]
    }
   ],
   "source": [
    "# (0,6,1) -> 0 to 6 (but not 6) in steps of 1\n",
    "for i in range(6):\n",
    "    print(i)"
   ]
  },
  {
   "cell_type": "code",
   "execution_count": 7,
   "metadata": {},
   "outputs": [
    {
     "name": "stdout",
     "output_type": "stream",
     "text": [
      "2\n",
      "4\n",
      "6\n",
      "8\n"
     ]
    }
   ],
   "source": [
    "# (2,10,2) -> 0 to 10 (but not 10) in steps of 2\n",
    "for i in range(2,10,2):\n",
    "    print(i)"
   ]
  },
  {
   "cell_type": "markdown",
   "metadata": {
    "solution2": "hidden",
    "solution2_first": true
   },
   "source": [
    "#### Exercise 3\n",
    "\n",
    "* use `range()` to print numbers counting down from 10 to 1 (**inclusive**)\n",
    "* include comments to explain your answer"
   ]
  },
  {
   "cell_type": "code",
   "execution_count": 8,
   "metadata": {
    "solution2": "hidden"
   },
   "outputs": [
    {
     "name": "stdout",
     "output_type": "stream",
     "text": [
      "10\n",
      "9\n",
      "8\n",
      "7\n",
      "6\n",
      "5\n",
      "4\n",
      "3\n",
      "2\n",
      "1\n",
      "\n",
      "from the instructions, it is clear that start is 10\n",
      "end should be 0, since the count is only up to (but not including) \n",
      "this value.\n",
      "\n",
      "To count down, we use a step of -1\n",
      "\n"
     ]
    }
   ],
   "source": [
    "# ANSWER\n",
    "# use range() to print numbers counting down from 10 to 1 (inclusive)\n",
    "for i in range(10,0,-1):\n",
    "    print(i)\n",
    "# include comments to explain your answer\n",
    "msg = '''\n",
    "from the instructions, it is clear that start is 10\n",
    "end should be 0, since the count is only up to (but not including) \n",
    "this value.\n",
    "\n",
    "To count down, we use a step of -1\n",
    "'''\n",
    "print(msg)"
   ]
  },
  {
   "cell_type": "markdown",
   "metadata": {},
   "source": [
    "## `enumerate()`\n",
    "\n",
    "Since counting in loops is a common task, we can use the built in method [`enumerate()`](https://docs.python.org/3/library/functions.html#enumerate) to achieve the same thing as above. "
   ]
  },
  {
   "cell_type": "markdown",
   "metadata": {},
   "source": [
    "The syntax to achieve the same as the code above is then:"
   ]
  },
  {
   "cell_type": "code",
   "execution_count": 9,
   "metadata": {},
   "outputs": [
    {
     "name": "stdout",
     "output_type": "stream",
     "text": [
      "item 0 is hat\n",
      "item 1 is dog\n",
      "item 2 is keys\n"
     ]
    }
   ],
   "source": [
    "'''\n",
    "for loop with enumerate()\n",
    "'''\n",
    "group = ['hat','dog','keys']\n",
    "\n",
    "for count,item in enumerate(group):\n",
    "    # print counter in loop\n",
    "    print(f'item {count} is {item}')\n"
   ]
  },
  {
   "cell_type": "markdown",
   "metadata": {
    "solution2": "hidden",
    "solution2_first": true
   },
   "source": [
    "#### Exercise 4\n",
    "\n",
    "* copy the code above\n",
    "* as in the previous exercise, check to see if the value of `count` at the end of the loop is the same as the length of the list. \n",
    "* Explain why you get the result you do"
   ]
  },
  {
   "cell_type": "code",
   "execution_count": 10,
   "metadata": {
    "solution2": "hidden"
   },
   "outputs": [
    {
     "name": "stdout",
     "output_type": "stream",
     "text": [
      "item 0 is hat\n",
      "item 1 is dog\n",
      "item 2 is keys\n",
      "----------\n",
      "count is now 2\n",
      "the length of the list group is 3\n",
      "\n",
      "    Explain why you get the result you do\n",
      "\n",
      "    There are 4 items in the list group. \n",
      "    when we use enumerate to loop over the list\n",
      "    count is incremented by 1 each time we enter the loop.\n",
      "    In the previous example, in was incremented after\n",
      "    the print statement.\n",
      "    \n",
      "    So now, at the end of all 4 items, count will only be 3, the length\n",
      "    of the list we looped over, minus 1\n",
      "\n"
     ]
    }
   ],
   "source": [
    "'''\n",
    "# ANSWER\n",
    "\n",
    "for loop with enumerate()\n",
    "'''\n",
    "\n",
    "# copy the code above\n",
    "group = ['hat','dog','keys']\n",
    "\n",
    "\n",
    "for count,item in enumerate(group):\n",
    "    # print counter in loop\n",
    "    print(f'item {count} is {item}')\n",
    "    \n",
    "# as in the previous exercise, \n",
    "# check to see if the value of `count` \n",
    "# at the end of the loop is the same as the length of the list. \n",
    "print('-'*10)\n",
    "print(f'count is now {count}')\n",
    "print(f'the length of the list group is {len(group)}')\n",
    "\n",
    "msg = '''\n",
    "    Explain why you get the result you do\n",
    "\n",
    "    There are 4 items in the list group. \n",
    "    when we use enumerate to loop over the list\n",
    "    count is incremented by 1 each time we enter the loop.\n",
    "    In the previous example, in was incremented after\n",
    "    the print statement.\n",
    "    \n",
    "    So now, at the end of all 4 items, count will only be 3, the length\n",
    "    of the list we looped over, minus 1\n",
    "'''\n",
    "print(msg)"
   ]
  },
  {
   "cell_type": "markdown",
   "metadata": {},
   "source": [
    "## looping over dictionaries, and `assert`\n",
    "\n",
    "Let's set up a dictionary with the names of the months as keys, and the n umber of days in. each month as the item.\n",
    "\n",
    "We will introduce a new term `assert` to test that the lengths of the lists are equal before we proceed. This takes the form:\n",
    "\n",
    "    asset statement\n",
    "    \n",
    "If statement is `True`, the assertion passes (the code flow continues). If it is `false`, the code execution will stop at that point. It is very useful for error checking.  "
   ]
  },
  {
   "cell_type": "code",
   "execution_count": 11,
   "metadata": {},
   "outputs": [
    {
     "name": "stdout",
     "output_type": "stream",
     "text": [
      "the keys are: dict_keys(['January', 'February', 'March', 'April', 'May', 'June', 'July', 'August', 'September', 'October', 'November', 'December'])\n"
     ]
    }
   ],
   "source": [
    "'''\n",
    "Using the months exercise from 014_Python_groups\n",
    "\n",
    "first construct the dictionary we want: days_in_month\n",
    "'''\n",
    "months = [\"January\",\"February\",\"March\",\"April\",\"May\",\\\n",
    "         \"June\",\"July\",\"August\",\"September\",\"October\",\\\n",
    "         \"November\",\"December\"]\n",
    "# create a list called `ndays` with the number of days in each month (for this year)\n",
    "ndays = [31,29,31,30,31,30,31,31,30,31,30,31]\n",
    "\n",
    "# now use assert to test if the lengths are equal:\n",
    "# we will do that by making the statement:\n",
    "#    len(months) == len(ndays)\n",
    "# which can be True or False\n",
    "\n",
    "assert len(months) == len(ndays)\n",
    "\n",
    "# Use these two lists to make a dictionary called `days_in_month` \n",
    "# with the key as month name and value as the number of days in that month.\n",
    "days_in_month = dict(zip(months,ndays))\n",
    "\n",
    "# what are the keys\n",
    "print(f'the keys are: {days_in_month.keys()}')"
   ]
  },
  {
   "cell_type": "markdown",
   "metadata": {},
   "source": [
    "The `for ... in ...` structure we saw above applies to any group of items (or more formally, any [iterable item](https://www.w3schools.com/python/python_iterators.asp)). How could we apply this to looping over dictionaries for instance?\n",
    "\n",
    "One straightforward way would be to simply loop over the dictionary keys:"
   ]
  },
  {
   "cell_type": "code",
   "execution_count": 12,
   "metadata": {},
   "outputs": [
    {
     "name": "stdout",
     "output_type": "stream",
     "text": [
      "Month January has 31 days\n",
      "Month February has 29 days\n",
      "Month March has 31 days\n",
      "Month April has 30 days\n",
      "Month May has 31 days\n",
      "Month June has 30 days\n",
      "Month July has 31 days\n",
      "Month August has 31 days\n",
      "Month September has 30 days\n",
      "Month October has 31 days\n",
      "Month November has 30 days\n",
      "Month December has 31 days\n"
     ]
    }
   ],
   "source": [
    "'''\n",
    "loop over the keys and print key and value\n",
    "'''\n",
    "for k in days_in_month.keys():\n",
    "    d = days_in_month[k]\n",
    "    print(f'Month {k} has {d} days')"
   ]
  },
  {
   "cell_type": "markdown",
   "metadata": {},
   "source": [
    "This works fine, but we can simplify the structure by looping over the iterable object `items()` instead of `keys(). "
   ]
  },
  {
   "cell_type": "code",
   "execution_count": 13,
   "metadata": {},
   "outputs": [
    {
     "name": "stdout",
     "output_type": "stream",
     "text": [
      "[('January', 31), ('February', 29), ('March', 31), ('April', 30), ('May', 31), ('June', 30), ('July', 31), ('August', 31), ('September', 30), ('October', 31), ('November', 30), ('December', 31)]\n"
     ]
    }
   ],
   "source": [
    "print(list(days_in_month.items()))"
   ]
  },
  {
   "cell_type": "markdown",
   "metadata": {},
   "source": [
    "`items()` returns a set of tuples containing (`key`, `value`). So we can directly loop over that to have the much simpler code:"
   ]
  },
  {
   "cell_type": "code",
   "execution_count": 14,
   "metadata": {},
   "outputs": [
    {
     "name": "stdout",
     "output_type": "stream",
     "text": [
      "Month January has 31 days\n",
      "Month February has 29 days\n",
      "Month March has 31 days\n",
      "Month April has 30 days\n",
      "Month May has 31 days\n",
      "Month June has 30 days\n",
      "Month July has 31 days\n",
      "Month August has 31 days\n",
      "Month September has 30 days\n",
      "Month October has 31 days\n",
      "Month November has 30 days\n",
      "Month December has 31 days\n"
     ]
    }
   ],
   "source": [
    "'''\n",
    "use items\n",
    "'''\n",
    "for k,d in days_in_month.items():\n",
    "    print(f'Month {k} has {d} days')"
   ]
  },
  {
   "cell_type": "markdown",
   "metadata": {
    "solution2": "hidden",
    "solution2_first": true
   },
   "source": [
    "#### Exercise 5\n",
    "\n",
    "* set up  list of numbers (years) from 2008 to 2019 **inclusive**,\n",
    "* set up a list of corresponding chinese zodiac names as the items (look [online](https://www.chinahighlights.com/travelguide/chinese-zodiac/#:~:text=In%20order%2C%20the%2012%20Chinese,a%20year%20of%20the%20Rat.) for this information). \n",
    "* check that the lists have the same length\n",
    "* form a dictionary from the two lists, using `dict(zip())` as in the examples above\n",
    "* use `.items()` as above to loop over each year, and print the year name and the zodiac name with an f-string of the form: `f'{y} is the year of the {z}'`, assuming `y` is the key and `z` the item.\n",
    "* Describe what you are doing at each step"
   ]
  },
  {
   "cell_type": "code",
   "execution_count": 15,
   "metadata": {
    "solution2": "hidden"
   },
   "outputs": [
    {
     "name": "stdout",
     "output_type": "stream",
     "text": [
      "2008 is the year of the rat\n",
      "2009 is the year of the ox\n",
      "2010 is the year of the tiger\n",
      "2011 is the year of the rabbit\n",
      "2012 is the year of the dragon\n",
      "2013 is the year of the snake\n",
      "2014 is the year of the horse\n",
      "2015 is the year of the goat\n",
      "2016 is the year of the monkey\n",
      "2017 is the year of the rooster\n",
      "2018 is the year of the dog\n",
      "2019 is the year of the pig\n"
     ]
    }
   ],
   "source": [
    "# ANSWER\n",
    "\n",
    "# Set up list of numbers (years) from 2008 to 2019 inclusive,\n",
    "years = [2008,2009,2010,2011,2012,2013,2014,2015,2016,2017,2018,2019]\n",
    "# set up a list of corresponding chinese zodiac names as the items \n",
    "# (look online for this information).\n",
    "zodiac = ['rat', 'ox', 'tiger', 'rabbit', \\\n",
    "          'dragon', 'snake', 'horse', 'goat',\\\n",
    "          'monkey','rooster','dog','pig']\n",
    "\n",
    "# check that the lists have the same length\n",
    "assert len(years) == len(zodiac)\n",
    "\n",
    "# form a dictionary from the two lists, using dict(zip()) as in the examples above\n",
    "# we want years as the key and zodiac as the items, so we use zip(years,zodiac)\n",
    "# then convert (cast) it to a dictionary called zodiacYear\n",
    "zodiacYear = dict(zip(years,zodiac))\n",
    "\n",
    "# use .items() as above to loop over each year, and \n",
    "# print the year name and the zodiac name\n",
    "# with an f-string of the form: `f'{y} is the year of the {z}'`\n",
    "# assuming y is the key and z the item.\n",
    "\n",
    "# do the loop so that y is the key and z the item\n",
    "for y,z in zodiacYear.items():\n",
    "    print(f'{y} is the year of the {z}')\n",
    "    \n",
    "# it prints the results fine"
   ]
  },
  {
   "cell_type": "markdown",
   "metadata": {},
   "source": [
    "## list comprehensions \n",
    "\n",
    "So far, we have dealt with explicit `for` loops of the form:\n",
    "\n",
    "        for x in alist:\n",
    "            ...\n",
    "            \n",
    "This is very flexible, allows us to put multiple items in the loop, nest conditional or other statements and is the standard looping structure in Python. \n",
    "\n",
    "Quite often though, we want to gather the information processed in the loop into a list. One way to do this is:\n",
    "\n",
    "        # initiate list called blist\n",
    "        blist = []\n",
    "        \n",
    "        # loop over items in list alist\n",
    "        for x in alist:\n",
    "        \n",
    "            # call function `a_function with argument b\n",
    "            b = a_function(x)\n",
    "            \n",
    "            # append b to blist\n",
    "            blist.append(b)\n",
    " \n",
    " This is quite explicit in what is going on, and contains good comments on the process, but it is not at all an *elegant* piece of code, and is overly-complicated for what it achieves.\n",
    " \n",
    " We have mentioned the word [Pythonic](https://towardsdatascience.com/how-to-be-pythonic-and-why-you-should-care-188d63a5037e) previously, meaning taking advantage of the (elegant) features of the programming language to write beautiful code. It is perhaps worth introducing the following Python [Easter egg](https://en.wikipedia.org/wiki/Easter_egg_(media)) at this point, from [PEP20](https://www.python.org/dev/peps/pep-0020/):"
   ]
  },
  {
   "cell_type": "code",
   "execution_count": 1,
   "metadata": {},
   "outputs": [
    {
     "name": "stdout",
     "output_type": "stream",
     "text": [
      "The Zen of Python, by Tim Peters\n",
      "\n",
      "Beautiful is better than ugly.\n",
      "Explicit is better than implicit.\n",
      "Simple is better than complex.\n",
      "Complex is better than complicated.\n",
      "Flat is better than nested.\n",
      "Sparse is better than dense.\n",
      "Readability counts.\n",
      "Special cases aren't special enough to break the rules.\n",
      "Although practicality beats purity.\n",
      "Errors should never pass silently.\n",
      "Unless explicitly silenced.\n",
      "In the face of ambiguity, refuse the temptation to guess.\n",
      "There should be one-- and preferably only one --obvious way to do it.\n",
      "Although that way may not be obvious at first unless you're Dutch.\n",
      "Now is better than never.\n",
      "Although never is often better than *right* now.\n",
      "If the implementation is hard to explain, it's a bad idea.\n",
      "If the implementation is easy to explain, it may be a good idea.\n",
      "Namespaces are one honking great idea -- let's do more of those!\n"
     ]
    }
   ],
   "source": [
    "import this"
   ]
  },
  {
   "cell_type": "markdown",
   "metadata": {},
   "source": [
    "A more elegant way to write a simple loop code that results in a list, is to use a feature called [list comprehensions](https://www.programiz.com/python-programming/list-comprehension).\n",
    "\n",
    "The basic syntax to replace what we saw above is:\n",
    "\n",
    "            [a_function(x) for x in alist]\n",
    "            \n",
    "     \n",
    "which returns a list with the function `a_function(x)` applied to each element in the list `alist`. Some examples:"
   ]
  },
  {
   "cell_type": "code",
   "execution_count": 5,
   "metadata": {},
   "outputs": [
    {
     "data": {
      "text/plain": [
       "[0, 1, 4, 9, 16, 25, 36, 49, 64, 81]"
      ]
     },
     "execution_count": 5,
     "metadata": {},
     "output_type": "execute_result"
    }
   ],
   "source": [
    "# x^2 for integers 0,...,9\n",
    "# First, using full for loop\n",
    "blist = []\n",
    "for  x in range(10):\n",
    "    blist.append(x*x)\n",
    "    \n",
    "blist"
   ]
  },
  {
   "cell_type": "code",
   "execution_count": 6,
   "metadata": {},
   "outputs": [
    {
     "data": {
      "text/plain": [
       "[0, 1, 4, 9, 16, 25, 36, 49, 64, 81]"
      ]
     },
     "execution_count": 6,
     "metadata": {},
     "output_type": "execute_result"
    }
   ],
   "source": [
    "# x^2 for integers 0,...,9\n",
    "# list comprehension\n",
    "[x*x for x in range(10)]"
   ]
  },
  {
   "cell_type": "markdown",
   "metadata": {},
   "source": [
    "We can apply conditional statements in a list comprehension. The syntax is:\n",
    "\n",
    "            [a_function(x) for x in alist if condition]\n",
    "\n",
    "or, if an `else` is required\n",
    "\n",
    "            [a_function(x) if condition else b_function(x) for x in alist]\n"
   ]
  },
  {
   "cell_type": "code",
   "execution_count": 25,
   "metadata": {},
   "outputs": [],
   "source": [
    "adict = {\"first\": \"gold\",\"second\": \"silver\",\"third\": \"bronze\"}\n",
    "alist = [\"gold\",\"silver\",\"bronze\"]\n",
    "\n",
    "# given a list of items of strings and integers, interpret\n",
    "# position as a list of Olympic medal types\n",
    "# the positions may be integers 1,2,3 or strings\n",
    "# \"first\", \"second\", \"third\"\n",
    "\n",
    "# an example input list\n",
    "items = [\"first\",1,3,\"third\",2,\"second\"]"
   ]
  },
  {
   "cell_type": "code",
   "execution_count": 29,
   "metadata": {},
   "outputs": [
    {
     "name": "stdout",
     "output_type": "stream",
     "text": [
      "['first', 1, 3, 'third', 2, 'second'] ->\n",
      "['gold', 'gold', 'bronze', 'bronze', 'silver', 'silver']\n"
     ]
    }
   ],
   "source": [
    "# first, as a full for / if set\n",
    "blist = []\n",
    "for v in items:\n",
    "    if type(v) == str:\n",
    "        # look it up in the dictionary\n",
    "        blist.append(adict[v])\n",
    "    else:\n",
    "        # get from list\n",
    "        # index for list is v-1\n",
    "        blist.append(alist[v-1])\n",
    "        \n",
    "print(f'{items} ->\\n{blist}')"
   ]
  },
  {
   "cell_type": "code",
   "execution_count": 32,
   "metadata": {},
   "outputs": [
    {
     "data": {
      "text/plain": [
       "['gold', 'gold', 'bronze', 'bronze', 'silver', 'silver']"
      ]
     },
     "execution_count": 32,
     "metadata": {},
     "output_type": "execute_result"
    }
   ],
   "source": [
    "# now using list comprehension\n",
    "[adict[v] if (type(v) == str) else alist[v-1] for v in items]"
   ]
  },
  {
   "cell_type": "markdown",
   "metadata": {},
   "source": [
    "This is such a common type of expression that you will find lots of cases you will use a list comprehension. Don't make them too complicated however, as you may defeat the purpose of making it elegant, and instead make it simply unreadable.\n",
    "\n",
    "Consider using them whenever you have a simple expression in a list. You can nest these expressions (i.e. put one inside the other) but again, and that can be an elegant solution, but be wary of making the code an unreadable mess."
   ]
  },
  {
   "cell_type": "markdown",
   "metadata": {
    "solution2": "hidden",
    "solution2_first": true
   },
   "source": [
    "#### Exercise 6\n",
    "\n",
    "* Use a list comprehension to generate a list of squared numbers from $0^2$ to $10^2$"
   ]
  },
  {
   "cell_type": "code",
   "execution_count": 33,
   "metadata": {
    "solution2": "hidden"
   },
   "outputs": [
    {
     "data": {
      "text/plain": [
       "[0, 1, 4, 9, 16, 25, 36, 49, 64, 81, 100]"
      ]
     },
     "execution_count": 33,
     "metadata": {},
     "output_type": "execute_result"
    }
   ],
   "source": [
    "# ANSWER\n",
    "# Use a list comprehension to generate a list of squared numbers from 0^2 to 10^2\n",
    "[i*i for i in range(11)]"
   ]
  },
  {
   "cell_type": "markdown",
   "metadata": {},
   "source": [
    "## Summary\n",
    "\n",
    "We should now know how to use `for` statements in Python to control program flow. This is a common feature of all coding languages, but it is important here that you get used to doing this in Python.\n",
    "\n",
    "We know that conditions inside `for` statements use indentation in Python, and we know to be careful in our use of this. We have learnt about `enumerate()` and `range()`.\n",
    "\n",
    "We have also seen the use of `assert` to do some checking that our code is correct.\n",
    "\n",
    "There are additional notes in [docs.python.org](https://docs.python.org/3/tutorial/controlflow.html#the-range-function) you can follow up to deepen your understanding of these topics. You can get more practice with `assert` at [w3schools](https://www.w3schools.com/python/ref_keyword_assert.asp).\n",
    "\n",
    "\n",
    "| Command | Comment | Example | Result| \n",
    "|---|---|---|---|\n",
    "|  `for item in list:` | loop, setting `item` to each value in `list` sequentially| see Example 1|\n",
    "| `for key,value in list_of_tuples:`|loop, setting `a,b` to each value in list of tuples | See Example 2: `list({\"a\":7,\"b\":3}.items())` | `[('a', 7), ('b', 3)]`|\n",
    "| `range(start,stop,step)` | index iterator from `start` to `stop` in steps of `step`| `list(range(1,6,2))`| `[1, 3, 5]` |\n",
    "|`enumerate(list)`| provide index of `list` | `list(enumerate(['a','b','c']))` | `[(0, 'a'), (1, 'b'), (2, 'c')]`|\n",
    "| `assert condition` | test that condition is `True`, exit otherwise | `assert True` ||\n",
    "| `[f(x) for x in alist]` | list comprehension, applying `f(x)` to each item `x` in `alist` | `[i*i for i in range(3)]` | `[0, 1, 4]`\n",
    "|`[af(x) for x in alist if ca(x)]` | list comprehension with conditional statement, applying `af(x)` to each element `x` in `alist` if `ca(x)` is `True`| `[i for i in range(11) if i%2]` | `[1, 3, 5, 7, 9]`\n",
    "|`[af(x) if ca(x) else bf(x) for x in alist]` | list comprehension with conditional statement, applying `af(x)` to each element `x` in `alist` if `ca(x)` is `True`, otherwise applying `bf(x)` | `[i if i%2 else 0 for i in range(4)]` | `[0, 1, 0, 3]`\n",
    "\n",
    "**Example 1:**\n",
    "\n",
    "        for item in [1,2,3]:\n",
    "            # print item in loop\n",
    "            print(item)\n",
    "    \n",
    "Result:\n",
    "\n",
    "        1\n",
    "        2\n",
    "        3\n",
    "\n",
    "\n",
    "**Example 2:**\n",
    "\n",
    "        for key,value in {\"a\":7,\"b\":3}.items():\n",
    "            print(f'key is {key}, value is {value}')\n",
    "            \n",
    "Result:\n",
    "\n",
    "        key is a, value is 7\n",
    "        key is b, value is 3\n",
    "        \n",
    "\n",
    "**Example 3:**\n",
    "\n",
    "        for i,(key,value) in enumerate({\"a\":7,\"b\":3}.items()):\n",
    "            print(f'key {i} is {key}, value is {value}')\n",
    "            \n",
    "Result:\n",
    "\n",
    "        key 0 is a, value is 7\n",
    "        key 1 is b, value is 3"
   ]
  },
  {
   "cell_type": "markdown",
   "metadata": {},
   "source": [
    "\n",
    "[<img src=\"images/noun_post_2109127.svg\" width=\"50\" align='right'>](017_Functions.ipynb)\n",
    "[<img src=\"images/noun_pre_2109128.svg\" width=\"50\" align='right'>](015_Python_control.ipynb)\n",
    "\n"
   ]
  }
 ],
 "metadata": {
  "kernelspec": {
   "display_name": "Python [conda env:geog0111-geog0111]",
   "language": "python",
   "name": "conda-env-geog0111-geog0111-py"
  },
  "language_info": {
   "codemirror_mode": {
    "name": "ipython",
    "version": 3
   },
   "file_extension": ".py",
   "mimetype": "text/x-python",
   "name": "python",
   "nbconvert_exporter": "python",
   "pygments_lexer": "ipython3",
   "version": "3.7.8"
  },
  "latex_envs": {
   "LaTeX_envs_menu_present": true,
   "autocomplete": true,
   "bibliofile": "biblio.bib",
   "cite_by": "apalike",
   "current_citInitial": 1,
   "eqLabelWithNumbers": true,
   "eqNumInitial": 1,
   "hotkeys": {
    "equation": "Ctrl-E",
    "itemize": "Ctrl-I"
   },
   "labels_anchors": false,
   "latex_user_defs": false,
   "report_style_numbering": false,
   "user_envs_cfg": false
  },
  "toc": {
   "base_numbering": 1,
   "nav_menu": {},
   "number_sections": false,
   "sideBar": false,
   "skip_h1_title": false,
   "title_cell": "Table of Contents",
   "title_sidebar": "Contents",
   "toc_cell": false,
   "toc_position": {
    "height": "calc(100% - 180px)",
    "left": "10px",
    "top": "150px",
    "width": "207px"
   },
   "toc_section_display": false,
   "toc_window_display": false
  },
  "varInspector": {
   "cols": {
    "lenName": 16,
    "lenType": 16,
    "lenVar": 40
   },
   "kernels_config": {
    "python": {
     "delete_cmd_postfix": "",
     "delete_cmd_prefix": "del ",
     "library": "var_list.py",
     "varRefreshCmd": "print(var_dic_list())"
    },
    "r": {
     "delete_cmd_postfix": ") ",
     "delete_cmd_prefix": "rm(",
     "library": "var_list.r",
     "varRefreshCmd": "cat(var_dic_list()) "
    }
   },
   "types_to_exclude": [
    "module",
    "function",
    "builtin_function_or_method",
    "instance",
    "_Feature"
   ],
   "window_display": false
  }
 },
 "nbformat": 4,
 "nbformat_minor": 4
}
