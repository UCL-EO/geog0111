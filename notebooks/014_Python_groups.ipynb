{
 "cells": [
  {
   "cell_type": "markdown",
   "metadata": {},
   "source": [
    "<img alt='UCL' src=\"images/ucl_logo.png\" align='center'>\n",
    "\n",
    "\n",
    "[<img src=\"images/noun_post_2109127.svg\" width=\"50\" align='right'>](015_Python_control.ipynb)\n",
    "[<img src=\"images/noun_pre_2109128.svg\" width=\"50\" align='right'>](013_Python_string_methods.ipynb)\n",
    "\n"
   ]
  },
  {
   "cell_type": "markdown",
   "metadata": {},
   "source": [
    "# 014 Groups\n",
    "\n",
    "## Introduction\n",
    "\n",
    "### Purpose\n",
    "\n",
    "In this section we will learn how use groups of objects in Python.\n",
    "\n",
    "\n",
    "### Prerequisites\n",
    "\n",
    "You will need some understanding of the following:\n",
    "\n",
    "\n",
    "* [001 Using Notebooks](001_Notebook_use.ipynb)\n",
    "* [003 Getting help](003_Help.ipynb)\n",
    "* [010 Variables, comments and print()](010_Python_Introduction.ipynb)\n",
    "* [011 Data types](011_Python_data_types.ipynb) In particular, you should be understand strings.\n",
    "* [012 String formatting](012_Python_strings.ipynb)\n",
    "* [013_Python_string_methods](013_Python_string_methods.ipynb)\n",
    "\n",
    "In the exercises below, make use of f-strings when building statements to print.\n"
   ]
  },
  {
   "cell_type": "markdown",
   "metadata": {},
   "source": [
    "## Groups of things\n",
    "Very often, we will want to group items together. There are several main mechanisms for doing this in Python, known as:\n",
    "\n",
    "* string e.g. `hello`\n",
    "* tuple, e.g. `(1, 2, 3)`\n",
    "* list, e.g. `[1, 2, 3]`\n",
    "\n",
    "A slightly different form of group is a dictionary:\n",
    "\n",
    "* dict, e.g. `{1:'one', 2:'two', 3:'three'}`\n",
    "\n",
    "You will notice that each of the grouping structures `tuple`, `list` and `dict` use a different form of bracket and that quotes are used to bracket a string.\n",
    "\n",
    "We have seen that a string is an ordered collection in the material above, so will deal with the others here.\n",
    "\n",
    "We noted the concept of length (`len()`), that elements of the ordered collection could be accessed via an index or slice. All of these same ideas apply to the first set of groups (string, tuple, list, numpy array) as they are all ordered collections.\n",
    "\n",
    "A dictionary is not (by default) ordered, however, so indices have no role. Instead, we use 'keys'."
   ]
  },
  {
   "cell_type": "markdown",
   "metadata": {},
   "source": [
    "###  `tuple`\n",
    "A tuple is a group of items separated by commas. In the case of a tuple, the brackets are optional.\n",
    "You can have a group of differnt types in a tuple (e.g. `int`, `float`, `str`, `bool`)"
   ]
  },
  {
   "cell_type": "markdown",
   "metadata": {},
   "source": [
    "#### Using a `tuple`"
   ]
  },
  {
   "cell_type": "code",
   "execution_count": 1,
   "metadata": {},
   "outputs": [
    {
     "name": "stdout",
     "output_type": "stream",
     "text": [
      "(1, 2, 'three', False) \n",
      "----------\n",
      "1 2 three False \n",
      "----------\n",
      "the type of t is <class 'tuple'>\n"
     ]
    }
   ],
   "source": [
    "# for spacing\n",
    "dash = '\\n----------'\n",
    "\n",
    "# load into the tuple\n",
    "\n",
    "t = (1, 2, 'three', False)\n",
    "\n",
    "# unload from the tuple\n",
    "# notice we must have the same number of items\n",
    "a,b,c,d = t\n",
    "\n",
    "print(t,dash)\n",
    "print(a,b,c,d,dash)\n",
    "\n",
    "print('the type of t is',type(t))"
   ]
  },
  {
   "cell_type": "markdown",
   "metadata": {},
   "source": [
    "If there is only one element in a tuple, you must put a comma , at the end, otherwise it is not interpreted as a tuple:\n",
    "\n"
   ]
  },
  {
   "cell_type": "code",
   "execution_count": 2,
   "metadata": {},
   "outputs": [
    {
     "name": "stdout",
     "output_type": "stream",
     "text": [
      "1 <class 'int'>\n",
      "(1,) <class 'tuple'>\n"
     ]
    }
   ],
   "source": [
    "t = (1)\n",
    "print (t,type(t))\n",
    "t = (1,)\n",
    "print (t,type(t))"
   ]
  },
  {
   "cell_type": "markdown",
   "metadata": {},
   "source": [
    "You can have an empty tuple though:\n",
    "\n"
   ]
  },
  {
   "cell_type": "code",
   "execution_count": 3,
   "metadata": {},
   "outputs": [
    {
     "name": "stdout",
     "output_type": "stream",
     "text": [
      "() <class 'tuple'>\n"
     ]
    }
   ],
   "source": [
    "t = ()\n",
    "print (t,type(t))"
   ]
  },
  {
   "cell_type": "markdown",
   "metadata": {
    "solution2": "hidden",
    "solution2_first": true
   },
   "source": [
    "#### Exercise 1\n",
    "\n",
    "* create a tuple called `t` that contains the integers `1` to `5` inclusive\n",
    "* print out the value of `t`\n",
    "* use the tuple to set variables `a1`,`a2`,`a3`,`a4`,`a5`\n",
    "* print  `a1`,`a2`,`a3`,`a4`,`a5`"
   ]
  },
  {
   "cell_type": "code",
   "execution_count": 4,
   "metadata": {
    "solution2": "hidden"
   },
   "outputs": [
    {
     "name": "stdout",
     "output_type": "stream",
     "text": [
      "(1, 2, 3, 4, 5)\n",
      "1 2 3 4 5\n"
     ]
    }
   ],
   "source": [
    "# ANSWER\n",
    "# create a tuple called t that contains the integers 1 to 5 inclusive\n",
    "t = (1,2,3,4,5)\n",
    "\n",
    "# print out the value of t\n",
    "print(t)\n",
    "\n",
    "# use the tuple to set variables a1,a2,a3,a4,a5\n",
    "a1,a2,a3,a4,a5 = t\n",
    "print(a1,a2,a3,a4,a5)"
   ]
  },
  {
   "cell_type": "markdown",
   "metadata": {},
   "source": [
    "\n",
    "### `list`\n",
    "A `list` is similar to a `tuple`. One main difference is that you can **change individual elements in a list but not in a tuple**.\n",
    "To convert between a list and tuple, use the 'casting' methods `list()` and `tuple()`:"
   ]
  },
  {
   "cell_type": "code",
   "execution_count": 5,
   "metadata": {},
   "outputs": [
    {
     "name": "stdout",
     "output_type": "stream",
     "text": [
      "type of (1, 2, 3) is <class 'tuple'>\n",
      "type of [1, 2, 3] is <class 'list'>\n"
     ]
    }
   ],
   "source": [
    "\n",
    "# a tuple\n",
    "t0 = (1,2,3)\n",
    "\n",
    "# cast to a list\n",
    "l = list(t0)\n",
    "\n",
    "# cast to a tuple\n",
    "t = tuple(l)\n",
    "\n",
    "print('type of {} is {}'.format(t,type(t)))\n",
    "print('type of {} is {}'.format(l,type(l)))"
   ]
  },
  {
   "cell_type": "markdown",
   "metadata": {},
   "source": [
    "You can concatenate (join) lists or tuples with the `+` operator:\n",
    "\n"
   ]
  },
  {
   "cell_type": "code",
   "execution_count": 6,
   "metadata": {},
   "outputs": [
    {
     "name": "stdout",
     "output_type": "stream",
     "text": [
      "joint list: [1, 2, 3, 4, 5, 6]\n"
     ]
    }
   ],
   "source": [
    "l0 = [1,2,3]\n",
    "l1 = [4,5,6]\n",
    "\n",
    "l = l0 + l1\n",
    "print ('joint list:',l)"
   ]
  },
  {
   "cell_type": "markdown",
   "metadata": {},
   "source": [
    "A common method associated with lists or tuples is:\n",
    "* `index()`"
   ]
  },
  {
   "cell_type": "code",
   "execution_count": 7,
   "metadata": {},
   "outputs": [
    {
     "name": "stdout",
     "output_type": "stream",
     "text": [
      "the index of 4 in [2, 8, 4, 32, 16] is 2\n",
      "the length of the <class 'list'> [2, 8, 4, 32, 16] is 5\n"
     ]
    }
   ],
   "source": [
    "l0 = [2,8,4,32,16]\n",
    "\n",
    "# print the index of the item integer 4 \n",
    "# in the tuple / list\n",
    "\n",
    "item_number = 4\n",
    "\n",
    "# Note the dot . here\n",
    "# as index is a method of the class list\n",
    "ind  = l0.index(item_number)\n",
    "\n",
    "# notice that this is different\n",
    "# as len() is not a list method, but \n",
    "# does operatate on lists/tuples\n",
    "# Note: do not use len as a variable name!\n",
    "llen = len(l0)\n",
    "\n",
    "print(f'the index of {item_number} in {l0} is {ind}')\n",
    "print(f'the length of the {type(l0)} {l0} is {llen}')"
   ]
  },
  {
   "cell_type": "markdown",
   "metadata": {
    "solution2": "hidden",
    "solution2_first": true
   },
   "source": [
    "#### Exercise 2\n",
    "\n",
    "* copy the code to a new code block below, and test that this works with lists, as well as tuples"
   ]
  },
  {
   "cell_type": "code",
   "execution_count": 8,
   "metadata": {
    "solution2": "hidden"
   },
   "outputs": [
    {
     "name": "stdout",
     "output_type": "stream",
     "text": [
      "the index of 4 in (2, 8, 4, 32, 16) is 2\n",
      "the length of the <class 'tuple'> (2, 8, 4, 32, 16) is 5\n"
     ]
    }
   ],
   "source": [
    "# ANSWER\n",
    "\n",
    "# copy the code to the block below, and test that this works with lists, as well as tuples\n",
    "\n",
    "# use tuple\n",
    "l0 = (2,8,4,32,16)\n",
    "\n",
    "# print the index of the item integer 4 \n",
    "# in the tuple / list\n",
    "\n",
    "item_number = 4\n",
    "\n",
    "# Note the dot . here\n",
    "# as index is a method of the class list\n",
    "ind  = l0.index(item_number)\n",
    "\n",
    "# notice that this is different\n",
    "# as len() is not a list method, but \n",
    "# does operatate on lists/tuples\n",
    "# Note: do not use len as a variable name!\n",
    "llen = len(l0)\n",
    "\n",
    "print(f'the index of {item_number} in {l0} is {ind}')\n",
    "print(f'the length of the {type(l0)} {l0} is {llen}')"
   ]
  },
  {
   "cell_type": "markdown",
   "metadata": {
    "solution2": "hidden",
    "solution2_first": true
   },
   "source": [
    "#### Exercise 3\n",
    "\n",
    "* set a list called `l0` with `l0 = [2,8,4,32,16]`\n",
    "* find the index of the integer 16 in the tuple/list\n",
    "* what is the index of the first item?\n",
    "* what is the length of the tuple/list?\n",
    "* what is the index of the last item?"
   ]
  },
  {
   "cell_type": "code",
   "execution_count": 9,
   "metadata": {
    "solution2": "hidden"
   },
   "outputs": [
    {
     "name": "stdout",
     "output_type": "stream",
     "text": [
      "index of 16 in [2, 8, 4, 32, 16] is 4\n",
      "index of 2 in [2, 8, 4, 32, 16] is 0\n",
      "length of [2, 8, 4, 32, 16] is 5\n",
      "index of 16 in [2, 8, 4, 32, 16] is 4\n",
      "index of 16 in [2, 8, 4, 32, 16] is 4\n"
     ]
    }
   ],
   "source": [
    "# ANSWER\n",
    "\n",
    "# set a list called l0 with l0 = [2,8,4,32,16]\n",
    "l0 = [2,8,4,32,16]\n",
    "\n",
    "# find the index of the integer 16 in the tuple/list\n",
    "value = 16\n",
    "print(f'index of {value} in {l0} is {l0.index(value)}')\n",
    "\n",
    "# what is the index of the first item?\n",
    "value = l0[0]\n",
    "print(f'index of {value} in {l0} is {l0.index(value)}')\n",
    "\n",
    "# what is the length of the tuple/list?\n",
    "print(f'length of {l0} is {len(l0)}')\n",
    "\n",
    "# what is the index of the last item?\n",
    "last_item = len(l0) - 1\n",
    "value = l0[last_item]\n",
    "print(f'index of {value} in {l0} is {l0.index(value)}')\n",
    "\n",
    "# or simply use -1l, rememberimg that we can index -ve\n",
    "value = l0[-1]\n",
    "print(f'index of {value} in {l0} is {l0.index(value)}')"
   ]
  },
  {
   "cell_type": "markdown",
   "metadata": {},
   "source": [
    "A list has a much richer set of methods than a tuple. This is because we can add or remove list items (but not tuple).\n",
    "\n",
    "* `insert(i,j)` : insert `j` beore item `i` in the list\n",
    "* `append(j)` : append `j` to the end of the list\n",
    "* `extend(j)` : extend the list with `j` to the end of the list\n",
    "* `sort()` : sort the list\n",
    "\n",
    "Recall from [003_Help](003_Help.ipynb#Exercise) that `sort()` is an `in-place` operation, and remember the consequences of that. Notice that `insert()`, `extend()` and `append()` are also `in-place` operations.\n",
    "\n",
    "This list of methods suggests that tuples and lists are 'ordered' (i.e. they maintain the order they are loaded in) so that individual elements may be accessed through an 'index'. The index values start at 0 as we saw above. The index of the last element in a list/tuple is the length of the group, minus 1. This can also be referred to an index `-1`."
   ]
  },
  {
   "cell_type": "code",
   "execution_count": 10,
   "metadata": {},
   "outputs": [
    {
     "name": "stdout",
     "output_type": "stream",
     "text": [
      "the list [64, 2, 8, 4, 32, 128, 16, 256] once sorted is [2, 4, 8, 16, 32, 64, 128, 256]\n"
     ]
    }
   ],
   "source": [
    "l0 = [2,8,4,32,16]\n",
    "\n",
    "# insert 64 at the begining (before item 0)\n",
    "# Note that this inserts 'in place'\n",
    "# i.e. the list is changed by calling this\n",
    "l0.insert(0,64)\n",
    "\n",
    "# insert 128 *before* the last item (item -1)\n",
    "l0.insert(-1,128)\n",
    "\n",
    "# append 256 on the end\n",
    "l0.append(256)\n",
    "\n",
    "# copy the list and sort the copy\n",
    "# Note the use of the copy() method here\n",
    "# to create a copy because the in-place method\n",
    "# will change l0\n",
    "l1 = l0.copy()\n",
    "\n",
    "# Note that this sorts 'in place'\n",
    "# i.e. the list is changed by calling this\n",
    "l1.sort()\n",
    "\n",
    "print(f'the list {l0} once sorted is {l1}')"
   ]
  },
  {
   "cell_type": "markdown",
   "metadata": {},
   "source": [
    "#### `extend` and `append`"
   ]
  },
  {
   "cell_type": "code",
   "execution_count": 11,
   "metadata": {},
   "outputs": [
    {
     "name": "stdout",
     "output_type": "stream",
     "text": [
      "[2, 8, 4, 32, 16, 2, 3, 4]\n"
     ]
    }
   ],
   "source": [
    "l0 = [2,8,4,32,16]\n",
    "l1 = [2,3,4]\n",
    "\n",
    "# notice the difference between extend and append\n",
    "l0.extend(l1)\n",
    "print(l0)"
   ]
  },
  {
   "cell_type": "code",
   "execution_count": 12,
   "metadata": {},
   "outputs": [
    {
     "name": "stdout",
     "output_type": "stream",
     "text": [
      "[2, 8, 4, 32, 16, [2, 3, 4]]\n"
     ]
    }
   ],
   "source": [
    "l0 = [2,8,4,32,16]\n",
    "l1 = [2,3,4]\n",
    "\n",
    "# notice the difference between extend and append\n",
    "l0.append(l1)\n",
    "print(l0)"
   ]
  },
  {
   "cell_type": "markdown",
   "metadata": {
    "solution2": "hidden",
    "solution2_first": true
   },
   "source": [
    "#### Exercise 4\n",
    "\n",
    "* set a list called `l0` with `l0 = [2,8,4,32,16]`\n",
    "* find the index of `16` in this list\n",
    "* use this insert the number `128` between the entries for `32` and `16`\n",
    "* take a copy of `l0`, call it `l0_test` and insert the string `'hello world'` at index `-2`\n",
    "* what positive index number could we have used in place of `-2` here?\n",
    "* why?"
   ]
  },
  {
   "cell_type": "code",
   "execution_count": 13,
   "metadata": {
    "scrolled": true,
    "solution2": "hidden"
   },
   "outputs": [
    {
     "name": "stdout",
     "output_type": "stream",
     "text": [
      "[2, 8, 4, 32, 128, 16]\n",
      "[2, 8, 4, 32, 'hello world', 128, 16]\n",
      "[2, 8, 4, 32, 'hello world', 128, 16]\n",
      "\n",
      "since the length of l0 is 6 (when we copy it)\n",
      "then -2 corresponds to the +ve index 6-2 = 4\n",
      "\n"
     ]
    }
   ],
   "source": [
    "# ANSWER\n",
    "\n",
    "# set a list called `l0` with `l0 = [2,8,4,32,16]`\n",
    "l0 = [2,8,4,32,16]\n",
    "\n",
    "\n",
    "# find the index of `16` in this list\n",
    "index_16 = l0.index(16)\n",
    "\n",
    "# insert the number `128` between the entries for `32` and `16`\n",
    "l0.insert(index_16,128)\n",
    "print(l0)\n",
    "\n",
    "# take a copy of `l0`, call it `l0_test` \n",
    "# and insert the string `'hello world'` at index `-2`\n",
    "l1 = l0.copy()\n",
    "l1.insert(-2,'hello world')\n",
    "print(l1)\n",
    "\n",
    "# what positive index number could we have used in place of `-2` here\n",
    "# the answer is 4\n",
    "l1 = l0.copy()\n",
    "l1.insert(4,'hello world')\n",
    "print(l1)\n",
    "\n",
    "# why?\n",
    "msg = '''\n",
    "since the length of l0 is 6 (when we copy it)\n",
    "then -2 corresponds to the +ve index 6-2 = 4\n",
    "'''\n",
    "print(msg)"
   ]
  },
  {
   "cell_type": "markdown",
   "metadata": {},
   "source": [
    "### multiple dimensional lists\n",
    "\n",
    "Lists and tuples are not limited to a single dimension. Sometimes we will want to define multi-dimensional lists, e.g.:         "
   ]
  },
  {
   "cell_type": "code",
   "execution_count": 14,
   "metadata": {},
   "outputs": [
    {
     "name": "stdout",
     "output_type": "stream",
     "text": [
      "[[1, 2, 3], [4, 5, 6, 7], [9, [4, 2]], 8]\n",
      "[4, 5, 6, 7]\n",
      "6\n"
     ]
    }
   ],
   "source": [
    "x = [[1,2,3],[4,5,6,7],[9,[4,2]],8]\n",
    "print(x)\n",
    "print(x[1])\n",
    "print(x[1][2])"
   ]
  },
  {
   "cell_type": "markdown",
   "metadata": {},
   "source": [
    "but the structure and parsing of this is now quite complicated."
   ]
  },
  {
   "cell_type": "markdown",
   "metadata": {},
   "source": [
    "Using multiple dimensions is sometime necessary, but can cause complications. Often we can find a simpler alternative.\n",
    "\n",
    "One time we may want them is in associating one list with another, for example:"
   ]
  },
  {
   "cell_type": "code",
   "execution_count": 15,
   "metadata": {},
   "outputs": [
    {
     "name": "stdout",
     "output_type": "stream",
     "text": [
      "[[1, 2, 3, 4], ['one', 'two', 'three', 'four']]\n"
     ]
    }
   ],
   "source": [
    "values = [1,2,3,4]\n",
    "keys = ['one','two','three','four']\n",
    "\n",
    "combined = [values,keys]\n",
    "print(combined)"
   ]
  },
  {
   "cell_type": "markdown",
   "metadata": {},
   "source": [
    "This is a *regular* list, because the length of the sub-list is the same in both cases. "
   ]
  },
  {
   "cell_type": "markdown",
   "metadata": {},
   "source": [
    "###  `dict`\n",
    "\n"
   ]
  },
  {
   "cell_type": "markdown",
   "metadata": {},
   "source": [
    "The collections we have used so far have all been ordered. This means that we can refer to a particular element in the group by an index, e.g. `array[10]`.\n",
    "\n",
    "A dictionary is not (by default) ordered. Instead of indices, we use 'keys' to refer to elements: each element has a key associated with it. It can be very useful for data organisation (e.g. databases) to have a key to refer to, rather than e.g. some arbitrary column number in a gridded dataset.\n",
    "\n",
    "A dictionary is defined as a group in braces (curley brackets). For each elerment, we specify the key and then the value, separated by `:`."
   ]
  },
  {
   "cell_type": "code",
   "execution_count": 16,
   "metadata": {},
   "outputs": [
    {
     "name": "stdout",
     "output_type": "stream",
     "text": [
      "a:\n",
      "\t {'one': 1, 'two': 2, 'three': 3}\n",
      "a.keys():\n",
      "\t dict_keys(['one', 'two', 'three'])\n",
      "a.values():\n",
      "\t dict_values([1, 2, 3])\n",
      "a.items():\n",
      "\t dict_items([('one', 1), ('two', 2), ('three', 3)])\n"
     ]
    }
   ],
   "source": [
    "a = {'one': 1, 'two': 2, 'three': 3}\n",
    "\n",
    "# we then refer to the keys and values in the dict as:\n",
    "\n",
    "print (f'a:\\n\\t {a}')\n",
    "print (f'a.keys():\\n\\t {a.keys()}')     # the keys\n",
    "print (f'a.values():\\n\\t {a.values()}') # returns the values\n",
    "print (f'a.items():\\n\\t {a.items()}')   # returns a list of tuples"
   ]
  },
  {
   "cell_type": "markdown",
   "metadata": {},
   "source": [
    "We refer to specific items using the key e.g.:"
   ]
  },
  {
   "cell_type": "code",
   "execution_count": 17,
   "metadata": {},
   "outputs": [
    {
     "name": "stdout",
     "output_type": "stream",
     "text": [
      "1\n"
     ]
    }
   ],
   "source": [
    "print(a['one'])"
   ]
  },
  {
   "cell_type": "markdown",
   "metadata": {},
   "source": [
    "You can add to a dictionary using the in-place operator `update`:"
   ]
  },
  {
   "cell_type": "code",
   "execution_count": 18,
   "metadata": {},
   "outputs": [
    {
     "name": "stdout",
     "output_type": "stream",
     "text": [
      "Help on method_descriptor:\n",
      "\n",
      "update(...)\n",
      "    D.update([E, ]**F) -> None.  Update D from dict/iterable E and F.\n",
      "    If E is present and has a .keys() method, then does:  for k in E: D[k] = E[k]\n",
      "    If E is present and lacks a .keys() method, then does:  for k, v in E: D[k] = v\n",
      "    In either case, this is followed by: for k in F:  D[k] = F[k]\n",
      "\n"
     ]
    }
   ],
   "source": [
    "help(dict.update)"
   ]
  },
  {
   "cell_type": "code",
   "execution_count": 19,
   "metadata": {},
   "outputs": [
    {
     "name": "stdout",
     "output_type": "stream",
     "text": [
      "{'one': 1, 'two': 2, 'three': 3, 'four': 4, 'five': 5}\n",
      "{'one': 1, 'two': 2, 'three': 3, 'four': 4, 'five': 5, 'six': 6}\n"
     ]
    }
   ],
   "source": [
    "a.update({'four':4,'five':5})\n",
    "print(a)\n",
    "\n",
    "# or for a single value\n",
    "a['six'] = 6\n",
    "print(a)"
   ]
  },
  {
   "cell_type": "markdown",
   "metadata": {},
   "source": [
    "Quite often, you find that you have the keys you want to use in a dictionary as a list or array, and the values in another list.\n",
    "\n",
    "In such a case, we can use the method `zip(keys,values)` to load into the dictionary. For example:"
   ]
  },
  {
   "cell_type": "code",
   "execution_count": 20,
   "metadata": {},
   "outputs": [
    {
     "name": "stdout",
     "output_type": "stream",
     "text": [
      "{'one': 1, 'two': 2, 'three': 3, 'four': 4}\n"
     ]
    }
   ],
   "source": [
    "values = [1,2,3,4]\n",
    "keys = ['one','two','three','four']\n",
    "\n",
    "a = dict(zip(keys,values))\n",
    "\n",
    "print(a)"
   ]
  },
  {
   "cell_type": "markdown",
   "metadata": {},
   "source": [
    "## Formative assessment\n",
    "\n",
    "To get some feedback on how you are doing, you should complete and submit the formative assessment [060 Groups](060_Groups.ipynb)."
   ]
  },
  {
   "cell_type": "markdown",
   "metadata": {},
   "source": [
    "## Summary\n",
    "\n",
    "In this section, we have extended the types of data we might come across to include groups. We dealt with ordered groups of various types (`tuple`, `list`). We saw dictionaries as collections with which we refer to individual items with a key. We saw how we can use `zip()` to help load a dataset from arrays into a dictionary.\n",
    "\n",
    "You should know how to build, access and modify strings, lists, tuples and dictionaries. You should be very familiar with formatted print statements by now."
   ]
  },
  {
   "cell_type": "markdown",
   "metadata": {},
   "source": [
    "| symbol | description | example| access example |\n",
    "| ---|---|---|---|\n",
    "| `()` | `tuple`: low level group of items accessed by index. Cannot change once set| `(1,2,3)` | `(1,2)[1]` -> `[2]`|\n",
    "| `[]`| `list`: group of items accessed by index with range of methods. Can change, sort etc. | `[1,2,3]`| `[1,2][1]` -> `[2]` |\n",
    "| `{}` | `dict`: dictionary, a group of items accessed by key | `{\"a\" : 1}` | `{\"a\" : 1}[\"a\"]` -> `1`|\n",
    "| `[[],[]]` | hierarchical (multi-dimensional) list | \n",
    "| `[{},{}]` | list of dictionaries |\n",
    "| `{\"a\":[],\"b\":[]}` | dictionary of lists|\n",
    "\n",
    "List methods:\n",
    "\n",
    "| method | description | example | result |\n",
    "|---|---|---|---|\n",
    "|`list.index(i)`|find index of value `i` in `list` |`[9,10,11].index(10)`| `1`|\n",
    "| `list.extend(l)` | in-place extend `list` with list `l` | `x = [9,10,11]; x.extend([12,13])`| `x` -> `[9,10,11,12,13]`|\n",
    "| `list.append(l)` | in-place append `list` with list `l` | `x = [9,10,11]; x.append([12,13])`| `x` -> `[9,10,11,[12,13]]`|\n",
    "| `list.sort(l)` | in-place sort `list`  | `x = [10,9,11]; x.sort()`| `x` -> `[9,10,11]`|\n",
    "\n",
    "\n",
    "Dictionary methods:\n",
    "\n",
    "| method | description | example | result |\n",
    "|---|---|---|---|\n",
    "| `a.keys()` | keys in dictionary `a` | `d={\"a\":1,\"b\":2};d.keys()` | `['a', 'b']`|\n",
    "| `a.values()` | values in dictionary `a` | `d={\"a\":1,\"b\":2};d.values()` | `[1, 2]`|\n",
    "| `a.items()` | items `(key,value)` in dictionary `a` | `d={\"a\":1,\"b\":2};d.items()` | `[('a', 1), ('b', 2)])`|\n",
    "| `dict(zip(a,b))` | form a dictionary from keys in list `a` and items in list `b` | `dict(zip([\"a\",\"b\"],[1,2]))` | `{'a': 1, 'b': 2}`|\n",
    "| `a.update(d)` | update dictionary `a` with dictionary `d`| `a={\"a\":1};d={\"b\":2};a.update(d)` | `a` -> `{'a': 1, 'b': 2}`|"
   ]
  },
  {
   "cell_type": "markdown",
   "metadata": {},
   "source": [
    "\n",
    "[<img src=\"images/noun_post_2109127.svg\" width=\"50\" align='right'>](015_Python_control.ipynb)\n",
    "[<img src=\"images/noun_pre_2109128.svg\" width=\"50\" align='right'>](013_Python_string_methods.ipynb)\n",
    "\n"
   ]
  }
 ],
 "metadata": {
  "kernelspec": {
   "display_name": "conda env:geog0111-geog0111",
   "language": "python",
   "name": "conda-env-geog0111-geog0111-py"
  },
  "language_info": {
   "codemirror_mode": {
    "name": "ipython",
    "version": 3
   },
   "file_extension": ".py",
   "mimetype": "text/x-python",
   "name": "python",
   "nbconvert_exporter": "python",
   "pygments_lexer": "ipython3",
   "version": "3.7.13"
  },
  "latex_envs": {
   "LaTeX_envs_menu_present": true,
   "autocomplete": true,
   "bibliofile": "biblio.bib",
   "cite_by": "apalike",
   "current_citInitial": 1,
   "eqLabelWithNumbers": true,
   "eqNumInitial": 1,
   "hotkeys": {
    "equation": "Ctrl-E",
    "itemize": "Ctrl-I"
   },
   "labels_anchors": false,
   "latex_user_defs": false,
   "report_style_numbering": false,
   "user_envs_cfg": false
  },
  "nbTranslate": {
   "displayLangs": [
    "*"
   ],
   "hotkey": "alt-t",
   "langInMainMenu": true,
   "sourceLang": "en",
   "targetLang": "fr",
   "useGoogleTranslate": true
  },
  "toc": {
   "base_numbering": 1,
   "nav_menu": {},
   "number_sections": false,
   "sideBar": false,
   "skip_h1_title": false,
   "title_cell": "Table of Contents",
   "title_sidebar": "Contents",
   "toc_cell": false,
   "toc_position": {
    "height": "calc(100% - 180px)",
    "left": "10px",
    "top": "150px",
    "width": "165px"
   },
   "toc_section_display": true,
   "toc_window_display": false
  },
  "varInspector": {
   "cols": {
    "lenName": 16,
    "lenType": 16,
    "lenVar": 40
   },
   "kernels_config": {
    "python": {
     "delete_cmd_postfix": "",
     "delete_cmd_prefix": "del ",
     "library": "var_list.py",
     "varRefreshCmd": "print(var_dic_list())"
    },
    "r": {
     "delete_cmd_postfix": ") ",
     "delete_cmd_prefix": "rm(",
     "library": "var_list.r",
     "varRefreshCmd": "cat(var_dic_list()) "
    }
   },
   "types_to_exclude": [
    "module",
    "function",
    "builtin_function_or_method",
    "instance",
    "_Feature"
   ],
   "window_display": false
  }
 },
 "nbformat": 4,
 "nbformat_minor": 4
}
